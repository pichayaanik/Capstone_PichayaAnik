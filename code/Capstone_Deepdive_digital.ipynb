{
 "cells": [
  {
   "cell_type": "markdown",
   "id": "1807ef40-6e42-4bd1-8d8b-40c0cc7a66c1",
   "metadata": {},
   "source": [
    "# Digital\n",
    "---"
   ]
  },
  {
   "cell_type": "markdown",
   "id": "8c1d8387-e3bd-4dfa-b07d-769643fea46d",
   "metadata": {},
   "source": [
    "1. Data Preparation\n",
    "2. Model Comparison\n",
    "- K-mean\n",
    "- LDA\n",
    "- NMF\n",
    "- Top2Vec > still in progress and will continue if time permits\n",
    "- BERTopic > give up BERTopic because of time constraints"
   ]
  },
  {
   "cell_type": "markdown",
   "id": "5b4292d7-76b4-4d6b-b0ae-d016c5dadb1a",
   "metadata": {},
   "source": [
    "## 0. Import Libraries"
   ]
  },
  {
   "cell_type": "code",
   "execution_count": 1,
   "id": "6ff918ec-ed1c-4d13-847f-223a39a5f25e",
   "metadata": {},
   "outputs": [
    {
     "name": "stderr",
     "output_type": "stream",
     "text": [
      "/Users/Anik/opt/anaconda3/lib/python3.9/site-packages/past/builtins/misc.py:45: DeprecationWarning: the imp module is deprecated in favour of importlib; see the module's documentation for alternative uses\n",
      "  from imp import reload\n"
     ]
    }
   ],
   "source": [
    "# Import Basic Libraries\n",
    "import pandas as pd\n",
    "import numpy as np\n",
    "import matplotlib as mpl\n",
    "import matplotlib.pyplot as plt\n",
    "import seaborn as sns\n",
    "\n",
    "# Import Sklearn Libraries\n",
    "from sklearn.model_selection import train_test_split, GridSearchCV\n",
    "from sklearn.pipeline import Pipeline\n",
    "from sklearn.naive_bayes import MultinomialNB\n",
    "from sklearn.linear_model import LogisticRegression\n",
    "from sklearn.metrics import confusion_matrix, plot_confusion_matrix\n",
    "from sklearn.feature_extraction.text import CountVectorizer, TfidfVectorizer\n",
    "from sklearn.feature_extraction import DictVectorizer\n",
    "from sklearn.decomposition import NMF\n",
    "from sklearn.cluster import KMeans\n",
    "\n",
    "\n",
    "# Import NLP Libraries\n",
    "from gensim.models import LdaModel\n",
    "from gensim.corpora.dictionary import Dictionary\n",
    "from pythainlp.tokenize import sent_tokenize, word_tokenize\n",
    "from pythainlp.corpus import thai_stopwords\n",
    "import re\n",
    "from tqdm import tqdm \n",
    "import pyLDAvis\n",
    "import pyLDAvis.gensim_models\n",
    "from top2vec import Top2Vec\n",
    "\n",
    "\n",
    "# Set default Thai font\n",
    "mpl.font_manager.fontManager.addfont('./THSarabunNew/THSarabunNew.ttf')\n",
    "mpl.rc('font', family='TH Sarabun New', size=20)\n",
    "\n",
    "# Suppress warnings\n",
    "import warnings\n",
    "warnings.filterwarnings('ignore')"
   ]
  },
  {
   "cell_type": "markdown",
   "id": "2af119b2-6562-4ada-9744-7d2522172718",
   "metadata": {},
   "source": [
    "## 1. Data Preparation"
   ]
  },
  {
   "cell_type": "markdown",
   "id": "db6b739b-e053-4cdc-a306-2051542eaecd",
   "metadata": {},
   "source": [
    "### 1.1 Topic Selection"
   ]
  },
  {
   "cell_type": "code",
   "execution_count": null,
   "id": "bb496cc2-0672-4aba-aa75-27dfe32b7508",
   "metadata": {},
   "outputs": [],
   "source": [
    "digitalb = pd.read_json('../datasets/bkkbiz_digital_processed.json')\n",
    "digitalm = pd.read_json('../datasets/matichon_digital_processed.json')"
   ]
  },
  {
   "cell_type": "markdown",
   "id": "670e7c38-48be-47d4-97e8-7e539de7cd01",
   "metadata": {},
   "source": [
    "### 1.2 Bag-of-Words"
   ]
  },
  {
   "cell_type": "code",
   "execution_count": null,
   "id": "4ab40133-cea8-46c4-a027-050ec0372f70",
   "metadata": {},
   "outputs": [],
   "source": [
    "# Finction to store n_word in dict\n",
    "def featurize(token_list):\n",
    "    token_list=token_list\n",
    "    features = {}\n",
    "    for token in token_list:\n",
    "        features[token]=1\n",
    "    return features"
   ]
  },
  {
   "cell_type": "code",
   "execution_count": null,
   "id": "13f14c4d-445e-4d33-a97d-1b018c80da0f",
   "metadata": {},
   "outputs": [],
   "source": [
    "digitalb_bow = digitalb['article_tokenize'].apply(featurize)\n",
    "digitalm_bow = digitalm['article_tokenize'].apply(featurize)"
   ]
  },
  {
   "cell_type": "code",
   "execution_count": null,
   "id": "1131d7c9-9c2f-40d3-9a3a-7e754fea36fb",
   "metadata": {},
   "outputs": [],
   "source": [
    "digitalb_bow.shape, digitalm_bow.shape"
   ]
  },
  {
   "cell_type": "code",
   "execution_count": null,
   "id": "4e164d32-033f-4e97-a759-aaa456a33b6d",
   "metadata": {},
   "outputs": [],
   "source": [
    "vectorizerb = DictVectorizer(sparse=True)\n",
    "digitalb_vec = vectorizerb.fit_transform(digitalb_bow)\n",
    "\n",
    "vectorizerm = DictVectorizer(sparse=True)\n",
    "digitalm_vec = vectorizerm.fit_transform(digitalm_bow)"
   ]
  },
  {
   "cell_type": "code",
   "execution_count": null,
   "id": "c900156a-2957-4097-80e6-9da64a946182",
   "metadata": {},
   "outputs": [],
   "source": [
    "digitalb_vec, digitalm_vec"
   ]
  },
  {
   "cell_type": "markdown",
   "id": "f7cf1332-1d43-4609-a81a-7bb693abd81d",
   "metadata": {},
   "source": [
    "## 2. Model Comparison"
   ]
  },
  {
   "cell_type": "markdown",
   "id": "5a969328-3346-4c7a-a43b-6d9095f56ebe",
   "metadata": {},
   "source": [
    "### 2.1 K-Means"
   ]
  },
  {
   "cell_type": "code",
   "execution_count": null,
   "id": "ed21e5b4-4d9e-4b26-803f-2183b9d6c724",
   "metadata": {},
   "outputs": [],
   "source": [
    "def kmeans_topic(data_vec=None, n_clusters=10):\n",
    "    kmeans = KMeans(n_clusters=n_clusters, \n",
    "                    init='k-means++', \n",
    "                    max_iter=100, \n",
    "                    n_init=1, \n",
    "                    random_state=42)\n",
    "\n",
    "    kmeans.fit(data_vec)\n",
    "\n",
    "    order_centroids = kmeans.cluster_centers_.argsort()[:, ::-1]\n",
    "    \n",
    "    if data_vec == digitalb_vec:\n",
    "        terms = vectorizerb.get_feature_names_out()\n",
    "    elif data_vec == digitalm_vec:\n",
    "        terms = vectorizerm.get_feature_names_out()\n",
    "    else:\n",
    "        print('error')\n",
    "\n",
    "    for i in range(n_clusters):\n",
    "        print(f'Topic {i+1}')\n",
    "        print('-'*10)\n",
    "        for i in order_centroids[i,:10]:\n",
    "            print(terms[i])\n",
    "        print('\\n')"
   ]
  },
  {
   "cell_type": "code",
   "execution_count": null,
   "id": "2b5fe987-f572-49fe-ad6a-dffa525ac004",
   "metadata": {},
   "outputs": [],
   "source": [
    "kmeans_topic(data_vec=digitalb_vec, n_clusters=10)"
   ]
  },
  {
   "cell_type": "code",
   "execution_count": null,
   "id": "df1acb91-dc71-48d6-80f4-c773627940a0",
   "metadata": {},
   "outputs": [],
   "source": []
  },
  {
   "cell_type": "code",
   "execution_count": null,
   "id": "9dbacc99-6834-4fe4-99cd-8184a7b33d57",
   "metadata": {},
   "outputs": [],
   "source": []
  },
  {
   "cell_type": "markdown",
   "id": "713d5c13-eb85-4a41-a4db-b2c3ce19c347",
   "metadata": {},
   "source": [
    "### 2.2 LDA"
   ]
  },
  {
   "cell_type": "code",
   "execution_count": null,
   "id": "623dfe25-02c1-42d5-a32a-41765659a8d4",
   "metadata": {},
   "outputs": [],
   "source": [
    "# Function for modeling with LDA\n",
    "def lda_model(data=None, num_topics=None): #, topicid=None\n",
    "    \n",
    "    dictionary = Dictionary(data)\n",
    "    corpus = [dictionary.doc2bow(txt) for txt in data]\n",
    "    \n",
    "    model = LdaModel(corpus=corpus, num_topics=num_topics)\n",
    "    #topic = pd.DataFrame(model.get_topic_terms(topicid=1, topn=20)).rename(columns={0:'index', 1:'probability'})\n",
    "    for i in range(num_topics):\n",
    "        top_n = [dictionary[index] for index, prob in model.get_topic_terms(topicid=i, topn=30)]\n",
    "        print(f'Topic {i+1}')\n",
    "        print(top_n)\n",
    "        print('-'*60)\n",
    "    return model"
   ]
  },
  {
   "cell_type": "code",
   "execution_count": null,
   "id": "61fa502a-2d33-40ce-ba12-8541fc5318bd",
   "metadata": {},
   "outputs": [],
   "source": [
    "# Visualization\n",
    "def lda_vis(data=None, num_topics=20):\n",
    "    dictionary = Dictionary(data)\n",
    "    corpus = [dictionary.doc2bow(txt) for txt in data]\n",
    "    model = LdaModel(corpus=corpus, num_topics=num_topics)\n",
    "    pyLDAvis.enable_notebook()\n",
    "    viz = pyLDAvis.gensim_models.prepare(model, corpus, dictionary)\n",
    "    return viz"
   ]
  },
  {
   "cell_type": "code",
   "execution_count": null,
   "id": "e9479765-e3ba-4269-8e5c-990ff6e0cf98",
   "metadata": {},
   "outputs": [],
   "source": [
    "lda_10b = lda_model(data=econ_b['article_tokenize'], num_topics=10)"
   ]
  },
  {
   "cell_type": "code",
   "execution_count": null,
   "id": "0575af10-7b73-4013-be78-f8f7381b6412",
   "metadata": {},
   "outputs": [],
   "source": [
    "#lda_vis(data=econ_b['article_tokenize'], num_topics=10)\n",
    "# Topic overlaps"
   ]
  },
  {
   "cell_type": "code",
   "execution_count": null,
   "id": "1fcc5c8d-44fa-45a6-9f50-4548dec7b491",
   "metadata": {},
   "outputs": [],
   "source": [
    "lda_7b = lda_model(data=econ_b['article_tokenize'], num_topics=7)"
   ]
  },
  {
   "cell_type": "code",
   "execution_count": null,
   "id": "e6a91998-4423-4479-9a24-bb5952bc773c",
   "metadata": {},
   "outputs": [],
   "source": [
    "#lda_vis(data=econ_b['article_tokenize'], num_topics=7)\n",
    "# Topic overlap to the low right"
   ]
  },
  {
   "cell_type": "code",
   "execution_count": null,
   "id": "a39957e2-ddca-4399-95c1-b4687e092b0e",
   "metadata": {},
   "outputs": [],
   "source": [
    "lda_15b = lda_model(data=econ_b['article_tokenize'], num_topics=15)"
   ]
  },
  {
   "cell_type": "code",
   "execution_count": null,
   "id": "77fff3de-b29f-4f0c-8b76-c88713f02d81",
   "metadata": {},
   "outputs": [],
   "source": [
    "#lda_vis(data=econ_b['article_tokenize'], num_topics=15)\n",
    "# To the left with one to the right"
   ]
  },
  {
   "cell_type": "code",
   "execution_count": null,
   "id": "f6f9cbec-33b7-403e-abb6-f226e0276e17",
   "metadata": {},
   "outputs": [],
   "source": [
    "lda_30b = lda_model(data=econ_b['article_tokenize'], num_topics=30)"
   ]
  },
  {
   "cell_type": "code",
   "execution_count": null,
   "id": "d55c6b11-3145-44e9-9e6c-a8e0ba04a080",
   "metadata": {},
   "outputs": [],
   "source": [
    "#lda_vis(data=econ_b['article_tokenize'], num_topics=15)"
   ]
  },
  {
   "cell_type": "code",
   "execution_count": null,
   "id": "f62cd00d-93f0-4daf-9fcd-d3237190c37a",
   "metadata": {},
   "outputs": [],
   "source": [
    "lda_10m = lda_model(data=econ_m['article_tokenize'], num_topics=10)"
   ]
  },
  {
   "cell_type": "code",
   "execution_count": null,
   "id": "536731ab-0d02-43fd-95e7-de80c267b0f6",
   "metadata": {},
   "outputs": [],
   "source": [
    "#overlap กันสูง\n",
    "#lda_vis(data=econ_m['article_tokenize'], num_topics=10)"
   ]
  },
  {
   "cell_type": "code",
   "execution_count": null,
   "id": "335229f8-22bd-481b-b661-c60a39ac3977",
   "metadata": {},
   "outputs": [],
   "source": [
    "lda_7m = lda_model(data=econ_m['article_tokenize'], num_topics=7)"
   ]
  },
  {
   "cell_type": "code",
   "execution_count": null,
   "id": "06c28b32-c579-46d0-8564-b85cd48ec4e0",
   "metadata": {},
   "outputs": [],
   "source": [
    "#lda_vis(data=econ_m['article_tokenize'], num_topics=7)"
   ]
  },
  {
   "cell_type": "markdown",
   "id": "a4161823-f77d-4854-8d6c-335e1aaa301a",
   "metadata": {},
   "source": [
    "### 2.3 NMF"
   ]
  },
  {
   "cell_type": "code",
   "execution_count": null,
   "id": "63ea4f60-ac36-44dc-a1be-3b15fab2a635",
   "metadata": {},
   "outputs": [],
   "source": [
    "#data = econ_b['article_tokenize'].apply(lambda x:' '.join(x))\n",
    "#cvec = CountVectorizer(token_pattern= \"\\b[A-zก-๙][A-z\\.\\-ก-๙]*\\b\")\n",
    "#data = cvec.fit_transform(data)"
   ]
  },
  {
   "cell_type": "code",
   "execution_count": null,
   "id": "b99257b2-1342-414b-9204-2897d1bf9caa",
   "metadata": {},
   "outputs": [],
   "source": [
    "nmf = NMF(n_components=10, random_state=42)\n",
    "nmf.fit(econ_b_vec)"
   ]
  },
  {
   "cell_type": "code",
   "execution_count": null,
   "id": "5d08c7d6-6e11-493d-b8f8-74710dd0b179",
   "metadata": {},
   "outputs": [],
   "source": [
    "nmf_features = nmf.transform(econ_b_vec)\n",
    "nmf_features.shape"
   ]
  },
  {
   "cell_type": "code",
   "execution_count": null,
   "id": "f3ea00c4-53b5-45e8-a148-44725b9b9981",
   "metadata": {},
   "outputs": [],
   "source": [
    "nmf.components_.shape"
   ]
  },
  {
   "cell_type": "code",
   "execution_count": null,
   "id": "ff1c85a0-1e10-4653-9a1e-47e4bc181b1f",
   "metadata": {},
   "outputs": [],
   "source": [
    "econ_b_components = pd.DataFrame(nmf.components_, columns=vectorizer_1.get_feature_names())\n",
    "econ_b_components "
   ]
  },
  {
   "cell_type": "code",
   "execution_count": null,
   "id": "36e77740-af5b-45ee-ba5e-220d4a6b7890",
   "metadata": {},
   "outputs": [],
   "source": [
    "# Topic & Words\n",
    "for topic in range(10):\n",
    "    topic = econ_b_components.iloc[topic]\n",
    "    print(type(topic))\n",
    "    print(f'For topic {topic+1} the words with the highest value are:')\n",
    "    print(topic.nlargest(10))\n",
    "    print('\\n')"
   ]
  },
  {
   "cell_type": "markdown",
   "id": "029f78a4-6642-45bb-bc0f-5770b838d433",
   "metadata": {},
   "source": [
    "### 2.4 Top2Vec\n",
    "- fast learn, learn and deep learn"
   ]
  },
  {
   "cell_type": "code",
   "execution_count": null,
   "id": "f14423fd-cf7a-48cc-a3ca-ff8539087bd2",
   "metadata": {},
   "outputs": [],
   "source": [
    "#print(Top2Vec.__doc__)"
   ]
  },
  {
   "cell_type": "code",
   "execution_count": null,
   "id": "0b01abe6-1c1d-489c-9795-161e3d84dd17",
   "metadata": {},
   "outputs": [],
   "source": [
    "# min_count =\n",
    "# ngram_vocab =\n",
    "# embedding_model= (doc2vec)\n",
    "# workers = cpu amount"
   ]
  },
  {
   "cell_type": "code",
   "execution_count": null,
   "id": "a474708f-32d7-4554-b473-64f1221c3917",
   "metadata": {},
   "outputs": [],
   "source": [
    "econ_b_list = econ_b['article'].tolist()\n",
    "#econ_b_list"
   ]
  },
  {
   "cell_type": "code",
   "execution_count": null,
   "id": "0a6ec081-b1ca-4fdc-a0d1-9da0909bc5a8",
   "metadata": {},
   "outputs": [],
   "source": [
    "top2vec = Top2Vec(documents=econ_b_list,\n",
    "                  embedding_model='distiluse-base-multilingual-cased',\n",
    "                  speed='fast-learn',\n",
    "                  tokenizer='word_tokenize')"
   ]
  },
  {
   "cell_type": "code",
   "execution_count": null,
   "id": "f83978a6-0eb5-41e6-8893-39e1259d85e5",
   "metadata": {},
   "outputs": [],
   "source": [
    "topic_sizes, topic_nums =top2vec.get_topic_sizes()\n",
    "print(topic_sizes)\n",
    "print(topic_nums)"
   ]
  },
  {
   "cell_type": "code",
   "execution_count": null,
   "id": "870a51db-f92e-469c-81cc-ea24fe27b2ec",
   "metadata": {},
   "outputs": [],
   "source": [
    "topic_words, word_scores, topic_nums = top2vec.get_topics(18)\n",
    "for words, scores, num in zip(topic_words, word_scores, topic_nums):\n",
    "    print(num)\n",
    "    print(f'Words: {words}')"
   ]
  },
  {
   "cell_type": "code",
   "execution_count": null,
   "id": "a3610834-0ab9-4666-8743-f2b43e6c6b20",
   "metadata": {},
   "outputs": [],
   "source": [
    "documents, document_scores, document_ids = top2vec.search_documents_by_topic(topic_num=0, \n",
    "                                                                             num_docs=10)\n",
    "for doc, score, doc_id in zip(documents, document_scores, document_ids):\n",
    "    print(f'Document: {doc_id}, Score: {score}')\n",
    "    print('-'*20)\n",
    "    print(doc)\n",
    "    print('-'*20)\n",
    "    print()"
   ]
  },
  {
   "cell_type": "code",
   "execution_count": null,
   "id": "06b9ede1-5e37-4e2e-b268-839fd9281d4c",
   "metadata": {},
   "outputs": [],
   "source": []
  },
  {
   "cell_type": "code",
   "execution_count": null,
   "id": "fac989a6-f475-4eab-baab-313405c68564",
   "metadata": {},
   "outputs": [],
   "source": []
  },
  {
   "cell_type": "code",
   "execution_count": null,
   "id": "83f43d60-8b2e-4cbc-b220-9d1ff817bc53",
   "metadata": {},
   "outputs": [],
   "source": []
  },
  {
   "cell_type": "code",
   "execution_count": null,
   "id": "cddc7416-369f-4883-8844-994edc4e2328",
   "metadata": {},
   "outputs": [],
   "source": []
  },
  {
   "cell_type": "markdown",
   "id": "008e3b0c-1107-41a8-a7be-6d0c4fb8f209",
   "metadata": {},
   "source": [
    "### 2.5 BERTopic"
   ]
  },
  {
   "cell_type": "code",
   "execution_count": null,
   "id": "6343a524-ec0a-4bea-9641-1864d7f90869",
   "metadata": {},
   "outputs": [],
   "source": []
  },
  {
   "cell_type": "code",
   "execution_count": null,
   "id": "c0094ef1-8396-45e7-87f6-84ce0485c177",
   "metadata": {},
   "outputs": [],
   "source": []
  },
  {
   "cell_type": "code",
   "execution_count": null,
   "id": "d24058b6-f241-48a6-8ea0-1cf97ded7e15",
   "metadata": {},
   "outputs": [],
   "source": []
  }
 ],
 "metadata": {
  "kernelspec": {
   "display_name": "Python 3 (ipykernel)",
   "language": "python",
   "name": "python3"
  },
  "language_info": {
   "codemirror_mode": {
    "name": "ipython",
    "version": 3
   },
   "file_extension": ".py",
   "mimetype": "text/x-python",
   "name": "python",
   "nbconvert_exporter": "python",
   "pygments_lexer": "ipython3",
   "version": "3.9.13"
  }
 },
 "nbformat": 4,
 "nbformat_minor": 5
}
