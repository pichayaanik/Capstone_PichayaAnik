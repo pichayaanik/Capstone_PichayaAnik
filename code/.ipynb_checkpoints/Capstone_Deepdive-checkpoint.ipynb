{
 "cells": [
  {
   "cell_type": "markdown",
   "id": "1807ef40-6e42-4bd1-8d8b-40c0cc7a66c1",
   "metadata": {},
   "source": [
    "# Model Comparison\n",
    "---"
   ]
  },
  {
   "cell_type": "markdown",
   "id": "8c1d8387-e3bd-4dfa-b07d-769643fea46d",
   "metadata": {},
   "source": [
    "1. Data Preparation\n",
    "2. Model Comparison\n",
    "- K-mean\n",
    "- LDA\n",
    "- NMF\n",
    "- Top2Vec\n",
    "- BERTopic"
   ]
  },
  {
   "cell_type": "markdown",
   "id": "5b4292d7-76b4-4d6b-b0ae-d016c5dadb1a",
   "metadata": {},
   "source": [
    "## 0. Import Libraries"
   ]
  },
  {
   "cell_type": "code",
   "execution_count": 1,
   "id": "6ff918ec-ed1c-4d13-847f-223a39a5f25e",
   "metadata": {},
   "outputs": [
    {
     "name": "stderr",
     "output_type": "stream",
     "text": [
      "/Users/Anik/opt/anaconda3/lib/python3.9/site-packages/past/builtins/misc.py:45: DeprecationWarning: the imp module is deprecated in favour of importlib; see the module's documentation for alternative uses\n",
      "  from imp import reload\n"
     ]
    }
   ],
   "source": [
    "# Import Basic Libraries\n",
    "import pandas as pd\n",
    "import numpy as np\n",
    "import matplotlib as mpl\n",
    "import matplotlib.pyplot as plt\n",
    "import seaborn as sns\n",
    "\n",
    "# Import Sklearn Libraries\n",
    "from sklearn.model_selection import train_test_split, GridSearchCV\n",
    "from sklearn.pipeline import Pipeline\n",
    "from sklearn.naive_bayes import MultinomialNB\n",
    "from sklearn.linear_model import LogisticRegression\n",
    "from sklearn.metrics import confusion_matrix, plot_confusion_matrix\n",
    "from sklearn.feature_extraction.text import CountVectorizer, TfidfVectorizer\n",
    "from sklearn.feature_extraction import DictVectorizer\n",
    "from sklearn.decomposition import NMF\n",
    "\n",
    "# Import NLP Libraries\n",
    "from gensim.models import LdaModel\n",
    "from gensim.corpora.dictionary import Dictionary\n",
    "from pythainlp.tokenize import sent_tokenize, word_tokenize\n",
    "from pythainlp.corpus import thai_stopwords\n",
    "import re\n",
    "from tqdm import tqdm \n",
    "import pyLDAvis\n",
    "import pyLDAvis.gensim_models\n",
    "\n",
    "\n",
    "# Set default Thai font\n",
    "mpl.font_manager.fontManager.addfont('./THSarabunNew/THSarabunNew.ttf')\n",
    "mpl.rc('font', family='TH Sarabun New', size=20)\n",
    "\n",
    "# Suppress warnings\n",
    "import warnings\n",
    "warnings.filterwarnings('ignore')"
   ]
  },
  {
   "cell_type": "markdown",
   "id": "2af119b2-6562-4ada-9744-7d2522172718",
   "metadata": {},
   "source": [
    "## 1. Data Preparation"
   ]
  },
  {
   "cell_type": "markdown",
   "id": "db6b739b-e053-4cdc-a306-2051542eaecd",
   "metadata": {},
   "source": [
    "### 1.1 Topic Selection"
   ]
  },
  {
   "cell_type": "code",
   "execution_count": 11,
   "id": "bb496cc2-0672-4aba-aa75-27dfe32b7508",
   "metadata": {},
   "outputs": [],
   "source": [
    "econ_b = pd.read_json('../datasets/เศรษฐกิจ_processed.json')\n",
    "econ_m = pd.read_json('../datasets/economy_processed.json')"
   ]
  },
  {
   "cell_type": "markdown",
   "id": "670e7c38-48be-47d4-97e8-7e539de7cd01",
   "metadata": {},
   "source": [
    "### 1.2 Bag-of-Words"
   ]
  },
  {
   "cell_type": "code",
   "execution_count": 12,
   "id": "4ab40133-cea8-46c4-a027-050ec0372f70",
   "metadata": {},
   "outputs": [],
   "source": [
    "# Finction to store n_word in dict\n",
    "def featurize(token_list):\n",
    "    token_list=token_list\n",
    "    features = {}\n",
    "    for token in token_list:\n",
    "        features[token]=1\n",
    "    return features"
   ]
  },
  {
   "cell_type": "code",
   "execution_count": 14,
   "id": "13f14c4d-445e-4d33-a97d-1b018c80da0f",
   "metadata": {},
   "outputs": [],
   "source": [
    "econ_b_bow = econ_b['article_tokenize'].apply(featurize)\n",
    "econ_m_bow = econ_m['article_tokenize'].apply(featurize)"
   ]
  },
  {
   "cell_type": "code",
   "execution_count": 23,
   "id": "1131d7c9-9c2f-40d3-9a3a-7e754fea36fb",
   "metadata": {},
   "outputs": [
    {
     "data": {
      "text/plain": [
       "((6801,), (5884,))"
      ]
     },
     "execution_count": 23,
     "metadata": {},
     "output_type": "execute_result"
    }
   ],
   "source": [
    "econ_b_bow.shape, econ_m_bow.shape"
   ]
  },
  {
   "cell_type": "code",
   "execution_count": 46,
   "id": "4e164d32-033f-4e97-a759-aaa456a33b6d",
   "metadata": {},
   "outputs": [],
   "source": [
    "vectorizer_1 = DictVectorizer(sparse=True)\n",
    "econ_b_vec = vectorizer_1.fit_transform(econ_b_bow)\n",
    "\n",
    "vectorizer_2 = DictVectorizer(sparse=True)\n",
    "econ_m_vec = vectorizer_2.fit_transform(econ_m_bow)"
   ]
  },
  {
   "cell_type": "code",
   "execution_count": 47,
   "id": "c900156a-2957-4097-80e6-9da64a946182",
   "metadata": {},
   "outputs": [
    {
     "data": {
      "text/plain": [
       "(<6801x35157 sparse matrix of type '<class 'numpy.float64'>'\n",
       " \twith 844532 stored elements in Compressed Sparse Row format>,\n",
       " <5884x40835 sparse matrix of type '<class 'numpy.float64'>'\n",
       " \twith 891436 stored elements in Compressed Sparse Row format>)"
      ]
     },
     "execution_count": 47,
     "metadata": {},
     "output_type": "execute_result"
    }
   ],
   "source": [
    "econ_b_vec, econ_m_vec"
   ]
  },
  {
   "cell_type": "markdown",
   "id": "f7cf1332-1d43-4609-a81a-7bb693abd81d",
   "metadata": {},
   "source": [
    "## 2. Model Comparison"
   ]
  },
  {
   "cell_type": "markdown",
   "id": "5a969328-3346-4c7a-a43b-6d9095f56ebe",
   "metadata": {},
   "source": [
    "### 2.1 K-Mean"
   ]
  },
  {
   "cell_type": "code",
   "execution_count": null,
   "id": "78801d7e-cde9-46e7-b30c-791bd32998ab",
   "metadata": {},
   "outputs": [],
   "source": []
  },
  {
   "cell_type": "code",
   "execution_count": null,
   "id": "21b20285-1579-4537-8350-f9b1f1143083",
   "metadata": {},
   "outputs": [],
   "source": []
  },
  {
   "cell_type": "code",
   "execution_count": null,
   "id": "df1acb91-dc71-48d6-80f4-c773627940a0",
   "metadata": {},
   "outputs": [],
   "source": []
  },
  {
   "cell_type": "code",
   "execution_count": null,
   "id": "9dbacc99-6834-4fe4-99cd-8184a7b33d57",
   "metadata": {},
   "outputs": [],
   "source": []
  },
  {
   "cell_type": "markdown",
   "id": "713d5c13-eb85-4a41-a4db-b2c3ce19c347",
   "metadata": {},
   "source": [
    "### 2.2 LDA"
   ]
  },
  {
   "cell_type": "code",
   "execution_count": null,
   "id": "623dfe25-02c1-42d5-a32a-41765659a8d4",
   "metadata": {},
   "outputs": [],
   "source": [
    "# Function for modeling with LDA\n",
    "def lda_model(data=None, num_topics=None): #, topicid=None\n",
    "    \n",
    "    dictionary = Dictionary(data)\n",
    "    corpus = [dictionary.doc2bow(txt) for txt in data]\n",
    "    \n",
    "    model = LdaModel(corpus=corpus, num_topics=num_topics)\n",
    "    #topic = pd.DataFrame(model.get_topic_terms(topicid=1, topn=20)).rename(columns={0:'index', 1:'probability'})\n",
    "    for i in range(num_topics):\n",
    "        top_n = [dictionary[index] for index, prob in model.get_topic_terms(topicid=i, topn=30)]\n",
    "        print(f'Topic {i+1}')\n",
    "        print(top_n)\n",
    "        print('-'*60)\n",
    "    return model"
   ]
  },
  {
   "cell_type": "code",
   "execution_count": null,
   "id": "61fa502a-2d33-40ce-ba12-8541fc5318bd",
   "metadata": {},
   "outputs": [],
   "source": [
    "# Visualization\n",
    "def lda_vis(data=None, num_topics=20):\n",
    "    dictionary = Dictionary(data)\n",
    "    corpus = [dictionary.doc2bow(txt) for txt in data]\n",
    "    model = LdaModel(corpus=corpus, num_topics=num_topics)\n",
    "    pyLDAvis.enable_notebook()\n",
    "    viz = pyLDAvis.gensim_models.prepare(model, corpus, dictionary)\n",
    "    return viz"
   ]
  },
  {
   "cell_type": "code",
   "execution_count": null,
   "id": "e9479765-e3ba-4269-8e5c-990ff6e0cf98",
   "metadata": {},
   "outputs": [],
   "source": [
    "lda_10b = lda_model(data=econ_b['article_tokenize'], num_topics=10)"
   ]
  },
  {
   "cell_type": "code",
   "execution_count": null,
   "id": "0575af10-7b73-4013-be78-f8f7381b6412",
   "metadata": {},
   "outputs": [],
   "source": [
    "#lda_vis(data=econ_b['article_tokenize'], num_topics=10)\n",
    "# Topic overlaps"
   ]
  },
  {
   "cell_type": "code",
   "execution_count": null,
   "id": "1fcc5c8d-44fa-45a6-9f50-4548dec7b491",
   "metadata": {},
   "outputs": [],
   "source": [
    "lda_7b = lda_model(data=econ_b['article_tokenize'], num_topics=7)"
   ]
  },
  {
   "cell_type": "code",
   "execution_count": null,
   "id": "e6a91998-4423-4479-9a24-bb5952bc773c",
   "metadata": {},
   "outputs": [],
   "source": [
    "#lda_vis(data=econ_b['article_tokenize'], num_topics=7)\n",
    "# Topic overlap to the low right"
   ]
  },
  {
   "cell_type": "code",
   "execution_count": null,
   "id": "a39957e2-ddca-4399-95c1-b4687e092b0e",
   "metadata": {},
   "outputs": [],
   "source": [
    "lda_15b = lda_model(data=econ_b['article_tokenize'], num_topics=15)"
   ]
  },
  {
   "cell_type": "code",
   "execution_count": null,
   "id": "77fff3de-b29f-4f0c-8b76-c88713f02d81",
   "metadata": {},
   "outputs": [],
   "source": [
    "#lda_vis(data=econ_b['article_tokenize'], num_topics=15)\n",
    "# To the left with one to the right"
   ]
  },
  {
   "cell_type": "code",
   "execution_count": null,
   "id": "f6f9cbec-33b7-403e-abb6-f226e0276e17",
   "metadata": {},
   "outputs": [],
   "source": [
    "lda_30b = lda_model(data=econ_b['article_tokenize'], num_topics=30)"
   ]
  },
  {
   "cell_type": "code",
   "execution_count": null,
   "id": "d55c6b11-3145-44e9-9e6c-a8e0ba04a080",
   "metadata": {},
   "outputs": [],
   "source": [
    "#lda_vis(data=econ_b['article_tokenize'], num_topics=15)"
   ]
  },
  {
   "cell_type": "code",
   "execution_count": null,
   "id": "f62cd00d-93f0-4daf-9fcd-d3237190c37a",
   "metadata": {},
   "outputs": [],
   "source": [
    "lda_10m = lda_model(data=econ_m['article_tokenize'], num_topics=10)"
   ]
  },
  {
   "cell_type": "code",
   "execution_count": null,
   "id": "536731ab-0d02-43fd-95e7-de80c267b0f6",
   "metadata": {},
   "outputs": [],
   "source": [
    "#overlap กันสูง\n",
    "#lda_vis(data=econ_m['article_tokenize'], num_topics=10)"
   ]
  },
  {
   "cell_type": "code",
   "execution_count": null,
   "id": "335229f8-22bd-481b-b661-c60a39ac3977",
   "metadata": {},
   "outputs": [],
   "source": [
    "lda_7m = lda_model(data=econ_m['article_tokenize'], num_topics=7)"
   ]
  },
  {
   "cell_type": "code",
   "execution_count": null,
   "id": "06c28b32-c579-46d0-8564-b85cd48ec4e0",
   "metadata": {},
   "outputs": [],
   "source": [
    "#lda_vis(data=econ_m['article_tokenize'], num_topics=7)"
   ]
  },
  {
   "cell_type": "markdown",
   "id": "a4161823-f77d-4854-8d6c-335e1aaa301a",
   "metadata": {},
   "source": [
    "### 2.3 NMF"
   ]
  },
  {
   "cell_type": "code",
   "execution_count": 48,
   "id": "63ea4f60-ac36-44dc-a1be-3b15fab2a635",
   "metadata": {},
   "outputs": [],
   "source": [
    "#data = econ_b['article_tokenize'].apply(lambda x:' '.join(x))\n",
    "#cvec = CountVectorizer(token_pattern= \"\\b[A-zก-๙][A-z\\.\\-ก-๙]*\\b\")\n",
    "#data = cvec.fit_transform(data)"
   ]
  },
  {
   "cell_type": "code",
   "execution_count": 49,
   "id": "b99257b2-1342-414b-9204-2897d1bf9caa",
   "metadata": {},
   "outputs": [
    {
     "data": {
      "text/plain": [
       "NMF(n_components=10, random_state=42)"
      ]
     },
     "execution_count": 49,
     "metadata": {},
     "output_type": "execute_result"
    }
   ],
   "source": [
    "nmf = NMF(n_components=10, random_state=42)\n",
    "nmf.fit(econ_b_vec)"
   ]
  },
  {
   "cell_type": "code",
   "execution_count": 50,
   "id": "5d08c7d6-6e11-493d-b8f8-74710dd0b179",
   "metadata": {},
   "outputs": [
    {
     "data": {
      "text/plain": [
       "(6801, 10)"
      ]
     },
     "execution_count": 50,
     "metadata": {},
     "output_type": "execute_result"
    }
   ],
   "source": [
    "nmf_features = nmf.transform(econ_b_vec)\n",
    "nmf_features.shape"
   ]
  },
  {
   "cell_type": "code",
   "execution_count": 51,
   "id": "f3ea00c4-53b5-45e8-a148-44725b9b9981",
   "metadata": {},
   "outputs": [
    {
     "data": {
      "text/plain": [
       "(10, 35157)"
      ]
     },
     "execution_count": 51,
     "metadata": {},
     "output_type": "execute_result"
    }
   ],
   "source": [
    "nmf.components_.shape"
   ]
  },
  {
   "cell_type": "code",
   "execution_count": 61,
   "id": "ff1c85a0-1e10-4653-9a1e-47e4bc181b1f",
   "metadata": {},
   "outputs": [
    {
     "data": {
      "text/html": [
       "<div>\n",
       "<style scoped>\n",
       "    .dataframe tbody tr th:only-of-type {\n",
       "        vertical-align: middle;\n",
       "    }\n",
       "\n",
       "    .dataframe tbody tr th {\n",
       "        vertical-align: top;\n",
       "    }\n",
       "\n",
       "    .dataframe thead th {\n",
       "        text-align: right;\n",
       "    }\n",
       "</style>\n",
       "<table border=\"1\" class=\"dataframe\">\n",
       "  <thead>\n",
       "    <tr style=\"text-align: right;\">\n",
       "      <th></th>\n",
       "      <th>0</th>\n",
       "      <th>0.0</th>\n",
       "      <th>0.00</th>\n",
       "      <th>0.001</th>\n",
       "      <th>0.003</th>\n",
       "      <th>0.005</th>\n",
       "      <th>0.0098</th>\n",
       "      <th>0.01</th>\n",
       "      <th>0.010</th>\n",
       "      <th>0.014</th>\n",
       "      <th>...</th>\n",
       "      <th>์เบิต</th>\n",
       "      <th>์เบิร์ก</th>\n",
       "      <th>์เวง</th>\n",
       "      <th>์เฮ้าส์</th>\n",
       "      <th>ํ่า</th>\n",
       "      <th>ํ้า</th>\n",
       "      <th>๒</th>\n",
       "      <th>๒๐๑๙</th>\n",
       "      <th>๒๕๔๑</th>\n",
       "      <th>๒๕๖๓</th>\n",
       "    </tr>\n",
       "  </thead>\n",
       "  <tbody>\n",
       "    <tr>\n",
       "      <th>0</th>\n",
       "      <td>0.000000</td>\n",
       "      <td>0.000000</td>\n",
       "      <td>0.000000</td>\n",
       "      <td>0.000000</td>\n",
       "      <td>0.000000</td>\n",
       "      <td>0.000000</td>\n",
       "      <td>0.000000</td>\n",
       "      <td>0.000000</td>\n",
       "      <td>0.000000</td>\n",
       "      <td>0.000000</td>\n",
       "      <td>...</td>\n",
       "      <td>0.000000</td>\n",
       "      <td>0.000000</td>\n",
       "      <td>0.000000</td>\n",
       "      <td>0.000000</td>\n",
       "      <td>0.000000</td>\n",
       "      <td>0.013844</td>\n",
       "      <td>0.000000</td>\n",
       "      <td>0.000000</td>\n",
       "      <td>0.000491</td>\n",
       "      <td>0.000045</td>\n",
       "    </tr>\n",
       "    <tr>\n",
       "      <th>1</th>\n",
       "      <td>0.000000</td>\n",
       "      <td>0.000000</td>\n",
       "      <td>0.000000</td>\n",
       "      <td>0.000000</td>\n",
       "      <td>0.001582</td>\n",
       "      <td>0.000000</td>\n",
       "      <td>0.000000</td>\n",
       "      <td>0.000000</td>\n",
       "      <td>0.000000</td>\n",
       "      <td>0.000000</td>\n",
       "      <td>...</td>\n",
       "      <td>0.000000</td>\n",
       "      <td>0.000000</td>\n",
       "      <td>0.000000</td>\n",
       "      <td>0.000000</td>\n",
       "      <td>0.000000</td>\n",
       "      <td>0.000809</td>\n",
       "      <td>0.000000</td>\n",
       "      <td>0.000000</td>\n",
       "      <td>0.000000</td>\n",
       "      <td>0.000000</td>\n",
       "    </tr>\n",
       "    <tr>\n",
       "      <th>2</th>\n",
       "      <td>0.107089</td>\n",
       "      <td>0.005027</td>\n",
       "      <td>0.002787</td>\n",
       "      <td>0.000134</td>\n",
       "      <td>0.000000</td>\n",
       "      <td>0.000134</td>\n",
       "      <td>0.156440</td>\n",
       "      <td>0.025602</td>\n",
       "      <td>0.000000</td>\n",
       "      <td>0.000000</td>\n",
       "      <td>...</td>\n",
       "      <td>0.000928</td>\n",
       "      <td>0.000000</td>\n",
       "      <td>0.000000</td>\n",
       "      <td>0.002389</td>\n",
       "      <td>0.003974</td>\n",
       "      <td>0.000000</td>\n",
       "      <td>0.000000</td>\n",
       "      <td>0.000000</td>\n",
       "      <td>0.000000</td>\n",
       "      <td>0.000000</td>\n",
       "    </tr>\n",
       "    <tr>\n",
       "      <th>3</th>\n",
       "      <td>0.031088</td>\n",
       "      <td>0.000000</td>\n",
       "      <td>0.000000</td>\n",
       "      <td>0.000000</td>\n",
       "      <td>0.000108</td>\n",
       "      <td>0.000000</td>\n",
       "      <td>0.000000</td>\n",
       "      <td>0.005034</td>\n",
       "      <td>0.000000</td>\n",
       "      <td>0.000000</td>\n",
       "      <td>...</td>\n",
       "      <td>0.000000</td>\n",
       "      <td>0.000000</td>\n",
       "      <td>0.000000</td>\n",
       "      <td>0.000000</td>\n",
       "      <td>0.000000</td>\n",
       "      <td>0.000000</td>\n",
       "      <td>0.000000</td>\n",
       "      <td>0.000000</td>\n",
       "      <td>0.000000</td>\n",
       "      <td>0.000042</td>\n",
       "    </tr>\n",
       "    <tr>\n",
       "      <th>4</th>\n",
       "      <td>0.051447</td>\n",
       "      <td>0.000000</td>\n",
       "      <td>0.000000</td>\n",
       "      <td>0.000278</td>\n",
       "      <td>0.000473</td>\n",
       "      <td>0.000278</td>\n",
       "      <td>0.097480</td>\n",
       "      <td>0.023438</td>\n",
       "      <td>0.000862</td>\n",
       "      <td>0.000000</td>\n",
       "      <td>...</td>\n",
       "      <td>0.000000</td>\n",
       "      <td>0.000782</td>\n",
       "      <td>0.001125</td>\n",
       "      <td>0.000000</td>\n",
       "      <td>0.000000</td>\n",
       "      <td>0.000000</td>\n",
       "      <td>0.001757</td>\n",
       "      <td>0.001757</td>\n",
       "      <td>0.000250</td>\n",
       "      <td>0.002077</td>\n",
       "    </tr>\n",
       "    <tr>\n",
       "      <th>5</th>\n",
       "      <td>0.055716</td>\n",
       "      <td>0.000000</td>\n",
       "      <td>0.000000</td>\n",
       "      <td>0.003978</td>\n",
       "      <td>0.000000</td>\n",
       "      <td>0.003978</td>\n",
       "      <td>0.000000</td>\n",
       "      <td>0.004295</td>\n",
       "      <td>0.003390</td>\n",
       "      <td>0.003535</td>\n",
       "      <td>...</td>\n",
       "      <td>0.000312</td>\n",
       "      <td>0.000488</td>\n",
       "      <td>0.003625</td>\n",
       "      <td>0.002073</td>\n",
       "      <td>0.000000</td>\n",
       "      <td>0.000000</td>\n",
       "      <td>0.000000</td>\n",
       "      <td>0.000000</td>\n",
       "      <td>0.000000</td>\n",
       "      <td>0.000000</td>\n",
       "    </tr>\n",
       "    <tr>\n",
       "      <th>6</th>\n",
       "      <td>0.012380</td>\n",
       "      <td>0.000000</td>\n",
       "      <td>0.000000</td>\n",
       "      <td>0.000000</td>\n",
       "      <td>0.000000</td>\n",
       "      <td>0.000000</td>\n",
       "      <td>0.000000</td>\n",
       "      <td>0.000000</td>\n",
       "      <td>0.000000</td>\n",
       "      <td>0.001368</td>\n",
       "      <td>...</td>\n",
       "      <td>0.000000</td>\n",
       "      <td>0.000000</td>\n",
       "      <td>0.000000</td>\n",
       "      <td>0.000000</td>\n",
       "      <td>0.000000</td>\n",
       "      <td>0.000000</td>\n",
       "      <td>0.000000</td>\n",
       "      <td>0.000000</td>\n",
       "      <td>0.000000</td>\n",
       "      <td>0.000000</td>\n",
       "    </tr>\n",
       "    <tr>\n",
       "      <th>7</th>\n",
       "      <td>0.004262</td>\n",
       "      <td>0.000691</td>\n",
       "      <td>0.012437</td>\n",
       "      <td>0.000000</td>\n",
       "      <td>0.000000</td>\n",
       "      <td>0.000000</td>\n",
       "      <td>0.063902</td>\n",
       "      <td>0.000000</td>\n",
       "      <td>0.000538</td>\n",
       "      <td>0.001078</td>\n",
       "      <td>...</td>\n",
       "      <td>0.000000</td>\n",
       "      <td>0.000000</td>\n",
       "      <td>0.000000</td>\n",
       "      <td>0.000000</td>\n",
       "      <td>0.000000</td>\n",
       "      <td>0.000510</td>\n",
       "      <td>0.000000</td>\n",
       "      <td>0.000000</td>\n",
       "      <td>0.000000</td>\n",
       "      <td>0.000000</td>\n",
       "    </tr>\n",
       "    <tr>\n",
       "      <th>8</th>\n",
       "      <td>0.041804</td>\n",
       "      <td>0.000000</td>\n",
       "      <td>0.000000</td>\n",
       "      <td>0.000000</td>\n",
       "      <td>0.000662</td>\n",
       "      <td>0.000000</td>\n",
       "      <td>0.014382</td>\n",
       "      <td>0.000000</td>\n",
       "      <td>0.000000</td>\n",
       "      <td>0.000000</td>\n",
       "      <td>...</td>\n",
       "      <td>0.000000</td>\n",
       "      <td>0.000000</td>\n",
       "      <td>0.000000</td>\n",
       "      <td>0.000489</td>\n",
       "      <td>0.000000</td>\n",
       "      <td>0.000600</td>\n",
       "      <td>0.000220</td>\n",
       "      <td>0.000220</td>\n",
       "      <td>0.000000</td>\n",
       "      <td>0.000076</td>\n",
       "    </tr>\n",
       "    <tr>\n",
       "      <th>9</th>\n",
       "      <td>0.000000</td>\n",
       "      <td>0.000000</td>\n",
       "      <td>0.000000</td>\n",
       "      <td>0.000000</td>\n",
       "      <td>0.000000</td>\n",
       "      <td>0.000000</td>\n",
       "      <td>0.000000</td>\n",
       "      <td>0.000000</td>\n",
       "      <td>0.000000</td>\n",
       "      <td>0.000000</td>\n",
       "      <td>...</td>\n",
       "      <td>0.001679</td>\n",
       "      <td>0.000000</td>\n",
       "      <td>0.000000</td>\n",
       "      <td>0.000000</td>\n",
       "      <td>0.000000</td>\n",
       "      <td>0.000000</td>\n",
       "      <td>0.000000</td>\n",
       "      <td>0.000000</td>\n",
       "      <td>0.000000</td>\n",
       "      <td>0.000000</td>\n",
       "    </tr>\n",
       "  </tbody>\n",
       "</table>\n",
       "<p>10 rows × 35157 columns</p>\n",
       "</div>"
      ],
      "text/plain": [
       "          0       0.0      0.00     0.001     0.003     0.005    0.0098  \\\n",
       "0  0.000000  0.000000  0.000000  0.000000  0.000000  0.000000  0.000000   \n",
       "1  0.000000  0.000000  0.000000  0.000000  0.001582  0.000000  0.000000   \n",
       "2  0.107089  0.005027  0.002787  0.000134  0.000000  0.000134  0.156440   \n",
       "3  0.031088  0.000000  0.000000  0.000000  0.000108  0.000000  0.000000   \n",
       "4  0.051447  0.000000  0.000000  0.000278  0.000473  0.000278  0.097480   \n",
       "5  0.055716  0.000000  0.000000  0.003978  0.000000  0.003978  0.000000   \n",
       "6  0.012380  0.000000  0.000000  0.000000  0.000000  0.000000  0.000000   \n",
       "7  0.004262  0.000691  0.012437  0.000000  0.000000  0.000000  0.063902   \n",
       "8  0.041804  0.000000  0.000000  0.000000  0.000662  0.000000  0.014382   \n",
       "9  0.000000  0.000000  0.000000  0.000000  0.000000  0.000000  0.000000   \n",
       "\n",
       "       0.01     0.010     0.014  ...     ์เบิต   ์เบิร์ก      ์เวง   ์เฮ้าส์  \\\n",
       "0  0.000000  0.000000  0.000000  ...  0.000000  0.000000  0.000000  0.000000   \n",
       "1  0.000000  0.000000  0.000000  ...  0.000000  0.000000  0.000000  0.000000   \n",
       "2  0.025602  0.000000  0.000000  ...  0.000928  0.000000  0.000000  0.002389   \n",
       "3  0.005034  0.000000  0.000000  ...  0.000000  0.000000  0.000000  0.000000   \n",
       "4  0.023438  0.000862  0.000000  ...  0.000000  0.000782  0.001125  0.000000   \n",
       "5  0.004295  0.003390  0.003535  ...  0.000312  0.000488  0.003625  0.002073   \n",
       "6  0.000000  0.000000  0.001368  ...  0.000000  0.000000  0.000000  0.000000   \n",
       "7  0.000000  0.000538  0.001078  ...  0.000000  0.000000  0.000000  0.000000   \n",
       "8  0.000000  0.000000  0.000000  ...  0.000000  0.000000  0.000000  0.000489   \n",
       "9  0.000000  0.000000  0.000000  ...  0.001679  0.000000  0.000000  0.000000   \n",
       "\n",
       "        ํ่า       ํ้า         ๒      ๒๐๑๙      ๒๕๔๑      ๒๕๖๓  \n",
       "0  0.000000  0.013844  0.000000  0.000000  0.000491  0.000045  \n",
       "1  0.000000  0.000809  0.000000  0.000000  0.000000  0.000000  \n",
       "2  0.003974  0.000000  0.000000  0.000000  0.000000  0.000000  \n",
       "3  0.000000  0.000000  0.000000  0.000000  0.000000  0.000042  \n",
       "4  0.000000  0.000000  0.001757  0.001757  0.000250  0.002077  \n",
       "5  0.000000  0.000000  0.000000  0.000000  0.000000  0.000000  \n",
       "6  0.000000  0.000000  0.000000  0.000000  0.000000  0.000000  \n",
       "7  0.000000  0.000510  0.000000  0.000000  0.000000  0.000000  \n",
       "8  0.000000  0.000600  0.000220  0.000220  0.000000  0.000076  \n",
       "9  0.000000  0.000000  0.000000  0.000000  0.000000  0.000000  \n",
       "\n",
       "[10 rows x 35157 columns]"
      ]
     },
     "execution_count": 61,
     "metadata": {},
     "output_type": "execute_result"
    }
   ],
   "source": [
    "econ_b_components = pd.DataFrame(nmf.components_, columns=vectorizer_1.get_feature_names())\n",
    "econ_b_components "
   ]
  },
  {
   "cell_type": "code",
   "execution_count": 60,
   "id": "36e77740-af5b-45ee-ba5e-220d4a6b7890",
   "metadata": {},
   "outputs": [
    {
     "name": "stdout",
     "output_type": "stream",
     "text": [
      "<class 'pandas.core.series.Series'>\n",
      "For topic 0        1.000000\n",
      "0.0      1.000000\n",
      "0.00     1.000000\n",
      "0.001    1.000000\n",
      "0.003    1.000000\n",
      "           ...   \n",
      "ํ้า      1.013844\n",
      "๒        1.000000\n",
      "๒๐๑๙     1.000000\n",
      "๒๕๔๑     1.000491\n",
      "๒๕๖๓     1.000045\n",
      "Name: 0, Length: 35157, dtype: float64 the words with the highest value are:\n",
      "พัฒนา       2.926964\n",
      "โครงการ     2.557163\n",
      "การพัฒนา    2.390126\n",
      "พื้นที่     2.142602\n",
      "สร้าง       2.046783\n",
      "ปี          1.981855\n",
      "การลงทุน    1.735550\n",
      "ส่งเสริม    1.728226\n",
      "ระบบ        1.692924\n",
      "เขต         1.596687\n",
      "Name: 0, dtype: float64\n",
      "\n",
      "\n",
      "<class 'pandas.core.series.Series'>\n",
      "For topic 0        1.000000\n",
      "0.0      1.000000\n",
      "0.00     1.000000\n",
      "0.001    1.000000\n",
      "0.003    1.001582\n",
      "           ...   \n",
      "ํ้า      1.000809\n",
      "๒        1.000000\n",
      "๒๐๑๙     1.000000\n",
      "๒๕๔๑     1.000000\n",
      "๒๕๖๓     1.000000\n",
      "Name: 1, Length: 35157, dtype: float64 the words with the highest value are:\n",
      "กรมอุตุนิยมวิทยา    3.343484\n",
      "พยากรณ์อากาศ        3.337378\n",
      "ฝนตก                3.328116\n",
      "ไท                  3.287378\n",
      "หนัก                3.286359\n",
      "ชี้                 3.233478\n",
      "เบื้องหลัง          3.192912\n",
      "T                   3.191655\n",
      "Mi                  3.191473\n",
      "Pro                 3.191473\n",
      "Name: 1, dtype: float64\n",
      "\n",
      "\n",
      "<class 'pandas.core.series.Series'>\n",
      "For topic 0        1.107089\n",
      "0.0      1.005027\n",
      "0.00     1.002787\n",
      "0.001    1.000134\n",
      "0.003    1.000000\n",
      "           ...   \n",
      "ํ้า      1.000000\n",
      "๒        1.000000\n",
      "๒๐๑๙     1.000000\n",
      "๒๕๔๑     1.000000\n",
      "๒๕๖๓     1.000000\n",
      "Name: 2, Length: 35157, dtype: float64 the words with the highest value are:\n",
      "เศรษฐกิจ     1.887010\n",
      "19           1.844371\n",
      "โควิด        1.842837\n",
      "ผลกระทบ      1.750704\n",
      "ไทย          1.727961\n",
      "สถานการณ์    1.543473\n",
      "ธุรกิจ       1.514183\n",
      "ประเทศ       1.492147\n",
      "สินค้า       1.442189\n",
      "ปี           1.430675\n",
      "Name: 2, dtype: float64\n",
      "\n",
      "\n",
      "<class 'pandas.core.series.Series'>\n",
      "For topic 0        1.031088\n",
      "0.0      1.000000\n",
      "0.00     1.000000\n",
      "0.001    1.000000\n",
      "0.003    1.000108\n",
      "           ...   \n",
      "ํ้า      1.000000\n",
      "๒        1.000000\n",
      "๒๐๑๙     1.000000\n",
      "๒๕๔๑     1.000000\n",
      "๒๕๖๓     1.000042\n",
      "Name: 3, Length: 35157, dtype: float64 the words with the highest value are:\n",
      "ทุจริต       1.946498\n",
      "ทฤษฎีใหม่    1.945257\n",
      "ป.ป.ช.       1.944430\n",
      "900          1.943582\n",
      "หลักฐาน      1.943512\n",
      "จูงใจ        1.941575\n",
      "เกณฑ์        1.939889\n",
      "เท็จ         1.939342\n",
      "ไร้          1.939342\n",
      "หญิง         1.937181\n",
      "Name: 3, dtype: float64\n",
      "\n",
      "\n",
      "<class 'pandas.core.series.Series'>\n",
      "For topic 0        1.051447\n",
      "0.0      1.000000\n",
      "0.00     1.000000\n",
      "0.001    1.000278\n",
      "0.003    1.000473\n",
      "           ...   \n",
      "ํ้า      1.000000\n",
      "๒        1.001757\n",
      "๒๐๑๙     1.001757\n",
      "๒๕๔๑     1.000250\n",
      "๒๕๖๓     1.002077\n",
      "Name: 4, Length: 35157, dtype: float64 the words with the highest value are:\n",
      "วันที่        2.288540\n",
      "2             1.728203\n",
      "2563          1.700783\n",
      "1             1.643191\n",
      "คณะกรรมการ    1.524887\n",
      "พิจารณา       1.466049\n",
      "3             1.353818\n",
      "ดำเนินการ     1.349871\n",
      "เสนอ          1.339413\n",
      "จำกัด         1.332894\n",
      "Name: 4, dtype: float64\n",
      "\n",
      "\n",
      "<class 'pandas.core.series.Series'>\n",
      "For topic 0        1.055716\n",
      "0.0      1.000000\n",
      "0.00     1.000000\n",
      "0.001    1.003978\n",
      "0.003    1.000000\n",
      "           ...   \n",
      "ํ้า      1.000000\n",
      "๒        1.000000\n",
      "๒๐๑๙     1.000000\n",
      "๒๕๔๑     1.000000\n",
      "๒๕๖๓     1.000000\n",
      "Name: 5, Length: 35157, dtype: float64 the words with the highest value are:\n",
      "ประตู          3.789739\n",
      "เอสเอ็มอี      3.751757\n",
      "สภาพคล่อง      3.734756\n",
      "จ่าย           3.603662\n",
      "30             3.585132\n",
      "โซเชียล        2.923232\n",
      "รู้            2.922474\n",
      "ใช้ประโยชน์    2.911357\n",
      "มีเดีย         2.909474\n",
      "วิศวกรรม       2.901884\n",
      "Name: 5, dtype: float64\n",
      "\n",
      "\n",
      "<class 'pandas.core.series.Series'>\n",
      "For topic 0        1.01238\n",
      "0.0      1.00000\n",
      "0.00     1.00000\n",
      "0.001    1.00000\n",
      "0.003    1.00000\n",
      "          ...   \n",
      "ํ้า      1.00000\n",
      "๒        1.00000\n",
      "๒๐๑๙     1.00000\n",
      "๒๕๔๑     1.00000\n",
      "๒๕๖๓     1.00000\n",
      "Name: 6, Length: 35157, dtype: float64 the words with the highest value are:\n",
      "ราคา       1.123399\n",
      "เกษตรกร    1.060881\n",
      "ผลผลิต     1.031653\n",
      "ปริมาณ     1.005377\n",
      "ส่งออก     1.000438\n",
      "บริโภค     0.976277\n",
      "ตัน        0.971655\n",
      "2563       0.933144\n",
      "ข้าว       0.927065\n",
      "อาหาร      0.925709\n",
      "Name: 6, dtype: float64\n",
      "\n",
      "\n",
      "<class 'pandas.core.series.Series'>\n",
      "For topic 0        1.004262\n",
      "0.0      1.000691\n",
      "0.00     1.012437\n",
      "0.001    1.000000\n",
      "0.003    1.000000\n",
      "           ...   \n",
      "ํ้า      1.000510\n",
      "๒        1.000000\n",
      "๒๐๑๙     1.000000\n",
      "๒๕๔๑     1.000000\n",
      "๒๕๖๓     1.000000\n",
      "Name: 7, Length: 35157, dtype: float64 the words with the highest value are:\n",
      "ลดลง           2.057076\n",
      "ราคา           2.019128\n",
      "เพิ่มขึ้น      1.831859\n",
      "น้ำมัน         1.806005\n",
      "น้ำมันดิบ      1.647923\n",
      "ปรับตัว        1.647150\n",
      "ความต้องการ    1.611730\n",
      "19             1.582795\n",
      "ล้าน           1.552232\n",
      "การผลิต        1.551578\n",
      "Name: 7, dtype: float64\n",
      "\n",
      "\n",
      "<class 'pandas.core.series.Series'>\n",
      "For topic 0        1.041804\n",
      "0.0      1.000000\n",
      "0.00     1.000000\n",
      "0.001    1.000000\n",
      "0.003    1.000662\n",
      "           ...   \n",
      "ํ้า      1.000600\n",
      "๒        1.000220\n",
      "๒๐๑๙     1.000220\n",
      "๒๕๔๑     1.000000\n",
      "๒๕๖๓     1.000076\n",
      "Name: 8, Length: 35157, dtype: float64 the words with the highest value are:\n",
      "วงเงิน     1.795334\n",
      "เงิน       1.781031\n",
      "500        1.739150\n",
      "บาท        1.734483\n",
      "แสน        1.720941\n",
      "บัตร       1.709390\n",
      "ยาง        1.694010\n",
      "มั่นใจ     1.667485\n",
      "จัดซื้อ    1.662235\n",
      "คืน        1.648429\n",
      "Name: 8, dtype: float64\n",
      "\n",
      "\n",
      "<class 'pandas.core.series.Series'>\n",
      "For topic 0        1.0\n",
      "0.0      1.0\n",
      "0.00     1.0\n",
      "0.001    1.0\n",
      "0.003    1.0\n",
      "        ... \n",
      "ํ้า      1.0\n",
      "๒        1.0\n",
      "๒๐๑๙     1.0\n",
      "๒๕๔๑     1.0\n",
      "๒๕๖๓     1.0\n",
      "Name: 9, Length: 35157, dtype: float64 the words with the highest value are:\n",
      "พาณิชย์     2.209752\n",
      "ฟื้น        2.155046\n",
      "ชี้         2.132152\n",
      "ซี          2.115365\n",
      "ทีม         2.086493\n",
      "ชำระหนี้    2.045748\n",
      "คอม         2.034070\n",
      "ดี          2.031722\n",
      "ศก.         2.021465\n",
      "คืน         2.007957\n",
      "Name: 9, dtype: float64\n",
      "\n",
      "\n"
     ]
    }
   ],
   "source": [
    "# Topic & Words\n",
    "for topic in range(10):\n",
    "    topic = econ_b_components.iloc[topic]\n",
    "    print(type(topic))\n",
    "    print(f'For topic {topic+1} the words with the highest value are:')\n",
    "    print(topic.nlargest(10))\n",
    "    print('\\n')"
   ]
  },
  {
   "cell_type": "markdown",
   "id": "029f78a4-6642-45bb-bc0f-5770b838d433",
   "metadata": {},
   "source": [
    "### 2.4 Top2Vec"
   ]
  },
  {
   "cell_type": "code",
   "execution_count": null,
   "id": "f14423fd-cf7a-48cc-a3ca-ff8539087bd2",
   "metadata": {},
   "outputs": [],
   "source": []
  },
  {
   "cell_type": "code",
   "execution_count": null,
   "id": "0a6ec081-b1ca-4fdc-a0d1-9da0909bc5a8",
   "metadata": {},
   "outputs": [],
   "source": []
  },
  {
   "cell_type": "code",
   "execution_count": null,
   "id": "f83978a6-0eb5-41e6-8893-39e1259d85e5",
   "metadata": {},
   "outputs": [],
   "source": []
  },
  {
   "cell_type": "code",
   "execution_count": null,
   "id": "870a51db-f92e-469c-81cc-ea24fe27b2ec",
   "metadata": {},
   "outputs": [],
   "source": []
  },
  {
   "cell_type": "markdown",
   "id": "008e3b0c-1107-41a8-a7be-6d0c4fb8f209",
   "metadata": {},
   "source": [
    "### 2.5 BERTopic"
   ]
  },
  {
   "cell_type": "code",
   "execution_count": null,
   "id": "6343a524-ec0a-4bea-9641-1864d7f90869",
   "metadata": {},
   "outputs": [],
   "source": []
  },
  {
   "cell_type": "code",
   "execution_count": null,
   "id": "c0094ef1-8396-45e7-87f6-84ce0485c177",
   "metadata": {},
   "outputs": [],
   "source": []
  },
  {
   "cell_type": "code",
   "execution_count": null,
   "id": "d24058b6-f241-48a6-8ea0-1cf97ded7e15",
   "metadata": {},
   "outputs": [],
   "source": []
  }
 ],
 "metadata": {
  "kernelspec": {
   "display_name": "Python 3 (ipykernel)",
   "language": "python",
   "name": "python3"
  },
  "language_info": {
   "codemirror_mode": {
    "name": "ipython",
    "version": 3
   },
   "file_extension": ".py",
   "mimetype": "text/x-python",
   "name": "python",
   "nbconvert_exporter": "python",
   "pygments_lexer": "ipython3",
   "version": "3.9.13"
  }
 },
 "nbformat": 4,
 "nbformat_minor": 5
}
