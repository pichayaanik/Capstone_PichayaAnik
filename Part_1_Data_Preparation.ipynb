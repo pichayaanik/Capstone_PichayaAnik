{
  "nbformat": 4,
  "nbformat_minor": 0,
  "metadata": {
    "colab": {
      "provenance": [],
      "collapsed_sections": [],
      "authorship_tag": "ABX9TyOWhkPI4tfHDAsNXd3+k4DL",
      "include_colab_link": true
    },
    "kernelspec": {
      "name": "python3",
      "display_name": "Python 3"
    },
    "language_info": {
      "name": "python"
    }
  },
  "cells": [
    {
      "cell_type": "markdown",
      "metadata": {
        "id": "view-in-github",
        "colab_type": "text"
      },
      "source": [
        "<a href=\"https://colab.research.google.com/github/pichayaanik/Capstone_PichayaAnik/blob/main/Part_1_Data_Preparation.ipynb\" target=\"_parent\"><img src=\"https://colab.research.google.com/assets/colab-badge.svg\" alt=\"Open In Colab\"/></a>"
      ]
    },
    {
      "cell_type": "markdown",
      "source": [
        "Discovering Key-Drivers for Boosting Thailand's Digital Competitiveness Index Using an NLP Approach**\n",
        "---\n",
        "Pichaya Charoonpongsakdi (Anik) <br>\n",
        "GA-TDA DSI Capstone Project"
      ],
      "metadata": {
        "id": "hvB1C-uB3G37"
      }
    },
    {
      "cell_type": "markdown",
      "source": [
        "# **Part 0: Problem Statement**\n",
        "---"
      ],
      "metadata": {
        "id": "_YCaEDpM-W3f"
      }
    },
    {
      "cell_type": "markdown",
      "source": [
        "#**Part 1: Data Preparation**\n",
        "---\n"
      ],
      "metadata": {
        "id": "MdLQeVRj-bT9"
      }
    },
    {
      "cell_type": "markdown",
      "source": [
        "##1.0 Install and Import Libraries"
      ],
      "metadata": {
        "id": "E_jn0I5k61H8"
      }
    },
    {
      "cell_type": "code",
      "source": [
        "# Install pythainlp library\n",
        "!pip install pythainlp"
      ],
      "metadata": {
        "colab": {
          "base_uri": "https://localhost:8080/"
        },
        "id": "iuGczBIL6b7p",
        "outputId": "01bd1719-8122-40ab-a0f0-15478579ae39"
      },
      "execution_count": null,
      "outputs": [
        {
          "output_type": "stream",
          "name": "stdout",
          "text": [
            "Looking in indexes: https://pypi.org/simple, https://us-python.pkg.dev/colab-wheels/public/simple/\n",
            "Collecting pythainlp\n",
            "  Downloading pythainlp-3.1.1-py3-none-any.whl (9.6 MB)\n",
            "\u001b[K     |████████████████████████████████| 9.6 MB 7.7 MB/s \n",
            "\u001b[?25hRequirement already satisfied: requests>=2.22.0 in /usr/local/lib/python3.7/dist-packages (from pythainlp) (2.23.0)\n",
            "Requirement already satisfied: certifi>=2017.4.17 in /usr/local/lib/python3.7/dist-packages (from requests>=2.22.0->pythainlp) (2022.9.24)\n",
            "Requirement already satisfied: idna<3,>=2.5 in /usr/local/lib/python3.7/dist-packages (from requests>=2.22.0->pythainlp) (2.10)\n",
            "Requirement already satisfied: chardet<4,>=3.0.2 in /usr/local/lib/python3.7/dist-packages (from requests>=2.22.0->pythainlp) (3.0.4)\n",
            "Requirement already satisfied: urllib3!=1.25.0,!=1.25.1,<1.26,>=1.21.1 in /usr/local/lib/python3.7/dist-packages (from requests>=2.22.0->pythainlp) (1.24.3)\n",
            "Installing collected packages: pythainlp\n",
            "Successfully installed pythainlp-3.1.1\n"
          ]
        }
      ]
    },
    {
      "cell_type": "code",
      "execution_count": 189,
      "metadata": {
        "id": "uVC6prvN2kE1"
      },
      "outputs": [],
      "source": [
        "# Import Basic Libraries\n",
        "import pandas as pd\n",
        "import numpy as np\n",
        "import matplotlib as mpl\n",
        "import matplotlib.pyplot as plt\n",
        "import seaborn as sns\n",
        "\n",
        "# Import Sklearn Libraries\n",
        "from sklearn.model_selection import train_test_split, GridSearchCV\n",
        "from sklearn.pipeline import Pipeline\n",
        "from sklearn.naive_bayes import MultinomialNB\n",
        "from sklearn.linear_model import LogisticRegression\n",
        "from sklearn.metrics import confusion_matrix, plot_confusion_matrix\n",
        "from sklearn.feature_extraction.text import CountVectorizer, TfidfVectorizer\n",
        "\n",
        "# Import NLP Libraries\n",
        "from nltk.tokenize import sent_tokenize, word_tokenize, RegexpTokenizer\n",
        "from nltk.stem import WordNetLemmatizer\n",
        "from nltk.stem.porter import PorterStemmer\n",
        "from nltk.corpus import stopwords\n",
        "from nltk.sentiment.vader import SentimentIntensityAnalyzer\n",
        "from gensim.models import LdaModel\n",
        "from gensim.corpora.dictionary import Dictionary\n",
        "from pythainlp.tokenize import sent_tokenize, word_tokenize\n",
        "from pythainlp.corpus import thai_stopwords\n",
        "import re\n",
        "\n",
        "# Other Libraries\n",
        "from google.colab import files\n",
        "from google.colab import drive"
      ]
    },
    {
      "cell_type": "code",
      "source": [
        "# Download TH Sarabun (Thai font)\n",
        "!gdown 1rZSpiIh6fTeaDPOCKvamgtlR3qN2UQEl"
      ],
      "metadata": {
        "colab": {
          "base_uri": "https://localhost:8080/"
        },
        "id": "X4Cg3VbEnPkX",
        "outputId": "a3ac41be-e9c8-4ce5-f8e1-fd5e0a340330"
      },
      "execution_count": null,
      "outputs": [
        {
          "output_type": "stream",
          "name": "stdout",
          "text": [
            "Downloading...\n",
            "From: https://drive.google.com/uc?id=1rZSpiIh6fTeaDPOCKvamgtlR3qN2UQEl\n",
            "To: /content/THSarabunNew.ttf\n",
            "\r  0% 0.00/474k [00:00<?, ?B/s]\r100% 474k/474k [00:00<00:00, 79.4MB/s]\n"
          ]
        }
      ]
    },
    {
      "cell_type": "code",
      "source": [
        "# Set TH Sarabun as default Thai font\n",
        "mpl.font_manager.fontManager.addfont('/content/THSarabunNew.ttf')\n",
        "mpl.rc('font', family='TH Sarabun New', size=20)"
      ],
      "metadata": {
        "id": "6xVp8i3LnsdG"
      },
      "execution_count": null,
      "outputs": []
    },
    {
      "cell_type": "markdown",
      "source": [
        "##1.1 Load Datasets"
      ],
      "metadata": {
        "id": "3VUqPju87Jtw"
      }
    },
    {
      "cell_type": "code",
      "source": [
        "# Download datasets from Google Drive\n",
        "!gdown 1BQtzBne72ML1OoJG46IbYQ_v9pUrOq1K"
      ],
      "metadata": {
        "colab": {
          "base_uri": "https://localhost:8080/"
        },
        "id": "-FzQJ6VE2qo9",
        "outputId": "941c3cd0-29ac-42f0-e47b-46281b1e03ae"
      },
      "execution_count": null,
      "outputs": [
        {
          "output_type": "stream",
          "name": "stdout",
          "text": [
            "Downloading...\n",
            "From: https://drive.google.com/uc?id=1BQtzBne72ML1OoJG46IbYQ_v9pUrOq1K\n",
            "To: /content/bkkbiz_update.json\n",
            "100% 2.29G/2.29G [00:20<00:00, 111MB/s]\n"
          ]
        }
      ]
    },
    {
      "cell_type": "code",
      "source": [
        "# Import datasets\n",
        "bkkbiz = pd.read_json('/content/bkkbiz_update.json')"
      ],
      "metadata": {
        "id": "tdcTZAzo6Lrh"
      },
      "execution_count": null,
      "outputs": []
    },
    {
      "cell_type": "code",
      "source": [
        "# Check head\n",
        "bkkbiz.head()"
      ],
      "metadata": {
        "colab": {
          "base_uri": "https://localhost:8080/",
          "height": 337
        },
        "id": "R2FdTyRuQwHl",
        "outputId": "10c51e4b-c64b-4548-c00d-7ade85b49581"
      },
      "execution_count": null,
      "outputs": [
        {
          "output_type": "execute_result",
          "data": {
            "text/plain": [
              "       ID                date          category  \\\n",
              "0  620001 2014-11-27 08:01:00        ต่างประเทศ   \n",
              "1  620002 2014-11-27 08:20:00        ต่างประเทศ   \n",
              "2  620009 2014-11-27 09:34:00  การเงิน-การลงทุน   \n",
              "3  620010 2014-11-27 09:36:00  การเงิน-การลงทุน   \n",
              "4  620011 2014-11-27 09:48:00  การเงิน-การลงทุน   \n",
              "\n",
              "                                     title  \\\n",
              "0  น้ำมันดิบปิดร่วง-คาดโอเปคไม่ลดกำลังผลิต   \n",
              "1   ทองคำปิดร่วงหลังสหรัฐเผยข้อมูลเศรษฐกิจ   \n",
              "2      ทองแท่งขายออก18,600บ.ไม่เปลี่ยนแปลง   \n",
              "3           เงินบาทเปิด32.75/77คาดแกว่งแคบ   \n",
              "4                 คาดหุ้นเช้าแกว่งไซด์เวย์   \n",
              "\n",
              "                                         description  \\\n",
              "0  น้ำมันดิบปิดร่วงแตะระดับต่ำสุดในรอบ 4 ปี-คาดโอ...   \n",
              "1  สัญญาทองคำตลาดล่วงหน้าสหรัฐ ปิดปรับตัวลงเล็กน้...   \n",
              "2  ราคาทองคำวันนี้ทองแท่งขายออกบาทละ 18,600 บาท ท...   \n",
              "3  ค่าเงินบาทเปิดที่ 32.75/77 บาท/ดอลลาร์ คาดแกว่...   \n",
              "4  โบรกฯ คาดหุ้นเช้านี้แกว่งไซด์เวย์ช่วงไร้ปัจจัย...   \n",
              "\n",
              "                                             article  \\\n",
              "0  สัญญาน้ำมันดิบตลาดล่วงหน้าสหรัฐ ปิดตลาดปรับตัว...   \n",
              "1  สัญญาทองคำตลาดล่วงหน้าสหรัฐ ปิดปรับตัวลงเล็กน้...   \n",
              "2  สมาคมค้าทองคำรายงานราคาทอง 96.5% ประจำวันที่ 2...   \n",
              "3  นักบริหารเงินจากธนาคารพาณิชย์ เปิดเผยว่า เงินบ...   \n",
              "4  นายอภิชาติ ผู้บรรเจิดกุล ผู้อำนวยการสายงานวิเค...   \n",
              "\n",
              "                                                 url  \n",
              "0  https://www.bangkokbiznews.com/news/detail/620001  \n",
              "1  https://www.bangkokbiznews.com/news/detail/620002  \n",
              "2  https://www.bangkokbiznews.com/news/detail/620009  \n",
              "3  https://www.bangkokbiznews.com/news/detail/620010  \n",
              "4  https://www.bangkokbiznews.com/news/detail/620011  "
            ],
            "text/html": [
              "\n",
              "  <div id=\"df-b730bac6-f7d1-4f50-b889-a46adecb7aa9\">\n",
              "    <div class=\"colab-df-container\">\n",
              "      <div>\n",
              "<style scoped>\n",
              "    .dataframe tbody tr th:only-of-type {\n",
              "        vertical-align: middle;\n",
              "    }\n",
              "\n",
              "    .dataframe tbody tr th {\n",
              "        vertical-align: top;\n",
              "    }\n",
              "\n",
              "    .dataframe thead th {\n",
              "        text-align: right;\n",
              "    }\n",
              "</style>\n",
              "<table border=\"1\" class=\"dataframe\">\n",
              "  <thead>\n",
              "    <tr style=\"text-align: right;\">\n",
              "      <th></th>\n",
              "      <th>ID</th>\n",
              "      <th>date</th>\n",
              "      <th>category</th>\n",
              "      <th>title</th>\n",
              "      <th>description</th>\n",
              "      <th>article</th>\n",
              "      <th>url</th>\n",
              "    </tr>\n",
              "  </thead>\n",
              "  <tbody>\n",
              "    <tr>\n",
              "      <th>0</th>\n",
              "      <td>620001</td>\n",
              "      <td>2014-11-27 08:01:00</td>\n",
              "      <td>ต่างประเทศ</td>\n",
              "      <td>น้ำมันดิบปิดร่วง-คาดโอเปคไม่ลดกำลังผลิต</td>\n",
              "      <td>น้ำมันดิบปิดร่วงแตะระดับต่ำสุดในรอบ 4 ปี-คาดโอ...</td>\n",
              "      <td>สัญญาน้ำมันดิบตลาดล่วงหน้าสหรัฐ ปิดตลาดปรับตัว...</td>\n",
              "      <td>https://www.bangkokbiznews.com/news/detail/620001</td>\n",
              "    </tr>\n",
              "    <tr>\n",
              "      <th>1</th>\n",
              "      <td>620002</td>\n",
              "      <td>2014-11-27 08:20:00</td>\n",
              "      <td>ต่างประเทศ</td>\n",
              "      <td>ทองคำปิดร่วงหลังสหรัฐเผยข้อมูลเศรษฐกิจ</td>\n",
              "      <td>สัญญาทองคำตลาดล่วงหน้าสหรัฐ ปิดปรับตัวลงเล็กน้...</td>\n",
              "      <td>สัญญาทองคำตลาดล่วงหน้าสหรัฐ ปิดปรับตัวลงเล็กน้...</td>\n",
              "      <td>https://www.bangkokbiznews.com/news/detail/620002</td>\n",
              "    </tr>\n",
              "    <tr>\n",
              "      <th>2</th>\n",
              "      <td>620009</td>\n",
              "      <td>2014-11-27 09:34:00</td>\n",
              "      <td>การเงิน-การลงทุน</td>\n",
              "      <td>ทองแท่งขายออก18,600บ.ไม่เปลี่ยนแปลง</td>\n",
              "      <td>ราคาทองคำวันนี้ทองแท่งขายออกบาทละ 18,600 บาท ท...</td>\n",
              "      <td>สมาคมค้าทองคำรายงานราคาทอง 96.5% ประจำวันที่ 2...</td>\n",
              "      <td>https://www.bangkokbiznews.com/news/detail/620009</td>\n",
              "    </tr>\n",
              "    <tr>\n",
              "      <th>3</th>\n",
              "      <td>620010</td>\n",
              "      <td>2014-11-27 09:36:00</td>\n",
              "      <td>การเงิน-การลงทุน</td>\n",
              "      <td>เงินบาทเปิด32.75/77คาดแกว่งแคบ</td>\n",
              "      <td>ค่าเงินบาทเปิดที่ 32.75/77 บาท/ดอลลาร์ คาดแกว่...</td>\n",
              "      <td>นักบริหารเงินจากธนาคารพาณิชย์ เปิดเผยว่า เงินบ...</td>\n",
              "      <td>https://www.bangkokbiznews.com/news/detail/620010</td>\n",
              "    </tr>\n",
              "    <tr>\n",
              "      <th>4</th>\n",
              "      <td>620011</td>\n",
              "      <td>2014-11-27 09:48:00</td>\n",
              "      <td>การเงิน-การลงทุน</td>\n",
              "      <td>คาดหุ้นเช้าแกว่งไซด์เวย์</td>\n",
              "      <td>โบรกฯ คาดหุ้นเช้านี้แกว่งไซด์เวย์ช่วงไร้ปัจจัย...</td>\n",
              "      <td>นายอภิชาติ ผู้บรรเจิดกุล ผู้อำนวยการสายงานวิเค...</td>\n",
              "      <td>https://www.bangkokbiznews.com/news/detail/620011</td>\n",
              "    </tr>\n",
              "  </tbody>\n",
              "</table>\n",
              "</div>\n",
              "      <button class=\"colab-df-convert\" onclick=\"convertToInteractive('df-b730bac6-f7d1-4f50-b889-a46adecb7aa9')\"\n",
              "              title=\"Convert this dataframe to an interactive table.\"\n",
              "              style=\"display:none;\">\n",
              "        \n",
              "  <svg xmlns=\"http://www.w3.org/2000/svg\" height=\"24px\"viewBox=\"0 0 24 24\"\n",
              "       width=\"24px\">\n",
              "    <path d=\"M0 0h24v24H0V0z\" fill=\"none\"/>\n",
              "    <path d=\"M18.56 5.44l.94 2.06.94-2.06 2.06-.94-2.06-.94-.94-2.06-.94 2.06-2.06.94zm-11 1L8.5 8.5l.94-2.06 2.06-.94-2.06-.94L8.5 2.5l-.94 2.06-2.06.94zm10 10l.94 2.06.94-2.06 2.06-.94-2.06-.94-.94-2.06-.94 2.06-2.06.94z\"/><path d=\"M17.41 7.96l-1.37-1.37c-.4-.4-.92-.59-1.43-.59-.52 0-1.04.2-1.43.59L10.3 9.45l-7.72 7.72c-.78.78-.78 2.05 0 2.83L4 21.41c.39.39.9.59 1.41.59.51 0 1.02-.2 1.41-.59l7.78-7.78 2.81-2.81c.8-.78.8-2.07 0-2.86zM5.41 20L4 18.59l7.72-7.72 1.47 1.35L5.41 20z\"/>\n",
              "  </svg>\n",
              "      </button>\n",
              "      \n",
              "  <style>\n",
              "    .colab-df-container {\n",
              "      display:flex;\n",
              "      flex-wrap:wrap;\n",
              "      gap: 12px;\n",
              "    }\n",
              "\n",
              "    .colab-df-convert {\n",
              "      background-color: #E8F0FE;\n",
              "      border: none;\n",
              "      border-radius: 50%;\n",
              "      cursor: pointer;\n",
              "      display: none;\n",
              "      fill: #1967D2;\n",
              "      height: 32px;\n",
              "      padding: 0 0 0 0;\n",
              "      width: 32px;\n",
              "    }\n",
              "\n",
              "    .colab-df-convert:hover {\n",
              "      background-color: #E2EBFA;\n",
              "      box-shadow: 0px 1px 2px rgba(60, 64, 67, 0.3), 0px 1px 3px 1px rgba(60, 64, 67, 0.15);\n",
              "      fill: #174EA6;\n",
              "    }\n",
              "\n",
              "    [theme=dark] .colab-df-convert {\n",
              "      background-color: #3B4455;\n",
              "      fill: #D2E3FC;\n",
              "    }\n",
              "\n",
              "    [theme=dark] .colab-df-convert:hover {\n",
              "      background-color: #434B5C;\n",
              "      box-shadow: 0px 1px 3px 1px rgba(0, 0, 0, 0.15);\n",
              "      filter: drop-shadow(0px 1px 2px rgba(0, 0, 0, 0.3));\n",
              "      fill: #FFFFFF;\n",
              "    }\n",
              "  </style>\n",
              "\n",
              "      <script>\n",
              "        const buttonEl =\n",
              "          document.querySelector('#df-b730bac6-f7d1-4f50-b889-a46adecb7aa9 button.colab-df-convert');\n",
              "        buttonEl.style.display =\n",
              "          google.colab.kernel.accessAllowed ? 'block' : 'none';\n",
              "\n",
              "        async function convertToInteractive(key) {\n",
              "          const element = document.querySelector('#df-b730bac6-f7d1-4f50-b889-a46adecb7aa9');\n",
              "          const dataTable =\n",
              "            await google.colab.kernel.invokeFunction('convertToInteractive',\n",
              "                                                     [key], {});\n",
              "          if (!dataTable) return;\n",
              "\n",
              "          const docLinkHtml = 'Like what you see? Visit the ' +\n",
              "            '<a target=\"_blank\" href=https://colab.research.google.com/notebooks/data_table.ipynb>data table notebook</a>'\n",
              "            + ' to learn more about interactive tables.';\n",
              "          element.innerHTML = '';\n",
              "          dataTable['output_type'] = 'display_data';\n",
              "          await google.colab.output.renderOutput(dataTable, element);\n",
              "          const docLink = document.createElement('div');\n",
              "          docLink.innerHTML = docLinkHtml;\n",
              "          element.appendChild(docLink);\n",
              "        }\n",
              "      </script>\n",
              "    </div>\n",
              "  </div>\n",
              "  "
            ]
          },
          "metadata": {},
          "execution_count": 7
        }
      ]
    },
    {
      "cell_type": "markdown",
      "source": [
        "##1.2 Data Cleaning\n"
      ],
      "metadata": {
        "id": "apZrKWjH-oVZ"
      }
    },
    {
      "cell_type": "code",
      "source": [
        "# Check shape\n",
        "bkkbiz.shape"
      ],
      "metadata": {
        "colab": {
          "base_uri": "https://localhost:8080/"
        },
        "id": "CJ63tNFvPqAj",
        "outputId": "57440c97-033d-4eda-e86e-c83703751a18"
      },
      "execution_count": null,
      "outputs": [
        {
          "output_type": "execute_result",
          "data": {
            "text/plain": [
              "(361228, 7)"
            ]
          },
          "metadata": {},
          "execution_count": 10
        }
      ]
    },
    {
      "cell_type": "code",
      "source": [
        "# Convert column heads to lower case\n",
        "bkkbiz.columns.str.lower()"
      ],
      "metadata": {
        "colab": {
          "base_uri": "https://localhost:8080/"
        },
        "id": "pkLPhQPkVRjm",
        "outputId": "8e9666ff-94cc-48c3-ce48-375fc8a211b6"
      },
      "execution_count": null,
      "outputs": [
        {
          "output_type": "execute_result",
          "data": {
            "text/plain": [
              "Index(['id', 'date', 'category', 'title', 'description', 'article', 'url'], dtype='object')"
            ]
          },
          "metadata": {},
          "execution_count": 8
        }
      ]
    },
    {
      "cell_type": "code",
      "source": [
        "# Check dtypes\n",
        "bkkbiz.dtypes"
      ],
      "metadata": {
        "colab": {
          "base_uri": "https://localhost:8080/"
        },
        "id": "5G2uP45-PqC6",
        "outputId": "e568039c-3a2a-4aaa-80d5-556c703a0ee2"
      },
      "execution_count": null,
      "outputs": [
        {
          "output_type": "execute_result",
          "data": {
            "text/plain": [
              "ID                      int64\n",
              "date           datetime64[ns]\n",
              "category               object\n",
              "title                  object\n",
              "description            object\n",
              "article                object\n",
              "url                    object\n",
              "dtype: object"
            ]
          },
          "metadata": {},
          "execution_count": 9
        }
      ]
    },
    {
      "cell_type": "code",
      "source": [
        "# Check nulls\n",
        "bkkbiz.isnull().sum()"
      ],
      "metadata": {
        "colab": {
          "base_uri": "https://localhost:8080/"
        },
        "id": "V33syHEfPqF6",
        "outputId": "223cc17e-a248-41cc-a3f2-04fb02fa872b"
      },
      "execution_count": null,
      "outputs": [
        {
          "output_type": "execute_result",
          "data": {
            "text/plain": [
              "ID             0\n",
              "date           0\n",
              "category       0\n",
              "title          0\n",
              "description    0\n",
              "article        0\n",
              "url            0\n",
              "dtype: int64"
            ]
          },
          "metadata": {},
          "execution_count": 11
        }
      ]
    },
    {
      "cell_type": "code",
      "source": [
        "# Check duplicate rows\n",
        "set([bkkbiz['title'].value_counts().count(),\n",
        "     bkkbiz['description'].value_counts().count(), \n",
        "     bkkbiz['article'].value_counts().count(), \n",
        "     bkkbiz.shape[0]])"
      ],
      "metadata": {
        "colab": {
          "base_uri": "https://localhost:8080/"
        },
        "id": "fHq7gLmfa7nG",
        "outputId": "071a5aa2-8066-4649-eeff-87012f2ed131"
      },
      "execution_count": null,
      "outputs": [
        {
          "output_type": "execute_result",
          "data": {
            "text/plain": [
              "{337402, 352490, 354923, 361228}"
            ]
          },
          "metadata": {},
          "execution_count": 12
        }
      ]
    },
    {
      "cell_type": "code",
      "source": [
        "# Check deplicates\n",
        "bkkbiz['article'].value_counts().count(), bkkbiz['article'].isnull().sum()"
      ],
      "metadata": {
        "colab": {
          "base_uri": "https://localhost:8080/"
        },
        "id": "PGlyBg1sa1hp",
        "outputId": "de34d6fd-a3ce-4681-d186-48fa889d3469"
      },
      "execution_count": null,
      "outputs": [
        {
          "output_type": "execute_result",
          "data": {
            "text/plain": [
              "(337402, 0)"
            ]
          },
          "metadata": {},
          "execution_count": 13
        }
      ]
    },
    {
      "cell_type": "markdown",
      "source": [
        "##1.3 Corpus Overview\n",
        "---"
      ],
      "metadata": {
        "id": "5qBr-7XDf2KC"
      }
    },
    {
      "cell_type": "code",
      "source": [
        "bkkbiz.columns"
      ],
      "metadata": {
        "colab": {
          "base_uri": "https://localhost:8080/"
        },
        "id": "lvBaKo6wgqXX",
        "outputId": "dcbb7db4-0f66-42c2-f1ce-92fbad14f143"
      },
      "execution_count": null,
      "outputs": [
        {
          "output_type": "execute_result",
          "data": {
            "text/plain": [
              "Index(['ID', 'date', 'category', 'title', 'description', 'article', 'url'], dtype='object')"
            ]
          },
          "metadata": {},
          "execution_count": 14
        }
      ]
    },
    {
      "cell_type": "code",
      "source": [
        "# Number of article in each subcategory\n",
        "bkkbiz['category'].value_counts().sort_values(ascending=False)"
      ],
      "metadata": {
        "colab": {
          "base_uri": "https://localhost:8080/"
        },
        "id": "PqFNA3AHf5cd",
        "outputId": "9148e256-595b-4ee3-a07c-fc682655125d"
      },
      "execution_count": null,
      "outputs": [
        {
          "output_type": "execute_result",
          "data": {
            "text/plain": [
              "การเมือง              105331\n",
              "การเงิน-การลงทุน       55041\n",
              "ต่างประเทศ             42309\n",
              "เศรษฐกิจ               35453\n",
              "ไลฟ์สไตล์              24044\n",
              "คุณภาพชีวิต-สังคม      18520\n",
              "การเงิน                17742\n",
              "ธุรกิจ                 16344\n",
              "ทั่วไป                 15901\n",
              "Data Analysis           3630\n",
              "หุ้น                    3240\n",
              "สาธารณสุข               2560\n",
              "ประชาสัมพันธ์           2474\n",
              "IT & gadget             1964\n",
              "คอลัมนิสต์              1609\n",
              "Bizweek                 1541\n",
              "ข่าวพระราชสำนัก         1333\n",
              "อสังหาริมทรัพย์         1331\n",
              "ข่าวในพระราชสำนัก       1292\n",
              "บันเทิง                 1286\n",
              "นวัตกรรม                1191\n",
              "@Taste                  1065\n",
              "จุดประกาย                747\n",
              "สุขภาพ-คุณภาพชีวิต       680\n",
              "ท่องเที่ยว               582\n",
              "ยานยนต์                  552\n",
              "Art & living             545\n",
              "การศึกษา                 487\n",
              "ข่าวทั่วไป               406\n",
              "สิ่งแวดล้อม              373\n",
              "ดูดวง                    336\n",
              "แรงงาน                   305\n",
              "เศรษฐกิจ-ธุรกิจ          209\n",
              "Corporate Moves          207\n",
              "CEO Blog                 200\n",
              "ลอตเตอรี่                161\n",
              "ความงาม-แฟชั่น           106\n",
              "Training Course           50\n",
              "เทคโนโลยี                 43\n",
              "Biz2U                     32\n",
              "Special                    3\n",
              "ไอที-นวัตกรรม              2\n",
              "คุณภาพชีวิต                1\n",
              "Name: category, dtype: int64"
            ]
          },
          "metadata": {},
          "execution_count": 15
        }
      ]
    },
    {
      "cell_type": "code",
      "source": [
        "# Top 20 subcategories by number of articles\n",
        "plt.figure(figsize=(15,10))\n",
        "plt.title('Top 20 Subcategories by Number of Articles', size=30)\n",
        "bkkbiz['category'].value_counts().sort_values(ascending=False).head(20).plot(kind='barh');"
      ],
      "metadata": {
        "colab": {
          "base_uri": "https://localhost:8080/",
          "height": 617
        },
        "id": "pcRqRG2dhD6K",
        "outputId": "4cff58bb-c54f-4cb0-df8c-26b205d96662"
      },
      "execution_count": null,
      "outputs": [
        {
          "output_type": "display_data",
          "data": {
            "text/plain": [
              "<Figure size 1080x720 with 1 Axes>"
            ],
            "image/png": "[encoded data removed]"
          },
          "metadata": {
            "needs_background": "light"
          }
        }
      ]
    },
    {
      "cell_type": "code",
      "source": [
        "# Time released\n",
        "bkkbiz['date'].dt.year.unique()"
      ],
      "metadata": {
        "id": "SpShmtSYgZoG",
        "colab": {
          "base_uri": "https://localhost:8080/"
        },
        "outputId": "f5ab556c-6b42-40b4-e323-0241f6ff4604"
      },
      "execution_count": null,
      "outputs": [
        {
          "output_type": "execute_result",
          "data": {
            "text/plain": [
              "array([2014, 2015, 2016, 2017, 2018, 2019, 2020, 2021, 2022])"
            ]
          },
          "metadata": {},
          "execution_count": 23
        }
      ]
    },
    {
      "cell_type": "code",
      "source": [
        "# Number of Article by Year\n",
        "bkkbiz.groupby(bkkbiz['date'].dt.year)['title'].count()"
      ],
      "metadata": {
        "colab": {
          "base_uri": "https://localhost:8080/"
        },
        "id": "ACIcJUYC2gnL",
        "outputId": "6cc7cecf-63e7-4cd2-bcc7-a020932c4f16"
      },
      "execution_count": null,
      "outputs": [
        {
          "output_type": "execute_result",
          "data": {
            "text/plain": [
              "date\n",
              "2014     4646\n",
              "2015    51297\n",
              "2016    25825\n",
              "2017    51332\n",
              "2018    34992\n",
              "2019    36653\n",
              "2020    53321\n",
              "2021    63939\n",
              "2022    39223\n",
              "Name: title, dtype: int64"
            ]
          },
          "metadata": {},
          "execution_count": 28
        }
      ]
    },
    {
      "cell_type": "code",
      "source": [
        "# Number of Article by Year\n",
        "plt.figure(figsize=(10,7))\n",
        "plt.title('Number of Articles on BkkBiz by Year')\n",
        "bkkbiz.groupby(bkkbiz['date'].dt.year)['title'].count().plot(kind='barh');"
      ],
      "metadata": {
        "colab": {
          "base_uri": "https://localhost:8080/",
          "height": 449
        },
        "id": "O6f-0iZy2qxU",
        "outputId": "3ca852bd-556a-4eac-aa8e-26f86d7ce6dc"
      },
      "execution_count": null,
      "outputs": [
        {
          "output_type": "display_data",
          "data": {
            "text/plain": [
              "<Figure size 720x504 with 1 Axes>"
            ],
            "image/png": "[encoded data removed]"
          },
          "metadata": {
            "needs_background": "light"
          }
        }
      ]
    },
    {
      "cell_type": "code",
      "source": [
        "# Number of articles by category by year\n",
        "#fig, ax = plt.subplots(4,2, figsize=(15,30))\n",
        "years = [2014, 2015, 2016, 2017, 2018, 2019, 2020, 2021, 2022]\n",
        "\n",
        "fig, axs = plt.subplots(3,3, figsize=(15,15), sharex=True)\n",
        "for n, year in enumerate(years):\n",
        "  plt.subplot(3,3,n+1)\n",
        "  plt.title(year, size=30)\n",
        "  plt.tight_layout()\n",
        "  bkkbiz[bkkbiz['date'].dt.year==year]['category'].value_counts().head(20).plot(kind='barh');"
      ],
      "metadata": {
        "colab": {
          "base_uri": "https://localhost:8080/",
          "height": 1000
        },
        "id": "ctahp6U25OM5",
        "outputId": "b500a50f-1616-4618-ff04-7cef913e2ed9"
      },
      "execution_count": null,
      "outputs": [
        {
          "output_type": "display_data",
          "data": {
            "text/plain": [
              "<Figure size 1080x1080 with 9 Axes>"
            ],
            "image/png": "[encoded data removed]"
          },
          "metadata": {
            "needs_background": "light"
          }
        }
      ]
    },
    {
      "cell_type": "code",
      "source": [
        "# Check 2019\n",
        "bkkbiz[bkkbiz['date'].dt.year==2019]['category'].value_counts().head(20)"
      ],
      "metadata": {
        "colab": {
          "base_uri": "https://localhost:8080/"
        },
        "id": "iOitO6gc_YMz",
        "outputId": "3c9b7bb0-4b53-44e6-902b-6aac7f5331cd"
      },
      "execution_count": null,
      "outputs": [
        {
          "output_type": "execute_result",
          "data": {
            "text/plain": [
              "การเมือง             12517\n",
              "การเงิน-การลงทุน      7857\n",
              "ต่างประเทศ            4821\n",
              "เศรษฐกิจ              4194\n",
              "คุณภาพชีวิต-สังคม     2812\n",
              "ไลฟ์สไตล์             2041\n",
              "ธุรกิจ                1861\n",
              "ข่าวพระราชสำนัก        388\n",
              "Bizweek                162\n",
              "Name: category, dtype: int64"
            ]
          },
          "metadata": {},
          "execution_count": 79
        }
      ]
    },
    {
      "cell_type": "code",
      "source": [
        "# Only category \"ธุรกิจ\"\n",
        "bkkbiz[bkkbiz['category']=='ธุรกิจ'].groupby(bkkbiz['date'].dt.year)['title'].count()"
      ],
      "metadata": {
        "colab": {
          "base_uri": "https://localhost:8080/"
        },
        "id": "7rTCW_EWIAEg",
        "outputId": "8a69b836-46a4-4102-cb66-46517b7a8900"
      },
      "execution_count": null,
      "outputs": [
        {
          "output_type": "execute_result",
          "data": {
            "text/plain": [
              "date\n",
              "2014     424\n",
              "2015    2623\n",
              "2016    1054\n",
              "2017    2560\n",
              "2018    1919\n",
              "2019    1861\n",
              "2020    3164\n",
              "2021    1800\n",
              "2022     939\n",
              "Name: title, dtype: int64"
            ]
          },
          "metadata": {},
          "execution_count": 111
        }
      ]
    },
    {
      "cell_type": "code",
      "source": [
        "# top 20 cat\n",
        "\n",
        "plt.figure(figsize=(15,10))\n",
        "plt.title('Top 20 Subcategories by Number of Articles', size=30)\n",
        "bkkbiz['category'].value_counts().sort_values(ascending=False).head(20).plot(kind='barh');"
      ],
      "metadata": {
        "colab": {
          "base_uri": "https://localhost:8080/",
          "height": 617
        },
        "id": "nITgrKllJ55l",
        "outputId": "e95772b8-9e2c-42ca-a533-a2e96543789f"
      },
      "execution_count": null,
      "outputs": [
        {
          "output_type": "display_data",
          "data": {
            "text/plain": [
              "<Figure size 1080x720 with 1 Axes>"
            ],
            "image/png": "[encoded data removed]"
          },
          "metadata": {
            "needs_background": "light"
          }
        }
      ]
    },
    {
      "cell_type": "markdown",
      "source": [
        "##1.4 Pre-Processing\n",
        "---"
      ],
      "metadata": {
        "id": "bQ0NLSqVgyTR"
      }
    },
    {
      "cell_type": "markdown",
      "source": [
        "##Pre-processing workflows\n",
        "1. create new DataFrame \\\n",
        "2. count words: 'title', 'description', 'article' \\\n",
        "3. list: tokenize + remove stop words + RegEx \\\n",
        "4. unlist: tokenize + remove stop words + RegEx"
      ],
      "metadata": {
        "id": "OYqw1ws5Yp2S"
      }
    },
    {
      "cell_type": "markdown",
      "source": [
        "- Create new DataFrame based on articles from the following categories: \n",
        "\n",
        "| category | DataFrame Name |\n",
        "| ---| ---|\n",
        "| การเงิน-การลงทุน | investment |\n",
        "| เศรษฐกิจ| econ |\n",
        "| คุณภาพชีวิต-สังคม | social |\n",
        "| การเงิน | finance |\n",
        "| ธุรกิจ | business |\n",
        "| Data analysis | data |"
      ],
      "metadata": {
        "id": "T57jCTT3f6sk"
      }
    },
    {
      "cell_type": "code",
      "source": [
        "df_dict = {'investment':'การเงิน-การลงทุน', 'econ':'เศรษฐกิจ', 'social':'คุณภาพชีวิต-สังคม',\\\n",
        "           'finance':'การเงิน', 'business':'ธุรกิจ', 'data':'Data Analysis'}"
      ],
      "metadata": {
        "id": "hqHiVuFcMvcK"
      },
      "execution_count": null,
      "outputs": []
    },
    {
      "cell_type": "code",
      "source": [
        "col_list = ['title', 'description', 'article']"
      ],
      "metadata": {
        "id": "FUPcOu8STgAx"
      },
      "execution_count": null,
      "outputs": []
    },
    {
      "cell_type": "code",
      "source": [
        "df_names = list(df_dict)\n",
        "df_names"
      ],
      "metadata": {
        "colab": {
          "base_uri": "https://localhost:8080/"
        },
        "id": "nPwGgsrMPM-b",
        "outputId": "6c111b62-8ec0-43af-8c14-f965d0ec7658"
      },
      "execution_count": null,
      "outputs": [
        {
          "output_type": "execute_result",
          "data": {
            "text/plain": [
              "['investment', 'econ', 'social', 'finance', 'business', 'data']"
            ]
          },
          "metadata": {},
          "execution_count": 131
        }
      ]
    },
    {
      "cell_type": "code",
      "source": [
        "# Create function that tokenize, remove stopwords and perform RegularExpression\n",
        "def tokenize(txt):\n",
        "  \n",
        "  ''' \n",
        "  Description:\n",
        "    A function that returns tokenized words with stop words and other regular expressions \n",
        "    that do not match English and Thai alphabets removed\n",
        "\n",
        "  Parameters:\n",
        "    txt = text string\n",
        "\n",
        "  Return:\n",
        "    word tokens as list\n",
        "  '''\n",
        "\n",
        "  stopwords = thai_stopwords()\n",
        "  tokens = word_tokenize(txt, keep_whitespace = False)\n",
        "  tokens = [token for token in tokens if token not in stopwords]\n",
        "  tokens = [token for token in tokens if re.match(r'[A-Za-zก-๙0-9]+', token)]\n",
        "  return tokens"
      ],
      "metadata": {
        "id": "ggExnuz4f6wt"
      },
      "execution_count": null,
      "outputs": []
    },
    {
      "cell_type": "code",
      "source": [
        "# Write a function for generating new DataFrame \n",
        "def cat_df(df_name):\n",
        "\n",
        "  '''\n",
        "  Description:\n",
        "    A function that create a new DataFrame from existing bkkbiz corpus \n",
        "    filtered by category specified by input parameter. The following new features\n",
        "    will be created as a result of the function:\n",
        "      1. word count\n",
        "      2. tokenized words list\n",
        "      3. tokenized words outside of a list\n",
        "  Parameters:\n",
        "    Name of the new DataFrame as pre-defined in the df_dict\n",
        "  Returns:\n",
        "    New DataFrame\n",
        "  '''\n",
        "\n",
        "  # 1. Create new DataFrame\n",
        "  df_name = bkkbiz[bkkbiz['category']==df_dict[df_name]].reset_index(drop=True)\n",
        "\n",
        "  # 2. Create word count columns\n",
        "  \n",
        "  for col in col_list:\n",
        "    df_name[col+'_count'] = df_name[col].apply(lambda x: len(word_tokenize(x ,keep_whitespace=False)))\n",
        "\n",
        "    # 3. Tokenize, remove stop words, perform regular expression > ready for topic modeling\n",
        "    df_name[col+'_tokenize_list'] = df_name[col].apply(tokenize)\n",
        "\n",
        "    # 4. Take the tokens out of the list > ready to be vectorized\n",
        "    df_name[col+'_tokenize_unlist'] = df_name[col+'_tokenize_list'].apply(lambda x:' '.join(x))\n",
        "\n",
        "  return df_name"
      ],
      "metadata": {
        "id": "YpZ2MeLyLpmE"
      },
      "execution_count": null,
      "outputs": []
    },
    {
      "cell_type": "code",
      "source": [
        "# Create new DataFrame\n",
        "for key in df_dict:\n",
        "  df = cat_df(key)\n",
        "  df.to_csv(f'{key}.csv')\n",
        "  print(f'Finish creating \"{key}\" DataFrame')"
      ],
      "metadata": {
        "colab": {
          "base_uri": "https://localhost:8080/"
        },
        "id": "wYLum9bNqfCs",
        "outputId": "f6cff5a8-a787-4c03-b242-6a3a1db9eb03"
      },
      "execution_count": 186,
      "outputs": [
        {
          "output_type": "stream",
          "name": "stdout",
          "text": [
            "Finish creating \"investment\" DataFrame\n",
            "Finish creating \"econ\" DataFrame\n",
            "Finish creating \"social\" DataFrame\n",
            "Finish creating \"finance\" DataFrame\n",
            "Finish creating \"business\" DataFrame\n",
            "Finish creating \"data\" DataFrame\n"
          ]
        }
      ]
    },
    {
      "cell_type": "code",
      "source": [
        "# Download \n",
        "for key in df_dict:\n",
        "  files.download(f'{key}.csv')"
      ],
      "metadata": {
        "colab": {
          "base_uri": "https://localhost:8080/",
          "height": 17
        },
        "id": "ng-uwv3TyiuG",
        "outputId": "56ca3983-153e-43fb-be5c-e5ca020d2b03"
      },
      "execution_count": 188,
      "outputs": [
        {
          "output_type": "display_data",
          "data": {
            "text/plain": [
              "<IPython.core.display.Javascript object>"
            ],
            "application/javascript": [
              "\n",
              "    async function download(id, filename, size) {\n",
              "      if (!google.colab.kernel.accessAllowed) {\n",
              "        return;\n",
              "      }\n",
              "      const div = document.createElement('div');\n",
              "      const label = document.createElement('label');\n",
              "      label.textContent = `Downloading \"${filename}\": `;\n",
              "      div.appendChild(label);\n",
              "      const progress = document.createElement('progress');\n",
              "      progress.max = size;\n",
              "      div.appendChild(progress);\n",
              "      document.body.appendChild(div);\n",
              "\n",
              "      const buffers = [];\n",
              "      let downloaded = 0;\n",
              "\n",
              "      const channel = await google.colab.kernel.comms.open(id);\n",
              "      // Send a message to notify the kernel that we're ready.\n",
              "      channel.send({})\n",
              "\n",
              "      for await (const message of channel.messages) {\n",
              "        // Send a message to notify the kernel that we're ready.\n",
              "        channel.send({})\n",
              "        if (message.buffers) {\n",
              "          for (const buffer of message.buffers) {\n",
              "            buffers.push(buffer);\n",
              "            downloaded += buffer.byteLength;\n",
              "            progress.value = downloaded;\n",
              "          }\n",
              "        }\n",
              "      }\n",
              "      const blob = new Blob(buffers, {type: 'application/binary'});\n",
              "      const a = document.createElement('a');\n",
              "      a.href = window.URL.createObjectURL(blob);\n",
              "      a.download = filename;\n",
              "      div.appendChild(a);\n",
              "      a.click();\n",
              "      div.remove();\n",
              "    }\n",
              "  "
            ]
          },
          "metadata": {}
        },
        {
          "output_type": "display_data",
          "data": {
            "text/plain": [
              "<IPython.core.display.Javascript object>"
            ],
            "application/javascript": [
              "download(\"download_657b154d-65e0-4631-89fd-8267544312fc\", \"investment.csv\", 549101465)"
            ]
          },
          "metadata": {}
        },
        {
          "output_type": "display_data",
          "data": {
            "text/plain": [
              "<IPython.core.display.Javascript object>"
            ],
            "application/javascript": [
              "\n",
              "    async function download(id, filename, size) {\n",
              "      if (!google.colab.kernel.accessAllowed) {\n",
              "        return;\n",
              "      }\n",
              "      const div = document.createElement('div');\n",
              "      const label = document.createElement('label');\n",
              "      label.textContent = `Downloading \"${filename}\": `;\n",
              "      div.appendChild(label);\n",
              "      const progress = document.createElement('progress');\n",
              "      progress.max = size;\n",
              "      div.appendChild(progress);\n",
              "      document.body.appendChild(div);\n",
              "\n",
              "      const buffers = [];\n",
              "      let downloaded = 0;\n",
              "\n",
              "      const channel = await google.colab.kernel.comms.open(id);\n",
              "      // Send a message to notify the kernel that we're ready.\n",
              "      channel.send({})\n",
              "\n",
              "      for await (const message of channel.messages) {\n",
              "        // Send a message to notify the kernel that we're ready.\n",
              "        channel.send({})\n",
              "        if (message.buffers) {\n",
              "          for (const buffer of message.buffers) {\n",
              "            buffers.push(buffer);\n",
              "            downloaded += buffer.byteLength;\n",
              "            progress.value = downloaded;\n",
              "          }\n",
              "        }\n",
              "      }\n",
              "      const blob = new Blob(buffers, {type: 'application/binary'});\n",
              "      const a = document.createElement('a');\n",
              "      a.href = window.URL.createObjectURL(blob);\n",
              "      a.download = filename;\n",
              "      div.appendChild(a);\n",
              "      a.click();\n",
              "      div.remove();\n",
              "    }\n",
              "  "
            ]
          },
          "metadata": {}
        },
        {
          "output_type": "display_data",
          "data": {
            "text/plain": [
              "<IPython.core.display.Javascript object>"
            ],
            "application/javascript": [
              "download(\"download_0e77e2d0-6654-4d82-8a5a-d61db2da1724\", \"econ.csv\", 408792182)"
            ]
          },
          "metadata": {}
        },
        {
          "output_type": "display_data",
          "data": {
            "text/plain": [
              "<IPython.core.display.Javascript object>"
            ],
            "application/javascript": [
              "\n",
              "    async function download(id, filename, size) {\n",
              "      if (!google.colab.kernel.accessAllowed) {\n",
              "        return;\n",
              "      }\n",
              "      const div = document.createElement('div');\n",
              "      const label = document.createElement('label');\n",
              "      label.textContent = `Downloading \"${filename}\": `;\n",
              "      div.appendChild(label);\n",
              "      const progress = document.createElement('progress');\n",
              "      progress.max = size;\n",
              "      div.appendChild(progress);\n",
              "      document.body.appendChild(div);\n",
              "\n",
              "      const buffers = [];\n",
              "      let downloaded = 0;\n",
              "\n",
              "      const channel = await google.colab.kernel.comms.open(id);\n",
              "      // Send a message to notify the kernel that we're ready.\n",
              "      channel.send({})\n",
              "\n",
              "      for await (const message of channel.messages) {\n",
              "        // Send a message to notify the kernel that we're ready.\n",
              "        channel.send({})\n",
              "        if (message.buffers) {\n",
              "          for (const buffer of message.buffers) {\n",
              "            buffers.push(buffer);\n",
              "            downloaded += buffer.byteLength;\n",
              "            progress.value = downloaded;\n",
              "          }\n",
              "        }\n",
              "      }\n",
              "      const blob = new Blob(buffers, {type: 'application/binary'});\n",
              "      const a = document.createElement('a');\n",
              "      a.href = window.URL.createObjectURL(blob);\n",
              "      a.download = filename;\n",
              "      div.appendChild(a);\n",
              "      a.click();\n",
              "      div.remove();\n",
              "    }\n",
              "  "
            ]
          },
          "metadata": {}
        },
        {
          "output_type": "display_data",
          "data": {
            "text/plain": [
              "<IPython.core.display.Javascript object>"
            ],
            "application/javascript": [
              "download(\"download_0ce90864-1d4b-4e2d-a956-a8a017aed63b\", \"social.csv\", 297668689)"
            ]
          },
          "metadata": {}
        },
        {
          "output_type": "display_data",
          "data": {
            "text/plain": [
              "<IPython.core.display.Javascript object>"
            ],
            "application/javascript": [
              "\n",
              "    async function download(id, filename, size) {\n",
              "      if (!google.colab.kernel.accessAllowed) {\n",
              "        return;\n",
              "      }\n",
              "      const div = document.createElement('div');\n",
              "      const label = document.createElement('label');\n",
              "      label.textContent = `Downloading \"${filename}\": `;\n",
              "      div.appendChild(label);\n",
              "      const progress = document.createElement('progress');\n",
              "      progress.max = size;\n",
              "      div.appendChild(progress);\n",
              "      document.body.appendChild(div);\n",
              "\n",
              "      const buffers = [];\n",
              "      let downloaded = 0;\n",
              "\n",
              "      const channel = await google.colab.kernel.comms.open(id);\n",
              "      // Send a message to notify the kernel that we're ready.\n",
              "      channel.send({})\n",
              "\n",
              "      for await (const message of channel.messages) {\n",
              "        // Send a message to notify the kernel that we're ready.\n",
              "        channel.send({})\n",
              "        if (message.buffers) {\n",
              "          for (const buffer of message.buffers) {\n",
              "            buffers.push(buffer);\n",
              "            downloaded += buffer.byteLength;\n",
              "            progress.value = downloaded;\n",
              "          }\n",
              "        }\n",
              "      }\n",
              "      const blob = new Blob(buffers, {type: 'application/binary'});\n",
              "      const a = document.createElement('a');\n",
              "      a.href = window.URL.createObjectURL(blob);\n",
              "      a.download = filename;\n",
              "      div.appendChild(a);\n",
              "      a.click();\n",
              "      div.remove();\n",
              "    }\n",
              "  "
            ]
          },
          "metadata": {}
        },
        {
          "output_type": "display_data",
          "data": {
            "text/plain": [
              "<IPython.core.display.Javascript object>"
            ],
            "application/javascript": [
              "download(\"download_d0f844d9-2472-4ff5-a086-27584b3381cb\", \"finance.csv\", 131711256)"
            ]
          },
          "metadata": {}
        },
        {
          "output_type": "display_data",
          "data": {
            "text/plain": [
              "<IPython.core.display.Javascript object>"
            ],
            "application/javascript": [
              "\n",
              "    async function download(id, filename, size) {\n",
              "      if (!google.colab.kernel.accessAllowed) {\n",
              "        return;\n",
              "      }\n",
              "      const div = document.createElement('div');\n",
              "      const label = document.createElement('label');\n",
              "      label.textContent = `Downloading \"${filename}\": `;\n",
              "      div.appendChild(label);\n",
              "      const progress = document.createElement('progress');\n",
              "      progress.max = size;\n",
              "      div.appendChild(progress);\n",
              "      document.body.appendChild(div);\n",
              "\n",
              "      const buffers = [];\n",
              "      let downloaded = 0;\n",
              "\n",
              "      const channel = await google.colab.kernel.comms.open(id);\n",
              "      // Send a message to notify the kernel that we're ready.\n",
              "      channel.send({})\n",
              "\n",
              "      for await (const message of channel.messages) {\n",
              "        // Send a message to notify the kernel that we're ready.\n",
              "        channel.send({})\n",
              "        if (message.buffers) {\n",
              "          for (const buffer of message.buffers) {\n",
              "            buffers.push(buffer);\n",
              "            downloaded += buffer.byteLength;\n",
              "            progress.value = downloaded;\n",
              "          }\n",
              "        }\n",
              "      }\n",
              "      const blob = new Blob(buffers, {type: 'application/binary'});\n",
              "      const a = document.createElement('a');\n",
              "      a.href = window.URL.createObjectURL(blob);\n",
              "      a.download = filename;\n",
              "      div.appendChild(a);\n",
              "      a.click();\n",
              "      div.remove();\n",
              "    }\n",
              "  "
            ]
          },
          "metadata": {}
        },
        {
          "output_type": "display_data",
          "data": {
            "text/plain": [
              "<IPython.core.display.Javascript object>"
            ],
            "application/javascript": [
              "download(\"download_1057027d-3795-47e0-92e5-6da37ad36af4\", \"business.csv\", 367161051)"
            ]
          },
          "metadata": {}
        },
        {
          "output_type": "display_data",
          "data": {
            "text/plain": [
              "<IPython.core.display.Javascript object>"
            ],
            "application/javascript": [
              "\n",
              "    async function download(id, filename, size) {\n",
              "      if (!google.colab.kernel.accessAllowed) {\n",
              "        return;\n",
              "      }\n",
              "      const div = document.createElement('div');\n",
              "      const label = document.createElement('label');\n",
              "      label.textContent = `Downloading \"${filename}\": `;\n",
              "      div.appendChild(label);\n",
              "      const progress = document.createElement('progress');\n",
              "      progress.max = size;\n",
              "      div.appendChild(progress);\n",
              "      document.body.appendChild(div);\n",
              "\n",
              "      const buffers = [];\n",
              "      let downloaded = 0;\n",
              "\n",
              "      const channel = await google.colab.kernel.comms.open(id);\n",
              "      // Send a message to notify the kernel that we're ready.\n",
              "      channel.send({})\n",
              "\n",
              "      for await (const message of channel.messages) {\n",
              "        // Send a message to notify the kernel that we're ready.\n",
              "        channel.send({})\n",
              "        if (message.buffers) {\n",
              "          for (const buffer of message.buffers) {\n",
              "            buffers.push(buffer);\n",
              "            downloaded += buffer.byteLength;\n",
              "            progress.value = downloaded;\n",
              "          }\n",
              "        }\n",
              "      }\n",
              "      const blob = new Blob(buffers, {type: 'application/binary'});\n",
              "      const a = document.createElement('a');\n",
              "      a.href = window.URL.createObjectURL(blob);\n",
              "      a.download = filename;\n",
              "      div.appendChild(a);\n",
              "      a.click();\n",
              "      div.remove();\n",
              "    }\n",
              "  "
            ]
          },
          "metadata": {}
        },
        {
          "output_type": "display_data",
          "data": {
            "text/plain": [
              "<IPython.core.display.Javascript object>"
            ],
            "application/javascript": [
              "download(\"download_ec6ea418-3d98-49f6-a90f-25826b672180\", \"data.csv\", 23801521)"
            ]
          },
          "metadata": {}
        }
      ]
    },
    {
      "cell_type": "code",
      "source": [],
      "metadata": {
        "id": "oxo8kNyLVhq0"
      },
      "execution_count": null,
      "outputs": []
    },
    {
      "cell_type": "markdown",
      "source": [
        "#Part 4: Modeling\n",
        "---"
      ],
      "metadata": {
        "id": "TZPMhYsq-5H_"
      }
    },
    {
      "cell_type": "code",
      "source": [
        "# Create Corpus\n",
        "dictionary = Dictionary(test['article_tokenized'])\n",
        "corpus = [dictionary.doc2bow(text) for text in test['article_tokenized']]"
      ],
      "metadata": {
        "id": "jbhqBGYd-7yc"
      },
      "execution_count": null,
      "outputs": []
    },
    {
      "cell_type": "code",
      "source": [
        "# Model\n",
        "def lda_model(num_topics=None, topicid=None):\n",
        "  lda = LdaModel(corpus, num_topics=num_topics)\n",
        "  topic = pd.DataFrame(lda_1.get_topic_terms(topicid=1, topn=20)).rename(columns={0:'index', 1:'probability'})\n",
        "  top_20 = [dictionary[index] for index, prob in lda.get_topic_terms(topicid=topicid, topn=20)]\n",
        "  return top_20\n"
      ],
      "metadata": {
        "id": "a132VsDUr3gp"
      },
      "execution_count": null,
      "outputs": []
    },
    {
      "cell_type": "code",
      "source": [
        "lda_model(num_topics=5, topicid=0)"
      ],
      "metadata": {
        "colab": {
          "base_uri": "https://localhost:8080/"
        },
        "id": "KeuODDZvsjVY",
        "outputId": "9614d9e5-ce67-4eb3-e1fb-d1fd7790e97b"
      },
      "execution_count": null,
      "outputs": [
        {
          "output_type": "stream",
          "name": "stderr",
          "text": [
            "WARNING:gensim.models.ldamodel:no word id mapping provided; initializing from corpus, assuming identity\n",
            "WARNING:gensim.models.ldamodel:too few updates, training might not converge; consider increasing the number of passes or iterations to improve accuracy\n"
          ]
        },
        {
          "output_type": "execute_result",
          "data": {
            "text/plain": [
              "[\"'\",\n",
              " '-',\n",
              " '\"',\n",
              " 'ไทย',\n",
              " 'ทีม',\n",
              " ',',\n",
              " '2',\n",
              " '1',\n",
              " '3',\n",
              " 'ปี',\n",
              " 'วันที่',\n",
              " ')',\n",
              " '(',\n",
              " 'โควิด',\n",
              " 'คน',\n",
              " 'ล้าน',\n",
              " 'บาท',\n",
              " '4',\n",
              " '19',\n",
              " 'ทำ']"
            ]
          },
          "metadata": {},
          "execution_count": 59
        }
      ]
    },
    {
      "cell_type": "code",
      "source": [
        "# Instantiate model\n",
        "lda_1 = LdaModel(corpus, num_topics = 3)   "
      ],
      "metadata": {
        "colab": {
          "base_uri": "https://localhost:8080/"
        },
        "id": "gacoIb0TOK8R",
        "outputId": "4a7d41f8-f22f-4895-ae7e-4b1a722613f3"
      },
      "execution_count": null,
      "outputs": [
        {
          "output_type": "stream",
          "name": "stderr",
          "text": [
            "WARNING:gensim.models.ldamodel:no word id mapping provided; initializing from corpus, assuming identity\n",
            "WARNING:gensim.models.ldamodel:too few updates, training might not converge; consider increasing the number of passes or iterations to improve accuracy\n"
          ]
        }
      ]
    },
    {
      "cell_type": "code",
      "source": [
        "# See words in the 1st topic\n",
        "topic_1 = pd.DataFrame(lda_1.get_topic_terms(topicid=1, topn=20)).rename(columns={0:'index', 1:'probability'})\n",
        "topic_1"
      ],
      "metadata": {
        "colab": {
          "base_uri": "https://localhost:8080/",
          "height": 677
        },
        "id": "sWsb04CaOK_Q",
        "outputId": "4c943c87-185e-4f56-a493-f82ed1ff0298"
      },
      "execution_count": null,
      "outputs": [
        {
          "output_type": "execute_result",
          "data": {
            "text/plain": [
              "    index  probability\n",
              "0       1     0.031594\n",
              "1       0     0.013589\n",
              "2       2     0.011026\n",
              "3     279     0.005958\n",
              "4     101     0.005512\n",
              "5      37     0.005236\n",
              "6     470     0.005064\n",
              "7      78     0.004900\n",
              "8      51     0.004546\n",
              "9   34856     0.004383\n",
              "10   1096     0.004322\n",
              "11     99     0.003827\n",
              "12    231     0.003740\n",
              "13    382     0.003352\n",
              "14    209     0.003347\n",
              "15    113     0.003308\n",
              "16      6     0.003236\n",
              "17     69     0.003170\n",
              "18    364     0.003150\n",
              "19     98     0.003124"
            ],
            "text/html": [
              "\n",
              "  <div id=\"df-87b4c021-1e95-4143-8245-bf778062061c\">\n",
              "    <div class=\"colab-df-container\">\n",
              "      <div>\n",
              "<style scoped>\n",
              "    .dataframe tbody tr th:only-of-type {\n",
              "        vertical-align: middle;\n",
              "    }\n",
              "\n",
              "    .dataframe tbody tr th {\n",
              "        vertical-align: top;\n",
              "    }\n",
              "\n",
              "    .dataframe thead th {\n",
              "        text-align: right;\n",
              "    }\n",
              "</style>\n",
              "<table border=\"1\" class=\"dataframe\">\n",
              "  <thead>\n",
              "    <tr style=\"text-align: right;\">\n",
              "      <th></th>\n",
              "      <th>index</th>\n",
              "      <th>probability</th>\n",
              "    </tr>\n",
              "  </thead>\n",
              "  <tbody>\n",
              "    <tr>\n",
              "      <th>0</th>\n",
              "      <td>1</td>\n",
              "      <td>0.031594</td>\n",
              "    </tr>\n",
              "    <tr>\n",
              "      <th>1</th>\n",
              "      <td>0</td>\n",
              "      <td>0.013589</td>\n",
              "    </tr>\n",
              "    <tr>\n",
              "      <th>2</th>\n",
              "      <td>2</td>\n",
              "      <td>0.011026</td>\n",
              "    </tr>\n",
              "    <tr>\n",
              "      <th>3</th>\n",
              "      <td>279</td>\n",
              "      <td>0.005958</td>\n",
              "    </tr>\n",
              "    <tr>\n",
              "      <th>4</th>\n",
              "      <td>101</td>\n",
              "      <td>0.005512</td>\n",
              "    </tr>\n",
              "    <tr>\n",
              "      <th>5</th>\n",
              "      <td>37</td>\n",
              "      <td>0.005236</td>\n",
              "    </tr>\n",
              "    <tr>\n",
              "      <th>6</th>\n",
              "      <td>470</td>\n",
              "      <td>0.005064</td>\n",
              "    </tr>\n",
              "    <tr>\n",
              "      <th>7</th>\n",
              "      <td>78</td>\n",
              "      <td>0.004900</td>\n",
              "    </tr>\n",
              "    <tr>\n",
              "      <th>8</th>\n",
              "      <td>51</td>\n",
              "      <td>0.004546</td>\n",
              "    </tr>\n",
              "    <tr>\n",
              "      <th>9</th>\n",
              "      <td>34856</td>\n",
              "      <td>0.004383</td>\n",
              "    </tr>\n",
              "    <tr>\n",
              "      <th>10</th>\n",
              "      <td>1096</td>\n",
              "      <td>0.004322</td>\n",
              "    </tr>\n",
              "    <tr>\n",
              "      <th>11</th>\n",
              "      <td>99</td>\n",
              "      <td>0.003827</td>\n",
              "    </tr>\n",
              "    <tr>\n",
              "      <th>12</th>\n",
              "      <td>231</td>\n",
              "      <td>0.003740</td>\n",
              "    </tr>\n",
              "    <tr>\n",
              "      <th>13</th>\n",
              "      <td>382</td>\n",
              "      <td>0.003352</td>\n",
              "    </tr>\n",
              "    <tr>\n",
              "      <th>14</th>\n",
              "      <td>209</td>\n",
              "      <td>0.003347</td>\n",
              "    </tr>\n",
              "    <tr>\n",
              "      <th>15</th>\n",
              "      <td>113</td>\n",
              "      <td>0.003308</td>\n",
              "    </tr>\n",
              "    <tr>\n",
              "      <th>16</th>\n",
              "      <td>6</td>\n",
              "      <td>0.003236</td>\n",
              "    </tr>\n",
              "    <tr>\n",
              "      <th>17</th>\n",
              "      <td>69</td>\n",
              "      <td>0.003170</td>\n",
              "    </tr>\n",
              "    <tr>\n",
              "      <th>18</th>\n",
              "      <td>364</td>\n",
              "      <td>0.003150</td>\n",
              "    </tr>\n",
              "    <tr>\n",
              "      <th>19</th>\n",
              "      <td>98</td>\n",
              "      <td>0.003124</td>\n",
              "    </tr>\n",
              "  </tbody>\n",
              "</table>\n",
              "</div>\n",
              "      <button class=\"colab-df-convert\" onclick=\"convertToInteractive('df-87b4c021-1e95-4143-8245-bf778062061c')\"\n",
              "              title=\"Convert this dataframe to an interactive table.\"\n",
              "              style=\"display:none;\">\n",
              "        \n",
              "  <svg xmlns=\"http://www.w3.org/2000/svg\" height=\"24px\"viewBox=\"0 0 24 24\"\n",
              "       width=\"24px\">\n",
              "    <path d=\"M0 0h24v24H0V0z\" fill=\"none\"/>\n",
              "    <path d=\"M18.56 5.44l.94 2.06.94-2.06 2.06-.94-2.06-.94-.94-2.06-.94 2.06-2.06.94zm-11 1L8.5 8.5l.94-2.06 2.06-.94-2.06-.94L8.5 2.5l-.94 2.06-2.06.94zm10 10l.94 2.06.94-2.06 2.06-.94-2.06-.94-.94-2.06-.94 2.06-2.06.94z\"/><path d=\"M17.41 7.96l-1.37-1.37c-.4-.4-.92-.59-1.43-.59-.52 0-1.04.2-1.43.59L10.3 9.45l-7.72 7.72c-.78.78-.78 2.05 0 2.83L4 21.41c.39.39.9.59 1.41.59.51 0 1.02-.2 1.41-.59l7.78-7.78 2.81-2.81c.8-.78.8-2.07 0-2.86zM5.41 20L4 18.59l7.72-7.72 1.47 1.35L5.41 20z\"/>\n",
              "  </svg>\n",
              "      </button>\n",
              "      \n",
              "  <style>\n",
              "    .colab-df-container {\n",
              "      display:flex;\n",
              "      flex-wrap:wrap;\n",
              "      gap: 12px;\n",
              "    }\n",
              "\n",
              "    .colab-df-convert {\n",
              "      background-color: #E8F0FE;\n",
              "      border: none;\n",
              "      border-radius: 50%;\n",
              "      cursor: pointer;\n",
              "      display: none;\n",
              "      fill: #1967D2;\n",
              "      height: 32px;\n",
              "      padding: 0 0 0 0;\n",
              "      width: 32px;\n",
              "    }\n",
              "\n",
              "    .colab-df-convert:hover {\n",
              "      background-color: #E2EBFA;\n",
              "      box-shadow: 0px 1px 2px rgba(60, 64, 67, 0.3), 0px 1px 3px 1px rgba(60, 64, 67, 0.15);\n",
              "      fill: #174EA6;\n",
              "    }\n",
              "\n",
              "    [theme=dark] .colab-df-convert {\n",
              "      background-color: #3B4455;\n",
              "      fill: #D2E3FC;\n",
              "    }\n",
              "\n",
              "    [theme=dark] .colab-df-convert:hover {\n",
              "      background-color: #434B5C;\n",
              "      box-shadow: 0px 1px 3px 1px rgba(0, 0, 0, 0.15);\n",
              "      filter: drop-shadow(0px 1px 2px rgba(0, 0, 0, 0.3));\n",
              "      fill: #FFFFFF;\n",
              "    }\n",
              "  </style>\n",
              "\n",
              "      <script>\n",
              "        const buttonEl =\n",
              "          document.querySelector('#df-87b4c021-1e95-4143-8245-bf778062061c button.colab-df-convert');\n",
              "        buttonEl.style.display =\n",
              "          google.colab.kernel.accessAllowed ? 'block' : 'none';\n",
              "\n",
              "        async function convertToInteractive(key) {\n",
              "          const element = document.querySelector('#df-87b4c021-1e95-4143-8245-bf778062061c');\n",
              "          const dataTable =\n",
              "            await google.colab.kernel.invokeFunction('convertToInteractive',\n",
              "                                                     [key], {});\n",
              "          if (!dataTable) return;\n",
              "\n",
              "          const docLinkHtml = 'Like what you see? Visit the ' +\n",
              "            '<a target=\"_blank\" href=https://colab.research.google.com/notebooks/data_table.ipynb>data table notebook</a>'\n",
              "            + ' to learn more about interactive tables.';\n",
              "          element.innerHTML = '';\n",
              "          dataTable['output_type'] = 'display_data';\n",
              "          await google.colab.output.renderOutput(dataTable, element);\n",
              "          const docLink = document.createElement('div');\n",
              "          docLink.innerHTML = docLinkHtml;\n",
              "          element.appendChild(docLink);\n",
              "        }\n",
              "      </script>\n",
              "    </div>\n",
              "  </div>\n",
              "  "
            ]
          },
          "metadata": {},
          "execution_count": 55
        }
      ]
    },
    {
      "cell_type": "code",
      "source": [
        "topic_1 = topic_1.rename(columns={0:'index', 1:'probability'})\n",
        "type(topic_1)"
      ],
      "metadata": {
        "colab": {
          "base_uri": "https://localhost:8080/"
        },
        "id": "4rp4iYwEOLB0",
        "outputId": "9812dc2b-6305-49df-a556-e21aebbaeb68"
      },
      "execution_count": null,
      "outputs": [
        {
          "output_type": "execute_result",
          "data": {
            "text/plain": [
              "pandas.core.frame.DataFrame"
            ]
          },
          "metadata": {},
          "execution_count": 44
        }
      ]
    },
    {
      "cell_type": "code",
      "source": [
        "topic_1_test = lda_1.show_topics(formatted=False)\n",
        "topic_1_test"
      ],
      "metadata": {
        "colab": {
          "base_uri": "https://localhost:8080/"
        },
        "id": "CaBSTwTEOLES",
        "outputId": "097ff1e0-d504-4fbc-ae99-d5e3099c74cc"
      },
      "execution_count": null,
      "outputs": [
        {
          "output_type": "execute_result",
          "data": {
            "text/plain": [
              "[(0,\n",
              "  [('1', 0.021037055),\n",
              "   ('0', 0.012165701),\n",
              "   ('621', 0.007095062),\n",
              "   ('98', 0.006489503),\n",
              "   ('99', 0.0061611314),\n",
              "   ('69', 0.0058810534),\n",
              "   ('2', 0.005835319),\n",
              "   ('231', 0.005793298),\n",
              "   ('101', 0.005258681),\n",
              "   ('279', 0.0051404457)]),\n",
              " (1,\n",
              "  [('1', 0.031594224),\n",
              "   ('0', 0.01358872),\n",
              "   ('2', 0.011025867),\n",
              "   ('279', 0.005958481),\n",
              "   ('101', 0.0055115186),\n",
              "   ('37', 0.0052360413),\n",
              "   ('470', 0.0050639906),\n",
              "   ('78', 0.004900142),\n",
              "   ('51', 0.004546382),\n",
              "   ('34856', 0.0043827933)]),\n",
              " (2,\n",
              "  [('1', 0.034448985),\n",
              "   ('113', 0.013822185),\n",
              "   ('37', 0.013489862),\n",
              "   ('97', 0.013275735),\n",
              "   ('209', 0.011586499),\n",
              "   ('2', 0.010790966),\n",
              "   ('46', 0.010138918),\n",
              "   ('98', 0.009765995),\n",
              "   ('99', 0.009626163),\n",
              "   ('0', 0.007961102)])]"
            ]
          },
          "metadata": {},
          "execution_count": 53
        }
      ]
    },
    {
      "cell_type": "code",
      "source": [
        "top20_1 = [dictionary[index] for index, prob in lda_1.get_topic_terms(topicid=0, topn=20)]"
      ],
      "metadata": {
        "id": "r8AIDkd3UYhR"
      },
      "execution_count": null,
      "outputs": []
    },
    {
      "cell_type": "code",
      "source": [
        "top20_1"
      ],
      "metadata": {
        "colab": {
          "base_uri": "https://localhost:8080/"
        },
        "id": "K2cxjzhvUfmS",
        "outputId": "40294e8c-fbc7-4709-9a6c-7915097cec55"
      },
      "execution_count": null,
      "outputs": [
        {
          "output_type": "execute_result",
          "data": {
            "text/plain": [
              "[\"'\",\n",
              " '\"',\n",
              " '.',\n",
              " '(',\n",
              " ')',\n",
              " 'เรื่อง',\n",
              " '-',\n",
              " 'ไทย',\n",
              " '1',\n",
              " 'คน',\n",
              " '2',\n",
              " '3',\n",
              " 'ทำ',\n",
              " 'ประเทศ',\n",
              " '/',\n",
              " 'ปี',\n",
              " 'พื้นที่',\n",
              " 'ประชาชน',\n",
              " 'อ.',\n",
              " '5']"
            ]
          },
          "metadata": {},
          "execution_count": 50
        }
      ]
    },
    {
      "cell_type": "code",
      "source": [
        "top20_2 = [dictionary[index] for index, prob in lda_1.get_topic_terms(topicid=1, topn=20)]\n",
        "\n",
        "top20_2"
      ],
      "metadata": {
        "colab": {
          "base_uri": "https://localhost:8080/"
        },
        "id": "mQsAgckjUqMr",
        "outputId": "38bd6a3c-9304-4876-91df-e6f2cd543b94"
      },
      "execution_count": null,
      "outputs": [
        {
          "output_type": "execute_result",
          "data": {
            "text/plain": [
              "[\"'\",\n",
              " '\"',\n",
              " '-',\n",
              " 'คน',\n",
              " '1',\n",
              " 'ปี',\n",
              " '2',\n",
              " '3',\n",
              " 'วันที่',\n",
              " 'โควิด',\n",
              " 'ทีม',\n",
              " ')',\n",
              " 'ไทย',\n",
              " ',',\n",
              " 'ล้าน',\n",
              " 'บาท',\n",
              " '4',\n",
              " 'เรื่อง',\n",
              " 'เดินทาง',\n",
              " '(']"
            ]
          },
          "metadata": {},
          "execution_count": 51
        }
      ]
    },
    {
      "cell_type": "code",
      "source": [
        "top20_3 = [dictionary[index] for index, prob in lda_1.get_topic_terms(topicid=2, topn=20)]\n",
        "\n",
        "top20_3"
      ],
      "metadata": {
        "colab": {
          "base_uri": "https://localhost:8080/"
        },
        "id": "c3z8mY1_UqO5",
        "outputId": "6372b38f-18be-442a-efdb-35e133f5da99"
      },
      "execution_count": null,
      "outputs": [
        {
          "output_type": "execute_result",
          "data": {
            "text/plain": [
              "[\"'\",\n",
              " 'บาท',\n",
              " 'ปี',\n",
              " '%',\n",
              " 'ล้าน',\n",
              " '-',\n",
              " 'ราคา',\n",
              " '(',\n",
              " ')',\n",
              " '\"',\n",
              " 'ไทย',\n",
              " 'คาด',\n",
              " 'บริษัท',\n",
              " '3',\n",
              " 'ลดลง',\n",
              " 'หุ้น',\n",
              " 'ซื้อ',\n",
              " 'ตลาด',\n",
              " '1',\n",
              " 'เศรษฐกิจ']"
            ]
          },
          "metadata": {},
          "execution_count": 52
        }
      ]
    },
    {
      "cell_type": "code",
      "source": [],
      "metadata": {
        "id": "vrfQolmBOLG6"
      },
      "execution_count": null,
      "outputs": []
    },
    {
      "cell_type": "code",
      "source": [],
      "metadata": {
        "id": "8NyUaOQSp6na"
      },
      "execution_count": null,
      "outputs": []
    },
    {
      "cell_type": "code",
      "source": [],
      "metadata": {
        "id": "ralPN1S5p6qH"
      },
      "execution_count": null,
      "outputs": []
    },
    {
      "cell_type": "code",
      "source": [],
      "metadata": {
        "id": "5Me85Kayp6s_"
      },
      "execution_count": null,
      "outputs": []
    },
    {
      "cell_type": "code",
      "source": [
        "# Evaluation: perplexity"
      ],
      "metadata": {
        "id": "nKAx-ZCWp6wH"
      },
      "execution_count": null,
      "outputs": []
    },
    {
      "cell_type": "code",
      "source": [],
      "metadata": {
        "id": "wncfHY50_NlX"
      },
      "execution_count": null,
      "outputs": []
    }
  ]
}