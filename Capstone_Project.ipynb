{
  "nbformat": 4,
  "nbformat_minor": 0,
  "metadata": {
    "colab": {
      "provenance": [],
      "collapsed_sections": [],
      "authorship_tag": "ABX9TyN33316p/pcfwclRcOYsJ+G",
      "include_colab_link": true
    },
    "kernelspec": {
      "name": "python3",
      "display_name": "Python 3"
    },
    "language_info": {
      "name": "python"
    }
  },
  "cells": [
    {
      "cell_type": "markdown",
      "metadata": {
        "id": "view-in-github",
        "colab_type": "text"
      },
      "source": [
        "<a href=\"https://colab.research.google.com/github/pichayaanik/Capstone_PichayaAnik/blob/main/Capstone_Project.ipynb\" target=\"_parent\"><img src=\"https://colab.research.google.com/assets/colab-badge.svg\" alt=\"Open In Colab\"/></a>"
      ]
    },
    {
      "cell_type": "markdown",
      "source": [
        "#**Discovering Key-Drivers for Boosting Thailand's Digital Competitiveness Index Using an NLP Approach**\n",
        "---\n",
        "Pichaya Charoonpongsakdi (Anik) <br>\n",
        "GA-TDA DSI Capstone Project"
      ],
      "metadata": {
        "id": "hvB1C-uB3G37"
      }
    },
    {
      "cell_type": "markdown",
      "source": [
        "# Part 1: Problem Statement\n",
        "---"
      ],
      "metadata": {
        "id": "_YCaEDpM-W3f"
      }
    },
    {
      "cell_type": "markdown",
      "source": [
        "#Part 2: Data Wrangling\n",
        "---\n"
      ],
      "metadata": {
        "id": "MdLQeVRj-bT9"
      }
    },
    {
      "cell_type": "markdown",
      "source": [
        "##2.0 Install and Import Libraries"
      ],
      "metadata": {
        "id": "E_jn0I5k61H8"
      }
    },
    {
      "cell_type": "code",
      "source": [
        "# Install pythainlp library\n",
        "!pip install pythainlp"
      ],
      "metadata": {
        "colab": {
          "base_uri": "https://localhost:8080/"
        },
        "id": "iuGczBIL6b7p",
        "outputId": "01bd1719-8122-40ab-a0f0-15478579ae39"
      },
      "execution_count": 1,
      "outputs": [
        {
          "output_type": "stream",
          "name": "stdout",
          "text": [
            "Looking in indexes: https://pypi.org/simple, https://us-python.pkg.dev/colab-wheels/public/simple/\n",
            "Collecting pythainlp\n",
            "  Downloading pythainlp-3.1.1-py3-none-any.whl (9.6 MB)\n",
            "\u001b[K     |████████████████████████████████| 9.6 MB 7.7 MB/s \n",
            "\u001b[?25hRequirement already satisfied: requests>=2.22.0 in /usr/local/lib/python3.7/dist-packages (from pythainlp) (2.23.0)\n",
            "Requirement already satisfied: certifi>=2017.4.17 in /usr/local/lib/python3.7/dist-packages (from requests>=2.22.0->pythainlp) (2022.9.24)\n",
            "Requirement already satisfied: idna<3,>=2.5 in /usr/local/lib/python3.7/dist-packages (from requests>=2.22.0->pythainlp) (2.10)\n",
            "Requirement already satisfied: chardet<4,>=3.0.2 in /usr/local/lib/python3.7/dist-packages (from requests>=2.22.0->pythainlp) (3.0.4)\n",
            "Requirement already satisfied: urllib3!=1.25.0,!=1.25.1,<1.26,>=1.21.1 in /usr/local/lib/python3.7/dist-packages (from requests>=2.22.0->pythainlp) (1.24.3)\n",
            "Installing collected packages: pythainlp\n",
            "Successfully installed pythainlp-3.1.1\n"
          ]
        }
      ]
    },
    {
      "cell_type": "code",
      "execution_count": 2,
      "metadata": {
        "id": "uVC6prvN2kE1"
      },
      "outputs": [],
      "source": [
        "# Import Basic Libraries\n",
        "import pandas as pd\n",
        "import numpy as np\n",
        "import matplotlib as mpl\n",
        "import matplotlib.pyplot as plt\n",
        "import seaborn as sns\n",
        "\n",
        "# Import Sklearn Libraries\n",
        "from sklearn.model_selection import train_test_split, GridSearchCV\n",
        "from sklearn.pipeline import Pipeline\n",
        "from sklearn.naive_bayes import MultinomialNB\n",
        "from sklearn.linear_model import LogisticRegression\n",
        "from sklearn.metrics import confusion_matrix, plot_confusion_matrix\n",
        "from sklearn.feature_extraction.text import CountVectorizer, TfidfVectorizer\n",
        "\n",
        "# Import NLP Libraries\n",
        "from nltk.tokenize import sent_tokenize, word_tokenize, RegexpTokenizer\n",
        "from nltk.stem import WordNetLemmatizer\n",
        "from nltk.stem.porter import PorterStemmer\n",
        "from nltk.corpus import stopwords\n",
        "from nltk.sentiment.vader import SentimentIntensityAnalyzer\n",
        "from gensim.models import LdaModel\n",
        "from gensim.corpora.dictionary import Dictionary\n",
        "from pythainlp.tokenize import sent_tokenize, word_tokenize\n",
        "from pythainlp.corpus import thai_stopwords\n",
        "import re"
      ]
    },
    {
      "cell_type": "code",
      "source": [
        "# Download TH Sarabun (Thai font)\n",
        "!gdown 1rZSpiIh6fTeaDPOCKvamgtlR3qN2UQEl"
      ],
      "metadata": {
        "colab": {
          "base_uri": "https://localhost:8080/"
        },
        "id": "X4Cg3VbEnPkX",
        "outputId": "a3ac41be-e9c8-4ce5-f8e1-fd5e0a340330"
      },
      "execution_count": 3,
      "outputs": [
        {
          "output_type": "stream",
          "name": "stdout",
          "text": [
            "Downloading...\n",
            "From: https://drive.google.com/uc?id=1rZSpiIh6fTeaDPOCKvamgtlR3qN2UQEl\n",
            "To: /content/THSarabunNew.ttf\n",
            "\r  0% 0.00/474k [00:00<?, ?B/s]\r100% 474k/474k [00:00<00:00, 79.4MB/s]\n"
          ]
        }
      ]
    },
    {
      "cell_type": "code",
      "source": [
        "# Set TH Sarabun as default Thai font\n",
        "mpl.font_manager.fontManager.addfont('/content/THSarabunNew.ttf')\n",
        "mpl.rc('font', family='TH Sarabun New', size=20)"
      ],
      "metadata": {
        "id": "6xVp8i3LnsdG"
      },
      "execution_count": 4,
      "outputs": []
    },
    {
      "cell_type": "markdown",
      "source": [
        "##2.1 Load Datasets"
      ],
      "metadata": {
        "id": "3VUqPju87Jtw"
      }
    },
    {
      "cell_type": "code",
      "source": [
        "# Download datasets from Google Drive\n",
        "!gdown 1BQtzBne72ML1OoJG46IbYQ_v9pUrOq1K"
      ],
      "metadata": {
        "colab": {
          "base_uri": "https://localhost:8080/"
        },
        "id": "-FzQJ6VE2qo9",
        "outputId": "941c3cd0-29ac-42f0-e47b-46281b1e03ae"
      },
      "execution_count": 5,
      "outputs": [
        {
          "output_type": "stream",
          "name": "stdout",
          "text": [
            "Downloading...\n",
            "From: https://drive.google.com/uc?id=1BQtzBne72ML1OoJG46IbYQ_v9pUrOq1K\n",
            "To: /content/bkkbiz_update.json\n",
            "100% 2.29G/2.29G [00:20<00:00, 111MB/s]\n"
          ]
        }
      ]
    },
    {
      "cell_type": "code",
      "source": [
        "# Import datasets\n",
        "bkkbiz = pd.read_json('/content/bkkbiz_update.json')"
      ],
      "metadata": {
        "id": "tdcTZAzo6Lrh"
      },
      "execution_count": 6,
      "outputs": []
    },
    {
      "cell_type": "code",
      "source": [
        "# Check head\n",
        "bkkbiz.head()"
      ],
      "metadata": {
        "colab": {
          "base_uri": "https://localhost:8080/",
          "height": 337
        },
        "id": "R2FdTyRuQwHl",
        "outputId": "10c51e4b-c64b-4548-c00d-7ade85b49581"
      },
      "execution_count": 7,
      "outputs": [
        {
          "output_type": "execute_result",
          "data": {
            "text/plain": [
              "       ID                date          category  \\\n",
              "0  620001 2014-11-27 08:01:00        ต่างประเทศ   \n",
              "1  620002 2014-11-27 08:20:00        ต่างประเทศ   \n",
              "2  620009 2014-11-27 09:34:00  การเงิน-การลงทุน   \n",
              "3  620010 2014-11-27 09:36:00  การเงิน-การลงทุน   \n",
              "4  620011 2014-11-27 09:48:00  การเงิน-การลงทุน   \n",
              "\n",
              "                                     title  \\\n",
              "0  น้ำมันดิบปิดร่วง-คาดโอเปคไม่ลดกำลังผลิต   \n",
              "1   ทองคำปิดร่วงหลังสหรัฐเผยข้อมูลเศรษฐกิจ   \n",
              "2      ทองแท่งขายออก18,600บ.ไม่เปลี่ยนแปลง   \n",
              "3           เงินบาทเปิด32.75/77คาดแกว่งแคบ   \n",
              "4                 คาดหุ้นเช้าแกว่งไซด์เวย์   \n",
              "\n",
              "                                         description  \\\n",
              "0  น้ำมันดิบปิดร่วงแตะระดับต่ำสุดในรอบ 4 ปี-คาดโอ...   \n",
              "1  สัญญาทองคำตลาดล่วงหน้าสหรัฐ ปิดปรับตัวลงเล็กน้...   \n",
              "2  ราคาทองคำวันนี้ทองแท่งขายออกบาทละ 18,600 บาท ท...   \n",
              "3  ค่าเงินบาทเปิดที่ 32.75/77 บาท/ดอลลาร์ คาดแกว่...   \n",
              "4  โบรกฯ คาดหุ้นเช้านี้แกว่งไซด์เวย์ช่วงไร้ปัจจัย...   \n",
              "\n",
              "                                             article  \\\n",
              "0  สัญญาน้ำมันดิบตลาดล่วงหน้าสหรัฐ ปิดตลาดปรับตัว...   \n",
              "1  สัญญาทองคำตลาดล่วงหน้าสหรัฐ ปิดปรับตัวลงเล็กน้...   \n",
              "2  สมาคมค้าทองคำรายงานราคาทอง 96.5% ประจำวันที่ 2...   \n",
              "3  นักบริหารเงินจากธนาคารพาณิชย์ เปิดเผยว่า เงินบ...   \n",
              "4  นายอภิชาติ ผู้บรรเจิดกุล ผู้อำนวยการสายงานวิเค...   \n",
              "\n",
              "                                                 url  \n",
              "0  https://www.bangkokbiznews.com/news/detail/620001  \n",
              "1  https://www.bangkokbiznews.com/news/detail/620002  \n",
              "2  https://www.bangkokbiznews.com/news/detail/620009  \n",
              "3  https://www.bangkokbiznews.com/news/detail/620010  \n",
              "4  https://www.bangkokbiznews.com/news/detail/620011  "
            ],
            "text/html": [
              "\n",
              "  <div id=\"df-b730bac6-f7d1-4f50-b889-a46adecb7aa9\">\n",
              "    <div class=\"colab-df-container\">\n",
              "      <div>\n",
              "<style scoped>\n",
              "    .dataframe tbody tr th:only-of-type {\n",
              "        vertical-align: middle;\n",
              "    }\n",
              "\n",
              "    .dataframe tbody tr th {\n",
              "        vertical-align: top;\n",
              "    }\n",
              "\n",
              "    .dataframe thead th {\n",
              "        text-align: right;\n",
              "    }\n",
              "</style>\n",
              "<table border=\"1\" class=\"dataframe\">\n",
              "  <thead>\n",
              "    <tr style=\"text-align: right;\">\n",
              "      <th></th>\n",
              "      <th>ID</th>\n",
              "      <th>date</th>\n",
              "      <th>category</th>\n",
              "      <th>title</th>\n",
              "      <th>description</th>\n",
              "      <th>article</th>\n",
              "      <th>url</th>\n",
              "    </tr>\n",
              "  </thead>\n",
              "  <tbody>\n",
              "    <tr>\n",
              "      <th>0</th>\n",
              "      <td>620001</td>\n",
              "      <td>2014-11-27 08:01:00</td>\n",
              "      <td>ต่างประเทศ</td>\n",
              "      <td>น้ำมันดิบปิดร่วง-คาดโอเปคไม่ลดกำลังผลิต</td>\n",
              "      <td>น้ำมันดิบปิดร่วงแตะระดับต่ำสุดในรอบ 4 ปี-คาดโอ...</td>\n",
              "      <td>สัญญาน้ำมันดิบตลาดล่วงหน้าสหรัฐ ปิดตลาดปรับตัว...</td>\n",
              "      <td>https://www.bangkokbiznews.com/news/detail/620001</td>\n",
              "    </tr>\n",
              "    <tr>\n",
              "      <th>1</th>\n",
              "      <td>620002</td>\n",
              "      <td>2014-11-27 08:20:00</td>\n",
              "      <td>ต่างประเทศ</td>\n",
              "      <td>ทองคำปิดร่วงหลังสหรัฐเผยข้อมูลเศรษฐกิจ</td>\n",
              "      <td>สัญญาทองคำตลาดล่วงหน้าสหรัฐ ปิดปรับตัวลงเล็กน้...</td>\n",
              "      <td>สัญญาทองคำตลาดล่วงหน้าสหรัฐ ปิดปรับตัวลงเล็กน้...</td>\n",
              "      <td>https://www.bangkokbiznews.com/news/detail/620002</td>\n",
              "    </tr>\n",
              "    <tr>\n",
              "      <th>2</th>\n",
              "      <td>620009</td>\n",
              "      <td>2014-11-27 09:34:00</td>\n",
              "      <td>การเงิน-การลงทุน</td>\n",
              "      <td>ทองแท่งขายออก18,600บ.ไม่เปลี่ยนแปลง</td>\n",
              "      <td>ราคาทองคำวันนี้ทองแท่งขายออกบาทละ 18,600 บาท ท...</td>\n",
              "      <td>สมาคมค้าทองคำรายงานราคาทอง 96.5% ประจำวันที่ 2...</td>\n",
              "      <td>https://www.bangkokbiznews.com/news/detail/620009</td>\n",
              "    </tr>\n",
              "    <tr>\n",
              "      <th>3</th>\n",
              "      <td>620010</td>\n",
              "      <td>2014-11-27 09:36:00</td>\n",
              "      <td>การเงิน-การลงทุน</td>\n",
              "      <td>เงินบาทเปิด32.75/77คาดแกว่งแคบ</td>\n",
              "      <td>ค่าเงินบาทเปิดที่ 32.75/77 บาท/ดอลลาร์ คาดแกว่...</td>\n",
              "      <td>นักบริหารเงินจากธนาคารพาณิชย์ เปิดเผยว่า เงินบ...</td>\n",
              "      <td>https://www.bangkokbiznews.com/news/detail/620010</td>\n",
              "    </tr>\n",
              "    <tr>\n",
              "      <th>4</th>\n",
              "      <td>620011</td>\n",
              "      <td>2014-11-27 09:48:00</td>\n",
              "      <td>การเงิน-การลงทุน</td>\n",
              "      <td>คาดหุ้นเช้าแกว่งไซด์เวย์</td>\n",
              "      <td>โบรกฯ คาดหุ้นเช้านี้แกว่งไซด์เวย์ช่วงไร้ปัจจัย...</td>\n",
              "      <td>นายอภิชาติ ผู้บรรเจิดกุล ผู้อำนวยการสายงานวิเค...</td>\n",
              "      <td>https://www.bangkokbiznews.com/news/detail/620011</td>\n",
              "    </tr>\n",
              "  </tbody>\n",
              "</table>\n",
              "</div>\n",
              "      <button class=\"colab-df-convert\" onclick=\"convertToInteractive('df-b730bac6-f7d1-4f50-b889-a46adecb7aa9')\"\n",
              "              title=\"Convert this dataframe to an interactive table.\"\n",
              "              style=\"display:none;\">\n",
              "        \n",
              "  <svg xmlns=\"http://www.w3.org/2000/svg\" height=\"24px\"viewBox=\"0 0 24 24\"\n",
              "       width=\"24px\">\n",
              "    <path d=\"M0 0h24v24H0V0z\" fill=\"none\"/>\n",
              "    <path d=\"M18.56 5.44l.94 2.06.94-2.06 2.06-.94-2.06-.94-.94-2.06-.94 2.06-2.06.94zm-11 1L8.5 8.5l.94-2.06 2.06-.94-2.06-.94L8.5 2.5l-.94 2.06-2.06.94zm10 10l.94 2.06.94-2.06 2.06-.94-2.06-.94-.94-2.06-.94 2.06-2.06.94z\"/><path d=\"M17.41 7.96l-1.37-1.37c-.4-.4-.92-.59-1.43-.59-.52 0-1.04.2-1.43.59L10.3 9.45l-7.72 7.72c-.78.78-.78 2.05 0 2.83L4 21.41c.39.39.9.59 1.41.59.51 0 1.02-.2 1.41-.59l7.78-7.78 2.81-2.81c.8-.78.8-2.07 0-2.86zM5.41 20L4 18.59l7.72-7.72 1.47 1.35L5.41 20z\"/>\n",
              "  </svg>\n",
              "      </button>\n",
              "      \n",
              "  <style>\n",
              "    .colab-df-container {\n",
              "      display:flex;\n",
              "      flex-wrap:wrap;\n",
              "      gap: 12px;\n",
              "    }\n",
              "\n",
              "    .colab-df-convert {\n",
              "      background-color: #E8F0FE;\n",
              "      border: none;\n",
              "      border-radius: 50%;\n",
              "      cursor: pointer;\n",
              "      display: none;\n",
              "      fill: #1967D2;\n",
              "      height: 32px;\n",
              "      padding: 0 0 0 0;\n",
              "      width: 32px;\n",
              "    }\n",
              "\n",
              "    .colab-df-convert:hover {\n",
              "      background-color: #E2EBFA;\n",
              "      box-shadow: 0px 1px 2px rgba(60, 64, 67, 0.3), 0px 1px 3px 1px rgba(60, 64, 67, 0.15);\n",
              "      fill: #174EA6;\n",
              "    }\n",
              "\n",
              "    [theme=dark] .colab-df-convert {\n",
              "      background-color: #3B4455;\n",
              "      fill: #D2E3FC;\n",
              "    }\n",
              "\n",
              "    [theme=dark] .colab-df-convert:hover {\n",
              "      background-color: #434B5C;\n",
              "      box-shadow: 0px 1px 3px 1px rgba(0, 0, 0, 0.15);\n",
              "      filter: drop-shadow(0px 1px 2px rgba(0, 0, 0, 0.3));\n",
              "      fill: #FFFFFF;\n",
              "    }\n",
              "  </style>\n",
              "\n",
              "      <script>\n",
              "        const buttonEl =\n",
              "          document.querySelector('#df-b730bac6-f7d1-4f50-b889-a46adecb7aa9 button.colab-df-convert');\n",
              "        buttonEl.style.display =\n",
              "          google.colab.kernel.accessAllowed ? 'block' : 'none';\n",
              "\n",
              "        async function convertToInteractive(key) {\n",
              "          const element = document.querySelector('#df-b730bac6-f7d1-4f50-b889-a46adecb7aa9');\n",
              "          const dataTable =\n",
              "            await google.colab.kernel.invokeFunction('convertToInteractive',\n",
              "                                                     [key], {});\n",
              "          if (!dataTable) return;\n",
              "\n",
              "          const docLinkHtml = 'Like what you see? Visit the ' +\n",
              "            '<a target=\"_blank\" href=https://colab.research.google.com/notebooks/data_table.ipynb>data table notebook</a>'\n",
              "            + ' to learn more about interactive tables.';\n",
              "          element.innerHTML = '';\n",
              "          dataTable['output_type'] = 'display_data';\n",
              "          await google.colab.output.renderOutput(dataTable, element);\n",
              "          const docLink = document.createElement('div');\n",
              "          docLink.innerHTML = docLinkHtml;\n",
              "          element.appendChild(docLink);\n",
              "        }\n",
              "      </script>\n",
              "    </div>\n",
              "  </div>\n",
              "  "
            ]
          },
          "metadata": {},
          "execution_count": 7
        }
      ]
    },
    {
      "cell_type": "markdown",
      "source": [
        "##2.2 Data Cleaning\n"
      ],
      "metadata": {
        "id": "apZrKWjH-oVZ"
      }
    },
    {
      "cell_type": "code",
      "source": [
        "# Check shape\n",
        "bkkbiz.shape"
      ],
      "metadata": {
        "colab": {
          "base_uri": "https://localhost:8080/"
        },
        "id": "CJ63tNFvPqAj",
        "outputId": "57440c97-033d-4eda-e86e-c83703751a18"
      },
      "execution_count": 10,
      "outputs": [
        {
          "output_type": "execute_result",
          "data": {
            "text/plain": [
              "(361228, 7)"
            ]
          },
          "metadata": {},
          "execution_count": 10
        }
      ]
    },
    {
      "cell_type": "code",
      "source": [
        "# Convert column heads to lower case\n",
        "bkkbiz.columns.str.lower()"
      ],
      "metadata": {
        "colab": {
          "base_uri": "https://localhost:8080/"
        },
        "id": "pkLPhQPkVRjm",
        "outputId": "8e9666ff-94cc-48c3-ce48-375fc8a211b6"
      },
      "execution_count": 8,
      "outputs": [
        {
          "output_type": "execute_result",
          "data": {
            "text/plain": [
              "Index(['id', 'date', 'category', 'title', 'description', 'article', 'url'], dtype='object')"
            ]
          },
          "metadata": {},
          "execution_count": 8
        }
      ]
    },
    {
      "cell_type": "code",
      "source": [
        "# Check dtypes\n",
        "bkkbiz.dtypes"
      ],
      "metadata": {
        "colab": {
          "base_uri": "https://localhost:8080/"
        },
        "id": "5G2uP45-PqC6",
        "outputId": "e568039c-3a2a-4aaa-80d5-556c703a0ee2"
      },
      "execution_count": 9,
      "outputs": [
        {
          "output_type": "execute_result",
          "data": {
            "text/plain": [
              "ID                      int64\n",
              "date           datetime64[ns]\n",
              "category               object\n",
              "title                  object\n",
              "description            object\n",
              "article                object\n",
              "url                    object\n",
              "dtype: object"
            ]
          },
          "metadata": {},
          "execution_count": 9
        }
      ]
    },
    {
      "cell_type": "code",
      "source": [
        "# Check nulls\n",
        "bkkbiz.isnull().sum()"
      ],
      "metadata": {
        "colab": {
          "base_uri": "https://localhost:8080/"
        },
        "id": "V33syHEfPqF6",
        "outputId": "223cc17e-a248-41cc-a3f2-04fb02fa872b"
      },
      "execution_count": 11,
      "outputs": [
        {
          "output_type": "execute_result",
          "data": {
            "text/plain": [
              "ID             0\n",
              "date           0\n",
              "category       0\n",
              "title          0\n",
              "description    0\n",
              "article        0\n",
              "url            0\n",
              "dtype: int64"
            ]
          },
          "metadata": {},
          "execution_count": 11
        }
      ]
    },
    {
      "cell_type": "code",
      "source": [
        "# Check duplicate rows\n",
        "set([bkkbiz['title'].value_counts().count(),\n",
        "     bkkbiz['description'].value_counts().count(), \n",
        "     bkkbiz['article'].value_counts().count(), \n",
        "     bkkbiz.shape[0]])"
      ],
      "metadata": {
        "colab": {
          "base_uri": "https://localhost:8080/"
        },
        "id": "fHq7gLmfa7nG",
        "outputId": "071a5aa2-8066-4649-eeff-87012f2ed131"
      },
      "execution_count": 12,
      "outputs": [
        {
          "output_type": "execute_result",
          "data": {
            "text/plain": [
              "{337402, 352490, 354923, 361228}"
            ]
          },
          "metadata": {},
          "execution_count": 12
        }
      ]
    },
    {
      "cell_type": "code",
      "source": [
        "# Check deplicates\n",
        "bkkbiz['article'].value_counts().count(), bkkbiz['article'].isnull().sum()"
      ],
      "metadata": {
        "colab": {
          "base_uri": "https://localhost:8080/"
        },
        "id": "PGlyBg1sa1hp",
        "outputId": "de34d6fd-a3ce-4681-d186-48fa889d3469"
      },
      "execution_count": 13,
      "outputs": [
        {
          "output_type": "execute_result",
          "data": {
            "text/plain": [
              "(337402, 0)"
            ]
          },
          "metadata": {},
          "execution_count": 13
        }
      ]
    },
    {
      "cell_type": "markdown",
      "source": [
        "#EDA - overall\n",
        "---"
      ],
      "metadata": {
        "id": "5qBr-7XDf2KC"
      }
    },
    {
      "cell_type": "code",
      "source": [
        "bkkbiz.columns"
      ],
      "metadata": {
        "colab": {
          "base_uri": "https://localhost:8080/"
        },
        "id": "lvBaKo6wgqXX",
        "outputId": "dcbb7db4-0f66-42c2-f1ce-92fbad14f143"
      },
      "execution_count": 14,
      "outputs": [
        {
          "output_type": "execute_result",
          "data": {
            "text/plain": [
              "Index(['ID', 'date', 'category', 'title', 'description', 'article', 'url'], dtype='object')"
            ]
          },
          "metadata": {},
          "execution_count": 14
        }
      ]
    },
    {
      "cell_type": "code",
      "source": [
        "# Number of article in each subcategory\n",
        "bkkbiz['category'].value_counts().sort_values(ascending=False)"
      ],
      "metadata": {
        "colab": {
          "base_uri": "https://localhost:8080/"
        },
        "id": "PqFNA3AHf5cd",
        "outputId": "9148e256-595b-4ee3-a07c-fc682655125d"
      },
      "execution_count": 15,
      "outputs": [
        {
          "output_type": "execute_result",
          "data": {
            "text/plain": [
              "การเมือง              105331\n",
              "การเงิน-การลงทุน       55041\n",
              "ต่างประเทศ             42309\n",
              "เศรษฐกิจ               35453\n",
              "ไลฟ์สไตล์              24044\n",
              "คุณภาพชีวิต-สังคม      18520\n",
              "การเงิน                17742\n",
              "ธุรกิจ                 16344\n",
              "ทั่วไป                 15901\n",
              "Data Analysis           3630\n",
              "หุ้น                    3240\n",
              "สาธารณสุข               2560\n",
              "ประชาสัมพันธ์           2474\n",
              "IT & gadget             1964\n",
              "คอลัมนิสต์              1609\n",
              "Bizweek                 1541\n",
              "ข่าวพระราชสำนัก         1333\n",
              "อสังหาริมทรัพย์         1331\n",
              "ข่าวในพระราชสำนัก       1292\n",
              "บันเทิง                 1286\n",
              "นวัตกรรม                1191\n",
              "@Taste                  1065\n",
              "จุดประกาย                747\n",
              "สุขภาพ-คุณภาพชีวิต       680\n",
              "ท่องเที่ยว               582\n",
              "ยานยนต์                  552\n",
              "Art & living             545\n",
              "การศึกษา                 487\n",
              "ข่าวทั่วไป               406\n",
              "สิ่งแวดล้อม              373\n",
              "ดูดวง                    336\n",
              "แรงงาน                   305\n",
              "เศรษฐกิจ-ธุรกิจ          209\n",
              "Corporate Moves          207\n",
              "CEO Blog                 200\n",
              "ลอตเตอรี่                161\n",
              "ความงาม-แฟชั่น           106\n",
              "Training Course           50\n",
              "เทคโนโลยี                 43\n",
              "Biz2U                     32\n",
              "Special                    3\n",
              "ไอที-นวัตกรรม              2\n",
              "คุณภาพชีวิต                1\n",
              "Name: category, dtype: int64"
            ]
          },
          "metadata": {},
          "execution_count": 15
        }
      ]
    },
    {
      "cell_type": "code",
      "source": [
        "# Top 20 subcategories by number of articles\n",
        "plt.figure(figsize=(15,10))\n",
        "plt.title('Top 20 Subcategories by Number of Articles', size=30)\n",
        "bkkbiz['category'].value_counts().sort_values(ascending=False).head(20).plot(kind='barh');"
      ],
      "metadata": {
        "colab": {
          "base_uri": "https://localhost:8080/",
          "height": 617
        },
        "id": "pcRqRG2dhD6K",
        "outputId": "4cff58bb-c54f-4cb0-df8c-26b205d96662"
      },
      "execution_count": 19,
      "outputs": [
        {
          "output_type": "display_data",
          "data": {
            "text/plain": [
              "<Figure size 1080x720 with 1 Axes>"
            ],
            "image/png": "[encoded data removed]"
          },
          "metadata": {
            "needs_background": "light"
          }
        }
      ]
    },
    {
      "cell_type": "code",
      "source": [
        "# Time released\n",
        "bkkbiz['date'].dt.year.unique()"
      ],
      "metadata": {
        "id": "SpShmtSYgZoG",
        "colab": {
          "base_uri": "https://localhost:8080/"
        },
        "outputId": "f5ab556c-6b42-40b4-e323-0241f6ff4604"
      },
      "execution_count": 23,
      "outputs": [
        {
          "output_type": "execute_result",
          "data": {
            "text/plain": [
              "array([2014, 2015, 2016, 2017, 2018, 2019, 2020, 2021, 2022])"
            ]
          },
          "metadata": {},
          "execution_count": 23
        }
      ]
    },
    {
      "cell_type": "code",
      "source": [
        "# Number of Article by Year\n",
        "bkkbiz.groupby(bkkbiz['date'].dt.year)['title'].count()"
      ],
      "metadata": {
        "colab": {
          "base_uri": "https://localhost:8080/"
        },
        "id": "ACIcJUYC2gnL",
        "outputId": "6cc7cecf-63e7-4cd2-bcc7-a020932c4f16"
      },
      "execution_count": 28,
      "outputs": [
        {
          "output_type": "execute_result",
          "data": {
            "text/plain": [
              "date\n",
              "2014     4646\n",
              "2015    51297\n",
              "2016    25825\n",
              "2017    51332\n",
              "2018    34992\n",
              "2019    36653\n",
              "2020    53321\n",
              "2021    63939\n",
              "2022    39223\n",
              "Name: title, dtype: int64"
            ]
          },
          "metadata": {},
          "execution_count": 28
        }
      ]
    },
    {
      "cell_type": "code",
      "source": [
        "# Number of Article by Year\n",
        "plt.figure(figsize=(10,7))\n",
        "plt.title('Number of Articles on BkkBiz by Year')\n",
        "bkkbiz.groupby(bkkbiz['date'].dt.year)['title'].count().plot(kind='barh');"
      ],
      "metadata": {
        "colab": {
          "base_uri": "https://localhost:8080/",
          "height": 449
        },
        "id": "O6f-0iZy2qxU",
        "outputId": "3ca852bd-556a-4eac-aa8e-26f86d7ce6dc"
      },
      "execution_count": 35,
      "outputs": [
        {
          "output_type": "display_data",
          "data": {
            "text/plain": [
              "<Figure size 720x504 with 1 Axes>"
            ],
            "image/png": "[encoded data removed]"
          },
          "metadata": {
            "needs_background": "light"
          }
        }
      ]
    },
    {
      "cell_type": "code",
      "source": [
        "# Number of articles by category by year\n",
        "#fig, ax = plt.subplots(4,2, figsize=(15,30))\n",
        "years = [2014, 2015, 2016, 2017, 2018, 2019, 2020, 2021, 2022]\n",
        "\n",
        "fig, axs = plt.subplots(3,3, figsize=(20,15), sharex=True)\n",
        "for n, year in enumerate(years):\n",
        "  plt.subplot(3,3,n+1)\n",
        "  plt.title(year, size=30)\n",
        "  plt.tight_layout()\n",
        "  bkkbiz[bkkbiz['date'].dt.year==year]['category'].value_counts().head(20).plot(kind='barh');"
      ],
      "metadata": {
        "colab": {
          "base_uri": "https://localhost:8080/",
          "height": 1000
        },
        "id": "ctahp6U25OM5",
        "outputId": "4ff71477-a392-41f3-8fb1-6919e047cf32"
      },
      "execution_count": 78,
      "outputs": [
        {
          "output_type": "display_data",
          "data": {
            "text/plain": [
              "<Figure size 1440x1080 with 9 Axes>"
            ],
            "image/png": "[encoded data removed]"
          },
          "metadata": {
            "needs_background": "light"
          }
        }
      ]
    },
    {
      "cell_type": "code",
      "source": [
        "# Check 2019\n",
        "bkkbiz[bkkbiz['date'].dt.year==2019]['category'].value_counts().head(20)"
      ],
      "metadata": {
        "colab": {
          "base_uri": "https://localhost:8080/"
        },
        "id": "iOitO6gc_YMz",
        "outputId": "3c9b7bb0-4b53-44e6-902b-6aac7f5331cd"
      },
      "execution_count": 79,
      "outputs": [
        {
          "output_type": "execute_result",
          "data": {
            "text/plain": [
              "การเมือง             12517\n",
              "การเงิน-การลงทุน      7857\n",
              "ต่างประเทศ            4821\n",
              "เศรษฐกิจ              4194\n",
              "คุณภาพชีวิต-สังคม     2812\n",
              "ไลฟ์สไตล์             2041\n",
              "ธุรกิจ                1861\n",
              "ข่าวพระราชสำนัก        388\n",
              "Bizweek                162\n",
              "Name: category, dtype: int64"
            ]
          },
          "metadata": {},
          "execution_count": 79
        }
      ]
    },
    {
      "cell_type": "code",
      "source": [
        "# Call only category that exists across 9 years\n",
        "bkkbiz"
      ],
      "metadata": {
        "id": "fJPTGfoR_kJL"
      },
      "execution_count": null,
      "outputs": []
    },
    {
      "cell_type": "code",
      "source": [
        "bkkbiz[bkkbiz['date'].dt.year]['category'].nunique()"
      ],
      "metadata": {
        "colab": {
          "base_uri": "https://localhost:8080/",
          "height": 329
        },
        "id": "1lY4uE1X_xCk",
        "outputId": "b0404298-6c87-4d85-e95d-c491f9011173"
      },
      "execution_count": 94,
      "outputs": [
        {
          "output_type": "error",
          "ename": "KeyError",
          "evalue": "ignored",
          "traceback": [
            "\u001b[0;31m---------------------------------------------------------------------------\u001b[0m",
            "\u001b[0;31mKeyError\u001b[0m                                  Traceback (most recent call last)",
            "\u001b[0;32m<ipython-input-94-fe66ffe6c269>\u001b[0m in \u001b[0;36m<module>\u001b[0;34m\u001b[0m\n\u001b[0;32m----> 1\u001b[0;31m \u001b[0mbkkbiz\u001b[0m\u001b[0;34m[\u001b[0m\u001b[0mbkkbiz\u001b[0m\u001b[0;34m[\u001b[0m\u001b[0;34m'date'\u001b[0m\u001b[0;34m]\u001b[0m\u001b[0;34m.\u001b[0m\u001b[0mdt\u001b[0m\u001b[0;34m.\u001b[0m\u001b[0myear\u001b[0m\u001b[0;34m]\u001b[0m\u001b[0;34m[\u001b[0m\u001b[0;34m'category'\u001b[0m\u001b[0;34m]\u001b[0m\u001b[0;34m.\u001b[0m\u001b[0mnunique\u001b[0m\u001b[0;34m(\u001b[0m\u001b[0;34m)\u001b[0m\u001b[0;34m\u001b[0m\u001b[0;34m\u001b[0m\u001b[0m\n\u001b[0m",
            "\u001b[0;32m/usr/local/lib/python3.7/dist-packages/pandas/core/frame.py\u001b[0m in \u001b[0;36m__getitem__\u001b[0;34m(self, key)\u001b[0m\n\u001b[1;32m   3462\u001b[0m             \u001b[0;32mif\u001b[0m \u001b[0mis_iterator\u001b[0m\u001b[0;34m(\u001b[0m\u001b[0mkey\u001b[0m\u001b[0;34m)\u001b[0m\u001b[0;34m:\u001b[0m\u001b[0;34m\u001b[0m\u001b[0;34m\u001b[0m\u001b[0m\n\u001b[1;32m   3463\u001b[0m                 \u001b[0mkey\u001b[0m \u001b[0;34m=\u001b[0m \u001b[0mlist\u001b[0m\u001b[0;34m(\u001b[0m\u001b[0mkey\u001b[0m\u001b[0;34m)\u001b[0m\u001b[0;34m\u001b[0m\u001b[0;34m\u001b[0m\u001b[0m\n\u001b[0;32m-> 3464\u001b[0;31m             \u001b[0mindexer\u001b[0m \u001b[0;34m=\u001b[0m \u001b[0mself\u001b[0m\u001b[0;34m.\u001b[0m\u001b[0mloc\u001b[0m\u001b[0;34m.\u001b[0m\u001b[0m_get_listlike_indexer\u001b[0m\u001b[0;34m(\u001b[0m\u001b[0mkey\u001b[0m\u001b[0;34m,\u001b[0m \u001b[0maxis\u001b[0m\u001b[0;34m=\u001b[0m\u001b[0;36m1\u001b[0m\u001b[0;34m)\u001b[0m\u001b[0;34m[\u001b[0m\u001b[0;36m1\u001b[0m\u001b[0;34m]\u001b[0m\u001b[0;34m\u001b[0m\u001b[0;34m\u001b[0m\u001b[0m\n\u001b[0m\u001b[1;32m   3465\u001b[0m \u001b[0;34m\u001b[0m\u001b[0m\n\u001b[1;32m   3466\u001b[0m         \u001b[0;31m# take() does not accept boolean indexers\u001b[0m\u001b[0;34m\u001b[0m\u001b[0;34m\u001b[0m\u001b[0;34m\u001b[0m\u001b[0m\n",
            "\u001b[0;32m/usr/local/lib/python3.7/dist-packages/pandas/core/indexing.py\u001b[0m in \u001b[0;36m_get_listlike_indexer\u001b[0;34m(self, key, axis)\u001b[0m\n\u001b[1;32m   1312\u001b[0m             \u001b[0mkeyarr\u001b[0m\u001b[0;34m,\u001b[0m \u001b[0mindexer\u001b[0m\u001b[0;34m,\u001b[0m \u001b[0mnew_indexer\u001b[0m \u001b[0;34m=\u001b[0m \u001b[0max\u001b[0m\u001b[0;34m.\u001b[0m\u001b[0m_reindex_non_unique\u001b[0m\u001b[0;34m(\u001b[0m\u001b[0mkeyarr\u001b[0m\u001b[0;34m)\u001b[0m\u001b[0;34m\u001b[0m\u001b[0;34m\u001b[0m\u001b[0m\n\u001b[1;32m   1313\u001b[0m \u001b[0;34m\u001b[0m\u001b[0m\n\u001b[0;32m-> 1314\u001b[0;31m         \u001b[0mself\u001b[0m\u001b[0;34m.\u001b[0m\u001b[0m_validate_read_indexer\u001b[0m\u001b[0;34m(\u001b[0m\u001b[0mkeyarr\u001b[0m\u001b[0;34m,\u001b[0m \u001b[0mindexer\u001b[0m\u001b[0;34m,\u001b[0m \u001b[0maxis\u001b[0m\u001b[0;34m)\u001b[0m\u001b[0;34m\u001b[0m\u001b[0;34m\u001b[0m\u001b[0m\n\u001b[0m\u001b[1;32m   1315\u001b[0m \u001b[0;34m\u001b[0m\u001b[0m\n\u001b[1;32m   1316\u001b[0m         if needs_i8_conversion(ax.dtype) or isinstance(\n",
            "\u001b[0;32m/usr/local/lib/python3.7/dist-packages/pandas/core/indexing.py\u001b[0m in \u001b[0;36m_validate_read_indexer\u001b[0;34m(self, key, indexer, axis)\u001b[0m\n\u001b[1;32m   1372\u001b[0m                 \u001b[0;32mif\u001b[0m \u001b[0muse_interval_msg\u001b[0m\u001b[0;34m:\u001b[0m\u001b[0;34m\u001b[0m\u001b[0;34m\u001b[0m\u001b[0m\n\u001b[1;32m   1373\u001b[0m                     \u001b[0mkey\u001b[0m \u001b[0;34m=\u001b[0m \u001b[0mlist\u001b[0m\u001b[0;34m(\u001b[0m\u001b[0mkey\u001b[0m\u001b[0;34m)\u001b[0m\u001b[0;34m\u001b[0m\u001b[0;34m\u001b[0m\u001b[0m\n\u001b[0;32m-> 1374\u001b[0;31m                 \u001b[0;32mraise\u001b[0m \u001b[0mKeyError\u001b[0m\u001b[0;34m(\u001b[0m\u001b[0;34mf\"None of [{key}] are in the [{axis_name}]\"\u001b[0m\u001b[0;34m)\u001b[0m\u001b[0;34m\u001b[0m\u001b[0;34m\u001b[0m\u001b[0m\n\u001b[0m\u001b[1;32m   1375\u001b[0m \u001b[0;34m\u001b[0m\u001b[0m\n\u001b[1;32m   1376\u001b[0m             \u001b[0mnot_found\u001b[0m \u001b[0;34m=\u001b[0m \u001b[0mlist\u001b[0m\u001b[0;34m(\u001b[0m\u001b[0mensure_index\u001b[0m\u001b[0;34m(\u001b[0m\u001b[0mkey\u001b[0m\u001b[0;34m)\u001b[0m\u001b[0;34m[\u001b[0m\u001b[0mmissing_mask\u001b[0m\u001b[0;34m.\u001b[0m\u001b[0mnonzero\u001b[0m\u001b[0;34m(\u001b[0m\u001b[0;34m)\u001b[0m\u001b[0;34m[\u001b[0m\u001b[0;36m0\u001b[0m\u001b[0;34m]\u001b[0m\u001b[0;34m]\u001b[0m\u001b[0;34m.\u001b[0m\u001b[0munique\u001b[0m\u001b[0;34m(\u001b[0m\u001b[0;34m)\u001b[0m\u001b[0;34m)\u001b[0m\u001b[0;34m\u001b[0m\u001b[0;34m\u001b[0m\u001b[0m\n",
            "\u001b[0;31mKeyError\u001b[0m: \"None of [Int64Index([2014, 2014, 2014, 2014, 2014, 2014, 2014, 2014, 2014, 2014,\\n            ...\\n            2022, 2022, 2022, 2022, 2022, 2022, 2022, 2022, 2022, 2022],\\n           dtype='int64', length=361228)] are in the [columns]\""
          ]
        }
      ]
    },
    {
      "cell_type": "code",
      "source": [
        "# Number of articles in each subcats\n"
      ],
      "metadata": {
        "id": "CEuB67TjgRe_"
      },
      "execution_count": null,
      "outputs": []
    },
    {
      "cell_type": "code",
      "source": [
        "# Length of article in each cats"
      ],
      "metadata": {
        "id": "PGcAmYuYgRhP"
      },
      "execution_count": null,
      "outputs": []
    },
    {
      "cell_type": "code",
      "source": [],
      "metadata": {
        "id": "GvOpZVeVgRj0"
      },
      "execution_count": null,
      "outputs": []
    },
    {
      "cell_type": "code",
      "source": [],
      "metadata": {
        "id": "ekGWLdTrgRmS"
      },
      "execution_count": null,
      "outputs": []
    },
    {
      "cell_type": "markdown",
      "source": [
        "#Pre-Processing\n",
        "---"
      ],
      "metadata": {
        "id": "T57jCTT3f6sk"
      }
    },
    {
      "cell_type": "markdown",
      "source": [
        "##2.3 Preprocessing"
      ],
      "metadata": {
        "id": "OYqw1ws5Yp2S"
      }
    },
    {
      "cell_type": "markdown",
      "source": [
        "ลองเฉพาะหมวด econ ก่อน"
      ],
      "metadata": {
        "id": "1JrMg35Tizsa"
      }
    },
    {
      "cell_type": "code",
      "source": [
        "bkkbiz['category'].unique()"
      ],
      "metadata": {
        "colab": {
          "base_uri": "https://localhost:8080/"
        },
        "id": "owkXixLhjTXm",
        "outputId": "395ab97c-7984-4768-9c5f-9268398bd8f4"
      },
      "execution_count": null,
      "outputs": [
        {
          "output_type": "execute_result",
          "data": {
            "text/plain": [
              "array(['ต่างประเทศ', 'การเงิน-การลงทุน', 'การเมือง', 'คุณภาพชีวิต-สังคม',\n",
              "       'ธุรกิจ', 'ไลฟ์สไตล์', 'Bizweek', 'ทั่วไป', 'การเงิน', 'เศรษฐกิจ',\n",
              "       'ไอที-นวัตกรรม', 'IT & gadget', 'ท่องเที่ยว', 'Art & living',\n",
              "       'บันเทิง', 'ยานยนต์', 'อสังหาริมทรัพย์', 'ดูดวง', '@Taste',\n",
              "       'ข่าวพระราชสำนัก', 'Special', 'จุดประกาย', 'Data Analysis',\n",
              "       'ข่าวในพระราชสำนัก', 'นวัตกรรม', 'สุขภาพ-คุณภาพชีวิต',\n",
              "       'สิ่งแวดล้อม', 'ข่าวทั่วไป', 'เศรษฐกิจ-ธุรกิจ', 'ประชาสัมพันธ์',\n",
              "       'CEO Blog', 'คอลัมนิสต์', 'การศึกษา', 'ความงาม-แฟชั่น',\n",
              "       'Training Course', 'Biz2U', 'หุ้น', 'Corporate Moves', 'ลอตเตอรี่',\n",
              "       'สาธารณสุข', 'แรงงาน', 'เทคโนโลยี', 'คุณภาพชีวิต'], dtype=object)"
            ]
          },
          "metadata": {},
          "execution_count": 12
        }
      ]
    },
    {
      "cell_type": "code",
      "source": [
        "# Create economics news DataFrame\n",
        "econ = bkkbiz[bkkbiz['category']=='เศรษฐกิจ'].reset_index(drop=True)"
      ],
      "metadata": {
        "id": "_xthLj2Zi7Fj"
      },
      "execution_count": null,
      "outputs": []
    },
    {
      "cell_type": "code",
      "source": [
        "# Recheck\n",
        "econ.shape"
      ],
      "metadata": {
        "colab": {
          "base_uri": "https://localhost:8080/"
        },
        "id": "gIpP576PLerJ",
        "outputId": "a385d9be-a82e-4e61-df1e-6f6a4c594d6e"
      },
      "execution_count": null,
      "outputs": [
        {
          "output_type": "execute_result",
          "data": {
            "text/plain": [
              "(35453, 7)"
            ]
          },
          "metadata": {},
          "execution_count": 14
        }
      ]
    },
    {
      "cell_type": "code",
      "source": [
        "# Recheck \n",
        "econ.head()"
      ],
      "metadata": {
        "colab": {
          "base_uri": "https://localhost:8080/",
          "height": 337
        },
        "id": "pLAjkX1JLvLc",
        "outputId": "75e4f0bd-9ddd-4bd5-886f-e260ba3f6bd2"
      },
      "execution_count": null,
      "outputs": [
        {
          "output_type": "execute_result",
          "data": {
            "text/plain": [
              "       ID                date  category                               title  \\\n",
              "0  632149 2015-01-30 18:20:00  เศรษฐกิจ         ซีพีเอฟร่วมลดก๊าซเรือนกระจก   \n",
              "1  632695 2015-02-03 16:30:00  เศรษฐกิจ  จับตายักษ์ใหญ่คว้า'โซลาร์'กองทัพบก   \n",
              "2  633724 2015-02-09 10:03:00  เศรษฐกิจ          หวั่น'ส่งออก'ทรุดต่อเนื่อง   \n",
              "3  633727 2015-02-09 10:20:00  เศรษฐกิจ        จี้'แบงก์รัฐ'ดันแพ็คเกจแก้จน   \n",
              "4  633738 2015-02-09 11:02:00  เศรษฐกิจ           ดอลลาร์แข็งฉุด'หนี้นอก'ลด   \n",
              "\n",
              "                                         description  \\\n",
              "0  ซีพีเอฟ ลงนามความร่วมมือโครงการต้นแบบลดก๊าซเรื...   \n",
              "1  จับตายักษ์ใหญ่คว้า\"โซลาร์\"กองทัพบก ปูดบ.รีนิวเ...   \n",
              "2  นักเศรษฐศาสตร์-นักการเงิน ห่วงส่งออกไทยหดตัวต่...   \n",
              "3  กระทรวงคลัง เผย \"แบงก์รัฐ\" เร่งทำโครงการช่วยเห...   \n",
              "4  \"แบงก์ชาติ\" เผยอดหนี้ต่างประเทศเดือนธ.ค. รวมกว...   \n",
              "\n",
              "                                             article  \\\n",
              "0  นายสุนันต์ อรุณนพรัตน์(ที่ 4 จากซ้าย) ผู้ช่วยร...   \n",
              "1  รายงานข่าวจากวงการพลังงาน เปิดเผยว่า จากการที่...   \n",
              "2  \"กอบศักดิ์\" ชี้เงินบาทแข็งเกินพื้นฐาน ด้าน \"ตี...   \n",
              "3  แหล่งข่าวจากกระทรวงการคลัง เปิดเผยว่า สถาบันกา...   \n",
              "4  รายงานข่าวจากธนาคารแห่งประเทศไทย (ธปท.) เปิดเผ...   \n",
              "\n",
              "                                                 url  \n",
              "0  https://www.bangkokbiznews.com/news/detail/632149  \n",
              "1  https://www.bangkokbiznews.com/news/detail/632695  \n",
              "2  https://www.bangkokbiznews.com/news/detail/633724  \n",
              "3  https://www.bangkokbiznews.com/news/detail/633727  \n",
              "4  https://www.bangkokbiznews.com/news/detail/633738  "
            ],
            "text/html": [
              "\n",
              "  <div id=\"df-169e4e9b-9774-48f9-b2d0-70921e311b73\">\n",
              "    <div class=\"colab-df-container\">\n",
              "      <div>\n",
              "<style scoped>\n",
              "    .dataframe tbody tr th:only-of-type {\n",
              "        vertical-align: middle;\n",
              "    }\n",
              "\n",
              "    .dataframe tbody tr th {\n",
              "        vertical-align: top;\n",
              "    }\n",
              "\n",
              "    .dataframe thead th {\n",
              "        text-align: right;\n",
              "    }\n",
              "</style>\n",
              "<table border=\"1\" class=\"dataframe\">\n",
              "  <thead>\n",
              "    <tr style=\"text-align: right;\">\n",
              "      <th></th>\n",
              "      <th>ID</th>\n",
              "      <th>date</th>\n",
              "      <th>category</th>\n",
              "      <th>title</th>\n",
              "      <th>description</th>\n",
              "      <th>article</th>\n",
              "      <th>url</th>\n",
              "    </tr>\n",
              "  </thead>\n",
              "  <tbody>\n",
              "    <tr>\n",
              "      <th>0</th>\n",
              "      <td>632149</td>\n",
              "      <td>2015-01-30 18:20:00</td>\n",
              "      <td>เศรษฐกิจ</td>\n",
              "      <td>ซีพีเอฟร่วมลดก๊าซเรือนกระจก</td>\n",
              "      <td>ซีพีเอฟ ลงนามความร่วมมือโครงการต้นแบบลดก๊าซเรื...</td>\n",
              "      <td>นายสุนันต์ อรุณนพรัตน์(ที่ 4 จากซ้าย) ผู้ช่วยร...</td>\n",
              "      <td>https://www.bangkokbiznews.com/news/detail/632149</td>\n",
              "    </tr>\n",
              "    <tr>\n",
              "      <th>1</th>\n",
              "      <td>632695</td>\n",
              "      <td>2015-02-03 16:30:00</td>\n",
              "      <td>เศรษฐกิจ</td>\n",
              "      <td>จับตายักษ์ใหญ่คว้า'โซลาร์'กองทัพบก</td>\n",
              "      <td>จับตายักษ์ใหญ่คว้า\"โซลาร์\"กองทัพบก ปูดบ.รีนิวเ...</td>\n",
              "      <td>รายงานข่าวจากวงการพลังงาน เปิดเผยว่า จากการที่...</td>\n",
              "      <td>https://www.bangkokbiznews.com/news/detail/632695</td>\n",
              "    </tr>\n",
              "    <tr>\n",
              "      <th>2</th>\n",
              "      <td>633724</td>\n",
              "      <td>2015-02-09 10:03:00</td>\n",
              "      <td>เศรษฐกิจ</td>\n",
              "      <td>หวั่น'ส่งออก'ทรุดต่อเนื่อง</td>\n",
              "      <td>นักเศรษฐศาสตร์-นักการเงิน ห่วงส่งออกไทยหดตัวต่...</td>\n",
              "      <td>\"กอบศักดิ์\" ชี้เงินบาทแข็งเกินพื้นฐาน ด้าน \"ตี...</td>\n",
              "      <td>https://www.bangkokbiznews.com/news/detail/633724</td>\n",
              "    </tr>\n",
              "    <tr>\n",
              "      <th>3</th>\n",
              "      <td>633727</td>\n",
              "      <td>2015-02-09 10:20:00</td>\n",
              "      <td>เศรษฐกิจ</td>\n",
              "      <td>จี้'แบงก์รัฐ'ดันแพ็คเกจแก้จน</td>\n",
              "      <td>กระทรวงคลัง เผย \"แบงก์รัฐ\" เร่งทำโครงการช่วยเห...</td>\n",
              "      <td>แหล่งข่าวจากกระทรวงการคลัง เปิดเผยว่า สถาบันกา...</td>\n",
              "      <td>https://www.bangkokbiznews.com/news/detail/633727</td>\n",
              "    </tr>\n",
              "    <tr>\n",
              "      <th>4</th>\n",
              "      <td>633738</td>\n",
              "      <td>2015-02-09 11:02:00</td>\n",
              "      <td>เศรษฐกิจ</td>\n",
              "      <td>ดอลลาร์แข็งฉุด'หนี้นอก'ลด</td>\n",
              "      <td>\"แบงก์ชาติ\" เผยอดหนี้ต่างประเทศเดือนธ.ค. รวมกว...</td>\n",
              "      <td>รายงานข่าวจากธนาคารแห่งประเทศไทย (ธปท.) เปิดเผ...</td>\n",
              "      <td>https://www.bangkokbiznews.com/news/detail/633738</td>\n",
              "    </tr>\n",
              "  </tbody>\n",
              "</table>\n",
              "</div>\n",
              "      <button class=\"colab-df-convert\" onclick=\"convertToInteractive('df-169e4e9b-9774-48f9-b2d0-70921e311b73')\"\n",
              "              title=\"Convert this dataframe to an interactive table.\"\n",
              "              style=\"display:none;\">\n",
              "        \n",
              "  <svg xmlns=\"http://www.w3.org/2000/svg\" height=\"24px\"viewBox=\"0 0 24 24\"\n",
              "       width=\"24px\">\n",
              "    <path d=\"M0 0h24v24H0V0z\" fill=\"none\"/>\n",
              "    <path d=\"M18.56 5.44l.94 2.06.94-2.06 2.06-.94-2.06-.94-.94-2.06-.94 2.06-2.06.94zm-11 1L8.5 8.5l.94-2.06 2.06-.94-2.06-.94L8.5 2.5l-.94 2.06-2.06.94zm10 10l.94 2.06.94-2.06 2.06-.94-2.06-.94-.94-2.06-.94 2.06-2.06.94z\"/><path d=\"M17.41 7.96l-1.37-1.37c-.4-.4-.92-.59-1.43-.59-.52 0-1.04.2-1.43.59L10.3 9.45l-7.72 7.72c-.78.78-.78 2.05 0 2.83L4 21.41c.39.39.9.59 1.41.59.51 0 1.02-.2 1.41-.59l7.78-7.78 2.81-2.81c.8-.78.8-2.07 0-2.86zM5.41 20L4 18.59l7.72-7.72 1.47 1.35L5.41 20z\"/>\n",
              "  </svg>\n",
              "      </button>\n",
              "      \n",
              "  <style>\n",
              "    .colab-df-container {\n",
              "      display:flex;\n",
              "      flex-wrap:wrap;\n",
              "      gap: 12px;\n",
              "    }\n",
              "\n",
              "    .colab-df-convert {\n",
              "      background-color: #E8F0FE;\n",
              "      border: none;\n",
              "      border-radius: 50%;\n",
              "      cursor: pointer;\n",
              "      display: none;\n",
              "      fill: #1967D2;\n",
              "      height: 32px;\n",
              "      padding: 0 0 0 0;\n",
              "      width: 32px;\n",
              "    }\n",
              "\n",
              "    .colab-df-convert:hover {\n",
              "      background-color: #E2EBFA;\n",
              "      box-shadow: 0px 1px 2px rgba(60, 64, 67, 0.3), 0px 1px 3px 1px rgba(60, 64, 67, 0.15);\n",
              "      fill: #174EA6;\n",
              "    }\n",
              "\n",
              "    [theme=dark] .colab-df-convert {\n",
              "      background-color: #3B4455;\n",
              "      fill: #D2E3FC;\n",
              "    }\n",
              "\n",
              "    [theme=dark] .colab-df-convert:hover {\n",
              "      background-color: #434B5C;\n",
              "      box-shadow: 0px 1px 3px 1px rgba(0, 0, 0, 0.15);\n",
              "      filter: drop-shadow(0px 1px 2px rgba(0, 0, 0, 0.3));\n",
              "      fill: #FFFFFF;\n",
              "    }\n",
              "  </style>\n",
              "\n",
              "      <script>\n",
              "        const buttonEl =\n",
              "          document.querySelector('#df-169e4e9b-9774-48f9-b2d0-70921e311b73 button.colab-df-convert');\n",
              "        buttonEl.style.display =\n",
              "          google.colab.kernel.accessAllowed ? 'block' : 'none';\n",
              "\n",
              "        async function convertToInteractive(key) {\n",
              "          const element = document.querySelector('#df-169e4e9b-9774-48f9-b2d0-70921e311b73');\n",
              "          const dataTable =\n",
              "            await google.colab.kernel.invokeFunction('convertToInteractive',\n",
              "                                                     [key], {});\n",
              "          if (!dataTable) return;\n",
              "\n",
              "          const docLinkHtml = 'Like what you see? Visit the ' +\n",
              "            '<a target=\"_blank\" href=https://colab.research.google.com/notebooks/data_table.ipynb>data table notebook</a>'\n",
              "            + ' to learn more about interactive tables.';\n",
              "          element.innerHTML = '';\n",
              "          dataTable['output_type'] = 'display_data';\n",
              "          await google.colab.output.renderOutput(dataTable, element);\n",
              "          const docLink = document.createElement('div');\n",
              "          docLink.innerHTML = docLinkHtml;\n",
              "          element.appendChild(docLink);\n",
              "        }\n",
              "      </script>\n",
              "    </div>\n",
              "  </div>\n",
              "  "
            ]
          },
          "metadata": {},
          "execution_count": 15
        }
      ]
    },
    {
      "cell_type": "code",
      "source": [
        "# Create function\n",
        "def tokenize(txt):\n",
        "  \n",
        "  ''' \n",
        "  Definition:\n",
        "  A function that returns tokenized words with stop words and other regular expressions \n",
        "  that do not match English and Thai alphabets removed\n",
        "\n",
        "  Parameters:\n",
        "  - txt = text string\n",
        "  '''\n",
        "\n",
        "  stopwords = thai_stopwords()\n",
        "  tokens = word_tokenize(txt, keep_whitespace = False)\n",
        "  tokens = [token for token in tokens if token not in stopwords]\n",
        "  tokens = [token for token in tokens if re.match(r'[A-Za-zก-ฮ]+', token)]\n",
        "  return tokens"
      ],
      "metadata": {
        "id": "ggExnuz4f6wt"
      },
      "execution_count": null,
      "outputs": []
    },
    {
      "cell_type": "code",
      "source": [
        "# Tokenize & remove stopwords\n",
        "column_list = ['title', 'description', 'article']\n",
        "\n",
        "for column in column_list:\n",
        "  econ[column + '_tokenize'] = econ[column].apply(tokenize)"
      ],
      "metadata": {
        "id": "D2UR0aMM55FF"
      },
      "execution_count": null,
      "outputs": []
    },
    {
      "cell_type": "code",
      "source": [
        "# Recheck\n",
        "econ"
      ],
      "metadata": {
        "colab": {
          "base_uri": "https://localhost:8080/",
          "height": 1000
        },
        "id": "D99aRMle6NXZ",
        "outputId": "a1daeed5-e851-4041-b4f6-bfe200773d79"
      },
      "execution_count": null,
      "outputs": [
        {
          "output_type": "execute_result",
          "data": {
            "text/plain": [
              "            ID                date  category  \\\n",
              "0       632149 2015-01-30 18:20:00  เศรษฐกิจ   \n",
              "1       632695 2015-02-03 16:30:00  เศรษฐกิจ   \n",
              "2       633724 2015-02-09 10:03:00  เศรษฐกิจ   \n",
              "3       633727 2015-02-09 10:20:00  เศรษฐกิจ   \n",
              "4       633738 2015-02-09 11:02:00  เศรษฐกิจ   \n",
              "...        ...                 ...       ...   \n",
              "35448  1019949 2022-08-09 15:28:00  เศรษฐกิจ   \n",
              "35449  1019952 2022-08-09 15:37:00  เศรษฐกิจ   \n",
              "35450  1019968 2022-08-09 16:29:00  เศรษฐกิจ   \n",
              "35451  1019975 2022-08-09 17:09:00  เศรษฐกิจ   \n",
              "35452  1019980 2022-08-09 17:17:00  เศรษฐกิจ   \n",
              "\n",
              "                                                   title  \\\n",
              "0                            ซีพีเอฟร่วมลดก๊าซเรือนกระจก   \n",
              "1                     จับตายักษ์ใหญ่คว้า'โซลาร์'กองทัพบก   \n",
              "2                             หวั่น'ส่งออก'ทรุดต่อเนื่อง   \n",
              "3                           จี้'แบงก์รัฐ'ดันแพ็คเกจแก้จน   \n",
              "4                              ดอลลาร์แข็งฉุด'หนี้นอก'ลด   \n",
              "...                                                  ...   \n",
              "35448  ครม.ไฟเขียวแผนปฏิบัติการพัฒนาภาคเกษตรในอีอีซี ...   \n",
              "35449  ครม.เคาะสิทธิประโยชน์เมืองการบินภาคตะวันออก ดั...   \n",
              "35450  'อาเซียน-จีน' จับมืออัพเกรดเอฟทีเอ ตั้งเป้าประ...   \n",
              "35451  \"ราคาน้ำมันพรุ่งนี้ 2565\" 10 ส.ค. 65 อัปเดตราค...   \n",
              "35452  \"ราคาทองวันนี้ 2565\" ( 9 ส.ค.) ปรับ 4 ครั้ง ลง...   \n",
              "\n",
              "                                             description  \\\n",
              "0      ซีพีเอฟ ลงนามความร่วมมือโครงการต้นแบบลดก๊าซเรื...   \n",
              "1      จับตายักษ์ใหญ่คว้า\"โซลาร์\"กองทัพบก ปูดบ.รีนิวเ...   \n",
              "2      นักเศรษฐศาสตร์-นักการเงิน ห่วงส่งออกไทยหดตัวต่...   \n",
              "3      กระทรวงคลัง เผย \"แบงก์รัฐ\" เร่งทำโครงการช่วยเห...   \n",
              "4      \"แบงก์ชาติ\" เผยอดหนี้ต่างประเทศเดือนธ.ค. รวมกว...   \n",
              "...                                                  ...   \n",
              "35448  ครม.เห็นชอบร่างแผนปฏิบัติการพัฒนาการเกษตรในเขต...   \n",
              "35449  \"ครม.\" เคาะ! ชุดสิทธิประโยชน์ในเขตส่งเสริมเศรษ...   \n",
              "35450  'อาเซียน-จีน' เดินหน้ายกระดับความตกลง ACFTA ให...   \n",
              "35451  \"ราคาน้ำมันพรุ่งนี้ 2565 ล่าสุด\" 10 ส.ค. 65 เช...   \n",
              "35452  \"ราคาทองวันนี้ 2565\" ( 9 ส.ค.) ปรับขึ้น - ลง 4...   \n",
              "\n",
              "                                                 article  \\\n",
              "0      นายสุนันต์ อรุณนพรัตน์(ที่ 4 จากซ้าย) ผู้ช่วยร...   \n",
              "1      รายงานข่าวจากวงการพลังงาน เปิดเผยว่า จากการที่...   \n",
              "2      \"กอบศักดิ์\" ชี้เงินบาทแข็งเกินพื้นฐาน ด้าน \"ตี...   \n",
              "3      แหล่งข่าวจากกระทรวงการคลัง เปิดเผยว่า สถาบันกา...   \n",
              "4      รายงานข่าวจากธนาคารแห่งประเทศไทย (ธปท.) เปิดเผ...   \n",
              "...                                                  ...   \n",
              "35448  นางสาวรัชดา ธนาดิเรก รองโฆษกประจำสำนักนายกรัฐม...   \n",
              "35449  นางสาวรัชดา ธนาดิเรก รองโฆษกประจำสำนักนายกรัฐม...   \n",
              "35450  นางสาวโชติมา เอี่ยมสวัสดิกุล รองอธิบดีกรมเจรจา...   \n",
              "35451  \"ราคาน้ำมันพรุ่งนี้ 2565 ล่าสุด\" อัปเดตข้อมูล ...   \n",
              "35452  \"ราคาทองวันนี้ 2565\" ประจำวันที่ 9 ส.ค.65 เปลี...   \n",
              "\n",
              "                                                     url  \\\n",
              "0      https://www.bangkokbiznews.com/news/detail/632149   \n",
              "1      https://www.bangkokbiznews.com/news/detail/632695   \n",
              "2      https://www.bangkokbiznews.com/news/detail/633724   \n",
              "3      https://www.bangkokbiznews.com/news/detail/633727   \n",
              "4      https://www.bangkokbiznews.com/news/detail/633738   \n",
              "...                                                  ...   \n",
              "35448  https://www.bangkokbiznews.com/news/detail/101...   \n",
              "35449  https://www.bangkokbiznews.com/news/detail/101...   \n",
              "35450  https://www.bangkokbiznews.com/news/detail/101...   \n",
              "35451  https://www.bangkokbiznews.com/news/detail/101...   \n",
              "35452  https://www.bangkokbiznews.com/news/detail/101...   \n",
              "\n",
              "                                          title_tokenize  \\\n",
              "0                                     [ซี, พี, ลด, ก๊าซ]   \n",
              "1                         [จับตา, ยักษ์, คว้า, กองทัพบก]   \n",
              "2                       [หวั่น, ส่งออก, ทรุด, ต่อเนื่อง]   \n",
              "3                                        [จี้, รัฐ, ดัน]   \n",
              "4                                   [ดอลลาร์, ฉุด, หนี้]   \n",
              "...                                                  ...   \n",
              "35448                     [ครม., การพัฒนา, อี, อีซี, ปี]   \n",
              "35449          [ครม., สิทธิประโยชน์, บิน, ตะวันออก, ดัน]   \n",
              "35450  [อาเซียน, จีน, จับมือ, อัพเกรด, ตั้งเป้า, ประก...   \n",
              "35451  [ราคา, น้ำมัน, พรุ่งนี้, ส.ค., อัปเดต, ราคา, น...   \n",
              "35452      [ราคา, ทอง, ส.ค., ราคา, ทองรูปพรรณ, ขาย, บาท]   \n",
              "\n",
              "                                    description_tokenize  \\\n",
              "0      [ซี, พี, ลงนาม, ความร่วมมือ, ต้นแบบ, ลด, ก๊าซ,...   \n",
              "1      [จับตา, ยักษ์, คว้า, กองทัพบก, ปูด, บ., รี, นิ...   \n",
              "2      [นักเศรษฐศาสตร์, การเงิน, ห่วง, ส่งออก, หดตัว,...   \n",
              "3      [กระทรวง, คลัง, รัฐ, ทำ, ช่วยเหลือ, คนจน, ลด, ...   \n",
              "4      [ชาติ, ยอด, หนี้, ต่างประเทศ, ธ.ค., ล้าน, ดอลล...   \n",
              "...                                                  ...   \n",
              "35448  [ครม., ร่าง, การพัฒนา, การเกษตร, EEC, ปี, ชู, ...   \n",
              "35449  [ครม., ชุด, สิทธิประโยชน์, ส่งเสริม, พิเศษ, บิ...   \n",
              "35450  [อาเซียน, จีน, ยกระดับ, ความตกลง, ACFTA, ทันสม...   \n",
              "35451  [ราคา, น้ำมัน, พรุ่งนี้, ส.ค., ราคา, น้ำมัน, ท...   \n",
              "35452  [ราคา, ทอง, ส.ค., จบ, ราคา, ทองคำ, ขาย, บาท, ร...   \n",
              "\n",
              "                                        article_tokenize  \n",
              "0      [สุ, นันต์, อรุณ, นพรัตน์, ซ้าย, ผู้ช่วย, รัฐม...  \n",
              "1      [รายงาน, ข่าว, วงการ, พลังงาน, กองทัพบก, ทำหนั...  \n",
              "2      [กอบ, ศักดิ์, ชี้, พื้นฐาน, ตี, รณ, ห่วง, ติดล...  \n",
              "3      [กระทรวงการคลัง, สถาบันการเงิน, รัฐ, ธนาคารเพื...  \n",
              "4      [รายงาน, ข่าว, ธนาคารแห่งประเทศไทย, ธปท., หนี้...  \n",
              "...                                                  ...  \n",
              "35448  [รัชดา, ธนา, ดิเรก, รอง, ประจำ, สำนักนายกรัฐมน...  \n",
              "35449  [รัชดา, ธนา, ดิเรก, รอง, ประจำ, สำนักนายกรัฐมน...  \n",
              "35450  [สวัสดิ, กุล, รองอธิบดี, กรม, การค้า, ระหว่างป...  \n",
              "35451  [ราคา, น้ำมัน, พรุ่งนี้, อัปเดต, ข้อมูล, วันที...  \n",
              "35452  [ราคา, ทอง, ประจำ, วันที่, ส.ค., น., ประกาศ, ส...  \n",
              "\n",
              "[35453 rows x 10 columns]"
            ],
            "text/html": [
              "\n",
              "  <div id=\"df-f6a68460-c19f-42f9-9374-1f130e666ce1\">\n",
              "    <div class=\"colab-df-container\">\n",
              "      <div>\n",
              "<style scoped>\n",
              "    .dataframe tbody tr th:only-of-type {\n",
              "        vertical-align: middle;\n",
              "    }\n",
              "\n",
              "    .dataframe tbody tr th {\n",
              "        vertical-align: top;\n",
              "    }\n",
              "\n",
              "    .dataframe thead th {\n",
              "        text-align: right;\n",
              "    }\n",
              "</style>\n",
              "<table border=\"1\" class=\"dataframe\">\n",
              "  <thead>\n",
              "    <tr style=\"text-align: right;\">\n",
              "      <th></th>\n",
              "      <th>ID</th>\n",
              "      <th>date</th>\n",
              "      <th>category</th>\n",
              "      <th>title</th>\n",
              "      <th>description</th>\n",
              "      <th>article</th>\n",
              "      <th>url</th>\n",
              "      <th>title_tokenize</th>\n",
              "      <th>description_tokenize</th>\n",
              "      <th>article_tokenize</th>\n",
              "    </tr>\n",
              "  </thead>\n",
              "  <tbody>\n",
              "    <tr>\n",
              "      <th>0</th>\n",
              "      <td>632149</td>\n",
              "      <td>2015-01-30 18:20:00</td>\n",
              "      <td>เศรษฐกิจ</td>\n",
              "      <td>ซีพีเอฟร่วมลดก๊าซเรือนกระจก</td>\n",
              "      <td>ซีพีเอฟ ลงนามความร่วมมือโครงการต้นแบบลดก๊าซเรื...</td>\n",
              "      <td>นายสุนันต์ อรุณนพรัตน์(ที่ 4 จากซ้าย) ผู้ช่วยร...</td>\n",
              "      <td>https://www.bangkokbiznews.com/news/detail/632149</td>\n",
              "      <td>[ซี, พี, ลด, ก๊าซ]</td>\n",
              "      <td>[ซี, พี, ลงนาม, ความร่วมมือ, ต้นแบบ, ลด, ก๊าซ,...</td>\n",
              "      <td>[สุ, นันต์, อรุณ, นพรัตน์, ซ้าย, ผู้ช่วย, รัฐม...</td>\n",
              "    </tr>\n",
              "    <tr>\n",
              "      <th>1</th>\n",
              "      <td>632695</td>\n",
              "      <td>2015-02-03 16:30:00</td>\n",
              "      <td>เศรษฐกิจ</td>\n",
              "      <td>จับตายักษ์ใหญ่คว้า'โซลาร์'กองทัพบก</td>\n",
              "      <td>จับตายักษ์ใหญ่คว้า\"โซลาร์\"กองทัพบก ปูดบ.รีนิวเ...</td>\n",
              "      <td>รายงานข่าวจากวงการพลังงาน เปิดเผยว่า จากการที่...</td>\n",
              "      <td>https://www.bangkokbiznews.com/news/detail/632695</td>\n",
              "      <td>[จับตา, ยักษ์, คว้า, กองทัพบก]</td>\n",
              "      <td>[จับตา, ยักษ์, คว้า, กองทัพบก, ปูด, บ., รี, นิ...</td>\n",
              "      <td>[รายงาน, ข่าว, วงการ, พลังงาน, กองทัพบก, ทำหนั...</td>\n",
              "    </tr>\n",
              "    <tr>\n",
              "      <th>2</th>\n",
              "      <td>633724</td>\n",
              "      <td>2015-02-09 10:03:00</td>\n",
              "      <td>เศรษฐกิจ</td>\n",
              "      <td>หวั่น'ส่งออก'ทรุดต่อเนื่อง</td>\n",
              "      <td>นักเศรษฐศาสตร์-นักการเงิน ห่วงส่งออกไทยหดตัวต่...</td>\n",
              "      <td>\"กอบศักดิ์\" ชี้เงินบาทแข็งเกินพื้นฐาน ด้าน \"ตี...</td>\n",
              "      <td>https://www.bangkokbiznews.com/news/detail/633724</td>\n",
              "      <td>[หวั่น, ส่งออก, ทรุด, ต่อเนื่อง]</td>\n",
              "      <td>[นักเศรษฐศาสตร์, การเงิน, ห่วง, ส่งออก, หดตัว,...</td>\n",
              "      <td>[กอบ, ศักดิ์, ชี้, พื้นฐาน, ตี, รณ, ห่วง, ติดล...</td>\n",
              "    </tr>\n",
              "    <tr>\n",
              "      <th>3</th>\n",
              "      <td>633727</td>\n",
              "      <td>2015-02-09 10:20:00</td>\n",
              "      <td>เศรษฐกิจ</td>\n",
              "      <td>จี้'แบงก์รัฐ'ดันแพ็คเกจแก้จน</td>\n",
              "      <td>กระทรวงคลัง เผย \"แบงก์รัฐ\" เร่งทำโครงการช่วยเห...</td>\n",
              "      <td>แหล่งข่าวจากกระทรวงการคลัง เปิดเผยว่า สถาบันกา...</td>\n",
              "      <td>https://www.bangkokbiznews.com/news/detail/633727</td>\n",
              "      <td>[จี้, รัฐ, ดัน]</td>\n",
              "      <td>[กระทรวง, คลัง, รัฐ, ทำ, ช่วยเหลือ, คนจน, ลด, ...</td>\n",
              "      <td>[กระทรวงการคลัง, สถาบันการเงิน, รัฐ, ธนาคารเพื...</td>\n",
              "    </tr>\n",
              "    <tr>\n",
              "      <th>4</th>\n",
              "      <td>633738</td>\n",
              "      <td>2015-02-09 11:02:00</td>\n",
              "      <td>เศรษฐกิจ</td>\n",
              "      <td>ดอลลาร์แข็งฉุด'หนี้นอก'ลด</td>\n",
              "      <td>\"แบงก์ชาติ\" เผยอดหนี้ต่างประเทศเดือนธ.ค. รวมกว...</td>\n",
              "      <td>รายงานข่าวจากธนาคารแห่งประเทศไทย (ธปท.) เปิดเผ...</td>\n",
              "      <td>https://www.bangkokbiznews.com/news/detail/633738</td>\n",
              "      <td>[ดอลลาร์, ฉุด, หนี้]</td>\n",
              "      <td>[ชาติ, ยอด, หนี้, ต่างประเทศ, ธ.ค., ล้าน, ดอลล...</td>\n",
              "      <td>[รายงาน, ข่าว, ธนาคารแห่งประเทศไทย, ธปท., หนี้...</td>\n",
              "    </tr>\n",
              "    <tr>\n",
              "      <th>...</th>\n",
              "      <td>...</td>\n",
              "      <td>...</td>\n",
              "      <td>...</td>\n",
              "      <td>...</td>\n",
              "      <td>...</td>\n",
              "      <td>...</td>\n",
              "      <td>...</td>\n",
              "      <td>...</td>\n",
              "      <td>...</td>\n",
              "      <td>...</td>\n",
              "    </tr>\n",
              "    <tr>\n",
              "      <th>35448</th>\n",
              "      <td>1019949</td>\n",
              "      <td>2022-08-09 15:28:00</td>\n",
              "      <td>เศรษฐกิจ</td>\n",
              "      <td>ครม.ไฟเขียวแผนปฏิบัติการพัฒนาภาคเกษตรในอีอีซี ...</td>\n",
              "      <td>ครม.เห็นชอบร่างแผนปฏิบัติการพัฒนาการเกษตรในเขต...</td>\n",
              "      <td>นางสาวรัชดา ธนาดิเรก รองโฆษกประจำสำนักนายกรัฐม...</td>\n",
              "      <td>https://www.bangkokbiznews.com/news/detail/101...</td>\n",
              "      <td>[ครม., การพัฒนา, อี, อีซี, ปี]</td>\n",
              "      <td>[ครม., ร่าง, การพัฒนา, การเกษตร, EEC, ปี, ชู, ...</td>\n",
              "      <td>[รัชดา, ธนา, ดิเรก, รอง, ประจำ, สำนักนายกรัฐมน...</td>\n",
              "    </tr>\n",
              "    <tr>\n",
              "      <th>35449</th>\n",
              "      <td>1019952</td>\n",
              "      <td>2022-08-09 15:37:00</td>\n",
              "      <td>เศรษฐกิจ</td>\n",
              "      <td>ครม.เคาะสิทธิประโยชน์เมืองการบินภาคตะวันออก ดั...</td>\n",
              "      <td>\"ครม.\" เคาะ! ชุดสิทธิประโยชน์ในเขตส่งเสริมเศรษ...</td>\n",
              "      <td>นางสาวรัชดา ธนาดิเรก รองโฆษกประจำสำนักนายกรัฐม...</td>\n",
              "      <td>https://www.bangkokbiznews.com/news/detail/101...</td>\n",
              "      <td>[ครม., สิทธิประโยชน์, บิน, ตะวันออก, ดัน]</td>\n",
              "      <td>[ครม., ชุด, สิทธิประโยชน์, ส่งเสริม, พิเศษ, บิ...</td>\n",
              "      <td>[รัชดา, ธนา, ดิเรก, รอง, ประจำ, สำนักนายกรัฐมน...</td>\n",
              "    </tr>\n",
              "    <tr>\n",
              "      <th>35450</th>\n",
              "      <td>1019968</td>\n",
              "      <td>2022-08-09 16:29:00</td>\n",
              "      <td>เศรษฐกิจ</td>\n",
              "      <td>'อาเซียน-จีน' จับมืออัพเกรดเอฟทีเอ ตั้งเป้าประ...</td>\n",
              "      <td>'อาเซียน-จีน' เดินหน้ายกระดับความตกลง ACFTA ให...</td>\n",
              "      <td>นางสาวโชติมา เอี่ยมสวัสดิกุล รองอธิบดีกรมเจรจา...</td>\n",
              "      <td>https://www.bangkokbiznews.com/news/detail/101...</td>\n",
              "      <td>[อาเซียน, จีน, จับมือ, อัพเกรด, ตั้งเป้า, ประก...</td>\n",
              "      <td>[อาเซียน, จีน, ยกระดับ, ความตกลง, ACFTA, ทันสม...</td>\n",
              "      <td>[สวัสดิ, กุล, รองอธิบดี, กรม, การค้า, ระหว่างป...</td>\n",
              "    </tr>\n",
              "    <tr>\n",
              "      <th>35451</th>\n",
              "      <td>1019975</td>\n",
              "      <td>2022-08-09 17:09:00</td>\n",
              "      <td>เศรษฐกิจ</td>\n",
              "      <td>\"ราคาน้ำมันพรุ่งนี้ 2565\" 10 ส.ค. 65 อัปเดตราค...</td>\n",
              "      <td>\"ราคาน้ำมันพรุ่งนี้ 2565 ล่าสุด\" 10 ส.ค. 65 เช...</td>\n",
              "      <td>\"ราคาน้ำมันพรุ่งนี้ 2565 ล่าสุด\" อัปเดตข้อมูล ...</td>\n",
              "      <td>https://www.bangkokbiznews.com/news/detail/101...</td>\n",
              "      <td>[ราคา, น้ำมัน, พรุ่งนี้, ส.ค., อัปเดต, ราคา, น...</td>\n",
              "      <td>[ราคา, น้ำมัน, พรุ่งนี้, ส.ค., ราคา, น้ำมัน, ท...</td>\n",
              "      <td>[ราคา, น้ำมัน, พรุ่งนี้, อัปเดต, ข้อมูล, วันที...</td>\n",
              "    </tr>\n",
              "    <tr>\n",
              "      <th>35452</th>\n",
              "      <td>1019980</td>\n",
              "      <td>2022-08-09 17:17:00</td>\n",
              "      <td>เศรษฐกิจ</td>\n",
              "      <td>\"ราคาทองวันนี้ 2565\" ( 9 ส.ค.) ปรับ 4 ครั้ง ลง...</td>\n",
              "      <td>\"ราคาทองวันนี้ 2565\" ( 9 ส.ค.) ปรับขึ้น - ลง 4...</td>\n",
              "      <td>\"ราคาทองวันนี้ 2565\" ประจำวันที่ 9 ส.ค.65 เปลี...</td>\n",
              "      <td>https://www.bangkokbiznews.com/news/detail/101...</td>\n",
              "      <td>[ราคา, ทอง, ส.ค., ราคา, ทองรูปพรรณ, ขาย, บาท]</td>\n",
              "      <td>[ราคา, ทอง, ส.ค., จบ, ราคา, ทองคำ, ขาย, บาท, ร...</td>\n",
              "      <td>[ราคา, ทอง, ประจำ, วันที่, ส.ค., น., ประกาศ, ส...</td>\n",
              "    </tr>\n",
              "  </tbody>\n",
              "</table>\n",
              "<p>35453 rows × 10 columns</p>\n",
              "</div>\n",
              "      <button class=\"colab-df-convert\" onclick=\"convertToInteractive('df-f6a68460-c19f-42f9-9374-1f130e666ce1')\"\n",
              "              title=\"Convert this dataframe to an interactive table.\"\n",
              "              style=\"display:none;\">\n",
              "        \n",
              "  <svg xmlns=\"http://www.w3.org/2000/svg\" height=\"24px\"viewBox=\"0 0 24 24\"\n",
              "       width=\"24px\">\n",
              "    <path d=\"M0 0h24v24H0V0z\" fill=\"none\"/>\n",
              "    <path d=\"M18.56 5.44l.94 2.06.94-2.06 2.06-.94-2.06-.94-.94-2.06-.94 2.06-2.06.94zm-11 1L8.5 8.5l.94-2.06 2.06-.94-2.06-.94L8.5 2.5l-.94 2.06-2.06.94zm10 10l.94 2.06.94-2.06 2.06-.94-2.06-.94-.94-2.06-.94 2.06-2.06.94z\"/><path d=\"M17.41 7.96l-1.37-1.37c-.4-.4-.92-.59-1.43-.59-.52 0-1.04.2-1.43.59L10.3 9.45l-7.72 7.72c-.78.78-.78 2.05 0 2.83L4 21.41c.39.39.9.59 1.41.59.51 0 1.02-.2 1.41-.59l7.78-7.78 2.81-2.81c.8-.78.8-2.07 0-2.86zM5.41 20L4 18.59l7.72-7.72 1.47 1.35L5.41 20z\"/>\n",
              "  </svg>\n",
              "      </button>\n",
              "      \n",
              "  <style>\n",
              "    .colab-df-container {\n",
              "      display:flex;\n",
              "      flex-wrap:wrap;\n",
              "      gap: 12px;\n",
              "    }\n",
              "\n",
              "    .colab-df-convert {\n",
              "      background-color: #E8F0FE;\n",
              "      border: none;\n",
              "      border-radius: 50%;\n",
              "      cursor: pointer;\n",
              "      display: none;\n",
              "      fill: #1967D2;\n",
              "      height: 32px;\n",
              "      padding: 0 0 0 0;\n",
              "      width: 32px;\n",
              "    }\n",
              "\n",
              "    .colab-df-convert:hover {\n",
              "      background-color: #E2EBFA;\n",
              "      box-shadow: 0px 1px 2px rgba(60, 64, 67, 0.3), 0px 1px 3px 1px rgba(60, 64, 67, 0.15);\n",
              "      fill: #174EA6;\n",
              "    }\n",
              "\n",
              "    [theme=dark] .colab-df-convert {\n",
              "      background-color: #3B4455;\n",
              "      fill: #D2E3FC;\n",
              "    }\n",
              "\n",
              "    [theme=dark] .colab-df-convert:hover {\n",
              "      background-color: #434B5C;\n",
              "      box-shadow: 0px 1px 3px 1px rgba(0, 0, 0, 0.15);\n",
              "      filter: drop-shadow(0px 1px 2px rgba(0, 0, 0, 0.3));\n",
              "      fill: #FFFFFF;\n",
              "    }\n",
              "  </style>\n",
              "\n",
              "      <script>\n",
              "        const buttonEl =\n",
              "          document.querySelector('#df-f6a68460-c19f-42f9-9374-1f130e666ce1 button.colab-df-convert');\n",
              "        buttonEl.style.display =\n",
              "          google.colab.kernel.accessAllowed ? 'block' : 'none';\n",
              "\n",
              "        async function convertToInteractive(key) {\n",
              "          const element = document.querySelector('#df-f6a68460-c19f-42f9-9374-1f130e666ce1');\n",
              "          const dataTable =\n",
              "            await google.colab.kernel.invokeFunction('convertToInteractive',\n",
              "                                                     [key], {});\n",
              "          if (!dataTable) return;\n",
              "\n",
              "          const docLinkHtml = 'Like what you see? Visit the ' +\n",
              "            '<a target=\"_blank\" href=https://colab.research.google.com/notebooks/data_table.ipynb>data table notebook</a>'\n",
              "            + ' to learn more about interactive tables.';\n",
              "          element.innerHTML = '';\n",
              "          dataTable['output_type'] = 'display_data';\n",
              "          await google.colab.output.renderOutput(dataTable, element);\n",
              "          const docLink = document.createElement('div');\n",
              "          docLink.innerHTML = docLinkHtml;\n",
              "          element.appendChild(docLink);\n",
              "        }\n",
              "      </script>\n",
              "    </div>\n",
              "  </div>\n",
              "  "
            ]
          },
          "metadata": {},
          "execution_count": 18
        }
      ]
    },
    {
      "cell_type": "markdown",
      "source": [
        "#Part 3: Exploratory Data Analysis (EDA)\n",
        "---"
      ],
      "metadata": {
        "id": "HWvymWdV-od8"
      }
    },
    {
      "cell_type": "markdown",
      "source": [
        "##3.1 Overall"
      ],
      "metadata": {
        "id": "8Nk8eRG0mmxW"
      }
    },
    {
      "cell_type": "code",
      "source": [
        "# Write word_count() function\n",
        "cols = ['title', 'description', 'article']\n",
        "\n",
        "for col in cols:\n",
        "  bkkbiz[col+'_word_count'] = bkkbiz[col].str.split().str.len()"
      ],
      "metadata": {
        "id": "LumKOHD-edfb"
      },
      "execution_count": null,
      "outputs": []
    },
    {
      "cell_type": "code",
      "source": [
        "bkkbiz.head()"
      ],
      "metadata": {
        "colab": {
          "base_uri": "https://localhost:8080/",
          "height": 756
        },
        "id": "-3z3eJ1LfCRV",
        "outputId": "b55bb38f-8dcf-413a-fab3-7b2c32d3f228"
      },
      "execution_count": null,
      "outputs": [
        {
          "output_type": "execute_result",
          "data": {
            "text/plain": [
              "       ID                date          category  \\\n",
              "0  620001 2014-11-27 08:01:00        ต่างประเทศ   \n",
              "1  620002 2014-11-27 08:20:00        ต่างประเทศ   \n",
              "2  620009 2014-11-27 09:34:00  การเงิน-การลงทุน   \n",
              "3  620010 2014-11-27 09:36:00  การเงิน-การลงทุน   \n",
              "4  620011 2014-11-27 09:48:00  การเงิน-การลงทุน   \n",
              "\n",
              "                                     title  \\\n",
              "0  น้ำมันดิบปิดร่วง-คาดโอเปคไม่ลดกำลังผลิต   \n",
              "1   ทองคำปิดร่วงหลังสหรัฐเผยข้อมูลเศรษฐกิจ   \n",
              "2      ทองแท่งขายออก18,600บ.ไม่เปลี่ยนแปลง   \n",
              "3           เงินบาทเปิด32.75/77คาดแกว่งแคบ   \n",
              "4                 คาดหุ้นเช้าแกว่งไซด์เวย์   \n",
              "\n",
              "                                         description  \\\n",
              "0  น้ำมันดิบปิดร่วงแตะระดับต่ำสุดในรอบ 4 ปี-คาดโอ...   \n",
              "1  สัญญาทองคำตลาดล่วงหน้าสหรัฐ ปิดปรับตัวลงเล็กน้...   \n",
              "2  ราคาทองคำวันนี้ทองแท่งขายออกบาทละ 18,600 บาท ท...   \n",
              "3  ค่าเงินบาทเปิดที่ 32.75/77 บาท/ดอลลาร์ คาดแกว่...   \n",
              "4  โบรกฯ คาดหุ้นเช้านี้แกว่งไซด์เวย์ช่วงไร้ปัจจัย...   \n",
              "\n",
              "                                             article  \\\n",
              "0  สัญญาน้ำมันดิบตลาดล่วงหน้าสหรัฐ ปิดตลาดปรับตัว...   \n",
              "1  สัญญาทองคำตลาดล่วงหน้าสหรัฐ ปิดปรับตัวลงเล็กน้...   \n",
              "2  สมาคมค้าทองคำรายงานราคาทอง 96.5% ประจำวันที่ 2...   \n",
              "3  นักบริหารเงินจากธนาคารพาณิชย์ เปิดเผยว่า เงินบ...   \n",
              "4  นายอภิชาติ ผู้บรรเจิดกุล ผู้อำนวยการสายงานวิเค...   \n",
              "\n",
              "                                                 url  title_word_count  \\\n",
              "0  https://www.bangkokbiznews.com/news/detail/620001                 1   \n",
              "1  https://www.bangkokbiznews.com/news/detail/620002                 1   \n",
              "2  https://www.bangkokbiznews.com/news/detail/620009                 1   \n",
              "3  https://www.bangkokbiznews.com/news/detail/620010                 1   \n",
              "4  https://www.bangkokbiznews.com/news/detail/620011                 1   \n",
              "\n",
              "   description_word_count  article_word_count  \n",
              "0                       3                  47  \n",
              "1                       3                  31  \n",
              "2                       7                  29  \n",
              "3                       8                  46  \n",
              "4                       2                  50  "
            ],
            "text/html": [
              "\n",
              "  <div id=\"df-eb1aa308-80fb-4fa9-acbe-5dc5294a754e\">\n",
              "    <div class=\"colab-df-container\">\n",
              "      <div>\n",
              "<style scoped>\n",
              "    .dataframe tbody tr th:only-of-type {\n",
              "        vertical-align: middle;\n",
              "    }\n",
              "\n",
              "    .dataframe tbody tr th {\n",
              "        vertical-align: top;\n",
              "    }\n",
              "\n",
              "    .dataframe thead th {\n",
              "        text-align: right;\n",
              "    }\n",
              "</style>\n",
              "<table border=\"1\" class=\"dataframe\">\n",
              "  <thead>\n",
              "    <tr style=\"text-align: right;\">\n",
              "      <th></th>\n",
              "      <th>ID</th>\n",
              "      <th>date</th>\n",
              "      <th>category</th>\n",
              "      <th>title</th>\n",
              "      <th>description</th>\n",
              "      <th>article</th>\n",
              "      <th>url</th>\n",
              "      <th>title_word_count</th>\n",
              "      <th>description_word_count</th>\n",
              "      <th>article_word_count</th>\n",
              "    </tr>\n",
              "  </thead>\n",
              "  <tbody>\n",
              "    <tr>\n",
              "      <th>0</th>\n",
              "      <td>620001</td>\n",
              "      <td>2014-11-27 08:01:00</td>\n",
              "      <td>ต่างประเทศ</td>\n",
              "      <td>น้ำมันดิบปิดร่วง-คาดโอเปคไม่ลดกำลังผลิต</td>\n",
              "      <td>น้ำมันดิบปิดร่วงแตะระดับต่ำสุดในรอบ 4 ปี-คาดโอ...</td>\n",
              "      <td>สัญญาน้ำมันดิบตลาดล่วงหน้าสหรัฐ ปิดตลาดปรับตัว...</td>\n",
              "      <td>https://www.bangkokbiznews.com/news/detail/620001</td>\n",
              "      <td>1</td>\n",
              "      <td>3</td>\n",
              "      <td>47</td>\n",
              "    </tr>\n",
              "    <tr>\n",
              "      <th>1</th>\n",
              "      <td>620002</td>\n",
              "      <td>2014-11-27 08:20:00</td>\n",
              "      <td>ต่างประเทศ</td>\n",
              "      <td>ทองคำปิดร่วงหลังสหรัฐเผยข้อมูลเศรษฐกิจ</td>\n",
              "      <td>สัญญาทองคำตลาดล่วงหน้าสหรัฐ ปิดปรับตัวลงเล็กน้...</td>\n",
              "      <td>สัญญาทองคำตลาดล่วงหน้าสหรัฐ ปิดปรับตัวลงเล็กน้...</td>\n",
              "      <td>https://www.bangkokbiznews.com/news/detail/620002</td>\n",
              "      <td>1</td>\n",
              "      <td>3</td>\n",
              "      <td>31</td>\n",
              "    </tr>\n",
              "    <tr>\n",
              "      <th>2</th>\n",
              "      <td>620009</td>\n",
              "      <td>2014-11-27 09:34:00</td>\n",
              "      <td>การเงิน-การลงทุน</td>\n",
              "      <td>ทองแท่งขายออก18,600บ.ไม่เปลี่ยนแปลง</td>\n",
              "      <td>ราคาทองคำวันนี้ทองแท่งขายออกบาทละ 18,600 บาท ท...</td>\n",
              "      <td>สมาคมค้าทองคำรายงานราคาทอง 96.5% ประจำวันที่ 2...</td>\n",
              "      <td>https://www.bangkokbiznews.com/news/detail/620009</td>\n",
              "      <td>1</td>\n",
              "      <td>7</td>\n",
              "      <td>29</td>\n",
              "    </tr>\n",
              "    <tr>\n",
              "      <th>3</th>\n",
              "      <td>620010</td>\n",
              "      <td>2014-11-27 09:36:00</td>\n",
              "      <td>การเงิน-การลงทุน</td>\n",
              "      <td>เงินบาทเปิด32.75/77คาดแกว่งแคบ</td>\n",
              "      <td>ค่าเงินบาทเปิดที่ 32.75/77 บาท/ดอลลาร์ คาดแกว่...</td>\n",
              "      <td>นักบริหารเงินจากธนาคารพาณิชย์ เปิดเผยว่า เงินบ...</td>\n",
              "      <td>https://www.bangkokbiznews.com/news/detail/620010</td>\n",
              "      <td>1</td>\n",
              "      <td>8</td>\n",
              "      <td>46</td>\n",
              "    </tr>\n",
              "    <tr>\n",
              "      <th>4</th>\n",
              "      <td>620011</td>\n",
              "      <td>2014-11-27 09:48:00</td>\n",
              "      <td>การเงิน-การลงทุน</td>\n",
              "      <td>คาดหุ้นเช้าแกว่งไซด์เวย์</td>\n",
              "      <td>โบรกฯ คาดหุ้นเช้านี้แกว่งไซด์เวย์ช่วงไร้ปัจจัย...</td>\n",
              "      <td>นายอภิชาติ ผู้บรรเจิดกุล ผู้อำนวยการสายงานวิเค...</td>\n",
              "      <td>https://www.bangkokbiznews.com/news/detail/620011</td>\n",
              "      <td>1</td>\n",
              "      <td>2</td>\n",
              "      <td>50</td>\n",
              "    </tr>\n",
              "  </tbody>\n",
              "</table>\n",
              "</div>\n",
              "      <button class=\"colab-df-convert\" onclick=\"convertToInteractive('df-eb1aa308-80fb-4fa9-acbe-5dc5294a754e')\"\n",
              "              title=\"Convert this dataframe to an interactive table.\"\n",
              "              style=\"display:none;\">\n",
              "        \n",
              "  <svg xmlns=\"http://www.w3.org/2000/svg\" height=\"24px\"viewBox=\"0 0 24 24\"\n",
              "       width=\"24px\">\n",
              "    <path d=\"M0 0h24v24H0V0z\" fill=\"none\"/>\n",
              "    <path d=\"M18.56 5.44l.94 2.06.94-2.06 2.06-.94-2.06-.94-.94-2.06-.94 2.06-2.06.94zm-11 1L8.5 8.5l.94-2.06 2.06-.94-2.06-.94L8.5 2.5l-.94 2.06-2.06.94zm10 10l.94 2.06.94-2.06 2.06-.94-2.06-.94-.94-2.06-.94 2.06-2.06.94z\"/><path d=\"M17.41 7.96l-1.37-1.37c-.4-.4-.92-.59-1.43-.59-.52 0-1.04.2-1.43.59L10.3 9.45l-7.72 7.72c-.78.78-.78 2.05 0 2.83L4 21.41c.39.39.9.59 1.41.59.51 0 1.02-.2 1.41-.59l7.78-7.78 2.81-2.81c.8-.78.8-2.07 0-2.86zM5.41 20L4 18.59l7.72-7.72 1.47 1.35L5.41 20z\"/>\n",
              "  </svg>\n",
              "      </button>\n",
              "      \n",
              "  <style>\n",
              "    .colab-df-container {\n",
              "      display:flex;\n",
              "      flex-wrap:wrap;\n",
              "      gap: 12px;\n",
              "    }\n",
              "\n",
              "    .colab-df-convert {\n",
              "      background-color: #E8F0FE;\n",
              "      border: none;\n",
              "      border-radius: 50%;\n",
              "      cursor: pointer;\n",
              "      display: none;\n",
              "      fill: #1967D2;\n",
              "      height: 32px;\n",
              "      padding: 0 0 0 0;\n",
              "      width: 32px;\n",
              "    }\n",
              "\n",
              "    .colab-df-convert:hover {\n",
              "      background-color: #E2EBFA;\n",
              "      box-shadow: 0px 1px 2px rgba(60, 64, 67, 0.3), 0px 1px 3px 1px rgba(60, 64, 67, 0.15);\n",
              "      fill: #174EA6;\n",
              "    }\n",
              "\n",
              "    [theme=dark] .colab-df-convert {\n",
              "      background-color: #3B4455;\n",
              "      fill: #D2E3FC;\n",
              "    }\n",
              "\n",
              "    [theme=dark] .colab-df-convert:hover {\n",
              "      background-color: #434B5C;\n",
              "      box-shadow: 0px 1px 3px 1px rgba(0, 0, 0, 0.15);\n",
              "      filter: drop-shadow(0px 1px 2px rgba(0, 0, 0, 0.3));\n",
              "      fill: #FFFFFF;\n",
              "    }\n",
              "  </style>\n",
              "\n",
              "      <script>\n",
              "        const buttonEl =\n",
              "          document.querySelector('#df-eb1aa308-80fb-4fa9-acbe-5dc5294a754e button.colab-df-convert');\n",
              "        buttonEl.style.display =\n",
              "          google.colab.kernel.accessAllowed ? 'block' : 'none';\n",
              "\n",
              "        async function convertToInteractive(key) {\n",
              "          const element = document.querySelector('#df-eb1aa308-80fb-4fa9-acbe-5dc5294a754e');\n",
              "          const dataTable =\n",
              "            await google.colab.kernel.invokeFunction('convertToInteractive',\n",
              "                                                     [key], {});\n",
              "          if (!dataTable) return;\n",
              "\n",
              "          const docLinkHtml = 'Like what you see? Visit the ' +\n",
              "            '<a target=\"_blank\" href=https://colab.research.google.com/notebooks/data_table.ipynb>data table notebook</a>'\n",
              "            + ' to learn more about interactive tables.';\n",
              "          element.innerHTML = '';\n",
              "          dataTable['output_type'] = 'display_data';\n",
              "          await google.colab.output.renderOutput(dataTable, element);\n",
              "          const docLink = document.createElement('div');\n",
              "          docLink.innerHTML = docLinkHtml;\n",
              "          element.appendChild(docLink);\n",
              "        }\n",
              "      </script>\n",
              "    </div>\n",
              "  </div>\n",
              "  "
            ]
          },
          "metadata": {},
          "execution_count": 20
        }
      ]
    },
    {
      "cell_type": "code",
      "source": [
        "# Plot word count with histogram\n",
        "\n",
        "# Word_count column list\n",
        "\n",
        "\n",
        "# Set subplots\n",
        "fig, ax = plt.subplots(3, 1, figsize=(10,15))\n",
        "\n",
        "# Create histogram of each word count columns by looping\n",
        "for n, col in enumerate(cols_word_count):\n",
        "    sns.histplot(data=df, \n",
        "                 x=col, \n",
        "                 bins=30, \n",
        "                 color='salmon', \n",
        "                 ax=ax[n]).\\\n",
        "                set_title(col, size=20)\n",
        "\n",
        "plt.tight_layout()"
      ],
      "metadata": {
        "id": "egTI5iBZVhYu",
        "colab": {
          "base_uri": "https://localhost:8080/",
          "height": 1000
        },
        "outputId": "1a1f4937-bc7c-43e2-ec86-79964d259f20"
      },
      "execution_count": null,
      "outputs": [
        {
          "output_type": "error",
          "ename": "NameError",
          "evalue": "ignored",
          "traceback": [
            "\u001b[0;31m---------------------------------------------------------------------------\u001b[0m",
            "\u001b[0;31mNameError\u001b[0m                                 Traceback (most recent call last)",
            "\u001b[0;32m<ipython-input-21-41ab1a7b9896>\u001b[0m in \u001b[0;36m<module>\u001b[0;34m\u001b[0m\n\u001b[1;32m      8\u001b[0m \u001b[0;34m\u001b[0m\u001b[0m\n\u001b[1;32m      9\u001b[0m \u001b[0;31m# Create histogram of each word count columns by looping\u001b[0m\u001b[0;34m\u001b[0m\u001b[0;34m\u001b[0m\u001b[0;34m\u001b[0m\u001b[0m\n\u001b[0;32m---> 10\u001b[0;31m \u001b[0;32mfor\u001b[0m \u001b[0mn\u001b[0m\u001b[0;34m,\u001b[0m \u001b[0mcol\u001b[0m \u001b[0;32min\u001b[0m \u001b[0menumerate\u001b[0m\u001b[0;34m(\u001b[0m\u001b[0mcols_word_count\u001b[0m\u001b[0;34m)\u001b[0m\u001b[0;34m:\u001b[0m\u001b[0;34m\u001b[0m\u001b[0;34m\u001b[0m\u001b[0m\n\u001b[0m\u001b[1;32m     11\u001b[0m     sns.histplot(data=df, \n\u001b[1;32m     12\u001b[0m                  \u001b[0mx\u001b[0m\u001b[0;34m=\u001b[0m\u001b[0mcol\u001b[0m\u001b[0;34m,\u001b[0m\u001b[0;34m\u001b[0m\u001b[0;34m\u001b[0m\u001b[0m\n",
            "\u001b[0;31mNameError\u001b[0m: name 'cols_word_count' is not defined"
          ]
        },
        {
          "output_type": "display_data",
          "data": {
            "text/plain": [
              "<Figure size 720x1080 with 3 Axes>"
            ],
            "image/png": "[encoded data removed]"
          },
          "metadata": {
            "needs_background": "light"
          }
        }
      ]
    },
    {
      "cell_type": "markdown",
      "source": [
        "##3.2 Econ Corpus"
      ],
      "metadata": {
        "id": "A0QnzfHwmuxq"
      }
    },
    {
      "cell_type": "code",
      "source": [
        "word_tokenize(econ['title'][0] ,keep_whitespace=False)"
      ],
      "metadata": {
        "colab": {
          "base_uri": "https://localhost:8080/"
        },
        "id": "sZAUxXeD_WOW",
        "outputId": "8228b2e8-02d9-4f82-dc7a-b0e0716f2369"
      },
      "execution_count": null,
      "outputs": [
        {
          "output_type": "execute_result",
          "data": {
            "text/plain": [
              "['ซี', 'พี', 'เอฟ', 'ร่วม', 'ลด', 'ก๊าซ', 'เรือนกระจก']"
            ]
          },
          "metadata": {},
          "execution_count": 22
        }
      ]
    },
    {
      "cell_type": "code",
      "source": [
        "def tokenize_2():\n",
        "  return len(word_tokenize(econ['title'] ,keep_whitespace=False))"
      ],
      "metadata": {
        "id": "iUrs4bbnAwOy"
      },
      "execution_count": null,
      "outputs": []
    },
    {
      "cell_type": "code",
      "source": [
        "len(econ['title'][0].split())"
      ],
      "metadata": {
        "colab": {
          "base_uri": "https://localhost:8080/"
        },
        "id": "ixD24VAdGYe0",
        "outputId": "57304a60-32c5-445c-fec4-eac625d86f50"
      },
      "execution_count": null,
      "outputs": [
        {
          "output_type": "execute_result",
          "data": {
            "text/plain": [
              "1"
            ]
          },
          "metadata": {},
          "execution_count": 24
        }
      ]
    },
    {
      "cell_type": "code",
      "source": [
        "econ['title'][0].split()"
      ],
      "metadata": {
        "colab": {
          "base_uri": "https://localhost:8080/"
        },
        "id": "_K9m8di9Hfd2",
        "outputId": "e0bacda1-f596-4067-b8e4-e19582d6a7a3"
      },
      "execution_count": null,
      "outputs": [
        {
          "output_type": "execute_result",
          "data": {
            "text/plain": [
              "['ซีพีเอฟร่วมลดก๊าซเรือนกระจก']"
            ]
          },
          "metadata": {},
          "execution_count": 25
        }
      ]
    },
    {
      "cell_type": "code",
      "source": [
        "column_list = ['title', 'description', 'article']\n",
        "\n",
        "for column in column_list:\n",
        "  econ[column+'_count'] = econ[column].apply(lambda x: len(word_tokenize(x, keep_whitespace=False)))"
      ],
      "metadata": {
        "id": "2PXL_c_vH6Ha"
      },
      "execution_count": null,
      "outputs": []
    },
    {
      "cell_type": "code",
      "source": [
        "econ['title_count'] = econ['title'].apply(lambda x: len(word_tokenize(x, keep_whitespace=False)))"
      ],
      "metadata": {
        "id": "mmoCOy5DGPmU"
      },
      "execution_count": null,
      "outputs": []
    },
    {
      "cell_type": "code",
      "source": [
        "econ"
      ],
      "metadata": {
        "colab": {
          "base_uri": "https://localhost:8080/",
          "height": 1000
        },
        "id": "b3HQ1NT9GYle",
        "outputId": "caa9442a-99a1-4856-f900-030d0f92f61d"
      },
      "execution_count": null,
      "outputs": [
        {
          "output_type": "execute_result",
          "data": {
            "text/plain": [
              "            ID                date  category  \\\n",
              "0       632149 2015-01-30 18:20:00  เศรษฐกิจ   \n",
              "1       632695 2015-02-03 16:30:00  เศรษฐกิจ   \n",
              "2       633724 2015-02-09 10:03:00  เศรษฐกิจ   \n",
              "3       633727 2015-02-09 10:20:00  เศรษฐกิจ   \n",
              "4       633738 2015-02-09 11:02:00  เศรษฐกิจ   \n",
              "...        ...                 ...       ...   \n",
              "35448  1019949 2022-08-09 15:28:00  เศรษฐกิจ   \n",
              "35449  1019952 2022-08-09 15:37:00  เศรษฐกิจ   \n",
              "35450  1019968 2022-08-09 16:29:00  เศรษฐกิจ   \n",
              "35451  1019975 2022-08-09 17:09:00  เศรษฐกิจ   \n",
              "35452  1019980 2022-08-09 17:17:00  เศรษฐกิจ   \n",
              "\n",
              "                                                   title  \\\n",
              "0                            ซีพีเอฟร่วมลดก๊าซเรือนกระจก   \n",
              "1                     จับตายักษ์ใหญ่คว้า'โซลาร์'กองทัพบก   \n",
              "2                             หวั่น'ส่งออก'ทรุดต่อเนื่อง   \n",
              "3                           จี้'แบงก์รัฐ'ดันแพ็คเกจแก้จน   \n",
              "4                              ดอลลาร์แข็งฉุด'หนี้นอก'ลด   \n",
              "...                                                  ...   \n",
              "35448  ครม.ไฟเขียวแผนปฏิบัติการพัฒนาภาคเกษตรในอีอีซี ...   \n",
              "35449  ครม.เคาะสิทธิประโยชน์เมืองการบินภาคตะวันออก ดั...   \n",
              "35450  'อาเซียน-จีน' จับมืออัพเกรดเอฟทีเอ ตั้งเป้าประ...   \n",
              "35451  \"ราคาน้ำมันพรุ่งนี้ 2565\" 10 ส.ค. 65 อัปเดตราค...   \n",
              "35452  \"ราคาทองวันนี้ 2565\" ( 9 ส.ค.) ปรับ 4 ครั้ง ลง...   \n",
              "\n",
              "                                             description  \\\n",
              "0      ซีพีเอฟ ลงนามความร่วมมือโครงการต้นแบบลดก๊าซเรื...   \n",
              "1      จับตายักษ์ใหญ่คว้า\"โซลาร์\"กองทัพบก ปูดบ.รีนิวเ...   \n",
              "2      นักเศรษฐศาสตร์-นักการเงิน ห่วงส่งออกไทยหดตัวต่...   \n",
              "3      กระทรวงคลัง เผย \"แบงก์รัฐ\" เร่งทำโครงการช่วยเห...   \n",
              "4      \"แบงก์ชาติ\" เผยอดหนี้ต่างประเทศเดือนธ.ค. รวมกว...   \n",
              "...                                                  ...   \n",
              "35448  ครม.เห็นชอบร่างแผนปฏิบัติการพัฒนาการเกษตรในเขต...   \n",
              "35449  \"ครม.\" เคาะ! ชุดสิทธิประโยชน์ในเขตส่งเสริมเศรษ...   \n",
              "35450  'อาเซียน-จีน' เดินหน้ายกระดับความตกลง ACFTA ให...   \n",
              "35451  \"ราคาน้ำมันพรุ่งนี้ 2565 ล่าสุด\" 10 ส.ค. 65 เช...   \n",
              "35452  \"ราคาทองวันนี้ 2565\" ( 9 ส.ค.) ปรับขึ้น - ลง 4...   \n",
              "\n",
              "                                                 article  \\\n",
              "0      นายสุนันต์ อรุณนพรัตน์(ที่ 4 จากซ้าย) ผู้ช่วยร...   \n",
              "1      รายงานข่าวจากวงการพลังงาน เปิดเผยว่า จากการที่...   \n",
              "2      \"กอบศักดิ์\" ชี้เงินบาทแข็งเกินพื้นฐาน ด้าน \"ตี...   \n",
              "3      แหล่งข่าวจากกระทรวงการคลัง เปิดเผยว่า สถาบันกา...   \n",
              "4      รายงานข่าวจากธนาคารแห่งประเทศไทย (ธปท.) เปิดเผ...   \n",
              "...                                                  ...   \n",
              "35448  นางสาวรัชดา ธนาดิเรก รองโฆษกประจำสำนักนายกรัฐม...   \n",
              "35449  นางสาวรัชดา ธนาดิเรก รองโฆษกประจำสำนักนายกรัฐม...   \n",
              "35450  นางสาวโชติมา เอี่ยมสวัสดิกุล รองอธิบดีกรมเจรจา...   \n",
              "35451  \"ราคาน้ำมันพรุ่งนี้ 2565 ล่าสุด\" อัปเดตข้อมูล ...   \n",
              "35452  \"ราคาทองวันนี้ 2565\" ประจำวันที่ 9 ส.ค.65 เปลี...   \n",
              "\n",
              "                                                     url  \\\n",
              "0      https://www.bangkokbiznews.com/news/detail/632149   \n",
              "1      https://www.bangkokbiznews.com/news/detail/632695   \n",
              "2      https://www.bangkokbiznews.com/news/detail/633724   \n",
              "3      https://www.bangkokbiznews.com/news/detail/633727   \n",
              "4      https://www.bangkokbiznews.com/news/detail/633738   \n",
              "...                                                  ...   \n",
              "35448  https://www.bangkokbiznews.com/news/detail/101...   \n",
              "35449  https://www.bangkokbiznews.com/news/detail/101...   \n",
              "35450  https://www.bangkokbiznews.com/news/detail/101...   \n",
              "35451  https://www.bangkokbiznews.com/news/detail/101...   \n",
              "35452  https://www.bangkokbiznews.com/news/detail/101...   \n",
              "\n",
              "                                          title_tokenize  \\\n",
              "0                                     [ซี, พี, ลด, ก๊าซ]   \n",
              "1                         [จับตา, ยักษ์, คว้า, กองทัพบก]   \n",
              "2                       [หวั่น, ส่งออก, ทรุด, ต่อเนื่อง]   \n",
              "3                                        [จี้, รัฐ, ดัน]   \n",
              "4                                   [ดอลลาร์, ฉุด, หนี้]   \n",
              "...                                                  ...   \n",
              "35448                     [ครม., การพัฒนา, อี, อีซี, ปี]   \n",
              "35449          [ครม., สิทธิประโยชน์, บิน, ตะวันออก, ดัน]   \n",
              "35450  [อาเซียน, จีน, จับมือ, อัพเกรด, ตั้งเป้า, ประก...   \n",
              "35451  [ราคา, น้ำมัน, พรุ่งนี้, ส.ค., อัปเดต, ราคา, น...   \n",
              "35452      [ราคา, ทอง, ส.ค., ราคา, ทองรูปพรรณ, ขาย, บาท]   \n",
              "\n",
              "                                    description_tokenize  \\\n",
              "0      [ซี, พี, ลงนาม, ความร่วมมือ, ต้นแบบ, ลด, ก๊าซ,...   \n",
              "1      [จับตา, ยักษ์, คว้า, กองทัพบก, ปูด, บ., รี, นิ...   \n",
              "2      [นักเศรษฐศาสตร์, การเงิน, ห่วง, ส่งออก, หดตัว,...   \n",
              "3      [กระทรวง, คลัง, รัฐ, ทำ, ช่วยเหลือ, คนจน, ลด, ...   \n",
              "4      [ชาติ, ยอด, หนี้, ต่างประเทศ, ธ.ค., ล้าน, ดอลล...   \n",
              "...                                                  ...   \n",
              "35448  [ครม., ร่าง, การพัฒนา, การเกษตร, EEC, ปี, ชู, ...   \n",
              "35449  [ครม., ชุด, สิทธิประโยชน์, ส่งเสริม, พิเศษ, บิ...   \n",
              "35450  [อาเซียน, จีน, ยกระดับ, ความตกลง, ACFTA, ทันสม...   \n",
              "35451  [ราคา, น้ำมัน, พรุ่งนี้, ส.ค., ราคา, น้ำมัน, ท...   \n",
              "35452  [ราคา, ทอง, ส.ค., จบ, ราคา, ทองคำ, ขาย, บาท, ร...   \n",
              "\n",
              "                                        article_tokenize  title_count  \\\n",
              "0      [สุ, นันต์, อรุณ, นพรัตน์, ซ้าย, ผู้ช่วย, รัฐม...            7   \n",
              "1      [รายงาน, ข่าว, วงการ, พลังงาน, กองทัพบก, ทำหนั...            8   \n",
              "2      [กอบ, ศักดิ์, ชี้, พื้นฐาน, ตี, รณ, ห่วง, ติดล...            6   \n",
              "3      [กระทรวงการคลัง, สถาบันการเงิน, รัฐ, ธนาคารเพื...            9   \n",
              "4      [รายงาน, ข่าว, ธนาคารแห่งประเทศไทย, ธปท., หนี้...            7   \n",
              "...                                                  ...          ...   \n",
              "35448  [รัชดา, ธนา, ดิเรก, รอง, ประจำ, สำนักนายกรัฐมน...           15   \n",
              "35449  [รัชดา, ธนา, ดิเรก, รอง, ประจำ, สำนักนายกรัฐมน...           11   \n",
              "35450  [สวัสดิ, กุล, รองอธิบดี, กรม, การค้า, ระหว่างป...           14   \n",
              "35451  [ราคา, น้ำมัน, พรุ่งนี้, อัปเดต, ข้อมูล, วันที...           18   \n",
              "35452  [ราคา, ทอง, ประจำ, วันที่, ส.ค., น., ประกาศ, ส...           20   \n",
              "\n",
              "       description_count  article_count  \n",
              "0                     13            111  \n",
              "1                     30            481  \n",
              "2                     21           1423  \n",
              "3                     17            829  \n",
              "4                     23            722  \n",
              "...                  ...            ...  \n",
              "35448                 23            156  \n",
              "35449                 23            234  \n",
              "35450                 37            223  \n",
              "35451                 35             84  \n",
              "35452                 33             55  \n",
              "\n",
              "[35453 rows x 13 columns]"
            ],
            "text/html": [
              "\n",
              "  <div id=\"df-326dcd10-5ff2-4ad5-b401-14d3aae01b5f\">\n",
              "    <div class=\"colab-df-container\">\n",
              "      <div>\n",
              "<style scoped>\n",
              "    .dataframe tbody tr th:only-of-type {\n",
              "        vertical-align: middle;\n",
              "    }\n",
              "\n",
              "    .dataframe tbody tr th {\n",
              "        vertical-align: top;\n",
              "    }\n",
              "\n",
              "    .dataframe thead th {\n",
              "        text-align: right;\n",
              "    }\n",
              "</style>\n",
              "<table border=\"1\" class=\"dataframe\">\n",
              "  <thead>\n",
              "    <tr style=\"text-align: right;\">\n",
              "      <th></th>\n",
              "      <th>ID</th>\n",
              "      <th>date</th>\n",
              "      <th>category</th>\n",
              "      <th>title</th>\n",
              "      <th>description</th>\n",
              "      <th>article</th>\n",
              "      <th>url</th>\n",
              "      <th>title_tokenize</th>\n",
              "      <th>description_tokenize</th>\n",
              "      <th>article_tokenize</th>\n",
              "      <th>title_count</th>\n",
              "      <th>description_count</th>\n",
              "      <th>article_count</th>\n",
              "    </tr>\n",
              "  </thead>\n",
              "  <tbody>\n",
              "    <tr>\n",
              "      <th>0</th>\n",
              "      <td>632149</td>\n",
              "      <td>2015-01-30 18:20:00</td>\n",
              "      <td>เศรษฐกิจ</td>\n",
              "      <td>ซีพีเอฟร่วมลดก๊าซเรือนกระจก</td>\n",
              "      <td>ซีพีเอฟ ลงนามความร่วมมือโครงการต้นแบบลดก๊าซเรื...</td>\n",
              "      <td>นายสุนันต์ อรุณนพรัตน์(ที่ 4 จากซ้าย) ผู้ช่วยร...</td>\n",
              "      <td>https://www.bangkokbiznews.com/news/detail/632149</td>\n",
              "      <td>[ซี, พี, ลด, ก๊าซ]</td>\n",
              "      <td>[ซี, พี, ลงนาม, ความร่วมมือ, ต้นแบบ, ลด, ก๊าซ,...</td>\n",
              "      <td>[สุ, นันต์, อรุณ, นพรัตน์, ซ้าย, ผู้ช่วย, รัฐม...</td>\n",
              "      <td>7</td>\n",
              "      <td>13</td>\n",
              "      <td>111</td>\n",
              "    </tr>\n",
              "    <tr>\n",
              "      <th>1</th>\n",
              "      <td>632695</td>\n",
              "      <td>2015-02-03 16:30:00</td>\n",
              "      <td>เศรษฐกิจ</td>\n",
              "      <td>จับตายักษ์ใหญ่คว้า'โซลาร์'กองทัพบก</td>\n",
              "      <td>จับตายักษ์ใหญ่คว้า\"โซลาร์\"กองทัพบก ปูดบ.รีนิวเ...</td>\n",
              "      <td>รายงานข่าวจากวงการพลังงาน เปิดเผยว่า จากการที่...</td>\n",
              "      <td>https://www.bangkokbiznews.com/news/detail/632695</td>\n",
              "      <td>[จับตา, ยักษ์, คว้า, กองทัพบก]</td>\n",
              "      <td>[จับตา, ยักษ์, คว้า, กองทัพบก, ปูด, บ., รี, นิ...</td>\n",
              "      <td>[รายงาน, ข่าว, วงการ, พลังงาน, กองทัพบก, ทำหนั...</td>\n",
              "      <td>8</td>\n",
              "      <td>30</td>\n",
              "      <td>481</td>\n",
              "    </tr>\n",
              "    <tr>\n",
              "      <th>2</th>\n",
              "      <td>633724</td>\n",
              "      <td>2015-02-09 10:03:00</td>\n",
              "      <td>เศรษฐกิจ</td>\n",
              "      <td>หวั่น'ส่งออก'ทรุดต่อเนื่อง</td>\n",
              "      <td>นักเศรษฐศาสตร์-นักการเงิน ห่วงส่งออกไทยหดตัวต่...</td>\n",
              "      <td>\"กอบศักดิ์\" ชี้เงินบาทแข็งเกินพื้นฐาน ด้าน \"ตี...</td>\n",
              "      <td>https://www.bangkokbiznews.com/news/detail/633724</td>\n",
              "      <td>[หวั่น, ส่งออก, ทรุด, ต่อเนื่อง]</td>\n",
              "      <td>[นักเศรษฐศาสตร์, การเงิน, ห่วง, ส่งออก, หดตัว,...</td>\n",
              "      <td>[กอบ, ศักดิ์, ชี้, พื้นฐาน, ตี, รณ, ห่วง, ติดล...</td>\n",
              "      <td>6</td>\n",
              "      <td>21</td>\n",
              "      <td>1423</td>\n",
              "    </tr>\n",
              "    <tr>\n",
              "      <th>3</th>\n",
              "      <td>633727</td>\n",
              "      <td>2015-02-09 10:20:00</td>\n",
              "      <td>เศรษฐกิจ</td>\n",
              "      <td>จี้'แบงก์รัฐ'ดันแพ็คเกจแก้จน</td>\n",
              "      <td>กระทรวงคลัง เผย \"แบงก์รัฐ\" เร่งทำโครงการช่วยเห...</td>\n",
              "      <td>แหล่งข่าวจากกระทรวงการคลัง เปิดเผยว่า สถาบันกา...</td>\n",
              "      <td>https://www.bangkokbiznews.com/news/detail/633727</td>\n",
              "      <td>[จี้, รัฐ, ดัน]</td>\n",
              "      <td>[กระทรวง, คลัง, รัฐ, ทำ, ช่วยเหลือ, คนจน, ลด, ...</td>\n",
              "      <td>[กระทรวงการคลัง, สถาบันการเงิน, รัฐ, ธนาคารเพื...</td>\n",
              "      <td>9</td>\n",
              "      <td>17</td>\n",
              "      <td>829</td>\n",
              "    </tr>\n",
              "    <tr>\n",
              "      <th>4</th>\n",
              "      <td>633738</td>\n",
              "      <td>2015-02-09 11:02:00</td>\n",
              "      <td>เศรษฐกิจ</td>\n",
              "      <td>ดอลลาร์แข็งฉุด'หนี้นอก'ลด</td>\n",
              "      <td>\"แบงก์ชาติ\" เผยอดหนี้ต่างประเทศเดือนธ.ค. รวมกว...</td>\n",
              "      <td>รายงานข่าวจากธนาคารแห่งประเทศไทย (ธปท.) เปิดเผ...</td>\n",
              "      <td>https://www.bangkokbiznews.com/news/detail/633738</td>\n",
              "      <td>[ดอลลาร์, ฉุด, หนี้]</td>\n",
              "      <td>[ชาติ, ยอด, หนี้, ต่างประเทศ, ธ.ค., ล้าน, ดอลล...</td>\n",
              "      <td>[รายงาน, ข่าว, ธนาคารแห่งประเทศไทย, ธปท., หนี้...</td>\n",
              "      <td>7</td>\n",
              "      <td>23</td>\n",
              "      <td>722</td>\n",
              "    </tr>\n",
              "    <tr>\n",
              "      <th>...</th>\n",
              "      <td>...</td>\n",
              "      <td>...</td>\n",
              "      <td>...</td>\n",
              "      <td>...</td>\n",
              "      <td>...</td>\n",
              "      <td>...</td>\n",
              "      <td>...</td>\n",
              "      <td>...</td>\n",
              "      <td>...</td>\n",
              "      <td>...</td>\n",
              "      <td>...</td>\n",
              "      <td>...</td>\n",
              "      <td>...</td>\n",
              "    </tr>\n",
              "    <tr>\n",
              "      <th>35448</th>\n",
              "      <td>1019949</td>\n",
              "      <td>2022-08-09 15:28:00</td>\n",
              "      <td>เศรษฐกิจ</td>\n",
              "      <td>ครม.ไฟเขียวแผนปฏิบัติการพัฒนาภาคเกษตรในอีอีซี ...</td>\n",
              "      <td>ครม.เห็นชอบร่างแผนปฏิบัติการพัฒนาการเกษตรในเขต...</td>\n",
              "      <td>นางสาวรัชดา ธนาดิเรก รองโฆษกประจำสำนักนายกรัฐม...</td>\n",
              "      <td>https://www.bangkokbiznews.com/news/detail/101...</td>\n",
              "      <td>[ครม., การพัฒนา, อี, อีซี, ปี]</td>\n",
              "      <td>[ครม., ร่าง, การพัฒนา, การเกษตร, EEC, ปี, ชู, ...</td>\n",
              "      <td>[รัชดา, ธนา, ดิเรก, รอง, ประจำ, สำนักนายกรัฐมน...</td>\n",
              "      <td>15</td>\n",
              "      <td>23</td>\n",
              "      <td>156</td>\n",
              "    </tr>\n",
              "    <tr>\n",
              "      <th>35449</th>\n",
              "      <td>1019952</td>\n",
              "      <td>2022-08-09 15:37:00</td>\n",
              "      <td>เศรษฐกิจ</td>\n",
              "      <td>ครม.เคาะสิทธิประโยชน์เมืองการบินภาคตะวันออก ดั...</td>\n",
              "      <td>\"ครม.\" เคาะ! ชุดสิทธิประโยชน์ในเขตส่งเสริมเศรษ...</td>\n",
              "      <td>นางสาวรัชดา ธนาดิเรก รองโฆษกประจำสำนักนายกรัฐม...</td>\n",
              "      <td>https://www.bangkokbiznews.com/news/detail/101...</td>\n",
              "      <td>[ครม., สิทธิประโยชน์, บิน, ตะวันออก, ดัน]</td>\n",
              "      <td>[ครม., ชุด, สิทธิประโยชน์, ส่งเสริม, พิเศษ, บิ...</td>\n",
              "      <td>[รัชดา, ธนา, ดิเรก, รอง, ประจำ, สำนักนายกรัฐมน...</td>\n",
              "      <td>11</td>\n",
              "      <td>23</td>\n",
              "      <td>234</td>\n",
              "    </tr>\n",
              "    <tr>\n",
              "      <th>35450</th>\n",
              "      <td>1019968</td>\n",
              "      <td>2022-08-09 16:29:00</td>\n",
              "      <td>เศรษฐกิจ</td>\n",
              "      <td>'อาเซียน-จีน' จับมืออัพเกรดเอฟทีเอ ตั้งเป้าประ...</td>\n",
              "      <td>'อาเซียน-จีน' เดินหน้ายกระดับความตกลง ACFTA ให...</td>\n",
              "      <td>นางสาวโชติมา เอี่ยมสวัสดิกุล รองอธิบดีกรมเจรจา...</td>\n",
              "      <td>https://www.bangkokbiznews.com/news/detail/101...</td>\n",
              "      <td>[อาเซียน, จีน, จับมือ, อัพเกรด, ตั้งเป้า, ประก...</td>\n",
              "      <td>[อาเซียน, จีน, ยกระดับ, ความตกลง, ACFTA, ทันสม...</td>\n",
              "      <td>[สวัสดิ, กุล, รองอธิบดี, กรม, การค้า, ระหว่างป...</td>\n",
              "      <td>14</td>\n",
              "      <td>37</td>\n",
              "      <td>223</td>\n",
              "    </tr>\n",
              "    <tr>\n",
              "      <th>35451</th>\n",
              "      <td>1019975</td>\n",
              "      <td>2022-08-09 17:09:00</td>\n",
              "      <td>เศรษฐกิจ</td>\n",
              "      <td>\"ราคาน้ำมันพรุ่งนี้ 2565\" 10 ส.ค. 65 อัปเดตราค...</td>\n",
              "      <td>\"ราคาน้ำมันพรุ่งนี้ 2565 ล่าสุด\" 10 ส.ค. 65 เช...</td>\n",
              "      <td>\"ราคาน้ำมันพรุ่งนี้ 2565 ล่าสุด\" อัปเดตข้อมูล ...</td>\n",
              "      <td>https://www.bangkokbiznews.com/news/detail/101...</td>\n",
              "      <td>[ราคา, น้ำมัน, พรุ่งนี้, ส.ค., อัปเดต, ราคา, น...</td>\n",
              "      <td>[ราคา, น้ำมัน, พรุ่งนี้, ส.ค., ราคา, น้ำมัน, ท...</td>\n",
              "      <td>[ราคา, น้ำมัน, พรุ่งนี้, อัปเดต, ข้อมูล, วันที...</td>\n",
              "      <td>18</td>\n",
              "      <td>35</td>\n",
              "      <td>84</td>\n",
              "    </tr>\n",
              "    <tr>\n",
              "      <th>35452</th>\n",
              "      <td>1019980</td>\n",
              "      <td>2022-08-09 17:17:00</td>\n",
              "      <td>เศรษฐกิจ</td>\n",
              "      <td>\"ราคาทองวันนี้ 2565\" ( 9 ส.ค.) ปรับ 4 ครั้ง ลง...</td>\n",
              "      <td>\"ราคาทองวันนี้ 2565\" ( 9 ส.ค.) ปรับขึ้น - ลง 4...</td>\n",
              "      <td>\"ราคาทองวันนี้ 2565\" ประจำวันที่ 9 ส.ค.65 เปลี...</td>\n",
              "      <td>https://www.bangkokbiznews.com/news/detail/101...</td>\n",
              "      <td>[ราคา, ทอง, ส.ค., ราคา, ทองรูปพรรณ, ขาย, บาท]</td>\n",
              "      <td>[ราคา, ทอง, ส.ค., จบ, ราคา, ทองคำ, ขาย, บาท, ร...</td>\n",
              "      <td>[ราคา, ทอง, ประจำ, วันที่, ส.ค., น., ประกาศ, ส...</td>\n",
              "      <td>20</td>\n",
              "      <td>33</td>\n",
              "      <td>55</td>\n",
              "    </tr>\n",
              "  </tbody>\n",
              "</table>\n",
              "<p>35453 rows × 13 columns</p>\n",
              "</div>\n",
              "      <button class=\"colab-df-convert\" onclick=\"convertToInteractive('df-326dcd10-5ff2-4ad5-b401-14d3aae01b5f')\"\n",
              "              title=\"Convert this dataframe to an interactive table.\"\n",
              "              style=\"display:none;\">\n",
              "        \n",
              "  <svg xmlns=\"http://www.w3.org/2000/svg\" height=\"24px\"viewBox=\"0 0 24 24\"\n",
              "       width=\"24px\">\n",
              "    <path d=\"M0 0h24v24H0V0z\" fill=\"none\"/>\n",
              "    <path d=\"M18.56 5.44l.94 2.06.94-2.06 2.06-.94-2.06-.94-.94-2.06-.94 2.06-2.06.94zm-11 1L8.5 8.5l.94-2.06 2.06-.94-2.06-.94L8.5 2.5l-.94 2.06-2.06.94zm10 10l.94 2.06.94-2.06 2.06-.94-2.06-.94-.94-2.06-.94 2.06-2.06.94z\"/><path d=\"M17.41 7.96l-1.37-1.37c-.4-.4-.92-.59-1.43-.59-.52 0-1.04.2-1.43.59L10.3 9.45l-7.72 7.72c-.78.78-.78 2.05 0 2.83L4 21.41c.39.39.9.59 1.41.59.51 0 1.02-.2 1.41-.59l7.78-7.78 2.81-2.81c.8-.78.8-2.07 0-2.86zM5.41 20L4 18.59l7.72-7.72 1.47 1.35L5.41 20z\"/>\n",
              "  </svg>\n",
              "      </button>\n",
              "      \n",
              "  <style>\n",
              "    .colab-df-container {\n",
              "      display:flex;\n",
              "      flex-wrap:wrap;\n",
              "      gap: 12px;\n",
              "    }\n",
              "\n",
              "    .colab-df-convert {\n",
              "      background-color: #E8F0FE;\n",
              "      border: none;\n",
              "      border-radius: 50%;\n",
              "      cursor: pointer;\n",
              "      display: none;\n",
              "      fill: #1967D2;\n",
              "      height: 32px;\n",
              "      padding: 0 0 0 0;\n",
              "      width: 32px;\n",
              "    }\n",
              "\n",
              "    .colab-df-convert:hover {\n",
              "      background-color: #E2EBFA;\n",
              "      box-shadow: 0px 1px 2px rgba(60, 64, 67, 0.3), 0px 1px 3px 1px rgba(60, 64, 67, 0.15);\n",
              "      fill: #174EA6;\n",
              "    }\n",
              "\n",
              "    [theme=dark] .colab-df-convert {\n",
              "      background-color: #3B4455;\n",
              "      fill: #D2E3FC;\n",
              "    }\n",
              "\n",
              "    [theme=dark] .colab-df-convert:hover {\n",
              "      background-color: #434B5C;\n",
              "      box-shadow: 0px 1px 3px 1px rgba(0, 0, 0, 0.15);\n",
              "      filter: drop-shadow(0px 1px 2px rgba(0, 0, 0, 0.3));\n",
              "      fill: #FFFFFF;\n",
              "    }\n",
              "  </style>\n",
              "\n",
              "      <script>\n",
              "        const buttonEl =\n",
              "          document.querySelector('#df-326dcd10-5ff2-4ad5-b401-14d3aae01b5f button.colab-df-convert');\n",
              "        buttonEl.style.display =\n",
              "          google.colab.kernel.accessAllowed ? 'block' : 'none';\n",
              "\n",
              "        async function convertToInteractive(key) {\n",
              "          const element = document.querySelector('#df-326dcd10-5ff2-4ad5-b401-14d3aae01b5f');\n",
              "          const dataTable =\n",
              "            await google.colab.kernel.invokeFunction('convertToInteractive',\n",
              "                                                     [key], {});\n",
              "          if (!dataTable) return;\n",
              "\n",
              "          const docLinkHtml = 'Like what you see? Visit the ' +\n",
              "            '<a target=\"_blank\" href=https://colab.research.google.com/notebooks/data_table.ipynb>data table notebook</a>'\n",
              "            + ' to learn more about interactive tables.';\n",
              "          element.innerHTML = '';\n",
              "          dataTable['output_type'] = 'display_data';\n",
              "          await google.colab.output.renderOutput(dataTable, element);\n",
              "          const docLink = document.createElement('div');\n",
              "          docLink.innerHTML = docLinkHtml;\n",
              "          element.appendChild(docLink);\n",
              "        }\n",
              "      </script>\n",
              "    </div>\n",
              "  </div>\n",
              "  "
            ]
          },
          "metadata": {},
          "execution_count": 28
        }
      ]
    },
    {
      "cell_type": "code",
      "source": [
        "# article_tokenized_joined\n",
        "# column_list = ['title', 'description', 'article']\n",
        "\n",
        "#econ['title_tokenize_unlist'] = econ['title_tokenize'].split()\n",
        "\n",
        "econ['title_tokenize_unlist'] = econ['title_tokenize'].apply(lambda x:' '.join(x))"
      ],
      "metadata": {
        "id": "mL0bxX0FoZ_P"
      },
      "execution_count": null,
      "outputs": []
    },
    {
      "cell_type": "code",
      "source": [
        "econ.head()"
      ],
      "metadata": {
        "colab": {
          "base_uri": "https://localhost:8080/",
          "height": 687
        },
        "id": "0Z8tQofAKV8I",
        "outputId": "7b59ff34-979b-46b3-facb-ece8e50bbffc"
      },
      "execution_count": null,
      "outputs": [
        {
          "output_type": "execute_result",
          "data": {
            "text/plain": [
              "       ID                date  category                               title  \\\n",
              "0  632149 2015-01-30 18:20:00  เศรษฐกิจ         ซีพีเอฟร่วมลดก๊าซเรือนกระจก   \n",
              "1  632695 2015-02-03 16:30:00  เศรษฐกิจ  จับตายักษ์ใหญ่คว้า'โซลาร์'กองทัพบก   \n",
              "2  633724 2015-02-09 10:03:00  เศรษฐกิจ          หวั่น'ส่งออก'ทรุดต่อเนื่อง   \n",
              "3  633727 2015-02-09 10:20:00  เศรษฐกิจ        จี้'แบงก์รัฐ'ดันแพ็คเกจแก้จน   \n",
              "4  633738 2015-02-09 11:02:00  เศรษฐกิจ           ดอลลาร์แข็งฉุด'หนี้นอก'ลด   \n",
              "\n",
              "                                         description  \\\n",
              "0  ซีพีเอฟ ลงนามความร่วมมือโครงการต้นแบบลดก๊าซเรื...   \n",
              "1  จับตายักษ์ใหญ่คว้า\"โซลาร์\"กองทัพบก ปูดบ.รีนิวเ...   \n",
              "2  นักเศรษฐศาสตร์-นักการเงิน ห่วงส่งออกไทยหดตัวต่...   \n",
              "3  กระทรวงคลัง เผย \"แบงก์รัฐ\" เร่งทำโครงการช่วยเห...   \n",
              "4  \"แบงก์ชาติ\" เผยอดหนี้ต่างประเทศเดือนธ.ค. รวมกว...   \n",
              "\n",
              "                                             article  \\\n",
              "0  นายสุนันต์ อรุณนพรัตน์(ที่ 4 จากซ้าย) ผู้ช่วยร...   \n",
              "1  รายงานข่าวจากวงการพลังงาน เปิดเผยว่า จากการที่...   \n",
              "2  \"กอบศักดิ์\" ชี้เงินบาทแข็งเกินพื้นฐาน ด้าน \"ตี...   \n",
              "3  แหล่งข่าวจากกระทรวงการคลัง เปิดเผยว่า สถาบันกา...   \n",
              "4  รายงานข่าวจากธนาคารแห่งประเทศไทย (ธปท.) เปิดเผ...   \n",
              "\n",
              "                                                 url  \\\n",
              "0  https://www.bangkokbiznews.com/news/detail/632149   \n",
              "1  https://www.bangkokbiznews.com/news/detail/632695   \n",
              "2  https://www.bangkokbiznews.com/news/detail/633724   \n",
              "3  https://www.bangkokbiznews.com/news/detail/633727   \n",
              "4  https://www.bangkokbiznews.com/news/detail/633738   \n",
              "\n",
              "                     title_tokenize  \\\n",
              "0                [ซี, พี, ลด, ก๊าซ]   \n",
              "1    [จับตา, ยักษ์, คว้า, กองทัพบก]   \n",
              "2  [หวั่น, ส่งออก, ทรุด, ต่อเนื่อง]   \n",
              "3                   [จี้, รัฐ, ดัน]   \n",
              "4              [ดอลลาร์, ฉุด, หนี้]   \n",
              "\n",
              "                                description_tokenize  \\\n",
              "0  [ซี, พี, ลงนาม, ความร่วมมือ, ต้นแบบ, ลด, ก๊าซ,...   \n",
              "1  [จับตา, ยักษ์, คว้า, กองทัพบก, ปูด, บ., รี, นิ...   \n",
              "2  [นักเศรษฐศาสตร์, การเงิน, ห่วง, ส่งออก, หดตัว,...   \n",
              "3  [กระทรวง, คลัง, รัฐ, ทำ, ช่วยเหลือ, คนจน, ลด, ...   \n",
              "4  [ชาติ, ยอด, หนี้, ต่างประเทศ, ธ.ค., ล้าน, ดอลล...   \n",
              "\n",
              "                                    article_tokenize  title_count  \\\n",
              "0  [สุ, นันต์, อรุณ, นพรัตน์, ซ้าย, ผู้ช่วย, รัฐม...            7   \n",
              "1  [รายงาน, ข่าว, วงการ, พลังงาน, กองทัพบก, ทำหนั...            8   \n",
              "2  [กอบ, ศักดิ์, ชี้, พื้นฐาน, ตี, รณ, ห่วง, ติดล...            6   \n",
              "3  [กระทรวงการคลัง, สถาบันการเงิน, รัฐ, ธนาคารเพื...            9   \n",
              "4  [รายงาน, ข่าว, ธนาคารแห่งประเทศไทย, ธปท., หนี้...            7   \n",
              "\n",
              "   description_count  article_count        title_tokenize_unlist  \n",
              "0                 13            111                ซี พี ลด ก๊าซ  \n",
              "1                 30            481    จับตา ยักษ์ คว้า กองทัพบก  \n",
              "2                 21           1423  หวั่น ส่งออก ทรุด ต่อเนื่อง  \n",
              "3                 17            829                  จี้ รัฐ ดัน  \n",
              "4                 23            722             ดอลลาร์ ฉุด หนี้  "
            ],
            "text/html": [
              "\n",
              "  <div id=\"df-d6dc539b-a30f-42dd-9812-35556efba216\">\n",
              "    <div class=\"colab-df-container\">\n",
              "      <div>\n",
              "<style scoped>\n",
              "    .dataframe tbody tr th:only-of-type {\n",
              "        vertical-align: middle;\n",
              "    }\n",
              "\n",
              "    .dataframe tbody tr th {\n",
              "        vertical-align: top;\n",
              "    }\n",
              "\n",
              "    .dataframe thead th {\n",
              "        text-align: right;\n",
              "    }\n",
              "</style>\n",
              "<table border=\"1\" class=\"dataframe\">\n",
              "  <thead>\n",
              "    <tr style=\"text-align: right;\">\n",
              "      <th></th>\n",
              "      <th>ID</th>\n",
              "      <th>date</th>\n",
              "      <th>category</th>\n",
              "      <th>title</th>\n",
              "      <th>description</th>\n",
              "      <th>article</th>\n",
              "      <th>url</th>\n",
              "      <th>title_tokenize</th>\n",
              "      <th>description_tokenize</th>\n",
              "      <th>article_tokenize</th>\n",
              "      <th>title_count</th>\n",
              "      <th>description_count</th>\n",
              "      <th>article_count</th>\n",
              "      <th>title_tokenize_unlist</th>\n",
              "    </tr>\n",
              "  </thead>\n",
              "  <tbody>\n",
              "    <tr>\n",
              "      <th>0</th>\n",
              "      <td>632149</td>\n",
              "      <td>2015-01-30 18:20:00</td>\n",
              "      <td>เศรษฐกิจ</td>\n",
              "      <td>ซีพีเอฟร่วมลดก๊าซเรือนกระจก</td>\n",
              "      <td>ซีพีเอฟ ลงนามความร่วมมือโครงการต้นแบบลดก๊าซเรื...</td>\n",
              "      <td>นายสุนันต์ อรุณนพรัตน์(ที่ 4 จากซ้าย) ผู้ช่วยร...</td>\n",
              "      <td>https://www.bangkokbiznews.com/news/detail/632149</td>\n",
              "      <td>[ซี, พี, ลด, ก๊าซ]</td>\n",
              "      <td>[ซี, พี, ลงนาม, ความร่วมมือ, ต้นแบบ, ลด, ก๊าซ,...</td>\n",
              "      <td>[สุ, นันต์, อรุณ, นพรัตน์, ซ้าย, ผู้ช่วย, รัฐม...</td>\n",
              "      <td>7</td>\n",
              "      <td>13</td>\n",
              "      <td>111</td>\n",
              "      <td>ซี พี ลด ก๊าซ</td>\n",
              "    </tr>\n",
              "    <tr>\n",
              "      <th>1</th>\n",
              "      <td>632695</td>\n",
              "      <td>2015-02-03 16:30:00</td>\n",
              "      <td>เศรษฐกิจ</td>\n",
              "      <td>จับตายักษ์ใหญ่คว้า'โซลาร์'กองทัพบก</td>\n",
              "      <td>จับตายักษ์ใหญ่คว้า\"โซลาร์\"กองทัพบก ปูดบ.รีนิวเ...</td>\n",
              "      <td>รายงานข่าวจากวงการพลังงาน เปิดเผยว่า จากการที่...</td>\n",
              "      <td>https://www.bangkokbiznews.com/news/detail/632695</td>\n",
              "      <td>[จับตา, ยักษ์, คว้า, กองทัพบก]</td>\n",
              "      <td>[จับตา, ยักษ์, คว้า, กองทัพบก, ปูด, บ., รี, นิ...</td>\n",
              "      <td>[รายงาน, ข่าว, วงการ, พลังงาน, กองทัพบก, ทำหนั...</td>\n",
              "      <td>8</td>\n",
              "      <td>30</td>\n",
              "      <td>481</td>\n",
              "      <td>จับตา ยักษ์ คว้า กองทัพบก</td>\n",
              "    </tr>\n",
              "    <tr>\n",
              "      <th>2</th>\n",
              "      <td>633724</td>\n",
              "      <td>2015-02-09 10:03:00</td>\n",
              "      <td>เศรษฐกิจ</td>\n",
              "      <td>หวั่น'ส่งออก'ทรุดต่อเนื่อง</td>\n",
              "      <td>นักเศรษฐศาสตร์-นักการเงิน ห่วงส่งออกไทยหดตัวต่...</td>\n",
              "      <td>\"กอบศักดิ์\" ชี้เงินบาทแข็งเกินพื้นฐาน ด้าน \"ตี...</td>\n",
              "      <td>https://www.bangkokbiznews.com/news/detail/633724</td>\n",
              "      <td>[หวั่น, ส่งออก, ทรุด, ต่อเนื่อง]</td>\n",
              "      <td>[นักเศรษฐศาสตร์, การเงิน, ห่วง, ส่งออก, หดตัว,...</td>\n",
              "      <td>[กอบ, ศักดิ์, ชี้, พื้นฐาน, ตี, รณ, ห่วง, ติดล...</td>\n",
              "      <td>6</td>\n",
              "      <td>21</td>\n",
              "      <td>1423</td>\n",
              "      <td>หวั่น ส่งออก ทรุด ต่อเนื่อง</td>\n",
              "    </tr>\n",
              "    <tr>\n",
              "      <th>3</th>\n",
              "      <td>633727</td>\n",
              "      <td>2015-02-09 10:20:00</td>\n",
              "      <td>เศรษฐกิจ</td>\n",
              "      <td>จี้'แบงก์รัฐ'ดันแพ็คเกจแก้จน</td>\n",
              "      <td>กระทรวงคลัง เผย \"แบงก์รัฐ\" เร่งทำโครงการช่วยเห...</td>\n",
              "      <td>แหล่งข่าวจากกระทรวงการคลัง เปิดเผยว่า สถาบันกา...</td>\n",
              "      <td>https://www.bangkokbiznews.com/news/detail/633727</td>\n",
              "      <td>[จี้, รัฐ, ดัน]</td>\n",
              "      <td>[กระทรวง, คลัง, รัฐ, ทำ, ช่วยเหลือ, คนจน, ลด, ...</td>\n",
              "      <td>[กระทรวงการคลัง, สถาบันการเงิน, รัฐ, ธนาคารเพื...</td>\n",
              "      <td>9</td>\n",
              "      <td>17</td>\n",
              "      <td>829</td>\n",
              "      <td>จี้ รัฐ ดัน</td>\n",
              "    </tr>\n",
              "    <tr>\n",
              "      <th>4</th>\n",
              "      <td>633738</td>\n",
              "      <td>2015-02-09 11:02:00</td>\n",
              "      <td>เศรษฐกิจ</td>\n",
              "      <td>ดอลลาร์แข็งฉุด'หนี้นอก'ลด</td>\n",
              "      <td>\"แบงก์ชาติ\" เผยอดหนี้ต่างประเทศเดือนธ.ค. รวมกว...</td>\n",
              "      <td>รายงานข่าวจากธนาคารแห่งประเทศไทย (ธปท.) เปิดเผ...</td>\n",
              "      <td>https://www.bangkokbiznews.com/news/detail/633738</td>\n",
              "      <td>[ดอลลาร์, ฉุด, หนี้]</td>\n",
              "      <td>[ชาติ, ยอด, หนี้, ต่างประเทศ, ธ.ค., ล้าน, ดอลล...</td>\n",
              "      <td>[รายงาน, ข่าว, ธนาคารแห่งประเทศไทย, ธปท., หนี้...</td>\n",
              "      <td>7</td>\n",
              "      <td>23</td>\n",
              "      <td>722</td>\n",
              "      <td>ดอลลาร์ ฉุด หนี้</td>\n",
              "    </tr>\n",
              "  </tbody>\n",
              "</table>\n",
              "</div>\n",
              "      <button class=\"colab-df-convert\" onclick=\"convertToInteractive('df-d6dc539b-a30f-42dd-9812-35556efba216')\"\n",
              "              title=\"Convert this dataframe to an interactive table.\"\n",
              "              style=\"display:none;\">\n",
              "        \n",
              "  <svg xmlns=\"http://www.w3.org/2000/svg\" height=\"24px\"viewBox=\"0 0 24 24\"\n",
              "       width=\"24px\">\n",
              "    <path d=\"M0 0h24v24H0V0z\" fill=\"none\"/>\n",
              "    <path d=\"M18.56 5.44l.94 2.06.94-2.06 2.06-.94-2.06-.94-.94-2.06-.94 2.06-2.06.94zm-11 1L8.5 8.5l.94-2.06 2.06-.94-2.06-.94L8.5 2.5l-.94 2.06-2.06.94zm10 10l.94 2.06.94-2.06 2.06-.94-2.06-.94-.94-2.06-.94 2.06-2.06.94z\"/><path d=\"M17.41 7.96l-1.37-1.37c-.4-.4-.92-.59-1.43-.59-.52 0-1.04.2-1.43.59L10.3 9.45l-7.72 7.72c-.78.78-.78 2.05 0 2.83L4 21.41c.39.39.9.59 1.41.59.51 0 1.02-.2 1.41-.59l7.78-7.78 2.81-2.81c.8-.78.8-2.07 0-2.86zM5.41 20L4 18.59l7.72-7.72 1.47 1.35L5.41 20z\"/>\n",
              "  </svg>\n",
              "      </button>\n",
              "      \n",
              "  <style>\n",
              "    .colab-df-container {\n",
              "      display:flex;\n",
              "      flex-wrap:wrap;\n",
              "      gap: 12px;\n",
              "    }\n",
              "\n",
              "    .colab-df-convert {\n",
              "      background-color: #E8F0FE;\n",
              "      border: none;\n",
              "      border-radius: 50%;\n",
              "      cursor: pointer;\n",
              "      display: none;\n",
              "      fill: #1967D2;\n",
              "      height: 32px;\n",
              "      padding: 0 0 0 0;\n",
              "      width: 32px;\n",
              "    }\n",
              "\n",
              "    .colab-df-convert:hover {\n",
              "      background-color: #E2EBFA;\n",
              "      box-shadow: 0px 1px 2px rgba(60, 64, 67, 0.3), 0px 1px 3px 1px rgba(60, 64, 67, 0.15);\n",
              "      fill: #174EA6;\n",
              "    }\n",
              "\n",
              "    [theme=dark] .colab-df-convert {\n",
              "      background-color: #3B4455;\n",
              "      fill: #D2E3FC;\n",
              "    }\n",
              "\n",
              "    [theme=dark] .colab-df-convert:hover {\n",
              "      background-color: #434B5C;\n",
              "      box-shadow: 0px 1px 3px 1px rgba(0, 0, 0, 0.15);\n",
              "      filter: drop-shadow(0px 1px 2px rgba(0, 0, 0, 0.3));\n",
              "      fill: #FFFFFF;\n",
              "    }\n",
              "  </style>\n",
              "\n",
              "      <script>\n",
              "        const buttonEl =\n",
              "          document.querySelector('#df-d6dc539b-a30f-42dd-9812-35556efba216 button.colab-df-convert');\n",
              "        buttonEl.style.display =\n",
              "          google.colab.kernel.accessAllowed ? 'block' : 'none';\n",
              "\n",
              "        async function convertToInteractive(key) {\n",
              "          const element = document.querySelector('#df-d6dc539b-a30f-42dd-9812-35556efba216');\n",
              "          const dataTable =\n",
              "            await google.colab.kernel.invokeFunction('convertToInteractive',\n",
              "                                                     [key], {});\n",
              "          if (!dataTable) return;\n",
              "\n",
              "          const docLinkHtml = 'Like what you see? Visit the ' +\n",
              "            '<a target=\"_blank\" href=https://colab.research.google.com/notebooks/data_table.ipynb>data table notebook</a>'\n",
              "            + ' to learn more about interactive tables.';\n",
              "          element.innerHTML = '';\n",
              "          dataTable['output_type'] = 'display_data';\n",
              "          await google.colab.output.renderOutput(dataTable, element);\n",
              "          const docLink = document.createElement('div');\n",
              "          docLink.innerHTML = docLinkHtml;\n",
              "          element.appendChild(docLink);\n",
              "        }\n",
              "      </script>\n",
              "    </div>\n",
              "  </div>\n",
              "  "
            ]
          },
          "metadata": {},
          "execution_count": 30
        }
      ]
    },
    {
      "cell_type": "code",
      "source": [
        "# column_list = ['title', 'description', 'article']\n",
        "\n",
        "#econ['title_tokenize_unlist'] = econ['title_tokenize'].split()\n",
        "\n",
        "for column in column_list:\n",
        "  econ[column+'_tokenize_unlist'] = econ[column+'_tokenize'].apply(lambda x:' '.join(x))\n",
        "\n",
        "econ.head()"
      ],
      "metadata": {
        "colab": {
          "base_uri": "https://localhost:8080/",
          "height": 687
        },
        "id": "SUod7C4RKh0-",
        "outputId": "70a12f61-7308-4d69-c0e3-a2422b8ee501"
      },
      "execution_count": null,
      "outputs": [
        {
          "output_type": "execute_result",
          "data": {
            "text/plain": [
              "       ID                date  category                               title  \\\n",
              "0  632149 2015-01-30 18:20:00  เศรษฐกิจ         ซีพีเอฟร่วมลดก๊าซเรือนกระจก   \n",
              "1  632695 2015-02-03 16:30:00  เศรษฐกิจ  จับตายักษ์ใหญ่คว้า'โซลาร์'กองทัพบก   \n",
              "2  633724 2015-02-09 10:03:00  เศรษฐกิจ          หวั่น'ส่งออก'ทรุดต่อเนื่อง   \n",
              "3  633727 2015-02-09 10:20:00  เศรษฐกิจ        จี้'แบงก์รัฐ'ดันแพ็คเกจแก้จน   \n",
              "4  633738 2015-02-09 11:02:00  เศรษฐกิจ           ดอลลาร์แข็งฉุด'หนี้นอก'ลด   \n",
              "\n",
              "                                         description  \\\n",
              "0  ซีพีเอฟ ลงนามความร่วมมือโครงการต้นแบบลดก๊าซเรื...   \n",
              "1  จับตายักษ์ใหญ่คว้า\"โซลาร์\"กองทัพบก ปูดบ.รีนิวเ...   \n",
              "2  นักเศรษฐศาสตร์-นักการเงิน ห่วงส่งออกไทยหดตัวต่...   \n",
              "3  กระทรวงคลัง เผย \"แบงก์รัฐ\" เร่งทำโครงการช่วยเห...   \n",
              "4  \"แบงก์ชาติ\" เผยอดหนี้ต่างประเทศเดือนธ.ค. รวมกว...   \n",
              "\n",
              "                                             article  \\\n",
              "0  นายสุนันต์ อรุณนพรัตน์(ที่ 4 จากซ้าย) ผู้ช่วยร...   \n",
              "1  รายงานข่าวจากวงการพลังงาน เปิดเผยว่า จากการที่...   \n",
              "2  \"กอบศักดิ์\" ชี้เงินบาทแข็งเกินพื้นฐาน ด้าน \"ตี...   \n",
              "3  แหล่งข่าวจากกระทรวงการคลัง เปิดเผยว่า สถาบันกา...   \n",
              "4  รายงานข่าวจากธนาคารแห่งประเทศไทย (ธปท.) เปิดเผ...   \n",
              "\n",
              "                                                 url  \\\n",
              "0  https://www.bangkokbiznews.com/news/detail/632149   \n",
              "1  https://www.bangkokbiznews.com/news/detail/632695   \n",
              "2  https://www.bangkokbiznews.com/news/detail/633724   \n",
              "3  https://www.bangkokbiznews.com/news/detail/633727   \n",
              "4  https://www.bangkokbiznews.com/news/detail/633738   \n",
              "\n",
              "                     title_tokenize  \\\n",
              "0                [ซี, พี, ลด, ก๊าซ]   \n",
              "1    [จับตา, ยักษ์, คว้า, กองทัพบก]   \n",
              "2  [หวั่น, ส่งออก, ทรุด, ต่อเนื่อง]   \n",
              "3                   [จี้, รัฐ, ดัน]   \n",
              "4              [ดอลลาร์, ฉุด, หนี้]   \n",
              "\n",
              "                                description_tokenize  \\\n",
              "0  [ซี, พี, ลงนาม, ความร่วมมือ, ต้นแบบ, ลด, ก๊าซ,...   \n",
              "1  [จับตา, ยักษ์, คว้า, กองทัพบก, ปูด, บ., รี, นิ...   \n",
              "2  [นักเศรษฐศาสตร์, การเงิน, ห่วง, ส่งออก, หดตัว,...   \n",
              "3  [กระทรวง, คลัง, รัฐ, ทำ, ช่วยเหลือ, คนจน, ลด, ...   \n",
              "4  [ชาติ, ยอด, หนี้, ต่างประเทศ, ธ.ค., ล้าน, ดอลล...   \n",
              "\n",
              "                                    article_tokenize  title_count  \\\n",
              "0  [สุ, นันต์, อรุณ, นพรัตน์, ซ้าย, ผู้ช่วย, รัฐม...            7   \n",
              "1  [รายงาน, ข่าว, วงการ, พลังงาน, กองทัพบก, ทำหนั...            8   \n",
              "2  [กอบ, ศักดิ์, ชี้, พื้นฐาน, ตี, รณ, ห่วง, ติดล...            6   \n",
              "3  [กระทรวงการคลัง, สถาบันการเงิน, รัฐ, ธนาคารเพื...            9   \n",
              "4  [รายงาน, ข่าว, ธนาคารแห่งประเทศไทย, ธปท., หนี้...            7   \n",
              "\n",
              "   description_count  article_count        title_tokenize_unlist  \\\n",
              "0                 13            111                ซี พี ลด ก๊าซ   \n",
              "1                 30            481    จับตา ยักษ์ คว้า กองทัพบก   \n",
              "2                 21           1423  หวั่น ส่งออก ทรุด ต่อเนื่อง   \n",
              "3                 17            829                  จี้ รัฐ ดัน   \n",
              "4                 23            722             ดอลลาร์ ฉุด หนี้   \n",
              "\n",
              "                         description_tokenize_unlist  \\\n",
              "0     ซี พี ลงนาม ความร่วมมือ ต้นแบบ ลด ก๊าซ การผลิต   \n",
              "1  จับตา ยักษ์ คว้า กองทัพบก ปูด บ. รี นิว ร์ ยี่...   \n",
              "2  นักเศรษฐศาสตร์ การเงิน ห่วง ส่งออก หดตัว ต่อเน...   \n",
              "3  กระทรวง คลัง รัฐ ทำ ช่วยเหลือ คนจน ลด ความเหลื...   \n",
              "4  ชาติ ยอด หนี้ ต่างประเทศ ธ.ค. ล้าน ดอลลาร์ ลด ...   \n",
              "\n",
              "                             article_tokenize_unlist  \n",
              "0  สุ นันต์ อรุณ นพรัตน์ ซ้าย ผู้ช่วย รัฐมนตรี ว่...  \n",
              "1  รายงาน ข่าว วงการ พลังงาน กองทัพบก ทำหนังสือ ข...  \n",
              "2  กอบ ศักดิ์ ชี้ พื้นฐาน ตี รณ ห่วง ติดลบ ปี คู่...  \n",
              "3  กระทรวงการคลัง สถาบันการเงิน รัฐ ธนาคารเพื่อกา...  \n",
              "4  รายงาน ข่าว ธนาคารแห่งประเทศไทย ธปท. หนี้ ต่าง...  "
            ],
            "text/html": [
              "\n",
              "  <div id=\"df-b2dae044-5f61-47ac-993f-15b395c908d7\">\n",
              "    <div class=\"colab-df-container\">\n",
              "      <div>\n",
              "<style scoped>\n",
              "    .dataframe tbody tr th:only-of-type {\n",
              "        vertical-align: middle;\n",
              "    }\n",
              "\n",
              "    .dataframe tbody tr th {\n",
              "        vertical-align: top;\n",
              "    }\n",
              "\n",
              "    .dataframe thead th {\n",
              "        text-align: right;\n",
              "    }\n",
              "</style>\n",
              "<table border=\"1\" class=\"dataframe\">\n",
              "  <thead>\n",
              "    <tr style=\"text-align: right;\">\n",
              "      <th></th>\n",
              "      <th>ID</th>\n",
              "      <th>date</th>\n",
              "      <th>category</th>\n",
              "      <th>title</th>\n",
              "      <th>description</th>\n",
              "      <th>article</th>\n",
              "      <th>url</th>\n",
              "      <th>title_tokenize</th>\n",
              "      <th>description_tokenize</th>\n",
              "      <th>article_tokenize</th>\n",
              "      <th>title_count</th>\n",
              "      <th>description_count</th>\n",
              "      <th>article_count</th>\n",
              "      <th>title_tokenize_unlist</th>\n",
              "      <th>description_tokenize_unlist</th>\n",
              "      <th>article_tokenize_unlist</th>\n",
              "    </tr>\n",
              "  </thead>\n",
              "  <tbody>\n",
              "    <tr>\n",
              "      <th>0</th>\n",
              "      <td>632149</td>\n",
              "      <td>2015-01-30 18:20:00</td>\n",
              "      <td>เศรษฐกิจ</td>\n",
              "      <td>ซีพีเอฟร่วมลดก๊าซเรือนกระจก</td>\n",
              "      <td>ซีพีเอฟ ลงนามความร่วมมือโครงการต้นแบบลดก๊าซเรื...</td>\n",
              "      <td>นายสุนันต์ อรุณนพรัตน์(ที่ 4 จากซ้าย) ผู้ช่วยร...</td>\n",
              "      <td>https://www.bangkokbiznews.com/news/detail/632149</td>\n",
              "      <td>[ซี, พี, ลด, ก๊าซ]</td>\n",
              "      <td>[ซี, พี, ลงนาม, ความร่วมมือ, ต้นแบบ, ลด, ก๊าซ,...</td>\n",
              "      <td>[สุ, นันต์, อรุณ, นพรัตน์, ซ้าย, ผู้ช่วย, รัฐม...</td>\n",
              "      <td>7</td>\n",
              "      <td>13</td>\n",
              "      <td>111</td>\n",
              "      <td>ซี พี ลด ก๊าซ</td>\n",
              "      <td>ซี พี ลงนาม ความร่วมมือ ต้นแบบ ลด ก๊าซ การผลิต</td>\n",
              "      <td>สุ นันต์ อรุณ นพรัตน์ ซ้าย ผู้ช่วย รัฐมนตรี ว่...</td>\n",
              "    </tr>\n",
              "    <tr>\n",
              "      <th>1</th>\n",
              "      <td>632695</td>\n",
              "      <td>2015-02-03 16:30:00</td>\n",
              "      <td>เศรษฐกิจ</td>\n",
              "      <td>จับตายักษ์ใหญ่คว้า'โซลาร์'กองทัพบก</td>\n",
              "      <td>จับตายักษ์ใหญ่คว้า\"โซลาร์\"กองทัพบก ปูดบ.รีนิวเ...</td>\n",
              "      <td>รายงานข่าวจากวงการพลังงาน เปิดเผยว่า จากการที่...</td>\n",
              "      <td>https://www.bangkokbiznews.com/news/detail/632695</td>\n",
              "      <td>[จับตา, ยักษ์, คว้า, กองทัพบก]</td>\n",
              "      <td>[จับตา, ยักษ์, คว้า, กองทัพบก, ปูด, บ., รี, นิ...</td>\n",
              "      <td>[รายงาน, ข่าว, วงการ, พลังงาน, กองทัพบก, ทำหนั...</td>\n",
              "      <td>8</td>\n",
              "      <td>30</td>\n",
              "      <td>481</td>\n",
              "      <td>จับตา ยักษ์ คว้า กองทัพบก</td>\n",
              "      <td>จับตา ยักษ์ คว้า กองทัพบก ปูด บ. รี นิว ร์ ยี่...</td>\n",
              "      <td>รายงาน ข่าว วงการ พลังงาน กองทัพบก ทำหนังสือ ข...</td>\n",
              "    </tr>\n",
              "    <tr>\n",
              "      <th>2</th>\n",
              "      <td>633724</td>\n",
              "      <td>2015-02-09 10:03:00</td>\n",
              "      <td>เศรษฐกิจ</td>\n",
              "      <td>หวั่น'ส่งออก'ทรุดต่อเนื่อง</td>\n",
              "      <td>นักเศรษฐศาสตร์-นักการเงิน ห่วงส่งออกไทยหดตัวต่...</td>\n",
              "      <td>\"กอบศักดิ์\" ชี้เงินบาทแข็งเกินพื้นฐาน ด้าน \"ตี...</td>\n",
              "      <td>https://www.bangkokbiznews.com/news/detail/633724</td>\n",
              "      <td>[หวั่น, ส่งออก, ทรุด, ต่อเนื่อง]</td>\n",
              "      <td>[นักเศรษฐศาสตร์, การเงิน, ห่วง, ส่งออก, หดตัว,...</td>\n",
              "      <td>[กอบ, ศักดิ์, ชี้, พื้นฐาน, ตี, รณ, ห่วง, ติดล...</td>\n",
              "      <td>6</td>\n",
              "      <td>21</td>\n",
              "      <td>1423</td>\n",
              "      <td>หวั่น ส่งออก ทรุด ต่อเนื่อง</td>\n",
              "      <td>นักเศรษฐศาสตร์ การเงิน ห่วง ส่งออก หดตัว ต่อเน...</td>\n",
              "      <td>กอบ ศักดิ์ ชี้ พื้นฐาน ตี รณ ห่วง ติดลบ ปี คู่...</td>\n",
              "    </tr>\n",
              "    <tr>\n",
              "      <th>3</th>\n",
              "      <td>633727</td>\n",
              "      <td>2015-02-09 10:20:00</td>\n",
              "      <td>เศรษฐกิจ</td>\n",
              "      <td>จี้'แบงก์รัฐ'ดันแพ็คเกจแก้จน</td>\n",
              "      <td>กระทรวงคลัง เผย \"แบงก์รัฐ\" เร่งทำโครงการช่วยเห...</td>\n",
              "      <td>แหล่งข่าวจากกระทรวงการคลัง เปิดเผยว่า สถาบันกา...</td>\n",
              "      <td>https://www.bangkokbiznews.com/news/detail/633727</td>\n",
              "      <td>[จี้, รัฐ, ดัน]</td>\n",
              "      <td>[กระทรวง, คลัง, รัฐ, ทำ, ช่วยเหลือ, คนจน, ลด, ...</td>\n",
              "      <td>[กระทรวงการคลัง, สถาบันการเงิน, รัฐ, ธนาคารเพื...</td>\n",
              "      <td>9</td>\n",
              "      <td>17</td>\n",
              "      <td>829</td>\n",
              "      <td>จี้ รัฐ ดัน</td>\n",
              "      <td>กระทรวง คลัง รัฐ ทำ ช่วยเหลือ คนจน ลด ความเหลื...</td>\n",
              "      <td>กระทรวงการคลัง สถาบันการเงิน รัฐ ธนาคารเพื่อกา...</td>\n",
              "    </tr>\n",
              "    <tr>\n",
              "      <th>4</th>\n",
              "      <td>633738</td>\n",
              "      <td>2015-02-09 11:02:00</td>\n",
              "      <td>เศรษฐกิจ</td>\n",
              "      <td>ดอลลาร์แข็งฉุด'หนี้นอก'ลด</td>\n",
              "      <td>\"แบงก์ชาติ\" เผยอดหนี้ต่างประเทศเดือนธ.ค. รวมกว...</td>\n",
              "      <td>รายงานข่าวจากธนาคารแห่งประเทศไทย (ธปท.) เปิดเผ...</td>\n",
              "      <td>https://www.bangkokbiznews.com/news/detail/633738</td>\n",
              "      <td>[ดอลลาร์, ฉุด, หนี้]</td>\n",
              "      <td>[ชาติ, ยอด, หนี้, ต่างประเทศ, ธ.ค., ล้าน, ดอลล...</td>\n",
              "      <td>[รายงาน, ข่าว, ธนาคารแห่งประเทศไทย, ธปท., หนี้...</td>\n",
              "      <td>7</td>\n",
              "      <td>23</td>\n",
              "      <td>722</td>\n",
              "      <td>ดอลลาร์ ฉุด หนี้</td>\n",
              "      <td>ชาติ ยอด หนี้ ต่างประเทศ ธ.ค. ล้าน ดอลลาร์ ลด ...</td>\n",
              "      <td>รายงาน ข่าว ธนาคารแห่งประเทศไทย ธปท. หนี้ ต่าง...</td>\n",
              "    </tr>\n",
              "  </tbody>\n",
              "</table>\n",
              "</div>\n",
              "      <button class=\"colab-df-convert\" onclick=\"convertToInteractive('df-b2dae044-5f61-47ac-993f-15b395c908d7')\"\n",
              "              title=\"Convert this dataframe to an interactive table.\"\n",
              "              style=\"display:none;\">\n",
              "        \n",
              "  <svg xmlns=\"http://www.w3.org/2000/svg\" height=\"24px\"viewBox=\"0 0 24 24\"\n",
              "       width=\"24px\">\n",
              "    <path d=\"M0 0h24v24H0V0z\" fill=\"none\"/>\n",
              "    <path d=\"M18.56 5.44l.94 2.06.94-2.06 2.06-.94-2.06-.94-.94-2.06-.94 2.06-2.06.94zm-11 1L8.5 8.5l.94-2.06 2.06-.94-2.06-.94L8.5 2.5l-.94 2.06-2.06.94zm10 10l.94 2.06.94-2.06 2.06-.94-2.06-.94-.94-2.06-.94 2.06-2.06.94z\"/><path d=\"M17.41 7.96l-1.37-1.37c-.4-.4-.92-.59-1.43-.59-.52 0-1.04.2-1.43.59L10.3 9.45l-7.72 7.72c-.78.78-.78 2.05 0 2.83L4 21.41c.39.39.9.59 1.41.59.51 0 1.02-.2 1.41-.59l7.78-7.78 2.81-2.81c.8-.78.8-2.07 0-2.86zM5.41 20L4 18.59l7.72-7.72 1.47 1.35L5.41 20z\"/>\n",
              "  </svg>\n",
              "      </button>\n",
              "      \n",
              "  <style>\n",
              "    .colab-df-container {\n",
              "      display:flex;\n",
              "      flex-wrap:wrap;\n",
              "      gap: 12px;\n",
              "    }\n",
              "\n",
              "    .colab-df-convert {\n",
              "      background-color: #E8F0FE;\n",
              "      border: none;\n",
              "      border-radius: 50%;\n",
              "      cursor: pointer;\n",
              "      display: none;\n",
              "      fill: #1967D2;\n",
              "      height: 32px;\n",
              "      padding: 0 0 0 0;\n",
              "      width: 32px;\n",
              "    }\n",
              "\n",
              "    .colab-df-convert:hover {\n",
              "      background-color: #E2EBFA;\n",
              "      box-shadow: 0px 1px 2px rgba(60, 64, 67, 0.3), 0px 1px 3px 1px rgba(60, 64, 67, 0.15);\n",
              "      fill: #174EA6;\n",
              "    }\n",
              "\n",
              "    [theme=dark] .colab-df-convert {\n",
              "      background-color: #3B4455;\n",
              "      fill: #D2E3FC;\n",
              "    }\n",
              "\n",
              "    [theme=dark] .colab-df-convert:hover {\n",
              "      background-color: #434B5C;\n",
              "      box-shadow: 0px 1px 3px 1px rgba(0, 0, 0, 0.15);\n",
              "      filter: drop-shadow(0px 1px 2px rgba(0, 0, 0, 0.3));\n",
              "      fill: #FFFFFF;\n",
              "    }\n",
              "  </style>\n",
              "\n",
              "      <script>\n",
              "        const buttonEl =\n",
              "          document.querySelector('#df-b2dae044-5f61-47ac-993f-15b395c908d7 button.colab-df-convert');\n",
              "        buttonEl.style.display =\n",
              "          google.colab.kernel.accessAllowed ? 'block' : 'none';\n",
              "\n",
              "        async function convertToInteractive(key) {\n",
              "          const element = document.querySelector('#df-b2dae044-5f61-47ac-993f-15b395c908d7');\n",
              "          const dataTable =\n",
              "            await google.colab.kernel.invokeFunction('convertToInteractive',\n",
              "                                                     [key], {});\n",
              "          if (!dataTable) return;\n",
              "\n",
              "          const docLinkHtml = 'Like what you see? Visit the ' +\n",
              "            '<a target=\"_blank\" href=https://colab.research.google.com/notebooks/data_table.ipynb>data table notebook</a>'\n",
              "            + ' to learn more about interactive tables.';\n",
              "          element.innerHTML = '';\n",
              "          dataTable['output_type'] = 'display_data';\n",
              "          await google.colab.output.renderOutput(dataTable, element);\n",
              "          const docLink = document.createElement('div');\n",
              "          docLink.innerHTML = docLinkHtml;\n",
              "          element.appendChild(docLink);\n",
              "        }\n",
              "      </script>\n",
              "    </div>\n",
              "  </div>\n",
              "  "
            ]
          },
          "metadata": {},
          "execution_count": 31
        }
      ]
    },
    {
      "cell_type": "code",
      "source": [
        "# Instantiate CountVectorizer\n",
        "cvec = CountVectorizer(stop_words=thai_stopwords)\n",
        "\n",
        "# Instantiate TfidfVectorizer\n",
        "tfidf = TfidfVectorizer(stop_words=thai_stopwords,\n",
        "                      ngram_range=(1,2))"
      ],
      "metadata": {
        "id": "IHeX0CHpVhd5"
      },
      "execution_count": null,
      "outputs": []
    },
    {
      "cell_type": "code",
      "source": [
        "cvec.fit_transform(econ['article_tokenize_unlist'])"
      ],
      "metadata": {
        "id": "9MmiY8cEoJcL"
      },
      "execution_count": null,
      "outputs": []
    },
    {
      "cell_type": "code",
      "source": [
        "# Fit&Transform with CountVectorizer -> DataFrame\n",
        "cvec_1 = cvec.fit_transform(test['article_tokenized'])\n",
        "cvec_1_df = pd.DataFrame(data_cvec_1.todense(), columns=cvec.get_feature_names_out())\n",
        "\n",
        "# Fit&Transform with TfidfVectorizer -> DataFrame\n",
        "tfidf_1 = tfidf.fit_transform(test['article_tokenized'])\n",
        "tfidf_1_df = pd.DataFrame(data_tfidf_1.todense(), columns=tfidf.get_feature_names_out())"
      ],
      "metadata": {
        "id": "91Ji_xG2Vhgk"
      },
      "execution_count": null,
      "outputs": []
    },
    {
      "cell_type": "code",
      "source": [],
      "metadata": {
        "id": "Ge9cVlHTVhjG"
      },
      "execution_count": null,
      "outputs": []
    },
    {
      "cell_type": "code",
      "source": [],
      "metadata": {
        "id": "V6-j3qwoVhlX"
      },
      "execution_count": null,
      "outputs": []
    },
    {
      "cell_type": "code",
      "source": [],
      "metadata": {
        "id": "CgwGlTABVhoO"
      },
      "execution_count": null,
      "outputs": []
    },
    {
      "cell_type": "code",
      "source": [],
      "metadata": {
        "id": "oxo8kNyLVhq0"
      },
      "execution_count": null,
      "outputs": []
    },
    {
      "cell_type": "markdown",
      "source": [
        "#Part 4: Modeling\n",
        "---"
      ],
      "metadata": {
        "id": "TZPMhYsq-5H_"
      }
    },
    {
      "cell_type": "code",
      "source": [
        "# Create Corpus\n",
        "dictionary = Dictionary(test['article_tokenized'])\n",
        "corpus = [dictionary.doc2bow(text) for text in test['article_tokenized']]"
      ],
      "metadata": {
        "id": "jbhqBGYd-7yc"
      },
      "execution_count": null,
      "outputs": []
    },
    {
      "cell_type": "code",
      "source": [
        "# Model\n",
        "def lda_model(num_topics=None, topicid=None):\n",
        "  lda = LdaModel(corpus, num_topics=num_topics)\n",
        "  topic = pd.DataFrame(lda_1.get_topic_terms(topicid=1, topn=20)).rename(columns={0:'index', 1:'probability'})\n",
        "  top_20 = [dictionary[index] for index, prob in lda.get_topic_terms(topicid=topicid, topn=20)]\n",
        "  return top_20\n"
      ],
      "metadata": {
        "id": "a132VsDUr3gp"
      },
      "execution_count": null,
      "outputs": []
    },
    {
      "cell_type": "code",
      "source": [
        "lda_model(num_topics=5, topicid=0)"
      ],
      "metadata": {
        "colab": {
          "base_uri": "https://localhost:8080/"
        },
        "id": "KeuODDZvsjVY",
        "outputId": "9614d9e5-ce67-4eb3-e1fb-d1fd7790e97b"
      },
      "execution_count": null,
      "outputs": [
        {
          "output_type": "stream",
          "name": "stderr",
          "text": [
            "WARNING:gensim.models.ldamodel:no word id mapping provided; initializing from corpus, assuming identity\n",
            "WARNING:gensim.models.ldamodel:too few updates, training might not converge; consider increasing the number of passes or iterations to improve accuracy\n"
          ]
        },
        {
          "output_type": "execute_result",
          "data": {
            "text/plain": [
              "[\"'\",\n",
              " '-',\n",
              " '\"',\n",
              " 'ไทย',\n",
              " 'ทีม',\n",
              " ',',\n",
              " '2',\n",
              " '1',\n",
              " '3',\n",
              " 'ปี',\n",
              " 'วันที่',\n",
              " ')',\n",
              " '(',\n",
              " 'โควิด',\n",
              " 'คน',\n",
              " 'ล้าน',\n",
              " 'บาท',\n",
              " '4',\n",
              " '19',\n",
              " 'ทำ']"
            ]
          },
          "metadata": {},
          "execution_count": 59
        }
      ]
    },
    {
      "cell_type": "code",
      "source": [
        "# Instantiate model\n",
        "lda_1 = LdaModel(corpus, num_topics = 3)   "
      ],
      "metadata": {
        "colab": {
          "base_uri": "https://localhost:8080/"
        },
        "id": "gacoIb0TOK8R",
        "outputId": "4a7d41f8-f22f-4895-ae7e-4b1a722613f3"
      },
      "execution_count": null,
      "outputs": [
        {
          "output_type": "stream",
          "name": "stderr",
          "text": [
            "WARNING:gensim.models.ldamodel:no word id mapping provided; initializing from corpus, assuming identity\n",
            "WARNING:gensim.models.ldamodel:too few updates, training might not converge; consider increasing the number of passes or iterations to improve accuracy\n"
          ]
        }
      ]
    },
    {
      "cell_type": "code",
      "source": [
        "# See words in the 1st topic\n",
        "topic_1 = pd.DataFrame(lda_1.get_topic_terms(topicid=1, topn=20)).rename(columns={0:'index', 1:'probability'})\n",
        "topic_1"
      ],
      "metadata": {
        "colab": {
          "base_uri": "https://localhost:8080/",
          "height": 677
        },
        "id": "sWsb04CaOK_Q",
        "outputId": "4c943c87-185e-4f56-a493-f82ed1ff0298"
      },
      "execution_count": null,
      "outputs": [
        {
          "output_type": "execute_result",
          "data": {
            "text/plain": [
              "    index  probability\n",
              "0       1     0.031594\n",
              "1       0     0.013589\n",
              "2       2     0.011026\n",
              "3     279     0.005958\n",
              "4     101     0.005512\n",
              "5      37     0.005236\n",
              "6     470     0.005064\n",
              "7      78     0.004900\n",
              "8      51     0.004546\n",
              "9   34856     0.004383\n",
              "10   1096     0.004322\n",
              "11     99     0.003827\n",
              "12    231     0.003740\n",
              "13    382     0.003352\n",
              "14    209     0.003347\n",
              "15    113     0.003308\n",
              "16      6     0.003236\n",
              "17     69     0.003170\n",
              "18    364     0.003150\n",
              "19     98     0.003124"
            ],
            "text/html": [
              "\n",
              "  <div id=\"df-87b4c021-1e95-4143-8245-bf778062061c\">\n",
              "    <div class=\"colab-df-container\">\n",
              "      <div>\n",
              "<style scoped>\n",
              "    .dataframe tbody tr th:only-of-type {\n",
              "        vertical-align: middle;\n",
              "    }\n",
              "\n",
              "    .dataframe tbody tr th {\n",
              "        vertical-align: top;\n",
              "    }\n",
              "\n",
              "    .dataframe thead th {\n",
              "        text-align: right;\n",
              "    }\n",
              "</style>\n",
              "<table border=\"1\" class=\"dataframe\">\n",
              "  <thead>\n",
              "    <tr style=\"text-align: right;\">\n",
              "      <th></th>\n",
              "      <th>index</th>\n",
              "      <th>probability</th>\n",
              "    </tr>\n",
              "  </thead>\n",
              "  <tbody>\n",
              "    <tr>\n",
              "      <th>0</th>\n",
              "      <td>1</td>\n",
              "      <td>0.031594</td>\n",
              "    </tr>\n",
              "    <tr>\n",
              "      <th>1</th>\n",
              "      <td>0</td>\n",
              "      <td>0.013589</td>\n",
              "    </tr>\n",
              "    <tr>\n",
              "      <th>2</th>\n",
              "      <td>2</td>\n",
              "      <td>0.011026</td>\n",
              "    </tr>\n",
              "    <tr>\n",
              "      <th>3</th>\n",
              "      <td>279</td>\n",
              "      <td>0.005958</td>\n",
              "    </tr>\n",
              "    <tr>\n",
              "      <th>4</th>\n",
              "      <td>101</td>\n",
              "      <td>0.005512</td>\n",
              "    </tr>\n",
              "    <tr>\n",
              "      <th>5</th>\n",
              "      <td>37</td>\n",
              "      <td>0.005236</td>\n",
              "    </tr>\n",
              "    <tr>\n",
              "      <th>6</th>\n",
              "      <td>470</td>\n",
              "      <td>0.005064</td>\n",
              "    </tr>\n",
              "    <tr>\n",
              "      <th>7</th>\n",
              "      <td>78</td>\n",
              "      <td>0.004900</td>\n",
              "    </tr>\n",
              "    <tr>\n",
              "      <th>8</th>\n",
              "      <td>51</td>\n",
              "      <td>0.004546</td>\n",
              "    </tr>\n",
              "    <tr>\n",
              "      <th>9</th>\n",
              "      <td>34856</td>\n",
              "      <td>0.004383</td>\n",
              "    </tr>\n",
              "    <tr>\n",
              "      <th>10</th>\n",
              "      <td>1096</td>\n",
              "      <td>0.004322</td>\n",
              "    </tr>\n",
              "    <tr>\n",
              "      <th>11</th>\n",
              "      <td>99</td>\n",
              "      <td>0.003827</td>\n",
              "    </tr>\n",
              "    <tr>\n",
              "      <th>12</th>\n",
              "      <td>231</td>\n",
              "      <td>0.003740</td>\n",
              "    </tr>\n",
              "    <tr>\n",
              "      <th>13</th>\n",
              "      <td>382</td>\n",
              "      <td>0.003352</td>\n",
              "    </tr>\n",
              "    <tr>\n",
              "      <th>14</th>\n",
              "      <td>209</td>\n",
              "      <td>0.003347</td>\n",
              "    </tr>\n",
              "    <tr>\n",
              "      <th>15</th>\n",
              "      <td>113</td>\n",
              "      <td>0.003308</td>\n",
              "    </tr>\n",
              "    <tr>\n",
              "      <th>16</th>\n",
              "      <td>6</td>\n",
              "      <td>0.003236</td>\n",
              "    </tr>\n",
              "    <tr>\n",
              "      <th>17</th>\n",
              "      <td>69</td>\n",
              "      <td>0.003170</td>\n",
              "    </tr>\n",
              "    <tr>\n",
              "      <th>18</th>\n",
              "      <td>364</td>\n",
              "      <td>0.003150</td>\n",
              "    </tr>\n",
              "    <tr>\n",
              "      <th>19</th>\n",
              "      <td>98</td>\n",
              "      <td>0.003124</td>\n",
              "    </tr>\n",
              "  </tbody>\n",
              "</table>\n",
              "</div>\n",
              "      <button class=\"colab-df-convert\" onclick=\"convertToInteractive('df-87b4c021-1e95-4143-8245-bf778062061c')\"\n",
              "              title=\"Convert this dataframe to an interactive table.\"\n",
              "              style=\"display:none;\">\n",
              "        \n",
              "  <svg xmlns=\"http://www.w3.org/2000/svg\" height=\"24px\"viewBox=\"0 0 24 24\"\n",
              "       width=\"24px\">\n",
              "    <path d=\"M0 0h24v24H0V0z\" fill=\"none\"/>\n",
              "    <path d=\"M18.56 5.44l.94 2.06.94-2.06 2.06-.94-2.06-.94-.94-2.06-.94 2.06-2.06.94zm-11 1L8.5 8.5l.94-2.06 2.06-.94-2.06-.94L8.5 2.5l-.94 2.06-2.06.94zm10 10l.94 2.06.94-2.06 2.06-.94-2.06-.94-.94-2.06-.94 2.06-2.06.94z\"/><path d=\"M17.41 7.96l-1.37-1.37c-.4-.4-.92-.59-1.43-.59-.52 0-1.04.2-1.43.59L10.3 9.45l-7.72 7.72c-.78.78-.78 2.05 0 2.83L4 21.41c.39.39.9.59 1.41.59.51 0 1.02-.2 1.41-.59l7.78-7.78 2.81-2.81c.8-.78.8-2.07 0-2.86zM5.41 20L4 18.59l7.72-7.72 1.47 1.35L5.41 20z\"/>\n",
              "  </svg>\n",
              "      </button>\n",
              "      \n",
              "  <style>\n",
              "    .colab-df-container {\n",
              "      display:flex;\n",
              "      flex-wrap:wrap;\n",
              "      gap: 12px;\n",
              "    }\n",
              "\n",
              "    .colab-df-convert {\n",
              "      background-color: #E8F0FE;\n",
              "      border: none;\n",
              "      border-radius: 50%;\n",
              "      cursor: pointer;\n",
              "      display: none;\n",
              "      fill: #1967D2;\n",
              "      height: 32px;\n",
              "      padding: 0 0 0 0;\n",
              "      width: 32px;\n",
              "    }\n",
              "\n",
              "    .colab-df-convert:hover {\n",
              "      background-color: #E2EBFA;\n",
              "      box-shadow: 0px 1px 2px rgba(60, 64, 67, 0.3), 0px 1px 3px 1px rgba(60, 64, 67, 0.15);\n",
              "      fill: #174EA6;\n",
              "    }\n",
              "\n",
              "    [theme=dark] .colab-df-convert {\n",
              "      background-color: #3B4455;\n",
              "      fill: #D2E3FC;\n",
              "    }\n",
              "\n",
              "    [theme=dark] .colab-df-convert:hover {\n",
              "      background-color: #434B5C;\n",
              "      box-shadow: 0px 1px 3px 1px rgba(0, 0, 0, 0.15);\n",
              "      filter: drop-shadow(0px 1px 2px rgba(0, 0, 0, 0.3));\n",
              "      fill: #FFFFFF;\n",
              "    }\n",
              "  </style>\n",
              "\n",
              "      <script>\n",
              "        const buttonEl =\n",
              "          document.querySelector('#df-87b4c021-1e95-4143-8245-bf778062061c button.colab-df-convert');\n",
              "        buttonEl.style.display =\n",
              "          google.colab.kernel.accessAllowed ? 'block' : 'none';\n",
              "\n",
              "        async function convertToInteractive(key) {\n",
              "          const element = document.querySelector('#df-87b4c021-1e95-4143-8245-bf778062061c');\n",
              "          const dataTable =\n",
              "            await google.colab.kernel.invokeFunction('convertToInteractive',\n",
              "                                                     [key], {});\n",
              "          if (!dataTable) return;\n",
              "\n",
              "          const docLinkHtml = 'Like what you see? Visit the ' +\n",
              "            '<a target=\"_blank\" href=https://colab.research.google.com/notebooks/data_table.ipynb>data table notebook</a>'\n",
              "            + ' to learn more about interactive tables.';\n",
              "          element.innerHTML = '';\n",
              "          dataTable['output_type'] = 'display_data';\n",
              "          await google.colab.output.renderOutput(dataTable, element);\n",
              "          const docLink = document.createElement('div');\n",
              "          docLink.innerHTML = docLinkHtml;\n",
              "          element.appendChild(docLink);\n",
              "        }\n",
              "      </script>\n",
              "    </div>\n",
              "  </div>\n",
              "  "
            ]
          },
          "metadata": {},
          "execution_count": 55
        }
      ]
    },
    {
      "cell_type": "code",
      "source": [
        "topic_1 = topic_1.rename(columns={0:'index', 1:'probability'})\n",
        "type(topic_1)"
      ],
      "metadata": {
        "colab": {
          "base_uri": "https://localhost:8080/"
        },
        "id": "4rp4iYwEOLB0",
        "outputId": "9812dc2b-6305-49df-a556-e21aebbaeb68"
      },
      "execution_count": null,
      "outputs": [
        {
          "output_type": "execute_result",
          "data": {
            "text/plain": [
              "pandas.core.frame.DataFrame"
            ]
          },
          "metadata": {},
          "execution_count": 44
        }
      ]
    },
    {
      "cell_type": "code",
      "source": [
        "topic_1_test = lda_1.show_topics(formatted=False)\n",
        "topic_1_test"
      ],
      "metadata": {
        "colab": {
          "base_uri": "https://localhost:8080/"
        },
        "id": "CaBSTwTEOLES",
        "outputId": "097ff1e0-d504-4fbc-ae99-d5e3099c74cc"
      },
      "execution_count": null,
      "outputs": [
        {
          "output_type": "execute_result",
          "data": {
            "text/plain": [
              "[(0,\n",
              "  [('1', 0.021037055),\n",
              "   ('0', 0.012165701),\n",
              "   ('621', 0.007095062),\n",
              "   ('98', 0.006489503),\n",
              "   ('99', 0.0061611314),\n",
              "   ('69', 0.0058810534),\n",
              "   ('2', 0.005835319),\n",
              "   ('231', 0.005793298),\n",
              "   ('101', 0.005258681),\n",
              "   ('279', 0.0051404457)]),\n",
              " (1,\n",
              "  [('1', 0.031594224),\n",
              "   ('0', 0.01358872),\n",
              "   ('2', 0.011025867),\n",
              "   ('279', 0.005958481),\n",
              "   ('101', 0.0055115186),\n",
              "   ('37', 0.0052360413),\n",
              "   ('470', 0.0050639906),\n",
              "   ('78', 0.004900142),\n",
              "   ('51', 0.004546382),\n",
              "   ('34856', 0.0043827933)]),\n",
              " (2,\n",
              "  [('1', 0.034448985),\n",
              "   ('113', 0.013822185),\n",
              "   ('37', 0.013489862),\n",
              "   ('97', 0.013275735),\n",
              "   ('209', 0.011586499),\n",
              "   ('2', 0.010790966),\n",
              "   ('46', 0.010138918),\n",
              "   ('98', 0.009765995),\n",
              "   ('99', 0.009626163),\n",
              "   ('0', 0.007961102)])]"
            ]
          },
          "metadata": {},
          "execution_count": 53
        }
      ]
    },
    {
      "cell_type": "code",
      "source": [
        "top20_1 = [dictionary[index] for index, prob in lda_1.get_topic_terms(topicid=0, topn=20)]"
      ],
      "metadata": {
        "id": "r8AIDkd3UYhR"
      },
      "execution_count": null,
      "outputs": []
    },
    {
      "cell_type": "code",
      "source": [
        "top20_1"
      ],
      "metadata": {
        "colab": {
          "base_uri": "https://localhost:8080/"
        },
        "id": "K2cxjzhvUfmS",
        "outputId": "40294e8c-fbc7-4709-9a6c-7915097cec55"
      },
      "execution_count": null,
      "outputs": [
        {
          "output_type": "execute_result",
          "data": {
            "text/plain": [
              "[\"'\",\n",
              " '\"',\n",
              " '.',\n",
              " '(',\n",
              " ')',\n",
              " 'เรื่อง',\n",
              " '-',\n",
              " 'ไทย',\n",
              " '1',\n",
              " 'คน',\n",
              " '2',\n",
              " '3',\n",
              " 'ทำ',\n",
              " 'ประเทศ',\n",
              " '/',\n",
              " 'ปี',\n",
              " 'พื้นที่',\n",
              " 'ประชาชน',\n",
              " 'อ.',\n",
              " '5']"
            ]
          },
          "metadata": {},
          "execution_count": 50
        }
      ]
    },
    {
      "cell_type": "code",
      "source": [
        "top20_2 = [dictionary[index] for index, prob in lda_1.get_topic_terms(topicid=1, topn=20)]\n",
        "\n",
        "top20_2"
      ],
      "metadata": {
        "colab": {
          "base_uri": "https://localhost:8080/"
        },
        "id": "mQsAgckjUqMr",
        "outputId": "38bd6a3c-9304-4876-91df-e6f2cd543b94"
      },
      "execution_count": null,
      "outputs": [
        {
          "output_type": "execute_result",
          "data": {
            "text/plain": [
              "[\"'\",\n",
              " '\"',\n",
              " '-',\n",
              " 'คน',\n",
              " '1',\n",
              " 'ปี',\n",
              " '2',\n",
              " '3',\n",
              " 'วันที่',\n",
              " 'โควิด',\n",
              " 'ทีม',\n",
              " ')',\n",
              " 'ไทย',\n",
              " ',',\n",
              " 'ล้าน',\n",
              " 'บาท',\n",
              " '4',\n",
              " 'เรื่อง',\n",
              " 'เดินทาง',\n",
              " '(']"
            ]
          },
          "metadata": {},
          "execution_count": 51
        }
      ]
    },
    {
      "cell_type": "code",
      "source": [
        "top20_3 = [dictionary[index] for index, prob in lda_1.get_topic_terms(topicid=2, topn=20)]\n",
        "\n",
        "top20_3"
      ],
      "metadata": {
        "colab": {
          "base_uri": "https://localhost:8080/"
        },
        "id": "c3z8mY1_UqO5",
        "outputId": "6372b38f-18be-442a-efdb-35e133f5da99"
      },
      "execution_count": null,
      "outputs": [
        {
          "output_type": "execute_result",
          "data": {
            "text/plain": [
              "[\"'\",\n",
              " 'บาท',\n",
              " 'ปี',\n",
              " '%',\n",
              " 'ล้าน',\n",
              " '-',\n",
              " 'ราคา',\n",
              " '(',\n",
              " ')',\n",
              " '\"',\n",
              " 'ไทย',\n",
              " 'คาด',\n",
              " 'บริษัท',\n",
              " '3',\n",
              " 'ลดลง',\n",
              " 'หุ้น',\n",
              " 'ซื้อ',\n",
              " 'ตลาด',\n",
              " '1',\n",
              " 'เศรษฐกิจ']"
            ]
          },
          "metadata": {},
          "execution_count": 52
        }
      ]
    },
    {
      "cell_type": "code",
      "source": [],
      "metadata": {
        "id": "vrfQolmBOLG6"
      },
      "execution_count": null,
      "outputs": []
    },
    {
      "cell_type": "code",
      "source": [],
      "metadata": {
        "id": "8NyUaOQSp6na"
      },
      "execution_count": null,
      "outputs": []
    },
    {
      "cell_type": "code",
      "source": [],
      "metadata": {
        "id": "ralPN1S5p6qH"
      },
      "execution_count": null,
      "outputs": []
    },
    {
      "cell_type": "code",
      "source": [],
      "metadata": {
        "id": "5Me85Kayp6s_"
      },
      "execution_count": null,
      "outputs": []
    },
    {
      "cell_type": "code",
      "source": [
        "# Evaluation: perplexity"
      ],
      "metadata": {
        "id": "nKAx-ZCWp6wH"
      },
      "execution_count": null,
      "outputs": []
    },
    {
      "cell_type": "markdown",
      "source": [
        "#Part 5: Final Model \n",
        "---"
      ],
      "metadata": {
        "id": "LDgY9wmt-8O5"
      }
    },
    {
      "cell_type": "code",
      "source": [],
      "metadata": {
        "id": "toDeM6Rq_ClV"
      },
      "execution_count": null,
      "outputs": []
    },
    {
      "cell_type": "markdown",
      "source": [
        "#Part 6: Analysis\n",
        "---"
      ],
      "metadata": {
        "id": "ekHsv0v9_DCE"
      }
    },
    {
      "cell_type": "code",
      "source": [],
      "metadata": {
        "id": "F1FnIG9T_HqC"
      },
      "execution_count": null,
      "outputs": []
    },
    {
      "cell_type": "markdown",
      "source": [
        "# Part 7: Interpretation\n",
        "---"
      ],
      "metadata": {
        "id": "GQNi2hyv_IIm"
      }
    },
    {
      "cell_type": "code",
      "source": [],
      "metadata": {
        "id": "1XZyu2Ms_LZe"
      },
      "execution_count": null,
      "outputs": []
    },
    {
      "cell_type": "markdown",
      "source": [
        "# Part 8: Conclusion\n",
        "---"
      ],
      "metadata": {
        "id": "-nTBhR-F_L4-"
      }
    },
    {
      "cell_type": "code",
      "source": [],
      "metadata": {
        "id": "wncfHY50_NlX"
      },
      "execution_count": null,
      "outputs": []
    }
  ]
}