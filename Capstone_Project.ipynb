{
  "nbformat": 4,
  "nbformat_minor": 0,
  "metadata": {
    "colab": {
      "provenance": [],
      "collapsed_sections": [],
      "authorship_tag": "ABX9TyPkedC1pjHFl28gVkg2COUn",
      "include_colab_link": true
    },
    "kernelspec": {
      "name": "python3",
      "display_name": "Python 3"
    },
    "language_info": {
      "name": "python"
    }
  },
  "cells": [
    {
      "cell_type": "markdown",
      "metadata": {
        "id": "view-in-github",
        "colab_type": "text"
      },
      "source": [
        "<a href=\"https://colab.research.google.com/github/pichayaanik/Capstone_PichayaAnik/blob/main/Capstone_Project.ipynb\" target=\"_parent\"><img src=\"https://colab.research.google.com/assets/colab-badge.svg\" alt=\"Open In Colab\"/></a>"
      ]
    },
    {
      "cell_type": "markdown",
      "source": [
        "#**Discovering Key-Drivers for Boosting Thailand's Digital Competitiveness Index Using an NLP Approach**\n",
        "---\n",
        "Pichaya Charoonpongsakdi (Anik) <br>\n",
        "GA-TDA DSI Capstone Project"
      ],
      "metadata": {
        "id": "hvB1C-uB3G37"
      }
    },
    {
      "cell_type": "markdown",
      "source": [
        "# Part 1: Problem Statement\n",
        "---"
      ],
      "metadata": {
        "id": "_YCaEDpM-W3f"
      }
    },
    {
      "cell_type": "markdown",
      "source": [
        "#Part 2: Data Wrangling\n",
        "---\n"
      ],
      "metadata": {
        "id": "MdLQeVRj-bT9"
      }
    },
    {
      "cell_type": "markdown",
      "source": [
        "##2.0 Install and Import Libraries"
      ],
      "metadata": {
        "id": "E_jn0I5k61H8"
      }
    },
    {
      "cell_type": "code",
      "source": [
        "# Install pythainal library\n",
        "!pip install pythainlp"
      ],
      "metadata": {
        "colab": {
          "base_uri": "https://localhost:8080/"
        },
        "id": "iuGczBIL6b7p",
        "outputId": "55ae8fac-6fae-4b83-cdce-355dade2ab1a"
      },
      "execution_count": null,
      "outputs": [
        {
          "output_type": "stream",
          "name": "stdout",
          "text": [
            "Looking in indexes: https://pypi.org/simple, https://us-python.pkg.dev/colab-wheels/public/simple/\n",
            "Collecting pythainlp\n",
            "  Downloading pythainlp-3.1.1-py3-none-any.whl (9.6 MB)\n",
            "\u001b[K     |████████████████████████████████| 9.6 MB 8.0 MB/s \n",
            "\u001b[?25hRequirement already satisfied: requests>=2.22.0 in /usr/local/lib/python3.7/dist-packages (from pythainlp) (2.23.0)\n",
            "Requirement already satisfied: urllib3!=1.25.0,!=1.25.1,<1.26,>=1.21.1 in /usr/local/lib/python3.7/dist-packages (from requests>=2.22.0->pythainlp) (1.24.3)\n",
            "Requirement already satisfied: chardet<4,>=3.0.2 in /usr/local/lib/python3.7/dist-packages (from requests>=2.22.0->pythainlp) (3.0.4)\n",
            "Requirement already satisfied: idna<3,>=2.5 in /usr/local/lib/python3.7/dist-packages (from requests>=2.22.0->pythainlp) (2.10)\n",
            "Requirement already satisfied: certifi>=2017.4.17 in /usr/local/lib/python3.7/dist-packages (from requests>=2.22.0->pythainlp) (2022.9.24)\n",
            "Installing collected packages: pythainlp\n",
            "Successfully installed pythainlp-3.1.1\n"
          ]
        }
      ]
    },
    {
      "cell_type": "code",
      "execution_count": null,
      "metadata": {
        "id": "uVC6prvN2kE1"
      },
      "outputs": [],
      "source": [
        "# Import Basic Libraries\n",
        "import pandas as pd\n",
        "import numpy as np\n",
        "import matplotlib.pyplot as plt\n",
        "import seaborn as sns\n",
        "\n",
        "# Import Sklearn Libraries\n",
        "from sklearn.model_selection import train_test_split, GridSearchCV\n",
        "from sklearn.pipeline import Pipeline\n",
        "from sklearn.naive_bayes import MultinomialNB\n",
        "from sklearn.linear_model import LogisticRegression\n",
        "from sklearn.metrics import confusion_matrix, plot_confusion_matrix\n",
        "from sklearn.feature_extraction.text import CountVectorizer, TfidfVectorizer\n",
        "\n",
        "# Import NLP Libraries\n",
        "from nltk.tokenize import sent_tokenize, word_tokenize, RegexpTokenizer\n",
        "from nltk.stem import WordNetLemmatizer\n",
        "from nltk.stem.porter import PorterStemmer\n",
        "from nltk.corpus import stopwords\n",
        "from nltk.sentiment.vader import SentimentIntensityAnalyzer\n",
        "from gensim.models import LdaModel\n",
        "from gensim.corpora.dictionary import Dictionary\n",
        "from pythainlp.tokenize import sent_tokenize, word_tokenize\n",
        "from pythainlp.corpus import thai_stopwords\n",
        "import re"
      ]
    },
    {
      "cell_type": "markdown",
      "source": [
        "##2.1 Load Datasets"
      ],
      "metadata": {
        "id": "3VUqPju87Jtw"
      }
    },
    {
      "cell_type": "code",
      "source": [
        "# Download datasets from Google Drive\n",
        "!gdown 1BQtzBne72ML1OoJG46IbYQ_v9pUrOq1K"
      ],
      "metadata": {
        "colab": {
          "base_uri": "https://localhost:8080/"
        },
        "id": "-FzQJ6VE2qo9",
        "outputId": "d8297ff0-21a3-44d7-d9f9-bc7d38b5d873"
      },
      "execution_count": null,
      "outputs": [
        {
          "output_type": "stream",
          "name": "stdout",
          "text": [
            "Downloading...\n",
            "From: https://drive.google.com/uc?id=1BQtzBne72ML1OoJG46IbYQ_v9pUrOq1K\n",
            "To: /content/bkkbiz_update.json\n",
            "100% 2.29G/2.29G [00:16<00:00, 141MB/s]\n"
          ]
        }
      ]
    },
    {
      "cell_type": "code",
      "source": [
        "# Import datasets\n",
        "bkkbiz = pd.read_json('/content/bkkbiz_update.json')"
      ],
      "metadata": {
        "id": "tdcTZAzo6Lrh"
      },
      "execution_count": null,
      "outputs": []
    },
    {
      "cell_type": "code",
      "source": [
        "# Check head\n",
        "bkkbiz.head()"
      ],
      "metadata": {
        "colab": {
          "base_uri": "https://localhost:8080/",
          "height": 337
        },
        "id": "R2FdTyRuQwHl",
        "outputId": "0eaaccec-3494-48a0-d43a-0cfa3418395f"
      },
      "execution_count": null,
      "outputs": [
        {
          "output_type": "execute_result",
          "data": {
            "text/plain": [
              "       ID                date          category  \\\n",
              "0  620001 2014-11-27 08:01:00        ต่างประเทศ   \n",
              "1  620002 2014-11-27 08:20:00        ต่างประเทศ   \n",
              "2  620009 2014-11-27 09:34:00  การเงิน-การลงทุน   \n",
              "3  620010 2014-11-27 09:36:00  การเงิน-การลงทุน   \n",
              "4  620011 2014-11-27 09:48:00  การเงิน-การลงทุน   \n",
              "\n",
              "                                     title  \\\n",
              "0  น้ำมันดิบปิดร่วง-คาดโอเปคไม่ลดกำลังผลิต   \n",
              "1   ทองคำปิดร่วงหลังสหรัฐเผยข้อมูลเศรษฐกิจ   \n",
              "2      ทองแท่งขายออก18,600บ.ไม่เปลี่ยนแปลง   \n",
              "3           เงินบาทเปิด32.75/77คาดแกว่งแคบ   \n",
              "4                 คาดหุ้นเช้าแกว่งไซด์เวย์   \n",
              "\n",
              "                                         description  \\\n",
              "0  น้ำมันดิบปิดร่วงแตะระดับต่ำสุดในรอบ 4 ปี-คาดโอ...   \n",
              "1  สัญญาทองคำตลาดล่วงหน้าสหรัฐ ปิดปรับตัวลงเล็กน้...   \n",
              "2  ราคาทองคำวันนี้ทองแท่งขายออกบาทละ 18,600 บาท ท...   \n",
              "3  ค่าเงินบาทเปิดที่ 32.75/77 บาท/ดอลลาร์ คาดแกว่...   \n",
              "4  โบรกฯ คาดหุ้นเช้านี้แกว่งไซด์เวย์ช่วงไร้ปัจจัย...   \n",
              "\n",
              "                                             article  \\\n",
              "0  สัญญาน้ำมันดิบตลาดล่วงหน้าสหรัฐ ปิดตลาดปรับตัว...   \n",
              "1  สัญญาทองคำตลาดล่วงหน้าสหรัฐ ปิดปรับตัวลงเล็กน้...   \n",
              "2  สมาคมค้าทองคำรายงานราคาทอง 96.5% ประจำวันที่ 2...   \n",
              "3  นักบริหารเงินจากธนาคารพาณิชย์ เปิดเผยว่า เงินบ...   \n",
              "4  นายอภิชาติ ผู้บรรเจิดกุล ผู้อำนวยการสายงานวิเค...   \n",
              "\n",
              "                                                 url  \n",
              "0  https://www.bangkokbiznews.com/news/detail/620001  \n",
              "1  https://www.bangkokbiznews.com/news/detail/620002  \n",
              "2  https://www.bangkokbiznews.com/news/detail/620009  \n",
              "3  https://www.bangkokbiznews.com/news/detail/620010  \n",
              "4  https://www.bangkokbiznews.com/news/detail/620011  "
            ],
            "text/html": [
              "\n",
              "  <div id=\"df-ccefe306-6f25-4aca-8485-5f6f8bdc6f0c\">\n",
              "    <div class=\"colab-df-container\">\n",
              "      <div>\n",
              "<style scoped>\n",
              "    .dataframe tbody tr th:only-of-type {\n",
              "        vertical-align: middle;\n",
              "    }\n",
              "\n",
              "    .dataframe tbody tr th {\n",
              "        vertical-align: top;\n",
              "    }\n",
              "\n",
              "    .dataframe thead th {\n",
              "        text-align: right;\n",
              "    }\n",
              "</style>\n",
              "<table border=\"1\" class=\"dataframe\">\n",
              "  <thead>\n",
              "    <tr style=\"text-align: right;\">\n",
              "      <th></th>\n",
              "      <th>ID</th>\n",
              "      <th>date</th>\n",
              "      <th>category</th>\n",
              "      <th>title</th>\n",
              "      <th>description</th>\n",
              "      <th>article</th>\n",
              "      <th>url</th>\n",
              "    </tr>\n",
              "  </thead>\n",
              "  <tbody>\n",
              "    <tr>\n",
              "      <th>0</th>\n",
              "      <td>620001</td>\n",
              "      <td>2014-11-27 08:01:00</td>\n",
              "      <td>ต่างประเทศ</td>\n",
              "      <td>น้ำมันดิบปิดร่วง-คาดโอเปคไม่ลดกำลังผลิต</td>\n",
              "      <td>น้ำมันดิบปิดร่วงแตะระดับต่ำสุดในรอบ 4 ปี-คาดโอ...</td>\n",
              "      <td>สัญญาน้ำมันดิบตลาดล่วงหน้าสหรัฐ ปิดตลาดปรับตัว...</td>\n",
              "      <td>https://www.bangkokbiznews.com/news/detail/620001</td>\n",
              "    </tr>\n",
              "    <tr>\n",
              "      <th>1</th>\n",
              "      <td>620002</td>\n",
              "      <td>2014-11-27 08:20:00</td>\n",
              "      <td>ต่างประเทศ</td>\n",
              "      <td>ทองคำปิดร่วงหลังสหรัฐเผยข้อมูลเศรษฐกิจ</td>\n",
              "      <td>สัญญาทองคำตลาดล่วงหน้าสหรัฐ ปิดปรับตัวลงเล็กน้...</td>\n",
              "      <td>สัญญาทองคำตลาดล่วงหน้าสหรัฐ ปิดปรับตัวลงเล็กน้...</td>\n",
              "      <td>https://www.bangkokbiznews.com/news/detail/620002</td>\n",
              "    </tr>\n",
              "    <tr>\n",
              "      <th>2</th>\n",
              "      <td>620009</td>\n",
              "      <td>2014-11-27 09:34:00</td>\n",
              "      <td>การเงิน-การลงทุน</td>\n",
              "      <td>ทองแท่งขายออก18,600บ.ไม่เปลี่ยนแปลง</td>\n",
              "      <td>ราคาทองคำวันนี้ทองแท่งขายออกบาทละ 18,600 บาท ท...</td>\n",
              "      <td>สมาคมค้าทองคำรายงานราคาทอง 96.5% ประจำวันที่ 2...</td>\n",
              "      <td>https://www.bangkokbiznews.com/news/detail/620009</td>\n",
              "    </tr>\n",
              "    <tr>\n",
              "      <th>3</th>\n",
              "      <td>620010</td>\n",
              "      <td>2014-11-27 09:36:00</td>\n",
              "      <td>การเงิน-การลงทุน</td>\n",
              "      <td>เงินบาทเปิด32.75/77คาดแกว่งแคบ</td>\n",
              "      <td>ค่าเงินบาทเปิดที่ 32.75/77 บาท/ดอลลาร์ คาดแกว่...</td>\n",
              "      <td>นักบริหารเงินจากธนาคารพาณิชย์ เปิดเผยว่า เงินบ...</td>\n",
              "      <td>https://www.bangkokbiznews.com/news/detail/620010</td>\n",
              "    </tr>\n",
              "    <tr>\n",
              "      <th>4</th>\n",
              "      <td>620011</td>\n",
              "      <td>2014-11-27 09:48:00</td>\n",
              "      <td>การเงิน-การลงทุน</td>\n",
              "      <td>คาดหุ้นเช้าแกว่งไซด์เวย์</td>\n",
              "      <td>โบรกฯ คาดหุ้นเช้านี้แกว่งไซด์เวย์ช่วงไร้ปัจจัย...</td>\n",
              "      <td>นายอภิชาติ ผู้บรรเจิดกุล ผู้อำนวยการสายงานวิเค...</td>\n",
              "      <td>https://www.bangkokbiznews.com/news/detail/620011</td>\n",
              "    </tr>\n",
              "  </tbody>\n",
              "</table>\n",
              "</div>\n",
              "      <button class=\"colab-df-convert\" onclick=\"convertToInteractive('df-ccefe306-6f25-4aca-8485-5f6f8bdc6f0c')\"\n",
              "              title=\"Convert this dataframe to an interactive table.\"\n",
              "              style=\"display:none;\">\n",
              "        \n",
              "  <svg xmlns=\"http://www.w3.org/2000/svg\" height=\"24px\"viewBox=\"0 0 24 24\"\n",
              "       width=\"24px\">\n",
              "    <path d=\"M0 0h24v24H0V0z\" fill=\"none\"/>\n",
              "    <path d=\"M18.56 5.44l.94 2.06.94-2.06 2.06-.94-2.06-.94-.94-2.06-.94 2.06-2.06.94zm-11 1L8.5 8.5l.94-2.06 2.06-.94-2.06-.94L8.5 2.5l-.94 2.06-2.06.94zm10 10l.94 2.06.94-2.06 2.06-.94-2.06-.94-.94-2.06-.94 2.06-2.06.94z\"/><path d=\"M17.41 7.96l-1.37-1.37c-.4-.4-.92-.59-1.43-.59-.52 0-1.04.2-1.43.59L10.3 9.45l-7.72 7.72c-.78.78-.78 2.05 0 2.83L4 21.41c.39.39.9.59 1.41.59.51 0 1.02-.2 1.41-.59l7.78-7.78 2.81-2.81c.8-.78.8-2.07 0-2.86zM5.41 20L4 18.59l7.72-7.72 1.47 1.35L5.41 20z\"/>\n",
              "  </svg>\n",
              "      </button>\n",
              "      \n",
              "  <style>\n",
              "    .colab-df-container {\n",
              "      display:flex;\n",
              "      flex-wrap:wrap;\n",
              "      gap: 12px;\n",
              "    }\n",
              "\n",
              "    .colab-df-convert {\n",
              "      background-color: #E8F0FE;\n",
              "      border: none;\n",
              "      border-radius: 50%;\n",
              "      cursor: pointer;\n",
              "      display: none;\n",
              "      fill: #1967D2;\n",
              "      height: 32px;\n",
              "      padding: 0 0 0 0;\n",
              "      width: 32px;\n",
              "    }\n",
              "\n",
              "    .colab-df-convert:hover {\n",
              "      background-color: #E2EBFA;\n",
              "      box-shadow: 0px 1px 2px rgba(60, 64, 67, 0.3), 0px 1px 3px 1px rgba(60, 64, 67, 0.15);\n",
              "      fill: #174EA6;\n",
              "    }\n",
              "\n",
              "    [theme=dark] .colab-df-convert {\n",
              "      background-color: #3B4455;\n",
              "      fill: #D2E3FC;\n",
              "    }\n",
              "\n",
              "    [theme=dark] .colab-df-convert:hover {\n",
              "      background-color: #434B5C;\n",
              "      box-shadow: 0px 1px 3px 1px rgba(0, 0, 0, 0.15);\n",
              "      filter: drop-shadow(0px 1px 2px rgba(0, 0, 0, 0.3));\n",
              "      fill: #FFFFFF;\n",
              "    }\n",
              "  </style>\n",
              "\n",
              "      <script>\n",
              "        const buttonEl =\n",
              "          document.querySelector('#df-ccefe306-6f25-4aca-8485-5f6f8bdc6f0c button.colab-df-convert');\n",
              "        buttonEl.style.display =\n",
              "          google.colab.kernel.accessAllowed ? 'block' : 'none';\n",
              "\n",
              "        async function convertToInteractive(key) {\n",
              "          const element = document.querySelector('#df-ccefe306-6f25-4aca-8485-5f6f8bdc6f0c');\n",
              "          const dataTable =\n",
              "            await google.colab.kernel.invokeFunction('convertToInteractive',\n",
              "                                                     [key], {});\n",
              "          if (!dataTable) return;\n",
              "\n",
              "          const docLinkHtml = 'Like what you see? Visit the ' +\n",
              "            '<a target=\"_blank\" href=https://colab.research.google.com/notebooks/data_table.ipynb>data table notebook</a>'\n",
              "            + ' to learn more about interactive tables.';\n",
              "          element.innerHTML = '';\n",
              "          dataTable['output_type'] = 'display_data';\n",
              "          await google.colab.output.renderOutput(dataTable, element);\n",
              "          const docLink = document.createElement('div');\n",
              "          docLink.innerHTML = docLinkHtml;\n",
              "          element.appendChild(docLink);\n",
              "        }\n",
              "      </script>\n",
              "    </div>\n",
              "  </div>\n",
              "  "
            ]
          },
          "metadata": {},
          "execution_count": 5
        }
      ]
    },
    {
      "cell_type": "markdown",
      "source": [
        "##2.2 Data Cleaning\n"
      ],
      "metadata": {
        "id": "apZrKWjH-oVZ"
      }
    },
    {
      "cell_type": "code",
      "source": [
        "# Convert column heads to lower case\n",
        "bkkbiz.columns.str.lower()"
      ],
      "metadata": {
        "colab": {
          "base_uri": "https://localhost:8080/"
        },
        "id": "pkLPhQPkVRjm",
        "outputId": "d30232b7-f8c3-4e8e-afec-6e4061cf8f69"
      },
      "execution_count": null,
      "outputs": [
        {
          "output_type": "execute_result",
          "data": {
            "text/plain": [
              "Index(['id', 'date', 'category', 'title', 'description', 'article', 'url'], dtype='object')"
            ]
          },
          "metadata": {},
          "execution_count": 5
        }
      ]
    },
    {
      "cell_type": "code",
      "source": [
        "# Check dtypes\n",
        "bkkbiz.dtypes"
      ],
      "metadata": {
        "colab": {
          "base_uri": "https://localhost:8080/"
        },
        "id": "5G2uP45-PqC6",
        "outputId": "0fb3e452-b4fc-4cb2-a8b7-0585b5bd754e"
      },
      "execution_count": null,
      "outputs": [
        {
          "output_type": "execute_result",
          "data": {
            "text/plain": [
              "ID                      int64\n",
              "date           datetime64[ns]\n",
              "category               object\n",
              "title                  object\n",
              "description            object\n",
              "article                object\n",
              "url                    object\n",
              "dtype: object"
            ]
          },
          "metadata": {},
          "execution_count": 6
        }
      ]
    },
    {
      "cell_type": "code",
      "source": [
        "# Check shape\n",
        "bkkbiz.shape"
      ],
      "metadata": {
        "colab": {
          "base_uri": "https://localhost:8080/"
        },
        "id": "CJ63tNFvPqAj",
        "outputId": "24fee49c-0d7d-4d2c-9010-dbaa52726c3b"
      },
      "execution_count": null,
      "outputs": [
        {
          "output_type": "execute_result",
          "data": {
            "text/plain": [
              "(361228, 7)"
            ]
          },
          "metadata": {},
          "execution_count": 7
        }
      ]
    },
    {
      "cell_type": "code",
      "source": [
        "# Check nulls\n",
        "bkkbiz.isnull().sum()"
      ],
      "metadata": {
        "colab": {
          "base_uri": "https://localhost:8080/"
        },
        "id": "V33syHEfPqF6",
        "outputId": "4808f05a-8061-4f9a-d464-1771a62bab08"
      },
      "execution_count": null,
      "outputs": [
        {
          "output_type": "execute_result",
          "data": {
            "text/plain": [
              "ID             0\n",
              "date           0\n",
              "category       0\n",
              "title          0\n",
              "description    0\n",
              "article        0\n",
              "url            0\n",
              "dtype: int64"
            ]
          },
          "metadata": {},
          "execution_count": 8
        }
      ]
    },
    {
      "cell_type": "code",
      "source": [
        "# Check duplicate rows\n",
        "set([bkkbiz['title'].value_counts().count(),\n",
        "     bkkbiz['description'].value_counts().count(), \n",
        "     bkkbiz['article'].value_counts().count(), \n",
        "     bkkbiz.shape[0]])"
      ],
      "metadata": {
        "colab": {
          "base_uri": "https://localhost:8080/"
        },
        "id": "fHq7gLmfa7nG",
        "outputId": "25a69f71-97bb-461d-b77c-bbf0eafb1f21"
      },
      "execution_count": null,
      "outputs": [
        {
          "output_type": "execute_result",
          "data": {
            "text/plain": [
              "{337402, 352490, 354923, 361228}"
            ]
          },
          "metadata": {},
          "execution_count": 9
        }
      ]
    },
    {
      "cell_type": "code",
      "source": [
        "# Check deplicates\n",
        "bkkbiz['article'].value_counts().count(), bkkbiz['article'].isnull().sum()"
      ],
      "metadata": {
        "colab": {
          "base_uri": "https://localhost:8080/"
        },
        "id": "PGlyBg1sa1hp",
        "outputId": "09fbd23d-1a12-43c4-baa6-b4373aa449e8"
      },
      "execution_count": null,
      "outputs": [
        {
          "output_type": "execute_result",
          "data": {
            "text/plain": [
              "(337402, 0)"
            ]
          },
          "metadata": {},
          "execution_count": 10
        }
      ]
    },
    {
      "cell_type": "markdown",
      "source": [
        "##2.3 Preprocessing"
      ],
      "metadata": {
        "id": "OYqw1ws5Yp2S"
      }
    },
    {
      "cell_type": "markdown",
      "source": [
        "ลองเฉพาะหมวด digital ก่อน"
      ],
      "metadata": {
        "id": "1JrMg35Tizsa"
      }
    },
    {
      "cell_type": "code",
      "source": [
        "bkkbiz['category'].unique()"
      ],
      "metadata": {
        "colab": {
          "base_uri": "https://localhost:8080/"
        },
        "id": "owkXixLhjTXm",
        "outputId": "4df139e4-f119-4d11-ce40-740109471f17"
      },
      "execution_count": null,
      "outputs": [
        {
          "output_type": "execute_result",
          "data": {
            "text/plain": [
              "array(['ต่างประเทศ', 'การเงิน-การลงทุน', 'การเมือง', 'คุณภาพชีวิต-สังคม',\n",
              "       'ธุรกิจ', 'ไลฟ์สไตล์', 'Bizweek', 'ทั่วไป', 'การเงิน', 'เศรษฐกิจ',\n",
              "       'ไอที-นวัตกรรม', 'IT & gadget', 'ท่องเที่ยว', 'Art & living',\n",
              "       'บันเทิง', 'ยานยนต์', 'อสังหาริมทรัพย์', 'ดูดวง', '@Taste',\n",
              "       'ข่าวพระราชสำนัก', 'Special', 'จุดประกาย', 'Data Analysis',\n",
              "       'ข่าวในพระราชสำนัก', 'นวัตกรรม', 'สุขภาพ-คุณภาพชีวิต',\n",
              "       'สิ่งแวดล้อม', 'ข่าวทั่วไป', 'เศรษฐกิจ-ธุรกิจ', 'ประชาสัมพันธ์',\n",
              "       'CEO Blog', 'คอลัมนิสต์', 'การศึกษา', 'ความงาม-แฟชั่น',\n",
              "       'Training Course', 'Biz2U', 'หุ้น', 'Corporate Moves', 'ลอตเตอรี่',\n",
              "       'สาธารณสุข', 'แรงงาน', 'เทคโนโลยี', 'คุณภาพชีวิต'], dtype=object)"
            ]
          },
          "metadata": {},
          "execution_count": 12
        }
      ]
    },
    {
      "cell_type": "code",
      "source": [
        "# Create economics news DataFrame\n",
        "econ = bkkbiz[bkkbiz['category']=='เศรษฐกิจ']"
      ],
      "metadata": {
        "id": "_xthLj2Zi7Fj"
      },
      "execution_count": null,
      "outputs": []
    },
    {
      "cell_type": "code",
      "source": [
        "# Recheck\n",
        "econ.shape"
      ],
      "metadata": {
        "colab": {
          "base_uri": "https://localhost:8080/"
        },
        "id": "gIpP576PLerJ",
        "outputId": "be5cffcd-45f6-4889-98d4-ead39799daa4"
      },
      "execution_count": null,
      "outputs": [
        {
          "output_type": "execute_result",
          "data": {
            "text/plain": [
              "(35453, 7)"
            ]
          },
          "metadata": {},
          "execution_count": 14
        }
      ]
    },
    {
      "cell_type": "code",
      "source": [
        "# Recheck \n",
        "econ.head()"
      ],
      "metadata": {
        "colab": {
          "base_uri": "https://localhost:8080/",
          "height": 337
        },
        "id": "pLAjkX1JLvLc",
        "outputId": "02d5e57b-82c3-4d3f-fbc5-e50969f8163c"
      },
      "execution_count": null,
      "outputs": [
        {
          "output_type": "execute_result",
          "data": {
            "text/plain": [
              "           ID                date  category  \\\n",
              "8993   632149 2015-01-30 18:20:00  เศรษฐกิจ   \n",
              "9409   632695 2015-02-03 16:30:00  เศรษฐกิจ   \n",
              "10191  633724 2015-02-09 10:03:00  เศรษฐกิจ   \n",
              "10194  633727 2015-02-09 10:20:00  เศรษฐกิจ   \n",
              "10205  633738 2015-02-09 11:02:00  เศรษฐกิจ   \n",
              "\n",
              "                                    title  \\\n",
              "8993          ซีพีเอฟร่วมลดก๊าซเรือนกระจก   \n",
              "9409   จับตายักษ์ใหญ่คว้า'โซลาร์'กองทัพบก   \n",
              "10191          หวั่น'ส่งออก'ทรุดต่อเนื่อง   \n",
              "10194        จี้'แบงก์รัฐ'ดันแพ็คเกจแก้จน   \n",
              "10205           ดอลลาร์แข็งฉุด'หนี้นอก'ลด   \n",
              "\n",
              "                                             description  \\\n",
              "8993   ซีพีเอฟ ลงนามความร่วมมือโครงการต้นแบบลดก๊าซเรื...   \n",
              "9409   จับตายักษ์ใหญ่คว้า\"โซลาร์\"กองทัพบก ปูดบ.รีนิวเ...   \n",
              "10191  นักเศรษฐศาสตร์-นักการเงิน ห่วงส่งออกไทยหดตัวต่...   \n",
              "10194  กระทรวงคลัง เผย \"แบงก์รัฐ\" เร่งทำโครงการช่วยเห...   \n",
              "10205  \"แบงก์ชาติ\" เผยอดหนี้ต่างประเทศเดือนธ.ค. รวมกว...   \n",
              "\n",
              "                                                 article  \\\n",
              "8993   นายสุนันต์ อรุณนพรัตน์(ที่ 4 จากซ้าย) ผู้ช่วยร...   \n",
              "9409   รายงานข่าวจากวงการพลังงาน เปิดเผยว่า จากการที่...   \n",
              "10191  \"กอบศักดิ์\" ชี้เงินบาทแข็งเกินพื้นฐาน ด้าน \"ตี...   \n",
              "10194  แหล่งข่าวจากกระทรวงการคลัง เปิดเผยว่า สถาบันกา...   \n",
              "10205  รายงานข่าวจากธนาคารแห่งประเทศไทย (ธปท.) เปิดเผ...   \n",
              "\n",
              "                                                     url  \n",
              "8993   https://www.bangkokbiznews.com/news/detail/632149  \n",
              "9409   https://www.bangkokbiznews.com/news/detail/632695  \n",
              "10191  https://www.bangkokbiznews.com/news/detail/633724  \n",
              "10194  https://www.bangkokbiznews.com/news/detail/633727  \n",
              "10205  https://www.bangkokbiznews.com/news/detail/633738  "
            ],
            "text/html": [
              "\n",
              "  <div id=\"df-0db5d42b-f76b-4881-bf6d-54f6e6015f86\">\n",
              "    <div class=\"colab-df-container\">\n",
              "      <div>\n",
              "<style scoped>\n",
              "    .dataframe tbody tr th:only-of-type {\n",
              "        vertical-align: middle;\n",
              "    }\n",
              "\n",
              "    .dataframe tbody tr th {\n",
              "        vertical-align: top;\n",
              "    }\n",
              "\n",
              "    .dataframe thead th {\n",
              "        text-align: right;\n",
              "    }\n",
              "</style>\n",
              "<table border=\"1\" class=\"dataframe\">\n",
              "  <thead>\n",
              "    <tr style=\"text-align: right;\">\n",
              "      <th></th>\n",
              "      <th>ID</th>\n",
              "      <th>date</th>\n",
              "      <th>category</th>\n",
              "      <th>title</th>\n",
              "      <th>description</th>\n",
              "      <th>article</th>\n",
              "      <th>url</th>\n",
              "    </tr>\n",
              "  </thead>\n",
              "  <tbody>\n",
              "    <tr>\n",
              "      <th>8993</th>\n",
              "      <td>632149</td>\n",
              "      <td>2015-01-30 18:20:00</td>\n",
              "      <td>เศรษฐกิจ</td>\n",
              "      <td>ซีพีเอฟร่วมลดก๊าซเรือนกระจก</td>\n",
              "      <td>ซีพีเอฟ ลงนามความร่วมมือโครงการต้นแบบลดก๊าซเรื...</td>\n",
              "      <td>นายสุนันต์ อรุณนพรัตน์(ที่ 4 จากซ้าย) ผู้ช่วยร...</td>\n",
              "      <td>https://www.bangkokbiznews.com/news/detail/632149</td>\n",
              "    </tr>\n",
              "    <tr>\n",
              "      <th>9409</th>\n",
              "      <td>632695</td>\n",
              "      <td>2015-02-03 16:30:00</td>\n",
              "      <td>เศรษฐกิจ</td>\n",
              "      <td>จับตายักษ์ใหญ่คว้า'โซลาร์'กองทัพบก</td>\n",
              "      <td>จับตายักษ์ใหญ่คว้า\"โซลาร์\"กองทัพบก ปูดบ.รีนิวเ...</td>\n",
              "      <td>รายงานข่าวจากวงการพลังงาน เปิดเผยว่า จากการที่...</td>\n",
              "      <td>https://www.bangkokbiznews.com/news/detail/632695</td>\n",
              "    </tr>\n",
              "    <tr>\n",
              "      <th>10191</th>\n",
              "      <td>633724</td>\n",
              "      <td>2015-02-09 10:03:00</td>\n",
              "      <td>เศรษฐกิจ</td>\n",
              "      <td>หวั่น'ส่งออก'ทรุดต่อเนื่อง</td>\n",
              "      <td>นักเศรษฐศาสตร์-นักการเงิน ห่วงส่งออกไทยหดตัวต่...</td>\n",
              "      <td>\"กอบศักดิ์\" ชี้เงินบาทแข็งเกินพื้นฐาน ด้าน \"ตี...</td>\n",
              "      <td>https://www.bangkokbiznews.com/news/detail/633724</td>\n",
              "    </tr>\n",
              "    <tr>\n",
              "      <th>10194</th>\n",
              "      <td>633727</td>\n",
              "      <td>2015-02-09 10:20:00</td>\n",
              "      <td>เศรษฐกิจ</td>\n",
              "      <td>จี้'แบงก์รัฐ'ดันแพ็คเกจแก้จน</td>\n",
              "      <td>กระทรวงคลัง เผย \"แบงก์รัฐ\" เร่งทำโครงการช่วยเห...</td>\n",
              "      <td>แหล่งข่าวจากกระทรวงการคลัง เปิดเผยว่า สถาบันกา...</td>\n",
              "      <td>https://www.bangkokbiznews.com/news/detail/633727</td>\n",
              "    </tr>\n",
              "    <tr>\n",
              "      <th>10205</th>\n",
              "      <td>633738</td>\n",
              "      <td>2015-02-09 11:02:00</td>\n",
              "      <td>เศรษฐกิจ</td>\n",
              "      <td>ดอลลาร์แข็งฉุด'หนี้นอก'ลด</td>\n",
              "      <td>\"แบงก์ชาติ\" เผยอดหนี้ต่างประเทศเดือนธ.ค. รวมกว...</td>\n",
              "      <td>รายงานข่าวจากธนาคารแห่งประเทศไทย (ธปท.) เปิดเผ...</td>\n",
              "      <td>https://www.bangkokbiznews.com/news/detail/633738</td>\n",
              "    </tr>\n",
              "  </tbody>\n",
              "</table>\n",
              "</div>\n",
              "      <button class=\"colab-df-convert\" onclick=\"convertToInteractive('df-0db5d42b-f76b-4881-bf6d-54f6e6015f86')\"\n",
              "              title=\"Convert this dataframe to an interactive table.\"\n",
              "              style=\"display:none;\">\n",
              "        \n",
              "  <svg xmlns=\"http://www.w3.org/2000/svg\" height=\"24px\"viewBox=\"0 0 24 24\"\n",
              "       width=\"24px\">\n",
              "    <path d=\"M0 0h24v24H0V0z\" fill=\"none\"/>\n",
              "    <path d=\"M18.56 5.44l.94 2.06.94-2.06 2.06-.94-2.06-.94-.94-2.06-.94 2.06-2.06.94zm-11 1L8.5 8.5l.94-2.06 2.06-.94-2.06-.94L8.5 2.5l-.94 2.06-2.06.94zm10 10l.94 2.06.94-2.06 2.06-.94-2.06-.94-.94-2.06-.94 2.06-2.06.94z\"/><path d=\"M17.41 7.96l-1.37-1.37c-.4-.4-.92-.59-1.43-.59-.52 0-1.04.2-1.43.59L10.3 9.45l-7.72 7.72c-.78.78-.78 2.05 0 2.83L4 21.41c.39.39.9.59 1.41.59.51 0 1.02-.2 1.41-.59l7.78-7.78 2.81-2.81c.8-.78.8-2.07 0-2.86zM5.41 20L4 18.59l7.72-7.72 1.47 1.35L5.41 20z\"/>\n",
              "  </svg>\n",
              "      </button>\n",
              "      \n",
              "  <style>\n",
              "    .colab-df-container {\n",
              "      display:flex;\n",
              "      flex-wrap:wrap;\n",
              "      gap: 12px;\n",
              "    }\n",
              "\n",
              "    .colab-df-convert {\n",
              "      background-color: #E8F0FE;\n",
              "      border: none;\n",
              "      border-radius: 50%;\n",
              "      cursor: pointer;\n",
              "      display: none;\n",
              "      fill: #1967D2;\n",
              "      height: 32px;\n",
              "      padding: 0 0 0 0;\n",
              "      width: 32px;\n",
              "    }\n",
              "\n",
              "    .colab-df-convert:hover {\n",
              "      background-color: #E2EBFA;\n",
              "      box-shadow: 0px 1px 2px rgba(60, 64, 67, 0.3), 0px 1px 3px 1px rgba(60, 64, 67, 0.15);\n",
              "      fill: #174EA6;\n",
              "    }\n",
              "\n",
              "    [theme=dark] .colab-df-convert {\n",
              "      background-color: #3B4455;\n",
              "      fill: #D2E3FC;\n",
              "    }\n",
              "\n",
              "    [theme=dark] .colab-df-convert:hover {\n",
              "      background-color: #434B5C;\n",
              "      box-shadow: 0px 1px 3px 1px rgba(0, 0, 0, 0.15);\n",
              "      filter: drop-shadow(0px 1px 2px rgba(0, 0, 0, 0.3));\n",
              "      fill: #FFFFFF;\n",
              "    }\n",
              "  </style>\n",
              "\n",
              "      <script>\n",
              "        const buttonEl =\n",
              "          document.querySelector('#df-0db5d42b-f76b-4881-bf6d-54f6e6015f86 button.colab-df-convert');\n",
              "        buttonEl.style.display =\n",
              "          google.colab.kernel.accessAllowed ? 'block' : 'none';\n",
              "\n",
              "        async function convertToInteractive(key) {\n",
              "          const element = document.querySelector('#df-0db5d42b-f76b-4881-bf6d-54f6e6015f86');\n",
              "          const dataTable =\n",
              "            await google.colab.kernel.invokeFunction('convertToInteractive',\n",
              "                                                     [key], {});\n",
              "          if (!dataTable) return;\n",
              "\n",
              "          const docLinkHtml = 'Like what you see? Visit the ' +\n",
              "            '<a target=\"_blank\" href=https://colab.research.google.com/notebooks/data_table.ipynb>data table notebook</a>'\n",
              "            + ' to learn more about interactive tables.';\n",
              "          element.innerHTML = '';\n",
              "          dataTable['output_type'] = 'display_data';\n",
              "          await google.colab.output.renderOutput(dataTable, element);\n",
              "          const docLink = document.createElement('div');\n",
              "          docLink.innerHTML = docLinkHtml;\n",
              "          element.appendChild(docLink);\n",
              "        }\n",
              "      </script>\n",
              "    </div>\n",
              "  </div>\n",
              "  "
            ]
          },
          "metadata": {},
          "execution_count": 15
        }
      ]
    },
    {
      "cell_type": "code",
      "source": [
        "# Create \n",
        "def token_1(text):\n",
        "  stopwords = thai_stopwords()\n",
        "  tokens = word_tokenize(text, keep_whitespace = False)\n",
        "  tokens = [token for token in tokens if token not in stopwords]\n",
        "  return tokens"
      ],
      "metadata": {
        "id": "ggExnuz4f6wt"
      },
      "execution_count": null,
      "outputs": []
    },
    {
      "cell_type": "code",
      "source": [
        "def tokenize(text):\n",
        "    tokens = word_tokenize(text)\n",
        "    tokens = [token.strip('\\'').strip('\\\"') for token in tokens] # remove quotations before/after token\n",
        "    tokens = [token for token in tokens if token not in STOPWORDS] # remove stopwords\n",
        "    tokens = [token for token in tokens if re.match(r'[A-Za-zก-๙0-9][A-Za-zก-๙0-9\\.\\-]+', token)] # token pattern : only words/digits\n",
        "    return tokens\n"
      ],
      "metadata": {
        "id": "QnngoVCVTBYX"
      },
      "execution_count": null,
      "outputs": []
    },
    {
      "cell_type": "code",
      "source": [
        "# Tokenize & remove stopwords\n"
      ],
      "metadata": {
        "id": "UFbCVWcvYPIC"
      },
      "execution_count": null,
      "outputs": []
    },
    {
      "cell_type": "code",
      "source": [
        "txt = 'อนิกจะได้ไปอยู่ bu ไหนนนน'"
      ],
      "metadata": {
        "id": "Loed0nfFGV7U"
      },
      "execution_count": null,
      "outputs": []
    },
    {
      "cell_type": "code",
      "source": [
        "print(re.search(r'\\w+\\d+', txt))"
      ],
      "metadata": {
        "colab": {
          "base_uri": "https://localhost:8080/"
        },
        "id": "sd8dsyoAwhaT",
        "outputId": "c57e3a14-0b03-4a16-a459-98ca596e4b47"
      },
      "execution_count": null,
      "outputs": [
        {
          "output_type": "stream",
          "name": "stdout",
          "text": [
            "None\n"
          ]
        }
      ]
    },
    {
      "cell_type": "code",
      "source": [
        "print(re.match(r'[A-Za-zก-ฮ]', txt))"
      ],
      "metadata": {
        "colab": {
          "base_uri": "https://localhost:8080/"
        },
        "id": "Hv7V94MXwhcl",
        "outputId": "c11732d5-b1a8-451c-a987-36ac6a26d55e"
      },
      "execution_count": null,
      "outputs": [
        {
          "output_type": "stream",
          "name": "stdout",
          "text": [
            "<re.Match object; span=(0, 1), match='อ'>\n"
          ]
        }
      ]
    },
    {
      "cell_type": "code",
      "source": [
        "print([cha for cha in txt if re.match(r'[A-Za-zก-ฮ]', txt)])"
      ],
      "metadata": {
        "colab": {
          "base_uri": "https://localhost:8080/"
        },
        "id": "wpsAXuHwwhfS",
        "outputId": "2c723945-bc04-463f-82a0-3c2b8e6a2c49"
      },
      "execution_count": null,
      "outputs": [
        {
          "output_type": "stream",
          "name": "stdout",
          "text": [
            "['อ', 'น', 'ิ', 'ก', 'จ', 'ะ', 'ไ', 'ด', '้', 'ไ', 'ป', 'อ', 'ย', 'ู', '่', ' ', 'b', 'u', ' ', 'ไ', 'ห', 'น', 'น', 'น', 'น']\n"
          ]
        }
      ]
    },
    {
      "cell_type": "code",
      "source": [
        "word_tokenize(txt)"
      ],
      "metadata": {
        "colab": {
          "base_uri": "https://localhost:8080/"
        },
        "id": "YQFdFo7MyANw",
        "outputId": "8fc7cb80-4a4d-4bdb-c311-40afbe80826d"
      },
      "execution_count": null,
      "outputs": [
        {
          "output_type": "execute_result",
          "data": {
            "text/plain": [
              "['อ', 'นิ', 'ก', 'จะ', 'ได้', 'ไป', 'อยู่', ' ', 'bu', ' ', 'ไหน', 'นนน']"
            ]
          },
          "metadata": {},
          "execution_count": 24
        }
      ]
    },
    {
      "cell_type": "code",
      "source": [
        "print([word for word in txt if re.match(r'[A-Za-zก-ฮ]', txt)])"
      ],
      "metadata": {
        "id": "DyCI59ydyE8z",
        "outputId": "56110c3e-a33f-4685-e8b7-5f80c2449a95",
        "colab": {
          "base_uri": "https://localhost:8080/"
        }
      },
      "execution_count": null,
      "outputs": [
        {
          "output_type": "stream",
          "name": "stdout",
          "text": [
            "['อ', 'น', 'ิ', 'ก', 'จ', 'ะ', 'ไ', 'ด', '้', 'ไ', 'ป', 'อ', 'ย', 'ู', '่', ' ', 'b', 'u', ' ', 'ไ', 'ห', 'น', 'น', 'น', 'น']\n"
          ]
        }
      ]
    },
    {
      "cell_type": "code",
      "source": [
        "word_tokenize(test, ke)"
      ],
      "metadata": {
        "colab": {
          "base_uri": "https://localhost:8080/"
        },
        "id": "_McdKABZeQyc",
        "outputId": "83ec858a-8956-4132-9ec7-6b388f595236"
      },
      "execution_count": null,
      "outputs": [
        {
          "output_type": "execute_result",
          "data": {
            "text/plain": [
              "['อ', 'นิ', 'ก', 'จะ', 'ได้', 'ไป', 'อยู่', ' ', 'bu', ' ', 'ไหน', 'นนน']"
            ]
          },
          "metadata": {},
          "execution_count": 14
        }
      ]
    },
    {
      "cell_type": "code",
      "source": [
        "tokens = word_tokenize(test, keep_whitespace = False)"
      ],
      "metadata": {
        "id": "PV9MwquyIOtK"
      },
      "execution_count": null,
      "outputs": []
    },
    {
      "cell_type": "code",
      "source": [
        "stopwords = thai_stopwords()"
      ],
      "metadata": {
        "id": "imFOUbtSIgIM"
      },
      "execution_count": null,
      "outputs": []
    },
    {
      "cell_type": "code",
      "source": [
        "tokens = [token for token in tokens if token not in stopwords]"
      ],
      "metadata": {
        "id": "rlVqQxPbITPV"
      },
      "execution_count": null,
      "outputs": []
    },
    {
      "cell_type": "code",
      "source": [
        "bkkbiz['article'][:10]"
      ],
      "metadata": {
        "colab": {
          "base_uri": "https://localhost:8080/"
        },
        "id": "ruEaumxOJQ6n",
        "outputId": "6ed24368-8879-40ec-fc22-799020c65f51"
      },
      "execution_count": null,
      "outputs": [
        {
          "output_type": "execute_result",
          "data": {
            "text/plain": [
              "0    สัญญาน้ำมันดิบตลาดล่วงหน้าสหรัฐ ปิดตลาดปรับตัว...\n",
              "1    สัญญาทองคำตลาดล่วงหน้าสหรัฐ ปิดปรับตัวลงเล็กน้...\n",
              "2    สมาคมค้าทองคำรายงานราคาทอง 96.5% ประจำวันที่ 2...\n",
              "3    นักบริหารเงินจากธนาคารพาณิชย์ เปิดเผยว่า เงินบ...\n",
              "4    นายอภิชาติ ผู้บรรเจิดกุล ผู้อำนวยการสายงานวิเค...\n",
              "5    รัฐมนตรีว่าการกระทรวงน้ำมันของอิหร่าน นายบิจาน...\n",
              "6    เมื่อเวลา 23.00 น. วันที่ 26 พ.ย. ที่ สน.ลุมพิ...\n",
              "7    นายเกรียงศักดิ์ บุญตาปวน หัวหน้าฝ่ายความมั่นคง...\n",
              "8    นางสาวดวงกมล โชตะนา กรรมการผู้อำนวยการ บริษัท ...\n",
              "9    พาณิชย์เผยส่งออกเดือนต.ค. ขยายตัว 3.97% ต่อเนื...\n",
              "Name: article, dtype: object"
            ]
          },
          "metadata": {},
          "execution_count": 21
        }
      ]
    },
    {
      "cell_type": "code",
      "source": [
        "test = pd.DataFrame(bkkbiz['article'][:10000])\n",
        "type(test)"
      ],
      "metadata": {
        "colab": {
          "base_uri": "https://localhost:8080/"
        },
        "id": "pDKIRQW3J_vp",
        "outputId": "fae3338e-ad3f-4d78-fbf8-12c66e1acead"
      },
      "execution_count": null,
      "outputs": [
        {
          "output_type": "execute_result",
          "data": {
            "text/plain": [
              "pandas.core.frame.DataFrame"
            ]
          },
          "metadata": {},
          "execution_count": 22
        }
      ]
    },
    {
      "cell_type": "code",
      "source": [
        "test.head()"
      ],
      "metadata": {
        "colab": {
          "base_uri": "https://localhost:8080/",
          "height": 206
        },
        "id": "cGQ5yoCBKbW7",
        "outputId": "f549795a-3867-4272-a2aa-764aca9c8229"
      },
      "execution_count": null,
      "outputs": [
        {
          "output_type": "execute_result",
          "data": {
            "text/plain": [
              "                                             article\n",
              "0  สัญญาน้ำมันดิบตลาดล่วงหน้าสหรัฐ ปิดตลาดปรับตัว...\n",
              "1  สัญญาทองคำตลาดล่วงหน้าสหรัฐ ปิดปรับตัวลงเล็กน้...\n",
              "2  สมาคมค้าทองคำรายงานราคาทอง 96.5% ประจำวันที่ 2...\n",
              "3  นักบริหารเงินจากธนาคารพาณิชย์ เปิดเผยว่า เงินบ...\n",
              "4  นายอภิชาติ ผู้บรรเจิดกุล ผู้อำนวยการสายงานวิเค..."
            ],
            "text/html": [
              "\n",
              "  <div id=\"df-826803ff-29a8-400c-8ddc-7017dc6521d4\">\n",
              "    <div class=\"colab-df-container\">\n",
              "      <div>\n",
              "<style scoped>\n",
              "    .dataframe tbody tr th:only-of-type {\n",
              "        vertical-align: middle;\n",
              "    }\n",
              "\n",
              "    .dataframe tbody tr th {\n",
              "        vertical-align: top;\n",
              "    }\n",
              "\n",
              "    .dataframe thead th {\n",
              "        text-align: right;\n",
              "    }\n",
              "</style>\n",
              "<table border=\"1\" class=\"dataframe\">\n",
              "  <thead>\n",
              "    <tr style=\"text-align: right;\">\n",
              "      <th></th>\n",
              "      <th>article</th>\n",
              "    </tr>\n",
              "  </thead>\n",
              "  <tbody>\n",
              "    <tr>\n",
              "      <th>0</th>\n",
              "      <td>สัญญาน้ำมันดิบตลาดล่วงหน้าสหรัฐ ปิดตลาดปรับตัว...</td>\n",
              "    </tr>\n",
              "    <tr>\n",
              "      <th>1</th>\n",
              "      <td>สัญญาทองคำตลาดล่วงหน้าสหรัฐ ปิดปรับตัวลงเล็กน้...</td>\n",
              "    </tr>\n",
              "    <tr>\n",
              "      <th>2</th>\n",
              "      <td>สมาคมค้าทองคำรายงานราคาทอง 96.5% ประจำวันที่ 2...</td>\n",
              "    </tr>\n",
              "    <tr>\n",
              "      <th>3</th>\n",
              "      <td>นักบริหารเงินจากธนาคารพาณิชย์ เปิดเผยว่า เงินบ...</td>\n",
              "    </tr>\n",
              "    <tr>\n",
              "      <th>4</th>\n",
              "      <td>นายอภิชาติ ผู้บรรเจิดกุล ผู้อำนวยการสายงานวิเค...</td>\n",
              "    </tr>\n",
              "  </tbody>\n",
              "</table>\n",
              "</div>\n",
              "      <button class=\"colab-df-convert\" onclick=\"convertToInteractive('df-826803ff-29a8-400c-8ddc-7017dc6521d4')\"\n",
              "              title=\"Convert this dataframe to an interactive table.\"\n",
              "              style=\"display:none;\">\n",
              "        \n",
              "  <svg xmlns=\"http://www.w3.org/2000/svg\" height=\"24px\"viewBox=\"0 0 24 24\"\n",
              "       width=\"24px\">\n",
              "    <path d=\"M0 0h24v24H0V0z\" fill=\"none\"/>\n",
              "    <path d=\"M18.56 5.44l.94 2.06.94-2.06 2.06-.94-2.06-.94-.94-2.06-.94 2.06-2.06.94zm-11 1L8.5 8.5l.94-2.06 2.06-.94-2.06-.94L8.5 2.5l-.94 2.06-2.06.94zm10 10l.94 2.06.94-2.06 2.06-.94-2.06-.94-.94-2.06-.94 2.06-2.06.94z\"/><path d=\"M17.41 7.96l-1.37-1.37c-.4-.4-.92-.59-1.43-.59-.52 0-1.04.2-1.43.59L10.3 9.45l-7.72 7.72c-.78.78-.78 2.05 0 2.83L4 21.41c.39.39.9.59 1.41.59.51 0 1.02-.2 1.41-.59l7.78-7.78 2.81-2.81c.8-.78.8-2.07 0-2.86zM5.41 20L4 18.59l7.72-7.72 1.47 1.35L5.41 20z\"/>\n",
              "  </svg>\n",
              "      </button>\n",
              "      \n",
              "  <style>\n",
              "    .colab-df-container {\n",
              "      display:flex;\n",
              "      flex-wrap:wrap;\n",
              "      gap: 12px;\n",
              "    }\n",
              "\n",
              "    .colab-df-convert {\n",
              "      background-color: #E8F0FE;\n",
              "      border: none;\n",
              "      border-radius: 50%;\n",
              "      cursor: pointer;\n",
              "      display: none;\n",
              "      fill: #1967D2;\n",
              "      height: 32px;\n",
              "      padding: 0 0 0 0;\n",
              "      width: 32px;\n",
              "    }\n",
              "\n",
              "    .colab-df-convert:hover {\n",
              "      background-color: #E2EBFA;\n",
              "      box-shadow: 0px 1px 2px rgba(60, 64, 67, 0.3), 0px 1px 3px 1px rgba(60, 64, 67, 0.15);\n",
              "      fill: #174EA6;\n",
              "    }\n",
              "\n",
              "    [theme=dark] .colab-df-convert {\n",
              "      background-color: #3B4455;\n",
              "      fill: #D2E3FC;\n",
              "    }\n",
              "\n",
              "    [theme=dark] .colab-df-convert:hover {\n",
              "      background-color: #434B5C;\n",
              "      box-shadow: 0px 1px 3px 1px rgba(0, 0, 0, 0.15);\n",
              "      filter: drop-shadow(0px 1px 2px rgba(0, 0, 0, 0.3));\n",
              "      fill: #FFFFFF;\n",
              "    }\n",
              "  </style>\n",
              "\n",
              "      <script>\n",
              "        const buttonEl =\n",
              "          document.querySelector('#df-826803ff-29a8-400c-8ddc-7017dc6521d4 button.colab-df-convert');\n",
              "        buttonEl.style.display =\n",
              "          google.colab.kernel.accessAllowed ? 'block' : 'none';\n",
              "\n",
              "        async function convertToInteractive(key) {\n",
              "          const element = document.querySelector('#df-826803ff-29a8-400c-8ddc-7017dc6521d4');\n",
              "          const dataTable =\n",
              "            await google.colab.kernel.invokeFunction('convertToInteractive',\n",
              "                                                     [key], {});\n",
              "          if (!dataTable) return;\n",
              "\n",
              "          const docLinkHtml = 'Like what you see? Visit the ' +\n",
              "            '<a target=\"_blank\" href=https://colab.research.google.com/notebooks/data_table.ipynb>data table notebook</a>'\n",
              "            + ' to learn more about interactive tables.';\n",
              "          element.innerHTML = '';\n",
              "          dataTable['output_type'] = 'display_data';\n",
              "          await google.colab.output.renderOutput(dataTable, element);\n",
              "          const docLink = document.createElement('div');\n",
              "          docLink.innerHTML = docLinkHtml;\n",
              "          element.appendChild(docLink);\n",
              "        }\n",
              "      </script>\n",
              "    </div>\n",
              "  </div>\n",
              "  "
            ]
          },
          "metadata": {},
          "execution_count": 23
        }
      ]
    },
    {
      "cell_type": "code",
      "source": [
        "test['article_tokenized'] = test['article'].apply(token_1)"
      ],
      "metadata": {
        "id": "6jaWXXUvaFWR"
      },
      "execution_count": null,
      "outputs": []
    },
    {
      "cell_type": "code",
      "source": [
        "test.head()"
      ],
      "metadata": {
        "colab": {
          "base_uri": "https://localhost:8080/",
          "height": 206
        },
        "id": "QfI9j-DSKiVa",
        "outputId": "a4247cd9-807d-411a-caf8-1c2ef5165a40"
      },
      "execution_count": null,
      "outputs": [
        {
          "output_type": "execute_result",
          "data": {
            "text/plain": [
              "                                             article  \\\n",
              "0  สัญญาน้ำมันดิบตลาดล่วงหน้าสหรัฐ ปิดตลาดปรับตัว...   \n",
              "1  สัญญาทองคำตลาดล่วงหน้าสหรัฐ ปิดปรับตัวลงเล็กน้...   \n",
              "2  สมาคมค้าทองคำรายงานราคาทอง 96.5% ประจำวันที่ 2...   \n",
              "3  นักบริหารเงินจากธนาคารพาณิชย์ เปิดเผยว่า เงินบ...   \n",
              "4  นายอภิชาติ ผู้บรรเจิดกุล ผู้อำนวยการสายงานวิเค...   \n",
              "\n",
              "                                   article_tokenized  \n",
              "0  [สัญญา, น้ำมันดิบ, ตลาด, ล่วงหน้า, สหรัฐ, ตลาด...  \n",
              "1  [สัญญา, ทองคำ, ตลาด, ล่วงหน้า, สหรัฐ, ปรับตัว,...  \n",
              "2  [สมาคม, ค้า, ทองคำ, รายงาน, ราคา, ทอง, 96.5, %...  \n",
              "3  [บริหาร, เงิน, ธนาคารพาณิชย์, เงินบาท, ตลาด, เ...  \n",
              "4  [อภิ, ชาติ, บรรเจิด, กุล, ผู้อำนวยการ, สายงาน,...  "
            ],
            "text/html": [
              "\n",
              "  <div id=\"df-c156599f-2119-4345-a693-1d34bd954c8c\">\n",
              "    <div class=\"colab-df-container\">\n",
              "      <div>\n",
              "<style scoped>\n",
              "    .dataframe tbody tr th:only-of-type {\n",
              "        vertical-align: middle;\n",
              "    }\n",
              "\n",
              "    .dataframe tbody tr th {\n",
              "        vertical-align: top;\n",
              "    }\n",
              "\n",
              "    .dataframe thead th {\n",
              "        text-align: right;\n",
              "    }\n",
              "</style>\n",
              "<table border=\"1\" class=\"dataframe\">\n",
              "  <thead>\n",
              "    <tr style=\"text-align: right;\">\n",
              "      <th></th>\n",
              "      <th>article</th>\n",
              "      <th>article_tokenized</th>\n",
              "    </tr>\n",
              "  </thead>\n",
              "  <tbody>\n",
              "    <tr>\n",
              "      <th>0</th>\n",
              "      <td>สัญญาน้ำมันดิบตลาดล่วงหน้าสหรัฐ ปิดตลาดปรับตัว...</td>\n",
              "      <td>[สัญญา, น้ำมันดิบ, ตลาด, ล่วงหน้า, สหรัฐ, ตลาด...</td>\n",
              "    </tr>\n",
              "    <tr>\n",
              "      <th>1</th>\n",
              "      <td>สัญญาทองคำตลาดล่วงหน้าสหรัฐ ปิดปรับตัวลงเล็กน้...</td>\n",
              "      <td>[สัญญา, ทองคำ, ตลาด, ล่วงหน้า, สหรัฐ, ปรับตัว,...</td>\n",
              "    </tr>\n",
              "    <tr>\n",
              "      <th>2</th>\n",
              "      <td>สมาคมค้าทองคำรายงานราคาทอง 96.5% ประจำวันที่ 2...</td>\n",
              "      <td>[สมาคม, ค้า, ทองคำ, รายงาน, ราคา, ทอง, 96.5, %...</td>\n",
              "    </tr>\n",
              "    <tr>\n",
              "      <th>3</th>\n",
              "      <td>นักบริหารเงินจากธนาคารพาณิชย์ เปิดเผยว่า เงินบ...</td>\n",
              "      <td>[บริหาร, เงิน, ธนาคารพาณิชย์, เงินบาท, ตลาด, เ...</td>\n",
              "    </tr>\n",
              "    <tr>\n",
              "      <th>4</th>\n",
              "      <td>นายอภิชาติ ผู้บรรเจิดกุล ผู้อำนวยการสายงานวิเค...</td>\n",
              "      <td>[อภิ, ชาติ, บรรเจิด, กุล, ผู้อำนวยการ, สายงาน,...</td>\n",
              "    </tr>\n",
              "  </tbody>\n",
              "</table>\n",
              "</div>\n",
              "      <button class=\"colab-df-convert\" onclick=\"convertToInteractive('df-c156599f-2119-4345-a693-1d34bd954c8c')\"\n",
              "              title=\"Convert this dataframe to an interactive table.\"\n",
              "              style=\"display:none;\">\n",
              "        \n",
              "  <svg xmlns=\"http://www.w3.org/2000/svg\" height=\"24px\"viewBox=\"0 0 24 24\"\n",
              "       width=\"24px\">\n",
              "    <path d=\"M0 0h24v24H0V0z\" fill=\"none\"/>\n",
              "    <path d=\"M18.56 5.44l.94 2.06.94-2.06 2.06-.94-2.06-.94-.94-2.06-.94 2.06-2.06.94zm-11 1L8.5 8.5l.94-2.06 2.06-.94-2.06-.94L8.5 2.5l-.94 2.06-2.06.94zm10 10l.94 2.06.94-2.06 2.06-.94-2.06-.94-.94-2.06-.94 2.06-2.06.94z\"/><path d=\"M17.41 7.96l-1.37-1.37c-.4-.4-.92-.59-1.43-.59-.52 0-1.04.2-1.43.59L10.3 9.45l-7.72 7.72c-.78.78-.78 2.05 0 2.83L4 21.41c.39.39.9.59 1.41.59.51 0 1.02-.2 1.41-.59l7.78-7.78 2.81-2.81c.8-.78.8-2.07 0-2.86zM5.41 20L4 18.59l7.72-7.72 1.47 1.35L5.41 20z\"/>\n",
              "  </svg>\n",
              "      </button>\n",
              "      \n",
              "  <style>\n",
              "    .colab-df-container {\n",
              "      display:flex;\n",
              "      flex-wrap:wrap;\n",
              "      gap: 12px;\n",
              "    }\n",
              "\n",
              "    .colab-df-convert {\n",
              "      background-color: #E8F0FE;\n",
              "      border: none;\n",
              "      border-radius: 50%;\n",
              "      cursor: pointer;\n",
              "      display: none;\n",
              "      fill: #1967D2;\n",
              "      height: 32px;\n",
              "      padding: 0 0 0 0;\n",
              "      width: 32px;\n",
              "    }\n",
              "\n",
              "    .colab-df-convert:hover {\n",
              "      background-color: #E2EBFA;\n",
              "      box-shadow: 0px 1px 2px rgba(60, 64, 67, 0.3), 0px 1px 3px 1px rgba(60, 64, 67, 0.15);\n",
              "      fill: #174EA6;\n",
              "    }\n",
              "\n",
              "    [theme=dark] .colab-df-convert {\n",
              "      background-color: #3B4455;\n",
              "      fill: #D2E3FC;\n",
              "    }\n",
              "\n",
              "    [theme=dark] .colab-df-convert:hover {\n",
              "      background-color: #434B5C;\n",
              "      box-shadow: 0px 1px 3px 1px rgba(0, 0, 0, 0.15);\n",
              "      filter: drop-shadow(0px 1px 2px rgba(0, 0, 0, 0.3));\n",
              "      fill: #FFFFFF;\n",
              "    }\n",
              "  </style>\n",
              "\n",
              "      <script>\n",
              "        const buttonEl =\n",
              "          document.querySelector('#df-c156599f-2119-4345-a693-1d34bd954c8c button.colab-df-convert');\n",
              "        buttonEl.style.display =\n",
              "          google.colab.kernel.accessAllowed ? 'block' : 'none';\n",
              "\n",
              "        async function convertToInteractive(key) {\n",
              "          const element = document.querySelector('#df-c156599f-2119-4345-a693-1d34bd954c8c');\n",
              "          const dataTable =\n",
              "            await google.colab.kernel.invokeFunction('convertToInteractive',\n",
              "                                                     [key], {});\n",
              "          if (!dataTable) return;\n",
              "\n",
              "          const docLinkHtml = 'Like what you see? Visit the ' +\n",
              "            '<a target=\"_blank\" href=https://colab.research.google.com/notebooks/data_table.ipynb>data table notebook</a>'\n",
              "            + ' to learn more about interactive tables.';\n",
              "          element.innerHTML = '';\n",
              "          dataTable['output_type'] = 'display_data';\n",
              "          await google.colab.output.renderOutput(dataTable, element);\n",
              "          const docLink = document.createElement('div');\n",
              "          docLink.innerHTML = docLinkHtml;\n",
              "          element.appendChild(docLink);\n",
              "        }\n",
              "      </script>\n",
              "    </div>\n",
              "  </div>\n",
              "  "
            ]
          },
          "metadata": {},
          "execution_count": 25
        }
      ]
    },
    {
      "cell_type": "code",
      "source": [
        "# Lemmatize/Stemming"
      ],
      "metadata": {
        "id": "qTg2r_2ZYTZ7"
      },
      "execution_count": null,
      "outputs": []
    },
    {
      "cell_type": "markdown",
      "source": [
        "#Part 3: Exploratory Data Analysis (EDA)\n",
        "---"
      ],
      "metadata": {
        "id": "HWvymWdV-od8"
      }
    },
    {
      "cell_type": "markdown",
      "source": [
        "##3.1 Total Corpus"
      ],
      "metadata": {
        "id": "8Nk8eRG0mmxW"
      }
    },
    {
      "cell_type": "code",
      "source": [
        "# Write word_count() function\n",
        "cols = ['title', 'description', 'article']\n",
        "\n",
        "for col in cols:\n",
        "  bkkbiz[col+'_word_count'] = bkkbiz[col].str.split().str.len()"
      ],
      "metadata": {
        "id": "LumKOHD-edfb"
      },
      "execution_count": null,
      "outputs": []
    },
    {
      "cell_type": "code",
      "source": [
        "bkkbiz.head()"
      ],
      "metadata": {
        "colab": {
          "base_uri": "https://localhost:8080/",
          "height": 756
        },
        "id": "-3z3eJ1LfCRV",
        "outputId": "26639bc6-ceba-4676-a7b5-8bd36f51462d"
      },
      "execution_count": null,
      "outputs": [
        {
          "output_type": "execute_result",
          "data": {
            "text/plain": [
              "       ID                date          category  \\\n",
              "0  620001 2014-11-27 08:01:00        ต่างประเทศ   \n",
              "1  620002 2014-11-27 08:20:00        ต่างประเทศ   \n",
              "2  620009 2014-11-27 09:34:00  การเงิน-การลงทุน   \n",
              "3  620010 2014-11-27 09:36:00  การเงิน-การลงทุน   \n",
              "4  620011 2014-11-27 09:48:00  การเงิน-การลงทุน   \n",
              "\n",
              "                                     title  \\\n",
              "0  น้ำมันดิบปิดร่วง-คาดโอเปคไม่ลดกำลังผลิต   \n",
              "1   ทองคำปิดร่วงหลังสหรัฐเผยข้อมูลเศรษฐกิจ   \n",
              "2      ทองแท่งขายออก18,600บ.ไม่เปลี่ยนแปลง   \n",
              "3           เงินบาทเปิด32.75/77คาดแกว่งแคบ   \n",
              "4                 คาดหุ้นเช้าแกว่งไซด์เวย์   \n",
              "\n",
              "                                         description  \\\n",
              "0  น้ำมันดิบปิดร่วงแตะระดับต่ำสุดในรอบ 4 ปี-คาดโอ...   \n",
              "1  สัญญาทองคำตลาดล่วงหน้าสหรัฐ ปิดปรับตัวลงเล็กน้...   \n",
              "2  ราคาทองคำวันนี้ทองแท่งขายออกบาทละ 18,600 บาท ท...   \n",
              "3  ค่าเงินบาทเปิดที่ 32.75/77 บาท/ดอลลาร์ คาดแกว่...   \n",
              "4  โบรกฯ คาดหุ้นเช้านี้แกว่งไซด์เวย์ช่วงไร้ปัจจัย...   \n",
              "\n",
              "                                             article  \\\n",
              "0  สัญญาน้ำมันดิบตลาดล่วงหน้าสหรัฐ ปิดตลาดปรับตัว...   \n",
              "1  สัญญาทองคำตลาดล่วงหน้าสหรัฐ ปิดปรับตัวลงเล็กน้...   \n",
              "2  สมาคมค้าทองคำรายงานราคาทอง 96.5% ประจำวันที่ 2...   \n",
              "3  นักบริหารเงินจากธนาคารพาณิชย์ เปิดเผยว่า เงินบ...   \n",
              "4  นายอภิชาติ ผู้บรรเจิดกุล ผู้อำนวยการสายงานวิเค...   \n",
              "\n",
              "                                                 url  title_word_count  \\\n",
              "0  https://www.bangkokbiznews.com/news/detail/620001                 1   \n",
              "1  https://www.bangkokbiznews.com/news/detail/620002                 1   \n",
              "2  https://www.bangkokbiznews.com/news/detail/620009                 1   \n",
              "3  https://www.bangkokbiznews.com/news/detail/620010                 1   \n",
              "4  https://www.bangkokbiznews.com/news/detail/620011                 1   \n",
              "\n",
              "   description_word_count  article_word_count  \n",
              "0                       3                  47  \n",
              "1                       3                  31  \n",
              "2                       7                  29  \n",
              "3                       8                  46  \n",
              "4                       2                  50  "
            ],
            "text/html": [
              "\n",
              "  <div id=\"df-e97d8d81-c3af-47ba-9024-e4e462e25a89\">\n",
              "    <div class=\"colab-df-container\">\n",
              "      <div>\n",
              "<style scoped>\n",
              "    .dataframe tbody tr th:only-of-type {\n",
              "        vertical-align: middle;\n",
              "    }\n",
              "\n",
              "    .dataframe tbody tr th {\n",
              "        vertical-align: top;\n",
              "    }\n",
              "\n",
              "    .dataframe thead th {\n",
              "        text-align: right;\n",
              "    }\n",
              "</style>\n",
              "<table border=\"1\" class=\"dataframe\">\n",
              "  <thead>\n",
              "    <tr style=\"text-align: right;\">\n",
              "      <th></th>\n",
              "      <th>ID</th>\n",
              "      <th>date</th>\n",
              "      <th>category</th>\n",
              "      <th>title</th>\n",
              "      <th>description</th>\n",
              "      <th>article</th>\n",
              "      <th>url</th>\n",
              "      <th>title_word_count</th>\n",
              "      <th>description_word_count</th>\n",
              "      <th>article_word_count</th>\n",
              "    </tr>\n",
              "  </thead>\n",
              "  <tbody>\n",
              "    <tr>\n",
              "      <th>0</th>\n",
              "      <td>620001</td>\n",
              "      <td>2014-11-27 08:01:00</td>\n",
              "      <td>ต่างประเทศ</td>\n",
              "      <td>น้ำมันดิบปิดร่วง-คาดโอเปคไม่ลดกำลังผลิต</td>\n",
              "      <td>น้ำมันดิบปิดร่วงแตะระดับต่ำสุดในรอบ 4 ปี-คาดโอ...</td>\n",
              "      <td>สัญญาน้ำมันดิบตลาดล่วงหน้าสหรัฐ ปิดตลาดปรับตัว...</td>\n",
              "      <td>https://www.bangkokbiznews.com/news/detail/620001</td>\n",
              "      <td>1</td>\n",
              "      <td>3</td>\n",
              "      <td>47</td>\n",
              "    </tr>\n",
              "    <tr>\n",
              "      <th>1</th>\n",
              "      <td>620002</td>\n",
              "      <td>2014-11-27 08:20:00</td>\n",
              "      <td>ต่างประเทศ</td>\n",
              "      <td>ทองคำปิดร่วงหลังสหรัฐเผยข้อมูลเศรษฐกิจ</td>\n",
              "      <td>สัญญาทองคำตลาดล่วงหน้าสหรัฐ ปิดปรับตัวลงเล็กน้...</td>\n",
              "      <td>สัญญาทองคำตลาดล่วงหน้าสหรัฐ ปิดปรับตัวลงเล็กน้...</td>\n",
              "      <td>https://www.bangkokbiznews.com/news/detail/620002</td>\n",
              "      <td>1</td>\n",
              "      <td>3</td>\n",
              "      <td>31</td>\n",
              "    </tr>\n",
              "    <tr>\n",
              "      <th>2</th>\n",
              "      <td>620009</td>\n",
              "      <td>2014-11-27 09:34:00</td>\n",
              "      <td>การเงิน-การลงทุน</td>\n",
              "      <td>ทองแท่งขายออก18,600บ.ไม่เปลี่ยนแปลง</td>\n",
              "      <td>ราคาทองคำวันนี้ทองแท่งขายออกบาทละ 18,600 บาท ท...</td>\n",
              "      <td>สมาคมค้าทองคำรายงานราคาทอง 96.5% ประจำวันที่ 2...</td>\n",
              "      <td>https://www.bangkokbiznews.com/news/detail/620009</td>\n",
              "      <td>1</td>\n",
              "      <td>7</td>\n",
              "      <td>29</td>\n",
              "    </tr>\n",
              "    <tr>\n",
              "      <th>3</th>\n",
              "      <td>620010</td>\n",
              "      <td>2014-11-27 09:36:00</td>\n",
              "      <td>การเงิน-การลงทุน</td>\n",
              "      <td>เงินบาทเปิด32.75/77คาดแกว่งแคบ</td>\n",
              "      <td>ค่าเงินบาทเปิดที่ 32.75/77 บาท/ดอลลาร์ คาดแกว่...</td>\n",
              "      <td>นักบริหารเงินจากธนาคารพาณิชย์ เปิดเผยว่า เงินบ...</td>\n",
              "      <td>https://www.bangkokbiznews.com/news/detail/620010</td>\n",
              "      <td>1</td>\n",
              "      <td>8</td>\n",
              "      <td>46</td>\n",
              "    </tr>\n",
              "    <tr>\n",
              "      <th>4</th>\n",
              "      <td>620011</td>\n",
              "      <td>2014-11-27 09:48:00</td>\n",
              "      <td>การเงิน-การลงทุน</td>\n",
              "      <td>คาดหุ้นเช้าแกว่งไซด์เวย์</td>\n",
              "      <td>โบรกฯ คาดหุ้นเช้านี้แกว่งไซด์เวย์ช่วงไร้ปัจจัย...</td>\n",
              "      <td>นายอภิชาติ ผู้บรรเจิดกุล ผู้อำนวยการสายงานวิเค...</td>\n",
              "      <td>https://www.bangkokbiznews.com/news/detail/620011</td>\n",
              "      <td>1</td>\n",
              "      <td>2</td>\n",
              "      <td>50</td>\n",
              "    </tr>\n",
              "  </tbody>\n",
              "</table>\n",
              "</div>\n",
              "      <button class=\"colab-df-convert\" onclick=\"convertToInteractive('df-e97d8d81-c3af-47ba-9024-e4e462e25a89')\"\n",
              "              title=\"Convert this dataframe to an interactive table.\"\n",
              "              style=\"display:none;\">\n",
              "        \n",
              "  <svg xmlns=\"http://www.w3.org/2000/svg\" height=\"24px\"viewBox=\"0 0 24 24\"\n",
              "       width=\"24px\">\n",
              "    <path d=\"M0 0h24v24H0V0z\" fill=\"none\"/>\n",
              "    <path d=\"M18.56 5.44l.94 2.06.94-2.06 2.06-.94-2.06-.94-.94-2.06-.94 2.06-2.06.94zm-11 1L8.5 8.5l.94-2.06 2.06-.94-2.06-.94L8.5 2.5l-.94 2.06-2.06.94zm10 10l.94 2.06.94-2.06 2.06-.94-2.06-.94-.94-2.06-.94 2.06-2.06.94z\"/><path d=\"M17.41 7.96l-1.37-1.37c-.4-.4-.92-.59-1.43-.59-.52 0-1.04.2-1.43.59L10.3 9.45l-7.72 7.72c-.78.78-.78 2.05 0 2.83L4 21.41c.39.39.9.59 1.41.59.51 0 1.02-.2 1.41-.59l7.78-7.78 2.81-2.81c.8-.78.8-2.07 0-2.86zM5.41 20L4 18.59l7.72-7.72 1.47 1.35L5.41 20z\"/>\n",
              "  </svg>\n",
              "      </button>\n",
              "      \n",
              "  <style>\n",
              "    .colab-df-container {\n",
              "      display:flex;\n",
              "      flex-wrap:wrap;\n",
              "      gap: 12px;\n",
              "    }\n",
              "\n",
              "    .colab-df-convert {\n",
              "      background-color: #E8F0FE;\n",
              "      border: none;\n",
              "      border-radius: 50%;\n",
              "      cursor: pointer;\n",
              "      display: none;\n",
              "      fill: #1967D2;\n",
              "      height: 32px;\n",
              "      padding: 0 0 0 0;\n",
              "      width: 32px;\n",
              "    }\n",
              "\n",
              "    .colab-df-convert:hover {\n",
              "      background-color: #E2EBFA;\n",
              "      box-shadow: 0px 1px 2px rgba(60, 64, 67, 0.3), 0px 1px 3px 1px rgba(60, 64, 67, 0.15);\n",
              "      fill: #174EA6;\n",
              "    }\n",
              "\n",
              "    [theme=dark] .colab-df-convert {\n",
              "      background-color: #3B4455;\n",
              "      fill: #D2E3FC;\n",
              "    }\n",
              "\n",
              "    [theme=dark] .colab-df-convert:hover {\n",
              "      background-color: #434B5C;\n",
              "      box-shadow: 0px 1px 3px 1px rgba(0, 0, 0, 0.15);\n",
              "      filter: drop-shadow(0px 1px 2px rgba(0, 0, 0, 0.3));\n",
              "      fill: #FFFFFF;\n",
              "    }\n",
              "  </style>\n",
              "\n",
              "      <script>\n",
              "        const buttonEl =\n",
              "          document.querySelector('#df-e97d8d81-c3af-47ba-9024-e4e462e25a89 button.colab-df-convert');\n",
              "        buttonEl.style.display =\n",
              "          google.colab.kernel.accessAllowed ? 'block' : 'none';\n",
              "\n",
              "        async function convertToInteractive(key) {\n",
              "          const element = document.querySelector('#df-e97d8d81-c3af-47ba-9024-e4e462e25a89');\n",
              "          const dataTable =\n",
              "            await google.colab.kernel.invokeFunction('convertToInteractive',\n",
              "                                                     [key], {});\n",
              "          if (!dataTable) return;\n",
              "\n",
              "          const docLinkHtml = 'Like what you see? Visit the ' +\n",
              "            '<a target=\"_blank\" href=https://colab.research.google.com/notebooks/data_table.ipynb>data table notebook</a>'\n",
              "            + ' to learn more about interactive tables.';\n",
              "          element.innerHTML = '';\n",
              "          dataTable['output_type'] = 'display_data';\n",
              "          await google.colab.output.renderOutput(dataTable, element);\n",
              "          const docLink = document.createElement('div');\n",
              "          docLink.innerHTML = docLinkHtml;\n",
              "          element.appendChild(docLink);\n",
              "        }\n",
              "      </script>\n",
              "    </div>\n",
              "  </div>\n",
              "  "
            ]
          },
          "metadata": {},
          "execution_count": 28
        }
      ]
    },
    {
      "cell_type": "code",
      "source": [
        "# Plot word count with histogram\n",
        "\n",
        "# Word_count column list\n",
        "\n",
        "\n",
        "# Set subplots\n",
        "fig, ax = plt.subplots(3, 1, figsize=(10,15))\n",
        "\n",
        "# Create histogram of each word count columns by looping\n",
        "for n, col in enumerate(cols_word_count):\n",
        "    sns.histplot(data=df, \n",
        "                 x=col, \n",
        "                 bins=30, \n",
        "                 color='salmon', \n",
        "                 ax=ax[n]).\\\n",
        "                set_title(col, size=20)\n",
        "\n",
        "plt.tight_layout()"
      ],
      "metadata": {
        "id": "egTI5iBZVhYu"
      },
      "execution_count": null,
      "outputs": []
    },
    {
      "cell_type": "markdown",
      "source": [
        "##3.2 Test Corpus"
      ],
      "metadata": {
        "id": "A0QnzfHwmuxq"
      }
    },
    {
      "cell_type": "code",
      "source": [
        "# title word count in test df\n",
        "test['title_word_count'] = test['article'].str.split().str.len()\n",
        "test"
      ],
      "metadata": {
        "id": "jxVYROF4VhbT",
        "colab": {
          "base_uri": "https://localhost:8080/",
          "height": 424
        },
        "outputId": "d147578e-6ddf-4425-c805-5ae8b45a5c84"
      },
      "execution_count": null,
      "outputs": [
        {
          "output_type": "execute_result",
          "data": {
            "text/plain": [
              "                                                article  \\\n",
              "0     สัญญาน้ำมันดิบตลาดล่วงหน้าสหรัฐ ปิดตลาดปรับตัว...   \n",
              "1     สัญญาทองคำตลาดล่วงหน้าสหรัฐ ปิดปรับตัวลงเล็กน้...   \n",
              "2     สมาคมค้าทองคำรายงานราคาทอง 96.5% ประจำวันที่ 2...   \n",
              "3     นักบริหารเงินจากธนาคารพาณิชย์ เปิดเผยว่า เงินบ...   \n",
              "4     นายอภิชาติ ผู้บรรเจิดกุล ผู้อำนวยการสายงานวิเค...   \n",
              "...                                                 ...   \n",
              "9995  ผู้สื่อข่าวรายงานจากรัฐสภา ว่า นายเทียนฉาย กีร...   \n",
              "9996  ผู้สื่อข่าวรายงานว่าในการประชุมคณะกรรมาธิการ (...   \n",
              "9997  พ.ต.อ.ศักดา เจริญกุล ผกก.สส.ภจว.สงขลาพร้อมเจ้า...   \n",
              "9998  พล.อ.จรัล กุลละวณิชย์ อดีตเลขาธิการสภาความมั่น...   \n",
              "9999  ประกาศ 'กรมอุตุนิยมวิทยา' ฉบับที่ 7 'พายุนังกา...   \n",
              "\n",
              "                                      article_tokenized  title_word_count  \n",
              "0     [สัญญา, น้ำมันดิบ, ตลาด, ล่วงหน้า, สหรัฐ, ตลาด...                47  \n",
              "1     [สัญญา, ทองคำ, ตลาด, ล่วงหน้า, สหรัฐ, ปรับตัว,...                31  \n",
              "2     [สมาคม, ค้า, ทองคำ, รายงาน, ราคา, ทอง, 96.5, %...                29  \n",
              "3     [บริหาร, เงิน, ธนาคารพาณิชย์, เงินบาท, ตลาด, เ...                46  \n",
              "4     [อภิ, ชาติ, บรรเจิด, กุล, ผู้อำนวยการ, สายงาน,...                50  \n",
              "...                                                 ...               ...  \n",
              "9995  [ผู้สื่อข่าว, รายงาน, รัฐสภา, เทียน, ฉาย, กี, ...                45  \n",
              "9996  [ผู้สื่อข่าว, รายงาน, การประชุม, คณะกรรมาธิการ...                72  \n",
              "9997  [พ.ต.อ., ศักดา, เจริญ, กุล, ผกก., สส., ภ, จว.,...                75  \n",
              "9998  [พล, ., อ., จรัล, กุล, วณิชย์, เลขาธิการ, สภา,...                63  \n",
              "9999  [ประกาศ, ', กรมอุตุนิยมวิทยา, ', ฉบับ, 7, ', พ...                19  \n",
              "\n",
              "[10000 rows x 3 columns]"
            ],
            "text/html": [
              "\n",
              "  <div id=\"df-8301f6eb-3f4f-445d-a357-aad7344edd47\">\n",
              "    <div class=\"colab-df-container\">\n",
              "      <div>\n",
              "<style scoped>\n",
              "    .dataframe tbody tr th:only-of-type {\n",
              "        vertical-align: middle;\n",
              "    }\n",
              "\n",
              "    .dataframe tbody tr th {\n",
              "        vertical-align: top;\n",
              "    }\n",
              "\n",
              "    .dataframe thead th {\n",
              "        text-align: right;\n",
              "    }\n",
              "</style>\n",
              "<table border=\"1\" class=\"dataframe\">\n",
              "  <thead>\n",
              "    <tr style=\"text-align: right;\">\n",
              "      <th></th>\n",
              "      <th>article</th>\n",
              "      <th>article_tokenized</th>\n",
              "      <th>title_word_count</th>\n",
              "    </tr>\n",
              "  </thead>\n",
              "  <tbody>\n",
              "    <tr>\n",
              "      <th>0</th>\n",
              "      <td>สัญญาน้ำมันดิบตลาดล่วงหน้าสหรัฐ ปิดตลาดปรับตัว...</td>\n",
              "      <td>[สัญญา, น้ำมันดิบ, ตลาด, ล่วงหน้า, สหรัฐ, ตลาด...</td>\n",
              "      <td>47</td>\n",
              "    </tr>\n",
              "    <tr>\n",
              "      <th>1</th>\n",
              "      <td>สัญญาทองคำตลาดล่วงหน้าสหรัฐ ปิดปรับตัวลงเล็กน้...</td>\n",
              "      <td>[สัญญา, ทองคำ, ตลาด, ล่วงหน้า, สหรัฐ, ปรับตัว,...</td>\n",
              "      <td>31</td>\n",
              "    </tr>\n",
              "    <tr>\n",
              "      <th>2</th>\n",
              "      <td>สมาคมค้าทองคำรายงานราคาทอง 96.5% ประจำวันที่ 2...</td>\n",
              "      <td>[สมาคม, ค้า, ทองคำ, รายงาน, ราคา, ทอง, 96.5, %...</td>\n",
              "      <td>29</td>\n",
              "    </tr>\n",
              "    <tr>\n",
              "      <th>3</th>\n",
              "      <td>นักบริหารเงินจากธนาคารพาณิชย์ เปิดเผยว่า เงินบ...</td>\n",
              "      <td>[บริหาร, เงิน, ธนาคารพาณิชย์, เงินบาท, ตลาด, เ...</td>\n",
              "      <td>46</td>\n",
              "    </tr>\n",
              "    <tr>\n",
              "      <th>4</th>\n",
              "      <td>นายอภิชาติ ผู้บรรเจิดกุล ผู้อำนวยการสายงานวิเค...</td>\n",
              "      <td>[อภิ, ชาติ, บรรเจิด, กุล, ผู้อำนวยการ, สายงาน,...</td>\n",
              "      <td>50</td>\n",
              "    </tr>\n",
              "    <tr>\n",
              "      <th>...</th>\n",
              "      <td>...</td>\n",
              "      <td>...</td>\n",
              "      <td>...</td>\n",
              "    </tr>\n",
              "    <tr>\n",
              "      <th>9995</th>\n",
              "      <td>ผู้สื่อข่าวรายงานจากรัฐสภา ว่า นายเทียนฉาย กีร...</td>\n",
              "      <td>[ผู้สื่อข่าว, รายงาน, รัฐสภา, เทียน, ฉาย, กี, ...</td>\n",
              "      <td>45</td>\n",
              "    </tr>\n",
              "    <tr>\n",
              "      <th>9996</th>\n",
              "      <td>ผู้สื่อข่าวรายงานว่าในการประชุมคณะกรรมาธิการ (...</td>\n",
              "      <td>[ผู้สื่อข่าว, รายงาน, การประชุม, คณะกรรมาธิการ...</td>\n",
              "      <td>72</td>\n",
              "    </tr>\n",
              "    <tr>\n",
              "      <th>9997</th>\n",
              "      <td>พ.ต.อ.ศักดา เจริญกุล ผกก.สส.ภจว.สงขลาพร้อมเจ้า...</td>\n",
              "      <td>[พ.ต.อ., ศักดา, เจริญ, กุล, ผกก., สส., ภ, จว.,...</td>\n",
              "      <td>75</td>\n",
              "    </tr>\n",
              "    <tr>\n",
              "      <th>9998</th>\n",
              "      <td>พล.อ.จรัล กุลละวณิชย์ อดีตเลขาธิการสภาความมั่น...</td>\n",
              "      <td>[พล, ., อ., จรัล, กุล, วณิชย์, เลขาธิการ, สภา,...</td>\n",
              "      <td>63</td>\n",
              "    </tr>\n",
              "    <tr>\n",
              "      <th>9999</th>\n",
              "      <td>ประกาศ 'กรมอุตุนิยมวิทยา' ฉบับที่ 7 'พายุนังกา...</td>\n",
              "      <td>[ประกาศ, ', กรมอุตุนิยมวิทยา, ', ฉบับ, 7, ', พ...</td>\n",
              "      <td>19</td>\n",
              "    </tr>\n",
              "  </tbody>\n",
              "</table>\n",
              "<p>10000 rows × 3 columns</p>\n",
              "</div>\n",
              "      <button class=\"colab-df-convert\" onclick=\"convertToInteractive('df-8301f6eb-3f4f-445d-a357-aad7344edd47')\"\n",
              "              title=\"Convert this dataframe to an interactive table.\"\n",
              "              style=\"display:none;\">\n",
              "        \n",
              "  <svg xmlns=\"http://www.w3.org/2000/svg\" height=\"24px\"viewBox=\"0 0 24 24\"\n",
              "       width=\"24px\">\n",
              "    <path d=\"M0 0h24v24H0V0z\" fill=\"none\"/>\n",
              "    <path d=\"M18.56 5.44l.94 2.06.94-2.06 2.06-.94-2.06-.94-.94-2.06-.94 2.06-2.06.94zm-11 1L8.5 8.5l.94-2.06 2.06-.94-2.06-.94L8.5 2.5l-.94 2.06-2.06.94zm10 10l.94 2.06.94-2.06 2.06-.94-2.06-.94-.94-2.06-.94 2.06-2.06.94z\"/><path d=\"M17.41 7.96l-1.37-1.37c-.4-.4-.92-.59-1.43-.59-.52 0-1.04.2-1.43.59L10.3 9.45l-7.72 7.72c-.78.78-.78 2.05 0 2.83L4 21.41c.39.39.9.59 1.41.59.51 0 1.02-.2 1.41-.59l7.78-7.78 2.81-2.81c.8-.78.8-2.07 0-2.86zM5.41 20L4 18.59l7.72-7.72 1.47 1.35L5.41 20z\"/>\n",
              "  </svg>\n",
              "      </button>\n",
              "      \n",
              "  <style>\n",
              "    .colab-df-container {\n",
              "      display:flex;\n",
              "      flex-wrap:wrap;\n",
              "      gap: 12px;\n",
              "    }\n",
              "\n",
              "    .colab-df-convert {\n",
              "      background-color: #E8F0FE;\n",
              "      border: none;\n",
              "      border-radius: 50%;\n",
              "      cursor: pointer;\n",
              "      display: none;\n",
              "      fill: #1967D2;\n",
              "      height: 32px;\n",
              "      padding: 0 0 0 0;\n",
              "      width: 32px;\n",
              "    }\n",
              "\n",
              "    .colab-df-convert:hover {\n",
              "      background-color: #E2EBFA;\n",
              "      box-shadow: 0px 1px 2px rgba(60, 64, 67, 0.3), 0px 1px 3px 1px rgba(60, 64, 67, 0.15);\n",
              "      fill: #174EA6;\n",
              "    }\n",
              "\n",
              "    [theme=dark] .colab-df-convert {\n",
              "      background-color: #3B4455;\n",
              "      fill: #D2E3FC;\n",
              "    }\n",
              "\n",
              "    [theme=dark] .colab-df-convert:hover {\n",
              "      background-color: #434B5C;\n",
              "      box-shadow: 0px 1px 3px 1px rgba(0, 0, 0, 0.15);\n",
              "      filter: drop-shadow(0px 1px 2px rgba(0, 0, 0, 0.3));\n",
              "      fill: #FFFFFF;\n",
              "    }\n",
              "  </style>\n",
              "\n",
              "      <script>\n",
              "        const buttonEl =\n",
              "          document.querySelector('#df-8301f6eb-3f4f-445d-a357-aad7344edd47 button.colab-df-convert');\n",
              "        buttonEl.style.display =\n",
              "          google.colab.kernel.accessAllowed ? 'block' : 'none';\n",
              "\n",
              "        async function convertToInteractive(key) {\n",
              "          const element = document.querySelector('#df-8301f6eb-3f4f-445d-a357-aad7344edd47');\n",
              "          const dataTable =\n",
              "            await google.colab.kernel.invokeFunction('convertToInteractive',\n",
              "                                                     [key], {});\n",
              "          if (!dataTable) return;\n",
              "\n",
              "          const docLinkHtml = 'Like what you see? Visit the ' +\n",
              "            '<a target=\"_blank\" href=https://colab.research.google.com/notebooks/data_table.ipynb>data table notebook</a>'\n",
              "            + ' to learn more about interactive tables.';\n",
              "          element.innerHTML = '';\n",
              "          dataTable['output_type'] = 'display_data';\n",
              "          await google.colab.output.renderOutput(dataTable, element);\n",
              "          const docLink = document.createElement('div');\n",
              "          docLink.innerHTML = docLinkHtml;\n",
              "          element.appendChild(docLink);\n",
              "        }\n",
              "      </script>\n",
              "    </div>\n",
              "  </div>\n",
              "  "
            ]
          },
          "metadata": {},
          "execution_count": 31
        }
      ]
    },
    {
      "cell_type": "code",
      "source": [
        "# article_tokenized_joined\n"
      ],
      "metadata": {
        "id": "mL0bxX0FoZ_P"
      },
      "execution_count": null,
      "outputs": []
    },
    {
      "cell_type": "code",
      "source": [
        "# Sum total word count\n",
        "test['title_word_count'].sum()"
      ],
      "metadata": {
        "colab": {
          "base_uri": "https://localhost:8080/"
        },
        "id": "nEXej_a7hwxF",
        "outputId": "3244d01d-3efa-42ad-b195-ecabad420568"
      },
      "execution_count": null,
      "outputs": [
        {
          "output_type": "execute_result",
          "data": {
            "text/plain": [
              "1054972"
            ]
          },
          "metadata": {},
          "execution_count": 32
        }
      ]
    },
    {
      "cell_type": "code",
      "source": [
        "# Instantiate CountVectorizer\n",
        "cvec = CountVectorizer(stop_words=thai_stopwords,\n",
        "                      ngram_range=(1,1))\n",
        "\n",
        "# Instantiate TfidfVectorizer\n",
        "tfidf = TfidfVectorizer(stop_words=thai_stopwords,\n",
        "                      ngram_range=(1,1))"
      ],
      "metadata": {
        "id": "IHeX0CHpVhd5"
      },
      "execution_count": null,
      "outputs": []
    },
    {
      "cell_type": "code",
      "source": [
        "cvec.fit_transform(test['article_tokenized'])"
      ],
      "metadata": {
        "colab": {
          "base_uri": "https://localhost:8080/",
          "height": 318
        },
        "id": "9MmiY8cEoJcL",
        "outputId": "846e6ef3-6567-4afc-d8ff-2141c61280cf"
      },
      "execution_count": null,
      "outputs": [
        {
          "output_type": "error",
          "ename": "TypeError",
          "evalue": "ignored",
          "traceback": [
            "\u001b[0;31m---------------------------------------------------------------------------\u001b[0m",
            "\u001b[0;31mTypeError\u001b[0m                                 Traceback (most recent call last)",
            "\u001b[0;32m<ipython-input-54-87d71d8153df>\u001b[0m in \u001b[0;36m<module>\u001b[0;34m\u001b[0m\n\u001b[0;32m----> 1\u001b[0;31m \u001b[0mcvec\u001b[0m\u001b[0;34m.\u001b[0m\u001b[0mfit_transform\u001b[0m\u001b[0;34m(\u001b[0m\u001b[0mcorpus\u001b[0m\u001b[0;34m)\u001b[0m\u001b[0;34m\u001b[0m\u001b[0;34m\u001b[0m\u001b[0m\n\u001b[0m",
            "\u001b[0;32m/usr/local/lib/python3.7/dist-packages/sklearn/feature_extraction/text.py\u001b[0m in \u001b[0;36mfit_transform\u001b[0;34m(self, raw_documents, y)\u001b[0m\n\u001b[1;32m   1328\u001b[0m                     \u001b[0;32mbreak\u001b[0m\u001b[0;34m\u001b[0m\u001b[0;34m\u001b[0m\u001b[0m\n\u001b[1;32m   1329\u001b[0m \u001b[0;34m\u001b[0m\u001b[0m\n\u001b[0;32m-> 1330\u001b[0;31m         \u001b[0mvocabulary\u001b[0m\u001b[0;34m,\u001b[0m \u001b[0mX\u001b[0m \u001b[0;34m=\u001b[0m \u001b[0mself\u001b[0m\u001b[0;34m.\u001b[0m\u001b[0m_count_vocab\u001b[0m\u001b[0;34m(\u001b[0m\u001b[0mraw_documents\u001b[0m\u001b[0;34m,\u001b[0m \u001b[0mself\u001b[0m\u001b[0;34m.\u001b[0m\u001b[0mfixed_vocabulary_\u001b[0m\u001b[0;34m)\u001b[0m\u001b[0;34m\u001b[0m\u001b[0;34m\u001b[0m\u001b[0m\n\u001b[0m\u001b[1;32m   1331\u001b[0m \u001b[0;34m\u001b[0m\u001b[0m\n\u001b[1;32m   1332\u001b[0m         \u001b[0;32mif\u001b[0m \u001b[0mself\u001b[0m\u001b[0;34m.\u001b[0m\u001b[0mbinary\u001b[0m\u001b[0;34m:\u001b[0m\u001b[0;34m\u001b[0m\u001b[0;34m\u001b[0m\u001b[0m\n",
            "\u001b[0;32m/usr/local/lib/python3.7/dist-packages/sklearn/feature_extraction/text.py\u001b[0m in \u001b[0;36m_count_vocab\u001b[0;34m(self, raw_documents, fixed_vocab)\u001b[0m\n\u001b[1;32m   1191\u001b[0m             \u001b[0mvocabulary\u001b[0m\u001b[0;34m.\u001b[0m\u001b[0mdefault_factory\u001b[0m \u001b[0;34m=\u001b[0m \u001b[0mvocabulary\u001b[0m\u001b[0;34m.\u001b[0m\u001b[0m__len__\u001b[0m\u001b[0;34m\u001b[0m\u001b[0;34m\u001b[0m\u001b[0m\n\u001b[1;32m   1192\u001b[0m \u001b[0;34m\u001b[0m\u001b[0m\n\u001b[0;32m-> 1193\u001b[0;31m         \u001b[0manalyze\u001b[0m \u001b[0;34m=\u001b[0m \u001b[0mself\u001b[0m\u001b[0;34m.\u001b[0m\u001b[0mbuild_analyzer\u001b[0m\u001b[0;34m(\u001b[0m\u001b[0;34m)\u001b[0m\u001b[0;34m\u001b[0m\u001b[0;34m\u001b[0m\u001b[0m\n\u001b[0m\u001b[1;32m   1194\u001b[0m         \u001b[0mj_indices\u001b[0m \u001b[0;34m=\u001b[0m \u001b[0;34m[\u001b[0m\u001b[0;34m]\u001b[0m\u001b[0;34m\u001b[0m\u001b[0;34m\u001b[0m\u001b[0m\n\u001b[1;32m   1195\u001b[0m         \u001b[0mindptr\u001b[0m \u001b[0;34m=\u001b[0m \u001b[0;34m[\u001b[0m\u001b[0;34m]\u001b[0m\u001b[0;34m\u001b[0m\u001b[0;34m\u001b[0m\u001b[0m\n",
            "\u001b[0;32m/usr/local/lib/python3.7/dist-packages/sklearn/feature_extraction/text.py\u001b[0m in \u001b[0;36mbuild_analyzer\u001b[0;34m(self)\u001b[0m\n\u001b[1;32m    444\u001b[0m \u001b[0;34m\u001b[0m\u001b[0m\n\u001b[1;32m    445\u001b[0m         \u001b[0;32melif\u001b[0m \u001b[0mself\u001b[0m\u001b[0;34m.\u001b[0m\u001b[0manalyzer\u001b[0m \u001b[0;34m==\u001b[0m \u001b[0;34m\"word\"\u001b[0m\u001b[0;34m:\u001b[0m\u001b[0;34m\u001b[0m\u001b[0;34m\u001b[0m\u001b[0m\n\u001b[0;32m--> 446\u001b[0;31m             \u001b[0mstop_words\u001b[0m \u001b[0;34m=\u001b[0m \u001b[0mself\u001b[0m\u001b[0;34m.\u001b[0m\u001b[0mget_stop_words\u001b[0m\u001b[0;34m(\u001b[0m\u001b[0;34m)\u001b[0m\u001b[0;34m\u001b[0m\u001b[0;34m\u001b[0m\u001b[0m\n\u001b[0m\u001b[1;32m    447\u001b[0m             \u001b[0mtokenize\u001b[0m \u001b[0;34m=\u001b[0m \u001b[0mself\u001b[0m\u001b[0;34m.\u001b[0m\u001b[0mbuild_tokenizer\u001b[0m\u001b[0;34m(\u001b[0m\u001b[0;34m)\u001b[0m\u001b[0;34m\u001b[0m\u001b[0;34m\u001b[0m\u001b[0m\n\u001b[1;32m    448\u001b[0m             \u001b[0mself\u001b[0m\u001b[0;34m.\u001b[0m\u001b[0m_check_stop_words_consistency\u001b[0m\u001b[0;34m(\u001b[0m\u001b[0mstop_words\u001b[0m\u001b[0;34m,\u001b[0m \u001b[0mpreprocess\u001b[0m\u001b[0;34m,\u001b[0m \u001b[0mtokenize\u001b[0m\u001b[0;34m)\u001b[0m\u001b[0;34m\u001b[0m\u001b[0;34m\u001b[0m\u001b[0m\n",
            "\u001b[0;32m/usr/local/lib/python3.7/dist-packages/sklearn/feature_extraction/text.py\u001b[0m in \u001b[0;36mget_stop_words\u001b[0;34m(self)\u001b[0m\n\u001b[1;32m    366\u001b[0m                 \u001b[0mA\u001b[0m \u001b[0mlist\u001b[0m \u001b[0mof\u001b[0m \u001b[0mstop\u001b[0m \u001b[0mwords\u001b[0m\u001b[0;34m.\u001b[0m\u001b[0;34m\u001b[0m\u001b[0;34m\u001b[0m\u001b[0m\n\u001b[1;32m    367\u001b[0m         \"\"\"\n\u001b[0;32m--> 368\u001b[0;31m         \u001b[0;32mreturn\u001b[0m \u001b[0m_check_stop_list\u001b[0m\u001b[0;34m(\u001b[0m\u001b[0mself\u001b[0m\u001b[0;34m.\u001b[0m\u001b[0mstop_words\u001b[0m\u001b[0;34m)\u001b[0m\u001b[0;34m\u001b[0m\u001b[0;34m\u001b[0m\u001b[0m\n\u001b[0m\u001b[1;32m    369\u001b[0m \u001b[0;34m\u001b[0m\u001b[0m\n\u001b[1;32m    370\u001b[0m     \u001b[0;32mdef\u001b[0m \u001b[0m_check_stop_words_consistency\u001b[0m\u001b[0;34m(\u001b[0m\u001b[0mself\u001b[0m\u001b[0;34m,\u001b[0m \u001b[0mstop_words\u001b[0m\u001b[0;34m,\u001b[0m \u001b[0mpreprocess\u001b[0m\u001b[0;34m,\u001b[0m \u001b[0mtokenize\u001b[0m\u001b[0;34m)\u001b[0m\u001b[0;34m:\u001b[0m\u001b[0;34m\u001b[0m\u001b[0;34m\u001b[0m\u001b[0m\n",
            "\u001b[0;32m/usr/local/lib/python3.7/dist-packages/sklearn/feature_extraction/text.py\u001b[0m in \u001b[0;36m_check_stop_list\u001b[0;34m(stop)\u001b[0m\n\u001b[1;32m    190\u001b[0m         \u001b[0;32mreturn\u001b[0m \u001b[0;32mNone\u001b[0m\u001b[0;34m\u001b[0m\u001b[0;34m\u001b[0m\u001b[0m\n\u001b[1;32m    191\u001b[0m     \u001b[0;32melse\u001b[0m\u001b[0;34m:\u001b[0m  \u001b[0;31m# assume it's a collection\u001b[0m\u001b[0;34m\u001b[0m\u001b[0;34m\u001b[0m\u001b[0m\n\u001b[0;32m--> 192\u001b[0;31m         \u001b[0;32mreturn\u001b[0m \u001b[0mfrozenset\u001b[0m\u001b[0;34m(\u001b[0m\u001b[0mstop\u001b[0m\u001b[0;34m)\u001b[0m\u001b[0;34m\u001b[0m\u001b[0;34m\u001b[0m\u001b[0m\n\u001b[0m\u001b[1;32m    193\u001b[0m \u001b[0;34m\u001b[0m\u001b[0m\n\u001b[1;32m    194\u001b[0m \u001b[0;34m\u001b[0m\u001b[0m\n",
            "\u001b[0;31mTypeError\u001b[0m: 'function' object is not iterable"
          ]
        }
      ]
    },
    {
      "cell_type": "code",
      "source": [
        "# Fit&Transform with CountVectorizer -> DataFrame\n",
        "cvec_1 = cvec.fit_transform(test['article_tokenized'])\n",
        "cvec_1_df = pd.DataFrame(data_cvec_1.todense(), columns=cvec.get_feature_names_out())\n",
        "\n",
        "# Fit&Transform with TfidfVectorizer -> DataFrame\n",
        "tfidf_1 = tfidf.fit_transform(test['article_tokenized'])\n",
        "tfidf_1_df = pd.DataFrame(data_tfidf_1.todense(), columns=tfidf.get_feature_names_out())"
      ],
      "metadata": {
        "id": "91Ji_xG2Vhgk",
        "colab": {
          "base_uri": "https://localhost:8080/",
          "height": 389
        },
        "outputId": "e2aa2a26-7d59-444c-87d8-51182e6eb6bc"
      },
      "execution_count": null,
      "outputs": [
        {
          "output_type": "error",
          "ename": "TypeError",
          "evalue": "ignored",
          "traceback": [
            "\u001b[0;31m---------------------------------------------------------------------------\u001b[0m",
            "\u001b[0;31mTypeError\u001b[0m                                 Traceback (most recent call last)",
            "\u001b[0;32m<ipython-input-35-6b6d508e5337>\u001b[0m in \u001b[0;36m<module>\u001b[0;34m\u001b[0m\n\u001b[1;32m      1\u001b[0m \u001b[0;31m# Fit&Transform with CountVectorizer -> DataFrame\u001b[0m\u001b[0;34m\u001b[0m\u001b[0;34m\u001b[0m\u001b[0;34m\u001b[0m\u001b[0m\n\u001b[0;32m----> 2\u001b[0;31m \u001b[0mdata_cvec_1\u001b[0m \u001b[0;34m=\u001b[0m \u001b[0mcvec\u001b[0m\u001b[0;34m.\u001b[0m\u001b[0mfit_transform\u001b[0m\u001b[0;34m(\u001b[0m\u001b[0mtest\u001b[0m\u001b[0;34m[\u001b[0m\u001b[0;34m'article_tokenized'\u001b[0m\u001b[0;34m]\u001b[0m\u001b[0;34m)\u001b[0m\u001b[0;34m\u001b[0m\u001b[0;34m\u001b[0m\u001b[0m\n\u001b[0m\u001b[1;32m      3\u001b[0m \u001b[0mdf_cvec_1\u001b[0m \u001b[0;34m=\u001b[0m \u001b[0mpd\u001b[0m\u001b[0;34m.\u001b[0m\u001b[0mDataFrame\u001b[0m\u001b[0;34m(\u001b[0m\u001b[0mdata_cvec_1\u001b[0m\u001b[0;34m.\u001b[0m\u001b[0mtodense\u001b[0m\u001b[0;34m(\u001b[0m\u001b[0;34m)\u001b[0m\u001b[0;34m,\u001b[0m \u001b[0mcolumns\u001b[0m\u001b[0;34m=\u001b[0m\u001b[0mcvec\u001b[0m\u001b[0;34m.\u001b[0m\u001b[0mget_feature_names_out\u001b[0m\u001b[0;34m(\u001b[0m\u001b[0;34m)\u001b[0m\u001b[0;34m)\u001b[0m\u001b[0;34m\u001b[0m\u001b[0;34m\u001b[0m\u001b[0m\n\u001b[1;32m      4\u001b[0m \u001b[0;34m\u001b[0m\u001b[0m\n\u001b[1;32m      5\u001b[0m \u001b[0;31m# Fit&Transform with TfidfVectorizer -> DataFrame\u001b[0m\u001b[0;34m\u001b[0m\u001b[0;34m\u001b[0m\u001b[0;34m\u001b[0m\u001b[0m\n",
            "\u001b[0;32m/usr/local/lib/python3.7/dist-packages/sklearn/feature_extraction/text.py\u001b[0m in \u001b[0;36mfit_transform\u001b[0;34m(self, raw_documents, y)\u001b[0m\n\u001b[1;32m   1328\u001b[0m                     \u001b[0;32mbreak\u001b[0m\u001b[0;34m\u001b[0m\u001b[0;34m\u001b[0m\u001b[0m\n\u001b[1;32m   1329\u001b[0m \u001b[0;34m\u001b[0m\u001b[0m\n\u001b[0;32m-> 1330\u001b[0;31m         \u001b[0mvocabulary\u001b[0m\u001b[0;34m,\u001b[0m \u001b[0mX\u001b[0m \u001b[0;34m=\u001b[0m \u001b[0mself\u001b[0m\u001b[0;34m.\u001b[0m\u001b[0m_count_vocab\u001b[0m\u001b[0;34m(\u001b[0m\u001b[0mraw_documents\u001b[0m\u001b[0;34m,\u001b[0m \u001b[0mself\u001b[0m\u001b[0;34m.\u001b[0m\u001b[0mfixed_vocabulary_\u001b[0m\u001b[0;34m)\u001b[0m\u001b[0;34m\u001b[0m\u001b[0;34m\u001b[0m\u001b[0m\n\u001b[0m\u001b[1;32m   1331\u001b[0m \u001b[0;34m\u001b[0m\u001b[0m\n\u001b[1;32m   1332\u001b[0m         \u001b[0;32mif\u001b[0m \u001b[0mself\u001b[0m\u001b[0;34m.\u001b[0m\u001b[0mbinary\u001b[0m\u001b[0;34m:\u001b[0m\u001b[0;34m\u001b[0m\u001b[0;34m\u001b[0m\u001b[0m\n",
            "\u001b[0;32m/usr/local/lib/python3.7/dist-packages/sklearn/feature_extraction/text.py\u001b[0m in \u001b[0;36m_count_vocab\u001b[0;34m(self, raw_documents, fixed_vocab)\u001b[0m\n\u001b[1;32m   1191\u001b[0m             \u001b[0mvocabulary\u001b[0m\u001b[0;34m.\u001b[0m\u001b[0mdefault_factory\u001b[0m \u001b[0;34m=\u001b[0m \u001b[0mvocabulary\u001b[0m\u001b[0;34m.\u001b[0m\u001b[0m__len__\u001b[0m\u001b[0;34m\u001b[0m\u001b[0;34m\u001b[0m\u001b[0m\n\u001b[1;32m   1192\u001b[0m \u001b[0;34m\u001b[0m\u001b[0m\n\u001b[0;32m-> 1193\u001b[0;31m         \u001b[0manalyze\u001b[0m \u001b[0;34m=\u001b[0m \u001b[0mself\u001b[0m\u001b[0;34m.\u001b[0m\u001b[0mbuild_analyzer\u001b[0m\u001b[0;34m(\u001b[0m\u001b[0;34m)\u001b[0m\u001b[0;34m\u001b[0m\u001b[0;34m\u001b[0m\u001b[0m\n\u001b[0m\u001b[1;32m   1194\u001b[0m         \u001b[0mj_indices\u001b[0m \u001b[0;34m=\u001b[0m \u001b[0;34m[\u001b[0m\u001b[0;34m]\u001b[0m\u001b[0;34m\u001b[0m\u001b[0;34m\u001b[0m\u001b[0m\n\u001b[1;32m   1195\u001b[0m         \u001b[0mindptr\u001b[0m \u001b[0;34m=\u001b[0m \u001b[0;34m[\u001b[0m\u001b[0;34m]\u001b[0m\u001b[0;34m\u001b[0m\u001b[0;34m\u001b[0m\u001b[0m\n",
            "\u001b[0;32m/usr/local/lib/python3.7/dist-packages/sklearn/feature_extraction/text.py\u001b[0m in \u001b[0;36mbuild_analyzer\u001b[0;34m(self)\u001b[0m\n\u001b[1;32m    444\u001b[0m \u001b[0;34m\u001b[0m\u001b[0m\n\u001b[1;32m    445\u001b[0m         \u001b[0;32melif\u001b[0m \u001b[0mself\u001b[0m\u001b[0;34m.\u001b[0m\u001b[0manalyzer\u001b[0m \u001b[0;34m==\u001b[0m \u001b[0;34m\"word\"\u001b[0m\u001b[0;34m:\u001b[0m\u001b[0;34m\u001b[0m\u001b[0;34m\u001b[0m\u001b[0m\n\u001b[0;32m--> 446\u001b[0;31m             \u001b[0mstop_words\u001b[0m \u001b[0;34m=\u001b[0m \u001b[0mself\u001b[0m\u001b[0;34m.\u001b[0m\u001b[0mget_stop_words\u001b[0m\u001b[0;34m(\u001b[0m\u001b[0;34m)\u001b[0m\u001b[0;34m\u001b[0m\u001b[0;34m\u001b[0m\u001b[0m\n\u001b[0m\u001b[1;32m    447\u001b[0m             \u001b[0mtokenize\u001b[0m \u001b[0;34m=\u001b[0m \u001b[0mself\u001b[0m\u001b[0;34m.\u001b[0m\u001b[0mbuild_tokenizer\u001b[0m\u001b[0;34m(\u001b[0m\u001b[0;34m)\u001b[0m\u001b[0;34m\u001b[0m\u001b[0;34m\u001b[0m\u001b[0m\n\u001b[1;32m    448\u001b[0m             \u001b[0mself\u001b[0m\u001b[0;34m.\u001b[0m\u001b[0m_check_stop_words_consistency\u001b[0m\u001b[0;34m(\u001b[0m\u001b[0mstop_words\u001b[0m\u001b[0;34m,\u001b[0m \u001b[0mpreprocess\u001b[0m\u001b[0;34m,\u001b[0m \u001b[0mtokenize\u001b[0m\u001b[0;34m)\u001b[0m\u001b[0;34m\u001b[0m\u001b[0;34m\u001b[0m\u001b[0m\n",
            "\u001b[0;32m/usr/local/lib/python3.7/dist-packages/sklearn/feature_extraction/text.py\u001b[0m in \u001b[0;36mget_stop_words\u001b[0;34m(self)\u001b[0m\n\u001b[1;32m    366\u001b[0m                 \u001b[0mA\u001b[0m \u001b[0mlist\u001b[0m \u001b[0mof\u001b[0m \u001b[0mstop\u001b[0m \u001b[0mwords\u001b[0m\u001b[0;34m.\u001b[0m\u001b[0;34m\u001b[0m\u001b[0;34m\u001b[0m\u001b[0m\n\u001b[1;32m    367\u001b[0m         \"\"\"\n\u001b[0;32m--> 368\u001b[0;31m         \u001b[0;32mreturn\u001b[0m \u001b[0m_check_stop_list\u001b[0m\u001b[0;34m(\u001b[0m\u001b[0mself\u001b[0m\u001b[0;34m.\u001b[0m\u001b[0mstop_words\u001b[0m\u001b[0;34m)\u001b[0m\u001b[0;34m\u001b[0m\u001b[0;34m\u001b[0m\u001b[0m\n\u001b[0m\u001b[1;32m    369\u001b[0m \u001b[0;34m\u001b[0m\u001b[0m\n\u001b[1;32m    370\u001b[0m     \u001b[0;32mdef\u001b[0m \u001b[0m_check_stop_words_consistency\u001b[0m\u001b[0;34m(\u001b[0m\u001b[0mself\u001b[0m\u001b[0;34m,\u001b[0m \u001b[0mstop_words\u001b[0m\u001b[0;34m,\u001b[0m \u001b[0mpreprocess\u001b[0m\u001b[0;34m,\u001b[0m \u001b[0mtokenize\u001b[0m\u001b[0;34m)\u001b[0m\u001b[0;34m:\u001b[0m\u001b[0;34m\u001b[0m\u001b[0;34m\u001b[0m\u001b[0m\n",
            "\u001b[0;32m/usr/local/lib/python3.7/dist-packages/sklearn/feature_extraction/text.py\u001b[0m in \u001b[0;36m_check_stop_list\u001b[0;34m(stop)\u001b[0m\n\u001b[1;32m    190\u001b[0m         \u001b[0;32mreturn\u001b[0m \u001b[0;32mNone\u001b[0m\u001b[0;34m\u001b[0m\u001b[0;34m\u001b[0m\u001b[0m\n\u001b[1;32m    191\u001b[0m     \u001b[0;32melse\u001b[0m\u001b[0;34m:\u001b[0m  \u001b[0;31m# assume it's a collection\u001b[0m\u001b[0;34m\u001b[0m\u001b[0;34m\u001b[0m\u001b[0m\n\u001b[0;32m--> 192\u001b[0;31m         \u001b[0;32mreturn\u001b[0m \u001b[0mfrozenset\u001b[0m\u001b[0;34m(\u001b[0m\u001b[0mstop\u001b[0m\u001b[0;34m)\u001b[0m\u001b[0;34m\u001b[0m\u001b[0;34m\u001b[0m\u001b[0m\n\u001b[0m\u001b[1;32m    193\u001b[0m \u001b[0;34m\u001b[0m\u001b[0m\n\u001b[1;32m    194\u001b[0m \u001b[0;34m\u001b[0m\u001b[0m\n",
            "\u001b[0;31mTypeError\u001b[0m: 'function' object is not iterable"
          ]
        }
      ]
    },
    {
      "cell_type": "code",
      "source": [],
      "metadata": {
        "id": "Ge9cVlHTVhjG"
      },
      "execution_count": null,
      "outputs": []
    },
    {
      "cell_type": "code",
      "source": [],
      "metadata": {
        "id": "V6-j3qwoVhlX"
      },
      "execution_count": null,
      "outputs": []
    },
    {
      "cell_type": "code",
      "source": [],
      "metadata": {
        "id": "CgwGlTABVhoO"
      },
      "execution_count": null,
      "outputs": []
    },
    {
      "cell_type": "code",
      "source": [],
      "metadata": {
        "id": "oxo8kNyLVhq0"
      },
      "execution_count": null,
      "outputs": []
    },
    {
      "cell_type": "markdown",
      "source": [
        "#Part 4: Modeling\n",
        "---"
      ],
      "metadata": {
        "id": "TZPMhYsq-5H_"
      }
    },
    {
      "cell_type": "code",
      "source": [
        "# Create Corpus\n",
        "dictionary = Dictionary(test['article_tokenized'])\n",
        "corpus = [dictionary.doc2bow(text) for text in test['article_tokenized']]"
      ],
      "metadata": {
        "id": "jbhqBGYd-7yc"
      },
      "execution_count": null,
      "outputs": []
    },
    {
      "cell_type": "code",
      "source": [
        "# Model\n",
        "def lda_model(num_topics=None, topicid=None):\n",
        "  lda = LdaModel(corpus, num_topics=num_topics)\n",
        "  topic = pd.DataFrame(lda_1.get_topic_terms(topicid=1, topn=20)).rename(columns={0:'index', 1:'probability'})\n",
        "  top_20 = [dictionary[index] for index, prob in lda.get_topic_terms(topicid=topicid, topn=20)]\n",
        "  return top_20\n"
      ],
      "metadata": {
        "id": "a132VsDUr3gp"
      },
      "execution_count": null,
      "outputs": []
    },
    {
      "cell_type": "code",
      "source": [
        "lda_model(num_topics=5, topicid=0)"
      ],
      "metadata": {
        "colab": {
          "base_uri": "https://localhost:8080/"
        },
        "id": "KeuODDZvsjVY",
        "outputId": "9614d9e5-ce67-4eb3-e1fb-d1fd7790e97b"
      },
      "execution_count": null,
      "outputs": [
        {
          "output_type": "stream",
          "name": "stderr",
          "text": [
            "WARNING:gensim.models.ldamodel:no word id mapping provided; initializing from corpus, assuming identity\n",
            "WARNING:gensim.models.ldamodel:too few updates, training might not converge; consider increasing the number of passes or iterations to improve accuracy\n"
          ]
        },
        {
          "output_type": "execute_result",
          "data": {
            "text/plain": [
              "[\"'\",\n",
              " '-',\n",
              " '\"',\n",
              " 'ไทย',\n",
              " 'ทีม',\n",
              " ',',\n",
              " '2',\n",
              " '1',\n",
              " '3',\n",
              " 'ปี',\n",
              " 'วันที่',\n",
              " ')',\n",
              " '(',\n",
              " 'โควิด',\n",
              " 'คน',\n",
              " 'ล้าน',\n",
              " 'บาท',\n",
              " '4',\n",
              " '19',\n",
              " 'ทำ']"
            ]
          },
          "metadata": {},
          "execution_count": 59
        }
      ]
    },
    {
      "cell_type": "code",
      "source": [
        "# Instantiate model\n",
        "lda_1 = LdaModel(corpus, num_topics = 3)   "
      ],
      "metadata": {
        "colab": {
          "base_uri": "https://localhost:8080/"
        },
        "id": "gacoIb0TOK8R",
        "outputId": "4a7d41f8-f22f-4895-ae7e-4b1a722613f3"
      },
      "execution_count": null,
      "outputs": [
        {
          "output_type": "stream",
          "name": "stderr",
          "text": [
            "WARNING:gensim.models.ldamodel:no word id mapping provided; initializing from corpus, assuming identity\n",
            "WARNING:gensim.models.ldamodel:too few updates, training might not converge; consider increasing the number of passes or iterations to improve accuracy\n"
          ]
        }
      ]
    },
    {
      "cell_type": "code",
      "source": [
        "# See words in the 1st topic\n",
        "topic_1 = pd.DataFrame(lda_1.get_topic_terms(topicid=1, topn=20)).rename(columns={0:'index', 1:'probability'})\n",
        "topic_1"
      ],
      "metadata": {
        "colab": {
          "base_uri": "https://localhost:8080/",
          "height": 677
        },
        "id": "sWsb04CaOK_Q",
        "outputId": "4c943c87-185e-4f56-a493-f82ed1ff0298"
      },
      "execution_count": null,
      "outputs": [
        {
          "output_type": "execute_result",
          "data": {
            "text/plain": [
              "    index  probability\n",
              "0       1     0.031594\n",
              "1       0     0.013589\n",
              "2       2     0.011026\n",
              "3     279     0.005958\n",
              "4     101     0.005512\n",
              "5      37     0.005236\n",
              "6     470     0.005064\n",
              "7      78     0.004900\n",
              "8      51     0.004546\n",
              "9   34856     0.004383\n",
              "10   1096     0.004322\n",
              "11     99     0.003827\n",
              "12    231     0.003740\n",
              "13    382     0.003352\n",
              "14    209     0.003347\n",
              "15    113     0.003308\n",
              "16      6     0.003236\n",
              "17     69     0.003170\n",
              "18    364     0.003150\n",
              "19     98     0.003124"
            ],
            "text/html": [
              "\n",
              "  <div id=\"df-87b4c021-1e95-4143-8245-bf778062061c\">\n",
              "    <div class=\"colab-df-container\">\n",
              "      <div>\n",
              "<style scoped>\n",
              "    .dataframe tbody tr th:only-of-type {\n",
              "        vertical-align: middle;\n",
              "    }\n",
              "\n",
              "    .dataframe tbody tr th {\n",
              "        vertical-align: top;\n",
              "    }\n",
              "\n",
              "    .dataframe thead th {\n",
              "        text-align: right;\n",
              "    }\n",
              "</style>\n",
              "<table border=\"1\" class=\"dataframe\">\n",
              "  <thead>\n",
              "    <tr style=\"text-align: right;\">\n",
              "      <th></th>\n",
              "      <th>index</th>\n",
              "      <th>probability</th>\n",
              "    </tr>\n",
              "  </thead>\n",
              "  <tbody>\n",
              "    <tr>\n",
              "      <th>0</th>\n",
              "      <td>1</td>\n",
              "      <td>0.031594</td>\n",
              "    </tr>\n",
              "    <tr>\n",
              "      <th>1</th>\n",
              "      <td>0</td>\n",
              "      <td>0.013589</td>\n",
              "    </tr>\n",
              "    <tr>\n",
              "      <th>2</th>\n",
              "      <td>2</td>\n",
              "      <td>0.011026</td>\n",
              "    </tr>\n",
              "    <tr>\n",
              "      <th>3</th>\n",
              "      <td>279</td>\n",
              "      <td>0.005958</td>\n",
              "    </tr>\n",
              "    <tr>\n",
              "      <th>4</th>\n",
              "      <td>101</td>\n",
              "      <td>0.005512</td>\n",
              "    </tr>\n",
              "    <tr>\n",
              "      <th>5</th>\n",
              "      <td>37</td>\n",
              "      <td>0.005236</td>\n",
              "    </tr>\n",
              "    <tr>\n",
              "      <th>6</th>\n",
              "      <td>470</td>\n",
              "      <td>0.005064</td>\n",
              "    </tr>\n",
              "    <tr>\n",
              "      <th>7</th>\n",
              "      <td>78</td>\n",
              "      <td>0.004900</td>\n",
              "    </tr>\n",
              "    <tr>\n",
              "      <th>8</th>\n",
              "      <td>51</td>\n",
              "      <td>0.004546</td>\n",
              "    </tr>\n",
              "    <tr>\n",
              "      <th>9</th>\n",
              "      <td>34856</td>\n",
              "      <td>0.004383</td>\n",
              "    </tr>\n",
              "    <tr>\n",
              "      <th>10</th>\n",
              "      <td>1096</td>\n",
              "      <td>0.004322</td>\n",
              "    </tr>\n",
              "    <tr>\n",
              "      <th>11</th>\n",
              "      <td>99</td>\n",
              "      <td>0.003827</td>\n",
              "    </tr>\n",
              "    <tr>\n",
              "      <th>12</th>\n",
              "      <td>231</td>\n",
              "      <td>0.003740</td>\n",
              "    </tr>\n",
              "    <tr>\n",
              "      <th>13</th>\n",
              "      <td>382</td>\n",
              "      <td>0.003352</td>\n",
              "    </tr>\n",
              "    <tr>\n",
              "      <th>14</th>\n",
              "      <td>209</td>\n",
              "      <td>0.003347</td>\n",
              "    </tr>\n",
              "    <tr>\n",
              "      <th>15</th>\n",
              "      <td>113</td>\n",
              "      <td>0.003308</td>\n",
              "    </tr>\n",
              "    <tr>\n",
              "      <th>16</th>\n",
              "      <td>6</td>\n",
              "      <td>0.003236</td>\n",
              "    </tr>\n",
              "    <tr>\n",
              "      <th>17</th>\n",
              "      <td>69</td>\n",
              "      <td>0.003170</td>\n",
              "    </tr>\n",
              "    <tr>\n",
              "      <th>18</th>\n",
              "      <td>364</td>\n",
              "      <td>0.003150</td>\n",
              "    </tr>\n",
              "    <tr>\n",
              "      <th>19</th>\n",
              "      <td>98</td>\n",
              "      <td>0.003124</td>\n",
              "    </tr>\n",
              "  </tbody>\n",
              "</table>\n",
              "</div>\n",
              "      <button class=\"colab-df-convert\" onclick=\"convertToInteractive('df-87b4c021-1e95-4143-8245-bf778062061c')\"\n",
              "              title=\"Convert this dataframe to an interactive table.\"\n",
              "              style=\"display:none;\">\n",
              "        \n",
              "  <svg xmlns=\"http://www.w3.org/2000/svg\" height=\"24px\"viewBox=\"0 0 24 24\"\n",
              "       width=\"24px\">\n",
              "    <path d=\"M0 0h24v24H0V0z\" fill=\"none\"/>\n",
              "    <path d=\"M18.56 5.44l.94 2.06.94-2.06 2.06-.94-2.06-.94-.94-2.06-.94 2.06-2.06.94zm-11 1L8.5 8.5l.94-2.06 2.06-.94-2.06-.94L8.5 2.5l-.94 2.06-2.06.94zm10 10l.94 2.06.94-2.06 2.06-.94-2.06-.94-.94-2.06-.94 2.06-2.06.94z\"/><path d=\"M17.41 7.96l-1.37-1.37c-.4-.4-.92-.59-1.43-.59-.52 0-1.04.2-1.43.59L10.3 9.45l-7.72 7.72c-.78.78-.78 2.05 0 2.83L4 21.41c.39.39.9.59 1.41.59.51 0 1.02-.2 1.41-.59l7.78-7.78 2.81-2.81c.8-.78.8-2.07 0-2.86zM5.41 20L4 18.59l7.72-7.72 1.47 1.35L5.41 20z\"/>\n",
              "  </svg>\n",
              "      </button>\n",
              "      \n",
              "  <style>\n",
              "    .colab-df-container {\n",
              "      display:flex;\n",
              "      flex-wrap:wrap;\n",
              "      gap: 12px;\n",
              "    }\n",
              "\n",
              "    .colab-df-convert {\n",
              "      background-color: #E8F0FE;\n",
              "      border: none;\n",
              "      border-radius: 50%;\n",
              "      cursor: pointer;\n",
              "      display: none;\n",
              "      fill: #1967D2;\n",
              "      height: 32px;\n",
              "      padding: 0 0 0 0;\n",
              "      width: 32px;\n",
              "    }\n",
              "\n",
              "    .colab-df-convert:hover {\n",
              "      background-color: #E2EBFA;\n",
              "      box-shadow: 0px 1px 2px rgba(60, 64, 67, 0.3), 0px 1px 3px 1px rgba(60, 64, 67, 0.15);\n",
              "      fill: #174EA6;\n",
              "    }\n",
              "\n",
              "    [theme=dark] .colab-df-convert {\n",
              "      background-color: #3B4455;\n",
              "      fill: #D2E3FC;\n",
              "    }\n",
              "\n",
              "    [theme=dark] .colab-df-convert:hover {\n",
              "      background-color: #434B5C;\n",
              "      box-shadow: 0px 1px 3px 1px rgba(0, 0, 0, 0.15);\n",
              "      filter: drop-shadow(0px 1px 2px rgba(0, 0, 0, 0.3));\n",
              "      fill: #FFFFFF;\n",
              "    }\n",
              "  </style>\n",
              "\n",
              "      <script>\n",
              "        const buttonEl =\n",
              "          document.querySelector('#df-87b4c021-1e95-4143-8245-bf778062061c button.colab-df-convert');\n",
              "        buttonEl.style.display =\n",
              "          google.colab.kernel.accessAllowed ? 'block' : 'none';\n",
              "\n",
              "        async function convertToInteractive(key) {\n",
              "          const element = document.querySelector('#df-87b4c021-1e95-4143-8245-bf778062061c');\n",
              "          const dataTable =\n",
              "            await google.colab.kernel.invokeFunction('convertToInteractive',\n",
              "                                                     [key], {});\n",
              "          if (!dataTable) return;\n",
              "\n",
              "          const docLinkHtml = 'Like what you see? Visit the ' +\n",
              "            '<a target=\"_blank\" href=https://colab.research.google.com/notebooks/data_table.ipynb>data table notebook</a>'\n",
              "            + ' to learn more about interactive tables.';\n",
              "          element.innerHTML = '';\n",
              "          dataTable['output_type'] = 'display_data';\n",
              "          await google.colab.output.renderOutput(dataTable, element);\n",
              "          const docLink = document.createElement('div');\n",
              "          docLink.innerHTML = docLinkHtml;\n",
              "          element.appendChild(docLink);\n",
              "        }\n",
              "      </script>\n",
              "    </div>\n",
              "  </div>\n",
              "  "
            ]
          },
          "metadata": {},
          "execution_count": 55
        }
      ]
    },
    {
      "cell_type": "code",
      "source": [
        "topic_1 = topic_1.rename(columns={0:'index', 1:'probability'})\n",
        "type(topic_1)"
      ],
      "metadata": {
        "colab": {
          "base_uri": "https://localhost:8080/"
        },
        "id": "4rp4iYwEOLB0",
        "outputId": "9812dc2b-6305-49df-a556-e21aebbaeb68"
      },
      "execution_count": null,
      "outputs": [
        {
          "output_type": "execute_result",
          "data": {
            "text/plain": [
              "pandas.core.frame.DataFrame"
            ]
          },
          "metadata": {},
          "execution_count": 44
        }
      ]
    },
    {
      "cell_type": "code",
      "source": [
        "topic_1_test = lda_1.show_topics(formatted=False)\n",
        "topic_1_test"
      ],
      "metadata": {
        "colab": {
          "base_uri": "https://localhost:8080/"
        },
        "id": "CaBSTwTEOLES",
        "outputId": "097ff1e0-d504-4fbc-ae99-d5e3099c74cc"
      },
      "execution_count": null,
      "outputs": [
        {
          "output_type": "execute_result",
          "data": {
            "text/plain": [
              "[(0,\n",
              "  [('1', 0.021037055),\n",
              "   ('0', 0.012165701),\n",
              "   ('621', 0.007095062),\n",
              "   ('98', 0.006489503),\n",
              "   ('99', 0.0061611314),\n",
              "   ('69', 0.0058810534),\n",
              "   ('2', 0.005835319),\n",
              "   ('231', 0.005793298),\n",
              "   ('101', 0.005258681),\n",
              "   ('279', 0.0051404457)]),\n",
              " (1,\n",
              "  [('1', 0.031594224),\n",
              "   ('0', 0.01358872),\n",
              "   ('2', 0.011025867),\n",
              "   ('279', 0.005958481),\n",
              "   ('101', 0.0055115186),\n",
              "   ('37', 0.0052360413),\n",
              "   ('470', 0.0050639906),\n",
              "   ('78', 0.004900142),\n",
              "   ('51', 0.004546382),\n",
              "   ('34856', 0.0043827933)]),\n",
              " (2,\n",
              "  [('1', 0.034448985),\n",
              "   ('113', 0.013822185),\n",
              "   ('37', 0.013489862),\n",
              "   ('97', 0.013275735),\n",
              "   ('209', 0.011586499),\n",
              "   ('2', 0.010790966),\n",
              "   ('46', 0.010138918),\n",
              "   ('98', 0.009765995),\n",
              "   ('99', 0.009626163),\n",
              "   ('0', 0.007961102)])]"
            ]
          },
          "metadata": {},
          "execution_count": 53
        }
      ]
    },
    {
      "cell_type": "code",
      "source": [
        "top20_1 = [dictionary[index] for index, prob in lda_1.get_topic_terms(topicid=0, topn=20)]"
      ],
      "metadata": {
        "id": "r8AIDkd3UYhR"
      },
      "execution_count": null,
      "outputs": []
    },
    {
      "cell_type": "code",
      "source": [
        "top20_1"
      ],
      "metadata": {
        "colab": {
          "base_uri": "https://localhost:8080/"
        },
        "id": "K2cxjzhvUfmS",
        "outputId": "40294e8c-fbc7-4709-9a6c-7915097cec55"
      },
      "execution_count": null,
      "outputs": [
        {
          "output_type": "execute_result",
          "data": {
            "text/plain": [
              "[\"'\",\n",
              " '\"',\n",
              " '.',\n",
              " '(',\n",
              " ')',\n",
              " 'เรื่อง',\n",
              " '-',\n",
              " 'ไทย',\n",
              " '1',\n",
              " 'คน',\n",
              " '2',\n",
              " '3',\n",
              " 'ทำ',\n",
              " 'ประเทศ',\n",
              " '/',\n",
              " 'ปี',\n",
              " 'พื้นที่',\n",
              " 'ประชาชน',\n",
              " 'อ.',\n",
              " '5']"
            ]
          },
          "metadata": {},
          "execution_count": 50
        }
      ]
    },
    {
      "cell_type": "code",
      "source": [
        "top20_2 = [dictionary[index] for index, prob in lda_1.get_topic_terms(topicid=1, topn=20)]\n",
        "\n",
        "top20_2"
      ],
      "metadata": {
        "colab": {
          "base_uri": "https://localhost:8080/"
        },
        "id": "mQsAgckjUqMr",
        "outputId": "38bd6a3c-9304-4876-91df-e6f2cd543b94"
      },
      "execution_count": null,
      "outputs": [
        {
          "output_type": "execute_result",
          "data": {
            "text/plain": [
              "[\"'\",\n",
              " '\"',\n",
              " '-',\n",
              " 'คน',\n",
              " '1',\n",
              " 'ปี',\n",
              " '2',\n",
              " '3',\n",
              " 'วันที่',\n",
              " 'โควิด',\n",
              " 'ทีม',\n",
              " ')',\n",
              " 'ไทย',\n",
              " ',',\n",
              " 'ล้าน',\n",
              " 'บาท',\n",
              " '4',\n",
              " 'เรื่อง',\n",
              " 'เดินทาง',\n",
              " '(']"
            ]
          },
          "metadata": {},
          "execution_count": 51
        }
      ]
    },
    {
      "cell_type": "code",
      "source": [
        "top20_3 = [dictionary[index] for index, prob in lda_1.get_topic_terms(topicid=2, topn=20)]\n",
        "\n",
        "top20_3"
      ],
      "metadata": {
        "colab": {
          "base_uri": "https://localhost:8080/"
        },
        "id": "c3z8mY1_UqO5",
        "outputId": "6372b38f-18be-442a-efdb-35e133f5da99"
      },
      "execution_count": null,
      "outputs": [
        {
          "output_type": "execute_result",
          "data": {
            "text/plain": [
              "[\"'\",\n",
              " 'บาท',\n",
              " 'ปี',\n",
              " '%',\n",
              " 'ล้าน',\n",
              " '-',\n",
              " 'ราคา',\n",
              " '(',\n",
              " ')',\n",
              " '\"',\n",
              " 'ไทย',\n",
              " 'คาด',\n",
              " 'บริษัท',\n",
              " '3',\n",
              " 'ลดลง',\n",
              " 'หุ้น',\n",
              " 'ซื้อ',\n",
              " 'ตลาด',\n",
              " '1',\n",
              " 'เศรษฐกิจ']"
            ]
          },
          "metadata": {},
          "execution_count": 52
        }
      ]
    },
    {
      "cell_type": "code",
      "source": [],
      "metadata": {
        "id": "vrfQolmBOLG6"
      },
      "execution_count": null,
      "outputs": []
    },
    {
      "cell_type": "code",
      "source": [],
      "metadata": {
        "id": "8NyUaOQSp6na"
      },
      "execution_count": null,
      "outputs": []
    },
    {
      "cell_type": "code",
      "source": [],
      "metadata": {
        "id": "ralPN1S5p6qH"
      },
      "execution_count": null,
      "outputs": []
    },
    {
      "cell_type": "code",
      "source": [],
      "metadata": {
        "id": "5Me85Kayp6s_"
      },
      "execution_count": null,
      "outputs": []
    },
    {
      "cell_type": "code",
      "source": [
        "# Evaluation: perplexity"
      ],
      "metadata": {
        "id": "nKAx-ZCWp6wH"
      },
      "execution_count": null,
      "outputs": []
    },
    {
      "cell_type": "markdown",
      "source": [
        "#Part 5: Final Model \n",
        "---"
      ],
      "metadata": {
        "id": "LDgY9wmt-8O5"
      }
    },
    {
      "cell_type": "code",
      "source": [],
      "metadata": {
        "id": "toDeM6Rq_ClV"
      },
      "execution_count": null,
      "outputs": []
    },
    {
      "cell_type": "markdown",
      "source": [
        "#Part 6: Analysis\n",
        "---"
      ],
      "metadata": {
        "id": "ekHsv0v9_DCE"
      }
    },
    {
      "cell_type": "code",
      "source": [],
      "metadata": {
        "id": "F1FnIG9T_HqC"
      },
      "execution_count": null,
      "outputs": []
    },
    {
      "cell_type": "markdown",
      "source": [
        "# Part 7: Interpretation\n",
        "---"
      ],
      "metadata": {
        "id": "GQNi2hyv_IIm"
      }
    },
    {
      "cell_type": "code",
      "source": [],
      "metadata": {
        "id": "1XZyu2Ms_LZe"
      },
      "execution_count": null,
      "outputs": []
    },
    {
      "cell_type": "markdown",
      "source": [
        "# Part 8: Conclusion\n",
        "---"
      ],
      "metadata": {
        "id": "-nTBhR-F_L4-"
      }
    },
    {
      "cell_type": "code",
      "source": [],
      "metadata": {
        "id": "wncfHY50_NlX"
      },
      "execution_count": null,
      "outputs": []
    }
  ]
}