{
 "cells": [
  {
   "cell_type": "markdown",
   "id": "00c03e81-68b6-45ab-a225-756b22c74eef",
   "metadata": {},
   "source": [
    "# Pull data from twitter"
   ]
  },
  {
   "cell_type": "code",
   "execution_count": 3,
   "id": "8c0b337a-5c10-4b91-bc27-c903076ceb83",
   "metadata": {},
   "outputs": [],
   "source": [
    "# Import library\n",
    "import tweepy as tw\n",
    "import pandas as pd\n",
    "\n",
    "# source: https://meechai-nuphit.medium.com/%E0%B8%81%E0%B8%B2%E0%B8%A3%E0%B8%94%E0%B8%B6%E0%B8%87%E0%B8%82%E0%B9%89%E0%B8%AD%E0%B8%A1%E0%B8%B9%E0%B8%A5%E0%B8%88%E0%B8%B2%E0%B8%81-twitter-%E0%B8%A1%E0%B8%B2%E0%B8%A7%E0%B8%B4%E0%B9%80%E0%B8%84%E0%B8%A3%E0%B8%B2%E0%B8%B0%E0%B8%AB%E0%B9%8C%E0%B8%94%E0%B9%89%E0%B8%A7%E0%B8%A2-python-ep-03-%E0%B8%81%E0%B8%B2%E0%B8%A3%E0%B9%80%E0%B8%81%E0%B9%87%E0%B8%9A%E0%B8%A3%E0%B8%A7%E0%B8%9A%E0%B8%A3%E0%B8%A7%E0%B8%A1%E0%B8%82%E0%B9%89%E0%B8%AD%E0%B8%A1%E0%B8%B9%E0%B8%A5%E0%B8%88%E0%B8%B2%E0%B8%81-twitter-%E0%B8%94%E0%B9%89%E0%B8%A7%E0%B8%A2-python-c825c14c8d3"
   ]
  },
  {
   "cell_type": "code",
   "execution_count": 7,
   "id": "84a3bb1f-ede2-4f99-84eb-cacf3313558f",
   "metadata": {},
   "outputs": [],
   "source": [
    "# Create key and access token\n",
    "consumer_key = 'JjTbelPh4W7c7e9whjwNs3WSa'\n",
    "consumer_secret = 'ZpLgejveNXLQ0gQtzT773Y0mj3IdaLxOomKVyDAGwxeRkQj7gH'\n",
    "access_token = '3367199357-yLWaCyUY2WNAnAKij6DX3lgEDgcGMMWMp8YlbDe'\n",
    "access_token_secret = 'su3b3s4O57MnXwBjNg7swEUjuil7gIoUSUZysFvdmWeIa'"
   ]
  },
  {
   "cell_type": "code",
   "execution_count": 8,
   "id": "b45c4aa3-04fa-413a-906a-aae3ce13ff98",
   "metadata": {},
   "outputs": [],
   "source": [
    "auth = tw.OAuth1UserHandler(consumer_key, consumer_secret)\n",
    "auth.set_access_token(access_token, access_token_secret)\n",
    "api = tw.API(auth, wait_on_rate_limit=True)"
   ]
  },
  {
   "cell_type": "code",
   "execution_count": 22,
   "id": "96109154-4810-46a4-a95e-defc64ea6f32",
   "metadata": {},
   "outputs": [],
   "source": [
    "def search_tweets(lang, hashtag, number):\n",
    "    \n",
    "    # Define the search_word and the date_since as variables\n",
    "    search_words = hashtag\n",
    "    new_search = search_words + ' -filter:retweets'\n",
    "    \n",
    "    # Collect tweets\n",
    "    tweets = tw.Cursor(api.search_tweets, q=new_search, lang=lang, tweet_mode='extended').items(number)\n",
    "    \n",
    "    users_locs = [[tweet.created_at, tweet.full_text, tweet.user.followers_count,\n",
    "                  tweet.retweet_count] for tweet in tweets]\n",
    "    \n",
    "    # To DataFrame\n",
    "    tweet_df = pd.DataFrame(data=users_locs, columns=['time_stamp', 'text', 'followers_count',\n",
    "                                                     'retweet_count'])\n",
    "    \n",
    "    # Return DataFrame\n",
    "    return tweet_df"
   ]
  },
  {
   "cell_type": "code",
   "execution_count": 23,
   "id": "27c0cf73-576d-4ffe-9d2b-5242adee2fa6",
   "metadata": {},
   "outputs": [],
   "source": [
    "df_2 = search_tweets('th', '#True', 1000)"
   ]
  },
  {
   "cell_type": "code",
   "execution_count": 24,
   "id": "27bf7a3a-40db-4604-b72b-9ca3cba954a0",
   "metadata": {},
   "outputs": [
    {
     "data": {
      "text/html": [
       "<div>\n",
       "<style scoped>\n",
       "    .dataframe tbody tr th:only-of-type {\n",
       "        vertical-align: middle;\n",
       "    }\n",
       "\n",
       "    .dataframe tbody tr th {\n",
       "        vertical-align: top;\n",
       "    }\n",
       "\n",
       "    .dataframe thead th {\n",
       "        text-align: right;\n",
       "    }\n",
       "</style>\n",
       "<table border=\"1\" class=\"dataframe\">\n",
       "  <thead>\n",
       "    <tr style=\"text-align: right;\">\n",
       "      <th></th>\n",
       "      <th>time_stamp</th>\n",
       "      <th>text</th>\n",
       "      <th>followers_count</th>\n",
       "      <th>retweet_count</th>\n",
       "    </tr>\n",
       "  </thead>\n",
       "  <tbody>\n",
       "    <tr>\n",
       "      <th>0</th>\n",
       "      <td>2022-11-08 08:50:02+00:00</td>\n",
       "      <td>📣 เมนูโปรดใคร รีบมาจัด . . GrabFood จัดให้!! S...</td>\n",
       "      <td>47719</td>\n",
       "      <td>0</td>\n",
       "    </tr>\n",
       "    <tr>\n",
       "      <th>1</th>\n",
       "      <td>2022-11-08 08:49:42+00:00</td>\n",
       "      <td>#แจกโค้ด บอกเลยอิ่มคุ้ม\\n#ท้องร้อง…โค้ดๆ สั่ง ...</td>\n",
       "      <td>772</td>\n",
       "      <td>0</td>\n",
       "    </tr>\n",
       "    <tr>\n",
       "      <th>2</th>\n",
       "      <td>2022-11-08 08:46:32+00:00</td>\n",
       "      <td>ในที่สุดก็กลับมา!!! ทีนี้ไปสนามบินจะได้มี true...</td>\n",
       "      <td>55</td>\n",
       "      <td>0</td>\n",
       "    </tr>\n",
       "    <tr>\n",
       "      <th>3</th>\n",
       "      <td>2022-11-08 08:45:14+00:00</td>\n",
       "      <td>• กากหมูชิ้นโตเต็มคำ ไม่จกตา 👀\\n• สะอาด ปลอดภั...</td>\n",
       "      <td>1181</td>\n",
       "      <td>0</td>\n",
       "    </tr>\n",
       "    <tr>\n",
       "      <th>4</th>\n",
       "      <td>2022-11-08 08:44:12+00:00</td>\n",
       "      <td>[TH GO] 🇹🇭เซตโปสการ์ด+พวงกุญแจ เรย์ &amp;amp; อาสึ...</td>\n",
       "      <td>6540</td>\n",
       "      <td>0</td>\n",
       "    </tr>\n",
       "  </tbody>\n",
       "</table>\n",
       "</div>"
      ],
      "text/plain": [
       "                 time_stamp  \\\n",
       "0 2022-11-08 08:50:02+00:00   \n",
       "1 2022-11-08 08:49:42+00:00   \n",
       "2 2022-11-08 08:46:32+00:00   \n",
       "3 2022-11-08 08:45:14+00:00   \n",
       "4 2022-11-08 08:44:12+00:00   \n",
       "\n",
       "                                                text  followers_count  \\\n",
       "0  📣 เมนูโปรดใคร รีบมาจัด . . GrabFood จัดให้!! S...            47719   \n",
       "1  #แจกโค้ด บอกเลยอิ่มคุ้ม\\n#ท้องร้อง…โค้ดๆ สั่ง ...              772   \n",
       "2  ในที่สุดก็กลับมา!!! ทีนี้ไปสนามบินจะได้มี true...               55   \n",
       "3  • กากหมูชิ้นโตเต็มคำ ไม่จกตา 👀\\n• สะอาด ปลอดภั...             1181   \n",
       "4  [TH GO] 🇹🇭เซตโปสการ์ด+พวงกุญแจ เรย์ &amp; อาสึ...             6540   \n",
       "\n",
       "   retweet_count  \n",
       "0              0  \n",
       "1              0  \n",
       "2              0  \n",
       "3              0  \n",
       "4              0  "
      ]
     },
     "execution_count": 24,
     "metadata": {},
     "output_type": "execute_result"
    }
   ],
   "source": [
    "df.head()"
   ]
  },
  {
   "cell_type": "code",
   "execution_count": 25,
   "id": "b44e52f9-3d65-454c-808b-ab7edf68eb87",
   "metadata": {},
   "outputs": [],
   "source": [
    "df_2 = search_tweets('th', '#True', 1000)"
   ]
  },
  {
   "cell_type": "code",
   "execution_count": 26,
   "id": "e8435b36-fcf9-4a44-b2c6-daeb5bfb3d00",
   "metadata": {},
   "outputs": [
    {
     "data": {
      "text/html": [
       "<div>\n",
       "<style scoped>\n",
       "    .dataframe tbody tr th:only-of-type {\n",
       "        vertical-align: middle;\n",
       "    }\n",
       "\n",
       "    .dataframe tbody tr th {\n",
       "        vertical-align: top;\n",
       "    }\n",
       "\n",
       "    .dataframe thead th {\n",
       "        text-align: right;\n",
       "    }\n",
       "</style>\n",
       "<table border=\"1\" class=\"dataframe\">\n",
       "  <thead>\n",
       "    <tr style=\"text-align: right;\">\n",
       "      <th></th>\n",
       "      <th>time_stamp</th>\n",
       "      <th>text</th>\n",
       "      <th>followers_count</th>\n",
       "      <th>retweet_count</th>\n",
       "    </tr>\n",
       "  </thead>\n",
       "  <tbody>\n",
       "    <tr>\n",
       "      <th>0</th>\n",
       "      <td>2022-11-08 07:57:22+00:00</td>\n",
       "      <td>ความเร็วเข้าท่าเลยนะ จากแต่ก่อนมาแถวนี้ทรูไม่ม...</td>\n",
       "      <td>0</td>\n",
       "      <td>0</td>\n",
       "    </tr>\n",
       "    <tr>\n",
       "      <th>1</th>\n",
       "      <td>2022-11-08 03:28:07+00:00</td>\n",
       "      <td>กลุ่มสื่อสารมา \\nวิ่งมาชนต้านทุกตัสแล้ว ต้องระ...</td>\n",
       "      <td>5557</td>\n",
       "      <td>1</td>\n",
       "    </tr>\n",
       "    <tr>\n",
       "      <th>2</th>\n",
       "      <td>2022-11-08 02:24:40+00:00</td>\n",
       "      <td>‼️แลกวงเงินน้องใหม่ 🧡ทรูวอลเล็ต 🧡\\n✅ไม่ต้องใช้...</td>\n",
       "      <td>6</td>\n",
       "      <td>0</td>\n",
       "    </tr>\n",
       "    <tr>\n",
       "      <th>3</th>\n",
       "      <td>2022-11-08 01:56:37+00:00</td>\n",
       "      <td>‼️แลกวงเงินน้องใหม่ 🧡ทรูวอลเล็ต 🧡\\n✅ไม่ต้องใช้...</td>\n",
       "      <td>429</td>\n",
       "      <td>0</td>\n",
       "    </tr>\n",
       "    <tr>\n",
       "      <th>4</th>\n",
       "      <td>2022-11-08 01:55:11+00:00</td>\n",
       "      <td>‼️เปิดรับแลก ทรูมันนี่วอลเล็ตแล้ว 🧡\\n✅ไม่ต้องใ...</td>\n",
       "      <td>429</td>\n",
       "      <td>0</td>\n",
       "    </tr>\n",
       "  </tbody>\n",
       "</table>\n",
       "</div>"
      ],
      "text/plain": [
       "                 time_stamp  \\\n",
       "0 2022-11-08 07:57:22+00:00   \n",
       "1 2022-11-08 03:28:07+00:00   \n",
       "2 2022-11-08 02:24:40+00:00   \n",
       "3 2022-11-08 01:56:37+00:00   \n",
       "4 2022-11-08 01:55:11+00:00   \n",
       "\n",
       "                                                text  followers_count  \\\n",
       "0  ความเร็วเข้าท่าเลยนะ จากแต่ก่อนมาแถวนี้ทรูไม่ม...                0   \n",
       "1  กลุ่มสื่อสารมา \\nวิ่งมาชนต้านทุกตัสแล้ว ต้องระ...             5557   \n",
       "2  ‼️แลกวงเงินน้องใหม่ 🧡ทรูวอลเล็ต 🧡\\n✅ไม่ต้องใช้...                6   \n",
       "3  ‼️แลกวงเงินน้องใหม่ 🧡ทรูวอลเล็ต 🧡\\n✅ไม่ต้องใช้...              429   \n",
       "4  ‼️เปิดรับแลก ทรูมันนี่วอลเล็ตแล้ว 🧡\\n✅ไม่ต้องใ...              429   \n",
       "\n",
       "   retweet_count  \n",
       "0              0  \n",
       "1              1  \n",
       "2              0  \n",
       "3              0  \n",
       "4              0  "
      ]
     },
     "execution_count": 26,
     "metadata": {},
     "output_type": "execute_result"
    }
   ],
   "source": [
    "df_2.head()"
   ]
  },
  {
   "cell_type": "code",
   "execution_count": 27,
   "id": "59816a2d-8edf-47e8-b41f-09ed56a84766",
   "metadata": {},
   "outputs": [],
   "source": [
    "df_2.to_csv('./true_221108')"
   ]
  },
  {
   "cell_type": "code",
   "execution_count": null,
   "id": "c2c6b83a-0fed-4115-aab2-5c3483d47ef5",
   "metadata": {},
   "outputs": [],
   "source": []
  }
 ],
 "metadata": {
  "kernelspec": {
   "display_name": "Python 3 (ipykernel)",
   "language": "python",
   "name": "python3"
  },
  "language_info": {
   "codemirror_mode": {
    "name": "ipython",
    "version": 3
   },
   "file_extension": ".py",
   "mimetype": "text/x-python",
   "name": "python",
   "nbconvert_exporter": "python",
   "pygments_lexer": "ipython3",
   "version": "3.9.13"
  }
 },
 "nbformat": 4,
 "nbformat_minor": 5
}
